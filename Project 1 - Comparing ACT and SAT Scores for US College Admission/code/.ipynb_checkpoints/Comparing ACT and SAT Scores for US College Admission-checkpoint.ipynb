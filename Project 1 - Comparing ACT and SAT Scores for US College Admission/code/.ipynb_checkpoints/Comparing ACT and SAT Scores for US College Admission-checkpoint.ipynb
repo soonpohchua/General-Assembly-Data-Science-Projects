{
 "cells": [
  {
   "cell_type": "markdown",
   "metadata": {},
   "source": [
    "<img src=\"http://imgur.com/1ZcRyrc.png\" style=\"float: left; margin: 20px; height: 55px\">\n",
    "\n",
    "# Project 1: Standardized Test Analysis"
   ]
  },
  {
   "cell_type": "markdown",
   "metadata": {},
   "source": [
    "### 1. Problem Statement/ Background"
   ]
  },
  {
   "cell_type": "markdown",
   "metadata": {},
   "source": [
    "SAT and ACT are standardized tests that many colleges and universities in the United States require for their admission process. Since the advent of ACT, the SAT and ACT have been in [rivalry](https://www.bestcolleges.com/blog/history-of-act/). Despite their [differences](https://www.crimsoneducation.org/sg/blog/test-prep/sat-vs-act-whats-the-difference/), there have been online resources to convert SAT and ACT interchangably. For example, see [the princeton review](https://www.princetonreview.com/college-advice/act-to-sat-conversion), [crimson education](https://www.crimsoneducation.org/sg/blog/test-prep/sat-vs-act-whats-the-difference/) etc.\n",
    "\n",
    "This project shall aim to:\n",
    "1. to examine the reliability of the SAT and ACT concordance table taken from the respective official board website by comparing it with the college admission score; and\n",
    "2. to discover which tests did each state perform better based on the concordance table.\n",
    "\n",
    "Given the findings, the project seeks to inform high school students:\n",
    "- on the reliability of SAT and ACT concordance table as they work towards their dream college; and\n",
    "- on the statistics for college admission based on the SAT and ACT concordance table given their geographical location."
   ]
  },
  {
   "cell_type": "markdown",
   "metadata": {},
   "source": [
    "### 2. Datasets"
   ]
  },
  {
   "cell_type": "markdown",
   "metadata": {
    "tags": []
   },
   "source": [
    "The project will make use of the following datasets for analysis:\n",
    "1. [`act_2019.csv`](./data/act_2019.csv): 2019 ACT Scores by State ([*source*](https://blog.prepscholar.com/act-scores-by-state-averages-highs-and-lows))\n",
    "2. [`sat_2019.csv`](./data/sat_2019.csv): 2019 SAT Scores by State ([*source*](https://blog.prepscholar.com/average-sat-scores-by-state-most-recent))\n",
    "3. [`sat_act_by_college.csv`](./data/sat_act_by_college.csv): Ranges of Accepted ACT & SAT Student Scores by Colleges ([*source*](https://www.compassprep.com/college-profiles/))\n",
    "4. [`sat_act_score_convertor.csv`](./data/sat_act_score_convertor.csv): ACT & SAT Student Scores Concordance Table from offical websites (sources: [ACT](https://www.act.org/content/act/en/products-and-services/the-act/scores/act-sat-concordance.html) & [SAT](https://satsuite.collegeboard.org/higher-ed-professionals/score-reports/score-comparisons/sat-act))"
   ]
  },
  {
   "cell_type": "markdown",
   "metadata": {},
   "source": [
    "### 3. Data Import and Cleaning"
   ]
  },
  {
   "cell_type": "code",
   "execution_count": 1,
   "metadata": {},
   "outputs": [],
   "source": [
    "# Importing all the revelant packages\n",
    "import numpy as np\n",
    "import pandas as pd\n",
    "import matplotlib.pyplot as plt\n",
    "import seaborn as sns"
   ]
  },
  {
   "cell_type": "code",
   "execution_count": 2,
   "metadata": {},
   "outputs": [],
   "source": [
    "# Importing all the datasets\n",
    "act_2019 = pd.read_csv('../data/act_2019.csv')\n",
    "sat_2019 = pd.read_csv('../data/sat_2019.csv')\n",
    "sat_act_by_college = pd.read_csv('../data/sat_act_by_college.csv')\n",
    "sat_act_score_convertor = pd.read_csv('../data/sat_act_score_convertor.csv')"
   ]
  },
  {
   "cell_type": "markdown",
   "metadata": {},
   "source": [
    "#### 3.1 Individual Dataset"
   ]
  },
  {
   "cell_type": "markdown",
   "metadata": {},
   "source": [
    "We shall proceed to:\n",
    "1. examine each of the datasets\n",
    "2. prepare each data for further analysis based on the observations made"
   ]
  },
  {
   "cell_type": "markdown",
   "metadata": {},
   "source": [
    "#### 3.1.1 'act_2019' Dataset"
   ]
  },
  {
   "cell_type": "code",
   "execution_count": 3,
   "metadata": {},
   "outputs": [
    {
     "data": {
      "text/html": [
       "<div>\n",
       "<style scoped>\n",
       "    .dataframe tbody tr th:only-of-type {\n",
       "        vertical-align: middle;\n",
       "    }\n",
       "\n",
       "    .dataframe tbody tr th {\n",
       "        vertical-align: top;\n",
       "    }\n",
       "\n",
       "    .dataframe thead th {\n",
       "        text-align: right;\n",
       "    }\n",
       "</style>\n",
       "<table border=\"1\" class=\"dataframe\">\n",
       "  <thead>\n",
       "    <tr style=\"text-align: right;\">\n",
       "      <th></th>\n",
       "      <th>State</th>\n",
       "      <th>Participation</th>\n",
       "      <th>Composite</th>\n",
       "    </tr>\n",
       "  </thead>\n",
       "  <tbody>\n",
       "    <tr>\n",
       "      <th>0</th>\n",
       "      <td>Alabama</td>\n",
       "      <td>100%</td>\n",
       "      <td>18.9</td>\n",
       "    </tr>\n",
       "    <tr>\n",
       "      <th>1</th>\n",
       "      <td>Alaska</td>\n",
       "      <td>38%</td>\n",
       "      <td>20.1</td>\n",
       "    </tr>\n",
       "    <tr>\n",
       "      <th>2</th>\n",
       "      <td>Arizona</td>\n",
       "      <td>73%</td>\n",
       "      <td>19.0</td>\n",
       "    </tr>\n",
       "    <tr>\n",
       "      <th>3</th>\n",
       "      <td>Arkansas</td>\n",
       "      <td>100%</td>\n",
       "      <td>19.3</td>\n",
       "    </tr>\n",
       "    <tr>\n",
       "      <th>4</th>\n",
       "      <td>California</td>\n",
       "      <td>23%</td>\n",
       "      <td>22.6</td>\n",
       "    </tr>\n",
       "  </tbody>\n",
       "</table>\n",
       "</div>"
      ],
      "text/plain": [
       "        State Participation  Composite\n",
       "0     Alabama          100%       18.9\n",
       "1      Alaska           38%       20.1\n",
       "2     Arizona           73%       19.0\n",
       "3    Arkansas          100%       19.3\n",
       "4  California           23%       22.6"
      ]
     },
     "execution_count": 3,
     "metadata": {},
     "output_type": "execute_result"
    }
   ],
   "source": [
    "act_2019.head()"
   ]
  },
  {
   "cell_type": "code",
   "execution_count": 4,
   "metadata": {},
   "outputs": [
    {
     "name": "stdout",
     "output_type": "stream",
     "text": [
      "<class 'pandas.core.frame.DataFrame'>\n",
      "RangeIndex: 52 entries, 0 to 51\n",
      "Data columns (total 3 columns):\n",
      " #   Column         Non-Null Count  Dtype  \n",
      "---  ------         --------------  -----  \n",
      " 0   State          52 non-null     object \n",
      " 1   Participation  52 non-null     object \n",
      " 2   Composite      52 non-null     float64\n",
      "dtypes: float64(1), object(2)\n",
      "memory usage: 1.3+ KB\n"
     ]
    }
   ],
   "source": [
    "act_2019.info()"
   ]
  },
  {
   "cell_type": "code",
   "execution_count": 5,
   "metadata": {},
   "outputs": [
    {
     "name": "stdout",
     "output_type": "stream",
     "text": [
      "['Alabama' 'Alaska' 'Arizona' 'Arkansas' 'California' 'Colorado'\n",
      " 'Connecticut' 'Delaware' 'District of Columbia' 'Florida' 'Georgia'\n",
      " 'Hawaii' 'Idaho' 'Illinois' 'Indiana' 'Iowa' 'Kansas' 'Kentucky'\n",
      " 'Louisiana' 'Maine' 'Maryland' 'Massachusetts' 'Michigan' 'Minnesota'\n",
      " 'Mississippi' 'Missouri' 'Montana' 'Nebraska' 'Nevada' 'New Hampshire'\n",
      " 'New Jersey' 'New Mexico' 'New York' 'North Carolina' 'North Dakota'\n",
      " 'Ohio' 'Oklahoma' 'Oregon' 'Pennsylvania' 'Rhode Island' 'South Carolina'\n",
      " 'South Dakota' 'Tennessee' 'Texas' 'Utah' 'Vermont' 'Virginia'\n",
      " 'Washington' 'West Virginia' 'Wisconsin' 'Wyoming' 'National']\n",
      "The number of unique states is 52.\n"
     ]
    }
   ],
   "source": [
    "# Clarifying the unique stats in order to compare with sat_2019 dataset\n",
    "print(act_2019['State'].unique())\n",
    "print(f'The number of unique states is {act_2019.State.nunique()}.')"
   ]
  },
  {
   "cell_type": "markdown",
   "metadata": {},
   "source": [
    "#### Observations\n",
    "\n",
    "The dataset has no missing and suspicious value.\n",
    "\n",
    "There are three things that we want to adjust for the 'act_2019.csv' Dataset :-\n",
    "1. Drop the % under the participation rate column and change its value to integer.\n",
    "2. Round composite score to integer as ACT score is [only meaningful](https://www.quadeducationgroup.com/blog/act-scores-everything-you-need-to-know) as a whole number.\n",
    "3. Rename the columns to standardise with the 'sat_2019.csv' Dataset."
   ]
  },
  {
   "cell_type": "code",
   "execution_count": 6,
   "metadata": {},
   "outputs": [
    {
     "data": {
      "text/html": [
       "<div>\n",
       "<style scoped>\n",
       "    .dataframe tbody tr th:only-of-type {\n",
       "        vertical-align: middle;\n",
       "    }\n",
       "\n",
       "    .dataframe tbody tr th {\n",
       "        vertical-align: top;\n",
       "    }\n",
       "\n",
       "    .dataframe thead th {\n",
       "        text-align: right;\n",
       "    }\n",
       "</style>\n",
       "<table border=\"1\" class=\"dataframe\">\n",
       "  <thead>\n",
       "    <tr style=\"text-align: right;\">\n",
       "      <th></th>\n",
       "      <th>State</th>\n",
       "      <th>Participation</th>\n",
       "      <th>Composite</th>\n",
       "    </tr>\n",
       "  </thead>\n",
       "  <tbody>\n",
       "    <tr>\n",
       "      <th>0</th>\n",
       "      <td>Alabama</td>\n",
       "      <td>100</td>\n",
       "      <td>18.9</td>\n",
       "    </tr>\n",
       "    <tr>\n",
       "      <th>1</th>\n",
       "      <td>Alaska</td>\n",
       "      <td>38</td>\n",
       "      <td>20.1</td>\n",
       "    </tr>\n",
       "    <tr>\n",
       "      <th>2</th>\n",
       "      <td>Arizona</td>\n",
       "      <td>73</td>\n",
       "      <td>19.0</td>\n",
       "    </tr>\n",
       "    <tr>\n",
       "      <th>3</th>\n",
       "      <td>Arkansas</td>\n",
       "      <td>100</td>\n",
       "      <td>19.3</td>\n",
       "    </tr>\n",
       "    <tr>\n",
       "      <th>4</th>\n",
       "      <td>California</td>\n",
       "      <td>23</td>\n",
       "      <td>22.6</td>\n",
       "    </tr>\n",
       "  </tbody>\n",
       "</table>\n",
       "</div>"
      ],
      "text/plain": [
       "        State  Participation  Composite\n",
       "0     Alabama            100       18.9\n",
       "1      Alaska             38       20.1\n",
       "2     Arizona             73       19.0\n",
       "3    Arkansas            100       19.3\n",
       "4  California             23       22.6"
      ]
     },
     "execution_count": 6,
     "metadata": {},
     "output_type": "execute_result"
    }
   ],
   "source": [
    "act_2019['Participation'] = act_2019['Participation'].str.replace('%','').astype(int)\n",
    "act_2019.head()"
   ]
  },
  {
   "cell_type": "code",
   "execution_count": 7,
   "metadata": {},
   "outputs": [
    {
     "data": {
      "text/html": [
       "<div>\n",
       "<style scoped>\n",
       "    .dataframe tbody tr th:only-of-type {\n",
       "        vertical-align: middle;\n",
       "    }\n",
       "\n",
       "    .dataframe tbody tr th {\n",
       "        vertical-align: top;\n",
       "    }\n",
       "\n",
       "    .dataframe thead th {\n",
       "        text-align: right;\n",
       "    }\n",
       "</style>\n",
       "<table border=\"1\" class=\"dataframe\">\n",
       "  <thead>\n",
       "    <tr style=\"text-align: right;\">\n",
       "      <th></th>\n",
       "      <th>State</th>\n",
       "      <th>Participation</th>\n",
       "      <th>Composite</th>\n",
       "    </tr>\n",
       "  </thead>\n",
       "  <tbody>\n",
       "    <tr>\n",
       "      <th>0</th>\n",
       "      <td>Alabama</td>\n",
       "      <td>100</td>\n",
       "      <td>19</td>\n",
       "    </tr>\n",
       "    <tr>\n",
       "      <th>1</th>\n",
       "      <td>Alaska</td>\n",
       "      <td>38</td>\n",
       "      <td>20</td>\n",
       "    </tr>\n",
       "    <tr>\n",
       "      <th>2</th>\n",
       "      <td>Arizona</td>\n",
       "      <td>73</td>\n",
       "      <td>19</td>\n",
       "    </tr>\n",
       "    <tr>\n",
       "      <th>3</th>\n",
       "      <td>Arkansas</td>\n",
       "      <td>100</td>\n",
       "      <td>19</td>\n",
       "    </tr>\n",
       "    <tr>\n",
       "      <th>4</th>\n",
       "      <td>California</td>\n",
       "      <td>23</td>\n",
       "      <td>23</td>\n",
       "    </tr>\n",
       "  </tbody>\n",
       "</table>\n",
       "</div>"
      ],
      "text/plain": [
       "        State  Participation  Composite\n",
       "0     Alabama            100         19\n",
       "1      Alaska             38         20\n",
       "2     Arizona             73         19\n",
       "3    Arkansas            100         19\n",
       "4  California             23         23"
      ]
     },
     "execution_count": 7,
     "metadata": {},
     "output_type": "execute_result"
    }
   ],
   "source": [
    "act_2019['Composite'] = act_2019['Composite'].round(0).astype(int)\n",
    "act_2019.head()"
   ]
  },
  {
   "cell_type": "code",
   "execution_count": 8,
   "metadata": {},
   "outputs": [
    {
     "data": {
      "text/html": [
       "<div>\n",
       "<style scoped>\n",
       "    .dataframe tbody tr th:only-of-type {\n",
       "        vertical-align: middle;\n",
       "    }\n",
       "\n",
       "    .dataframe tbody tr th {\n",
       "        vertical-align: top;\n",
       "    }\n",
       "\n",
       "    .dataframe thead th {\n",
       "        text-align: right;\n",
       "    }\n",
       "</style>\n",
       "<table border=\"1\" class=\"dataframe\">\n",
       "  <thead>\n",
       "    <tr style=\"text-align: right;\">\n",
       "      <th></th>\n",
       "      <th>state</th>\n",
       "      <th>act_participation_%</th>\n",
       "      <th>act_composite</th>\n",
       "    </tr>\n",
       "  </thead>\n",
       "  <tbody>\n",
       "    <tr>\n",
       "      <th>0</th>\n",
       "      <td>Alabama</td>\n",
       "      <td>100</td>\n",
       "      <td>19</td>\n",
       "    </tr>\n",
       "    <tr>\n",
       "      <th>1</th>\n",
       "      <td>Alaska</td>\n",
       "      <td>38</td>\n",
       "      <td>20</td>\n",
       "    </tr>\n",
       "    <tr>\n",
       "      <th>2</th>\n",
       "      <td>Arizona</td>\n",
       "      <td>73</td>\n",
       "      <td>19</td>\n",
       "    </tr>\n",
       "    <tr>\n",
       "      <th>3</th>\n",
       "      <td>Arkansas</td>\n",
       "      <td>100</td>\n",
       "      <td>19</td>\n",
       "    </tr>\n",
       "    <tr>\n",
       "      <th>4</th>\n",
       "      <td>California</td>\n",
       "      <td>23</td>\n",
       "      <td>23</td>\n",
       "    </tr>\n",
       "  </tbody>\n",
       "</table>\n",
       "</div>"
      ],
      "text/plain": [
       "        state  act_participation_%  act_composite\n",
       "0     Alabama                  100             19\n",
       "1      Alaska                   38             20\n",
       "2     Arizona                   73             19\n",
       "3    Arkansas                  100             19\n",
       "4  California                   23             23"
      ]
     },
     "execution_count": 8,
     "metadata": {},
     "output_type": "execute_result"
    }
   ],
   "source": [
    "act_2019.rename(columns={'State': 'state',\n",
    "                         'Participation': 'act_participation_%',\n",
    "                         'Composite': 'act_composite'}, inplace=True)\n",
    "act_2019.head()"
   ]
  },
  {
   "cell_type": "markdown",
   "metadata": {},
   "source": [
    "#### 3.1.2 'sat_2019' Dataset"
   ]
  },
  {
   "cell_type": "code",
   "execution_count": 9,
   "metadata": {},
   "outputs": [
    {
     "data": {
      "text/html": [
       "<div>\n",
       "<style scoped>\n",
       "    .dataframe tbody tr th:only-of-type {\n",
       "        vertical-align: middle;\n",
       "    }\n",
       "\n",
       "    .dataframe tbody tr th {\n",
       "        vertical-align: top;\n",
       "    }\n",
       "\n",
       "    .dataframe thead th {\n",
       "        text-align: right;\n",
       "    }\n",
       "</style>\n",
       "<table border=\"1\" class=\"dataframe\">\n",
       "  <thead>\n",
       "    <tr style=\"text-align: right;\">\n",
       "      <th></th>\n",
       "      <th>State</th>\n",
       "      <th>Participation Rate</th>\n",
       "      <th>EBRW</th>\n",
       "      <th>Math</th>\n",
       "      <th>Total</th>\n",
       "    </tr>\n",
       "  </thead>\n",
       "  <tbody>\n",
       "    <tr>\n",
       "      <th>0</th>\n",
       "      <td>Alabama</td>\n",
       "      <td>7%</td>\n",
       "      <td>583</td>\n",
       "      <td>560</td>\n",
       "      <td>1143</td>\n",
       "    </tr>\n",
       "    <tr>\n",
       "      <th>1</th>\n",
       "      <td>Alaska</td>\n",
       "      <td>41%</td>\n",
       "      <td>556</td>\n",
       "      <td>541</td>\n",
       "      <td>1097</td>\n",
       "    </tr>\n",
       "    <tr>\n",
       "      <th>2</th>\n",
       "      <td>Arizona</td>\n",
       "      <td>31%</td>\n",
       "      <td>569</td>\n",
       "      <td>565</td>\n",
       "      <td>1134</td>\n",
       "    </tr>\n",
       "    <tr>\n",
       "      <th>3</th>\n",
       "      <td>Arkansas</td>\n",
       "      <td>6%</td>\n",
       "      <td>582</td>\n",
       "      <td>559</td>\n",
       "      <td>1141</td>\n",
       "    </tr>\n",
       "    <tr>\n",
       "      <th>4</th>\n",
       "      <td>California</td>\n",
       "      <td>63%</td>\n",
       "      <td>534</td>\n",
       "      <td>531</td>\n",
       "      <td>1065</td>\n",
       "    </tr>\n",
       "  </tbody>\n",
       "</table>\n",
       "</div>"
      ],
      "text/plain": [
       "        State Participation Rate  EBRW  Math  Total\n",
       "0     Alabama                 7%   583   560   1143\n",
       "1      Alaska                41%   556   541   1097\n",
       "2     Arizona                31%   569   565   1134\n",
       "3    Arkansas                 6%   582   559   1141\n",
       "4  California                63%   534   531   1065"
      ]
     },
     "execution_count": 9,
     "metadata": {},
     "output_type": "execute_result"
    }
   ],
   "source": [
    "sat_2019.head()"
   ]
  },
  {
   "cell_type": "code",
   "execution_count": 10,
   "metadata": {},
   "outputs": [
    {
     "name": "stdout",
     "output_type": "stream",
     "text": [
      "<class 'pandas.core.frame.DataFrame'>\n",
      "RangeIndex: 53 entries, 0 to 52\n",
      "Data columns (total 5 columns):\n",
      " #   Column              Non-Null Count  Dtype \n",
      "---  ------              --------------  ----- \n",
      " 0   State               53 non-null     object\n",
      " 1   Participation Rate  53 non-null     object\n",
      " 2   EBRW                53 non-null     int64 \n",
      " 3   Math                53 non-null     int64 \n",
      " 4   Total               53 non-null     int64 \n",
      "dtypes: int64(3), object(2)\n",
      "memory usage: 2.2+ KB\n"
     ]
    }
   ],
   "source": [
    "sat_2019.info() "
   ]
  },
  {
   "cell_type": "code",
   "execution_count": 11,
   "metadata": {},
   "outputs": [
    {
     "name": "stdout",
     "output_type": "stream",
     "text": [
      "['Alabama' 'Alaska' 'Arizona' 'Arkansas' 'California' 'Colorado'\n",
      " 'Connecticut' 'Delaware' 'District of Columbia' 'Florida' 'Georgia'\n",
      " 'Hawaii' 'Idaho' 'Illinois' 'Indiana' 'Iowa' 'Kansas' 'Kentucky'\n",
      " 'Louisiana' 'Maine' 'Maryland' 'Massachusetts' 'Michigan' 'Minnesota'\n",
      " 'Mississippi' 'Missouri' 'Montana' 'Nebraska' 'Nevada' 'New Hampshire'\n",
      " 'New Jersey' 'New Mexico' 'New York' 'North Carolina' 'North Dakota'\n",
      " 'Ohio' 'Oklahoma' 'Oregon' 'Pennsylvania' 'Puerto Rico' 'Rhode Island'\n",
      " 'South Carolina' 'South Dakota' 'Tennessee' 'Texas' 'Utah' 'Vermont'\n",
      " 'Virgin Islands' 'Virginia' 'Washington' 'West Virginia' 'Wisconsin'\n",
      " 'Wyoming']\n",
      "The number of unique states is 53.\n"
     ]
    }
   ],
   "source": [
    "# Need this to compare with act_2019 dataset\n",
    "print(sat_2019['State'].unique())\n",
    "print(f'The number of unique states is {sat_2019.State.nunique()}.')\n",
    "# We notice that dataset has two more stats as compared to the act_2019 dataset (namely, Puerto Rico and Virgin Islands)\n",
    "# We also notice that the act_2019 dataset has a national average"
   ]
  },
  {
   "cell_type": "markdown",
   "metadata": {},
   "source": [
    "#### Observations\n",
    "\n",
    "The dataset has no missing and suspicious value.\n",
    "\n",
    "There are four things that we want to adjust for the 'sat_2019.csv' Dataset :-\n",
    "\n",
    "1. Delete the rows of consisting Puerto Rico and Virgin Islands of sat_2019 dataset. Although they are under US's territory, they are not considered [US states](https://en.wikipedia.org/wiki/List_of_U.S._state_and_territory_abbreviations).\n",
    "2. Drop the % under the participation rate column and change its value to integer.\n",
    "3. Compute national average in sat_2019 dataset based on the remaining states. Even though we do not have any information on how national average was caculated in the act_2019 dataset, this is the next best alternative method.\n",
    "4. Rename the columns to standardise with the 'sat_2019.csv' Dataset."
   ]
  },
  {
   "cell_type": "code",
   "execution_count": 12,
   "metadata": {},
   "outputs": [
    {
     "name": "stdout",
     "output_type": "stream",
     "text": [
      "['Alabama' 'Alaska' 'Arizona' 'Arkansas' 'California' 'Colorado'\n",
      " 'Connecticut' 'Delaware' 'District of Columbia' 'Florida' 'Georgia'\n",
      " 'Hawaii' 'Idaho' 'Illinois' 'Indiana' 'Iowa' 'Kansas' 'Kentucky'\n",
      " 'Louisiana' 'Maine' 'Maryland' 'Massachusetts' 'Michigan' 'Minnesota'\n",
      " 'Mississippi' 'Missouri' 'Montana' 'Nebraska' 'Nevada' 'New Hampshire'\n",
      " 'New Jersey' 'New Mexico' 'New York' 'North Carolina' 'North Dakota'\n",
      " 'Ohio' 'Oklahoma' 'Oregon' 'Pennsylvania' 'Rhode Island' 'South Carolina'\n",
      " 'South Dakota' 'Tennessee' 'Texas' 'Utah' 'Vermont' 'Virginia'\n",
      " 'Washington' 'West Virginia' 'Wisconsin' 'Wyoming']\n",
      "The number of unique states is 51.\n"
     ]
    }
   ],
   "source": [
    "sat_2019 = sat_2019[(sat_2019.State  != 'Puerto Rico') & (sat_2019.State  != 'Virgin Islands')]\n",
    "print(sat_2019['State'].unique())\n",
    "print(f'The number of unique states is {sat_2019.State.nunique()}.')"
   ]
  },
  {
   "cell_type": "code",
   "execution_count": 13,
   "metadata": {},
   "outputs": [
    {
     "data": {
      "text/html": [
       "<div>\n",
       "<style scoped>\n",
       "    .dataframe tbody tr th:only-of-type {\n",
       "        vertical-align: middle;\n",
       "    }\n",
       "\n",
       "    .dataframe tbody tr th {\n",
       "        vertical-align: top;\n",
       "    }\n",
       "\n",
       "    .dataframe thead th {\n",
       "        text-align: right;\n",
       "    }\n",
       "</style>\n",
       "<table border=\"1\" class=\"dataframe\">\n",
       "  <thead>\n",
       "    <tr style=\"text-align: right;\">\n",
       "      <th></th>\n",
       "      <th>State</th>\n",
       "      <th>Participation Rate</th>\n",
       "      <th>EBRW</th>\n",
       "      <th>Math</th>\n",
       "      <th>Total</th>\n",
       "    </tr>\n",
       "  </thead>\n",
       "  <tbody>\n",
       "    <tr>\n",
       "      <th>0</th>\n",
       "      <td>Alabama</td>\n",
       "      <td>7</td>\n",
       "      <td>583</td>\n",
       "      <td>560</td>\n",
       "      <td>1143</td>\n",
       "    </tr>\n",
       "    <tr>\n",
       "      <th>1</th>\n",
       "      <td>Alaska</td>\n",
       "      <td>41</td>\n",
       "      <td>556</td>\n",
       "      <td>541</td>\n",
       "      <td>1097</td>\n",
       "    </tr>\n",
       "    <tr>\n",
       "      <th>2</th>\n",
       "      <td>Arizona</td>\n",
       "      <td>31</td>\n",
       "      <td>569</td>\n",
       "      <td>565</td>\n",
       "      <td>1134</td>\n",
       "    </tr>\n",
       "    <tr>\n",
       "      <th>3</th>\n",
       "      <td>Arkansas</td>\n",
       "      <td>6</td>\n",
       "      <td>582</td>\n",
       "      <td>559</td>\n",
       "      <td>1141</td>\n",
       "    </tr>\n",
       "    <tr>\n",
       "      <th>4</th>\n",
       "      <td>California</td>\n",
       "      <td>63</td>\n",
       "      <td>534</td>\n",
       "      <td>531</td>\n",
       "      <td>1065</td>\n",
       "    </tr>\n",
       "  </tbody>\n",
       "</table>\n",
       "</div>"
      ],
      "text/plain": [
       "        State  Participation Rate  EBRW  Math  Total\n",
       "0     Alabama                   7   583   560   1143\n",
       "1      Alaska                  41   556   541   1097\n",
       "2     Arizona                  31   569   565   1134\n",
       "3    Arkansas                   6   582   559   1141\n",
       "4  California                  63   534   531   1065"
      ]
     },
     "execution_count": 13,
     "metadata": {},
     "output_type": "execute_result"
    }
   ],
   "source": [
    "sat_2019['Participation Rate'] = sat_2019['Participation Rate'].str.replace('%','').astype(int)\n",
    "sat_2019.head()"
   ]
  },
  {
   "cell_type": "code",
   "execution_count": 14,
   "metadata": {},
   "outputs": [
    {
     "name": "stderr",
     "output_type": "stream",
     "text": [
      "/var/folders/85/k1rp538j1pg3g14n14ts5rb80000gn/T/ipykernel_8968/2700351778.py:6: FutureWarning: The frame.append method is deprecated and will be removed from pandas in a future version. Use pandas.concat instead.\n",
      "  sat_2019 = sat_2019.append(nat_avg, ignore_index = True)\n"
     ]
    },
    {
     "data": {
      "text/html": [
       "<div>\n",
       "<style scoped>\n",
       "    .dataframe tbody tr th:only-of-type {\n",
       "        vertical-align: middle;\n",
       "    }\n",
       "\n",
       "    .dataframe tbody tr th {\n",
       "        vertical-align: top;\n",
       "    }\n",
       "\n",
       "    .dataframe thead th {\n",
       "        text-align: right;\n",
       "    }\n",
       "</style>\n",
       "<table border=\"1\" class=\"dataframe\">\n",
       "  <thead>\n",
       "    <tr style=\"text-align: right;\">\n",
       "      <th></th>\n",
       "      <th>State</th>\n",
       "      <th>Participation Rate</th>\n",
       "      <th>EBRW</th>\n",
       "      <th>Math</th>\n",
       "      <th>Total</th>\n",
       "    </tr>\n",
       "  </thead>\n",
       "  <tbody>\n",
       "    <tr>\n",
       "      <th>47</th>\n",
       "      <td>Washington</td>\n",
       "      <td>70</td>\n",
       "      <td>539</td>\n",
       "      <td>535</td>\n",
       "      <td>1074</td>\n",
       "    </tr>\n",
       "    <tr>\n",
       "      <th>48</th>\n",
       "      <td>West Virginia</td>\n",
       "      <td>99</td>\n",
       "      <td>483</td>\n",
       "      <td>460</td>\n",
       "      <td>943</td>\n",
       "    </tr>\n",
       "    <tr>\n",
       "      <th>49</th>\n",
       "      <td>Wisconsin</td>\n",
       "      <td>3</td>\n",
       "      <td>635</td>\n",
       "      <td>648</td>\n",
       "      <td>1283</td>\n",
       "    </tr>\n",
       "    <tr>\n",
       "      <th>50</th>\n",
       "      <td>Wyoming</td>\n",
       "      <td>3</td>\n",
       "      <td>623</td>\n",
       "      <td>615</td>\n",
       "      <td>1238</td>\n",
       "    </tr>\n",
       "    <tr>\n",
       "      <th>51</th>\n",
       "      <td>National</td>\n",
       "      <td>49</td>\n",
       "      <td>560</td>\n",
       "      <td>552</td>\n",
       "      <td>1113</td>\n",
       "    </tr>\n",
       "  </tbody>\n",
       "</table>\n",
       "</div>"
      ],
      "text/plain": [
       "            State  Participation Rate  EBRW  Math  Total\n",
       "47     Washington                  70   539   535   1074\n",
       "48  West Virginia                  99   483   460    943\n",
       "49      Wisconsin                   3   635   648   1283\n",
       "50        Wyoming                   3   623   615   1238\n",
       "51       National                  49   560   552   1113"
      ]
     },
     "execution_count": 14,
     "metadata": {},
     "output_type": "execute_result"
    }
   ],
   "source": [
    "nat_avg = {'State':'National',\n",
    "           'Participation Rate':sat_2019['Participation Rate'].mean().astype(int),\n",
    "           'EBRW':sat_2019['EBRW'].mean().astype(int),\n",
    "           'Math':sat_2019['Math'].mean().astype(int),\n",
    "           'Total':sat_2019['Total'].mean().astype(int)}\n",
    "sat_2019 = sat_2019.append(nat_avg, ignore_index = True)\n",
    "sat_2019.tail()"
   ]
  },
  {
   "cell_type": "code",
   "execution_count": 15,
   "metadata": {},
   "outputs": [
    {
     "data": {
      "text/html": [
       "<div>\n",
       "<style scoped>\n",
       "    .dataframe tbody tr th:only-of-type {\n",
       "        vertical-align: middle;\n",
       "    }\n",
       "\n",
       "    .dataframe tbody tr th {\n",
       "        vertical-align: top;\n",
       "    }\n",
       "\n",
       "    .dataframe thead th {\n",
       "        text-align: right;\n",
       "    }\n",
       "</style>\n",
       "<table border=\"1\" class=\"dataframe\">\n",
       "  <thead>\n",
       "    <tr style=\"text-align: right;\">\n",
       "      <th></th>\n",
       "      <th>state</th>\n",
       "      <th>sat_participation_%</th>\n",
       "      <th>sat_ebrw</th>\n",
       "      <th>sat_math</th>\n",
       "      <th>sat_total</th>\n",
       "    </tr>\n",
       "  </thead>\n",
       "  <tbody>\n",
       "    <tr>\n",
       "      <th>0</th>\n",
       "      <td>Alabama</td>\n",
       "      <td>7</td>\n",
       "      <td>583</td>\n",
       "      <td>560</td>\n",
       "      <td>1143</td>\n",
       "    </tr>\n",
       "    <tr>\n",
       "      <th>1</th>\n",
       "      <td>Alaska</td>\n",
       "      <td>41</td>\n",
       "      <td>556</td>\n",
       "      <td>541</td>\n",
       "      <td>1097</td>\n",
       "    </tr>\n",
       "    <tr>\n",
       "      <th>2</th>\n",
       "      <td>Arizona</td>\n",
       "      <td>31</td>\n",
       "      <td>569</td>\n",
       "      <td>565</td>\n",
       "      <td>1134</td>\n",
       "    </tr>\n",
       "    <tr>\n",
       "      <th>3</th>\n",
       "      <td>Arkansas</td>\n",
       "      <td>6</td>\n",
       "      <td>582</td>\n",
       "      <td>559</td>\n",
       "      <td>1141</td>\n",
       "    </tr>\n",
       "    <tr>\n",
       "      <th>4</th>\n",
       "      <td>California</td>\n",
       "      <td>63</td>\n",
       "      <td>534</td>\n",
       "      <td>531</td>\n",
       "      <td>1065</td>\n",
       "    </tr>\n",
       "  </tbody>\n",
       "</table>\n",
       "</div>"
      ],
      "text/plain": [
       "        state  sat_participation_%  sat_ebrw  sat_math  sat_total\n",
       "0     Alabama                    7       583       560       1143\n",
       "1      Alaska                   41       556       541       1097\n",
       "2     Arizona                   31       569       565       1134\n",
       "3    Arkansas                    6       582       559       1141\n",
       "4  California                   63       534       531       1065"
      ]
     },
     "execution_count": 15,
     "metadata": {},
     "output_type": "execute_result"
    }
   ],
   "source": [
    "sat_2019.rename(columns={'State': 'state',\n",
    "                         'Participation Rate': 'sat_participation_%',\n",
    "                         'EBRW': 'sat_ebrw',\n",
    "                         'Math': 'sat_math',\n",
    "                         'Total':'sat_total'}, inplace=True)\n",
    "sat_2019.head()"
   ]
  },
  {
   "cell_type": "markdown",
   "metadata": {},
   "source": [
    "#### 3.1.3 'sat_act_by_college' Dataset"
   ]
  },
  {
   "cell_type": "code",
   "execution_count": 16,
   "metadata": {},
   "outputs": [
    {
     "data": {
      "text/html": [
       "<div>\n",
       "<style scoped>\n",
       "    .dataframe tbody tr th:only-of-type {\n",
       "        vertical-align: middle;\n",
       "    }\n",
       "\n",
       "    .dataframe tbody tr th {\n",
       "        vertical-align: top;\n",
       "    }\n",
       "\n",
       "    .dataframe thead th {\n",
       "        text-align: right;\n",
       "    }\n",
       "</style>\n",
       "<table border=\"1\" class=\"dataframe\">\n",
       "  <thead>\n",
       "    <tr style=\"text-align: right;\">\n",
       "      <th></th>\n",
       "      <th>School</th>\n",
       "      <th>Test Optional?</th>\n",
       "      <th>Applies to Class Year(s)</th>\n",
       "      <th>Policy Details</th>\n",
       "      <th>Number of Applicants</th>\n",
       "      <th>Accept Rate</th>\n",
       "      <th>SAT Total 25th-75th Percentile</th>\n",
       "      <th>ACT Total 25th-75th Percentile</th>\n",
       "    </tr>\n",
       "  </thead>\n",
       "  <tbody>\n",
       "    <tr>\n",
       "      <th>0</th>\n",
       "      <td>Stanford University</td>\n",
       "      <td>Yes</td>\n",
       "      <td>2021</td>\n",
       "      <td>Stanford has adopted a one-year test optional ...</td>\n",
       "      <td>47452</td>\n",
       "      <td>4.3%</td>\n",
       "      <td>1440-1570</td>\n",
       "      <td>32-35</td>\n",
       "    </tr>\n",
       "    <tr>\n",
       "      <th>1</th>\n",
       "      <td>Harvard College</td>\n",
       "      <td>Yes</td>\n",
       "      <td>2021</td>\n",
       "      <td>Harvard has adopted a one-year test optional p...</td>\n",
       "      <td>42749</td>\n",
       "      <td>4.7%</td>\n",
       "      <td>1460-1580</td>\n",
       "      <td>33-35</td>\n",
       "    </tr>\n",
       "    <tr>\n",
       "      <th>2</th>\n",
       "      <td>Princeton University</td>\n",
       "      <td>Yes</td>\n",
       "      <td>2021</td>\n",
       "      <td>Princeton has adopted a one-year test optional...</td>\n",
       "      <td>35370</td>\n",
       "      <td>5.5%</td>\n",
       "      <td>1440-1570</td>\n",
       "      <td>32-35</td>\n",
       "    </tr>\n",
       "    <tr>\n",
       "      <th>3</th>\n",
       "      <td>Columbia University</td>\n",
       "      <td>Yes</td>\n",
       "      <td>2021</td>\n",
       "      <td>Columbia has adopted a one-year test optional ...</td>\n",
       "      <td>40203</td>\n",
       "      <td>5.5%</td>\n",
       "      <td>1450-1560</td>\n",
       "      <td>33-35</td>\n",
       "    </tr>\n",
       "    <tr>\n",
       "      <th>4</th>\n",
       "      <td>Yale University</td>\n",
       "      <td>Yes</td>\n",
       "      <td>2021</td>\n",
       "      <td>Yale has adopted a one-year test optional poli...</td>\n",
       "      <td>36844</td>\n",
       "      <td>6.1%</td>\n",
       "      <td>1460-1570</td>\n",
       "      <td>33-35</td>\n",
       "    </tr>\n",
       "  </tbody>\n",
       "</table>\n",
       "</div>"
      ],
      "text/plain": [
       "                 School Test Optional? Applies to Class Year(s)  \\\n",
       "0   Stanford University            Yes                     2021   \n",
       "1       Harvard College            Yes                     2021   \n",
       "2  Princeton University            Yes                     2021   \n",
       "3   Columbia University            Yes                     2021   \n",
       "4       Yale University            Yes                     2021   \n",
       "\n",
       "                                      Policy Details  Number of Applicants  \\\n",
       "0  Stanford has adopted a one-year test optional ...                 47452   \n",
       "1  Harvard has adopted a one-year test optional p...                 42749   \n",
       "2  Princeton has adopted a one-year test optional...                 35370   \n",
       "3  Columbia has adopted a one-year test optional ...                 40203   \n",
       "4  Yale has adopted a one-year test optional poli...                 36844   \n",
       "\n",
       "  Accept Rate SAT Total 25th-75th Percentile ACT Total 25th-75th Percentile  \n",
       "0        4.3%                      1440-1570                          32-35  \n",
       "1        4.7%                      1460-1580                          33-35  \n",
       "2        5.5%                      1440-1570                          32-35  \n",
       "3        5.5%                      1450-1560                          33-35  \n",
       "4        6.1%                      1460-1570                          33-35  "
      ]
     },
     "execution_count": 16,
     "metadata": {},
     "output_type": "execute_result"
    }
   ],
   "source": [
    "sat_act_by_college.head()"
   ]
  },
  {
   "cell_type": "code",
   "execution_count": 17,
   "metadata": {},
   "outputs": [
    {
     "name": "stdout",
     "output_type": "stream",
     "text": [
      "<class 'pandas.core.frame.DataFrame'>\n",
      "RangeIndex: 416 entries, 0 to 415\n",
      "Data columns (total 8 columns):\n",
      " #   Column                          Non-Null Count  Dtype \n",
      "---  ------                          --------------  ----- \n",
      " 0   School                          416 non-null    object\n",
      " 1   Test Optional?                  416 non-null    object\n",
      " 2   Applies to Class Year(s)        390 non-null    object\n",
      " 3   Policy Details                  416 non-null    object\n",
      " 4   Number of Applicants            416 non-null    int64 \n",
      " 5   Accept Rate                     416 non-null    object\n",
      " 6   SAT Total 25th-75th Percentile  416 non-null    object\n",
      " 7   ACT Total 25th-75th Percentile  416 non-null    object\n",
      "dtypes: int64(1), object(7)\n",
      "memory usage: 26.1+ KB\n"
     ]
    }
   ],
   "source": [
    "sat_act_by_college.info()"
   ]
  },
  {
   "cell_type": "markdown",
   "metadata": {},
   "source": [
    "#### Observations\n",
    "\n",
    "There are null values in the dataset but the column is not required for analysis.\n",
    "\n",
    "There are three things that we want to adjust for the 'sat_act_by_college.csv' Dataset :-\n",
    "\n",
    "1. Drop the rows of colleges without both ACT and SAT scores as they are not useful for analysis with the ACT and SAT scores of the concordance table.\n",
    "2. Pick out the score of 25th percentile of the ACT and SAT score columns. Given that the analysis is meant to gauge the admission scores of both tests required to enter the colleges, the score at 25th percentile would be more useful. The lower the percentile the better we can gauge the minimum scores required to enter each college. \n",
    "3. Convert the values of the 25th percentile of the ACT and SAT score columns to integers for analysis.\n",
    "4. Rename the columns to represent the values."
   ]
  },
  {
   "cell_type": "code",
   "execution_count": 18,
   "metadata": {},
   "outputs": [
    {
     "data": {
      "text/plain": [
       "array(['1440-1570', '1460-1580', '1450-1560', '1460-1570',\n",
       "       '\\u200b\\u200b 1530-1560', '\\u200b\\u200b 1500-1570',\n",
       "       '\\u200b\\u200b 1440-1570', '\\u200b\\u200b 1490-1570', '1390-1540',\n",
       "       '1440-1560', '1330-1520', '1450-1570', '1380-1540', '1440-1550',\n",
       "       '1460-1560', '1360-1510', '1470-1560', '1400-1560', '1410-1550',\n",
       "       '1340-1520', '1270-1480', '1290-1510', '1360-1520', '1350-1530',\n",
       "       '1350-1510', '1340-1490', '1300-1480', '1490-1570', '1370-1530',\n",
       "       '1300-1530', '1470-1570', '1360-1530', '1400-1550', '1283-1510',\n",
       "       '1370-1510', '1320-1510', '1370-1520', '1310-1485', '1350-1520',\n",
       "       '1360-1540', '1300-1510', '1348-1490', '1330-1500', '1300-1490',\n",
       "       '1340-1530', '1180-1440', '1340-1500', '1270-1450', '1280-1420',\n",
       "       '1370-1490', '1320-1470', '1290-1460', '1250-1420', '1290-1450',\n",
       "       '1300-1500', '1260-1460', '1320-1490', '1220-1400', '1250-1470',\n",
       "       '1250-1460', '1280-1500', '1250-1440', '1220-1380', '1240-1470',\n",
       "       '1333-1490', '1280-1450', '1300-1460', '1210-1380', '1110-1320',\n",
       "       '1270-1460', '1260-1430', '1255-1430', '1200-1390', '1220-1420',\n",
       "       '1040-1310', '1280-1480', '1090-1260', '1310-1450', '1270-1490',\n",
       "       '1030-1213', '1100-1320', '1180-1410', '890-1080', '1040-1250',\n",
       "       '1325-1520', '1310-1440', '1240-1410', '1280-1470', '1150-1410',\n",
       "       '1330-1480', '1160-1350', '1130-1330', '1080-1230', '1230-1410',\n",
       "       '1230-1440', '1220-1430', '1250-1390', '1200-1380', '1150-1360',\n",
       "       '1270-1420', '1250-1430', '1150-1350', '1210-1350', '1190-1430',\n",
       "       '1040-1270', '1200-1350', '1210-1420', '1280-1440', '1140-1320',\n",
       "       '1160-1370', '1210-1360', '1160-1360', '1310-1470', '1180-1370',\n",
       "       '1020-1205', '1230-1400', '1110-1290', '1200-1360', '1240-1440',\n",
       "       '1030-1200', '1330-1450', '1190-1370', '990-1160', '1090-1250',\n",
       "       '1050-1200', '1150-1380', '1040-1260', '1030-1250', '1240-1450',\n",
       "       '1240-1420', '1260-1440', '1130-1340', '1260-1480', '1203-1360',\n",
       "       '1040-1230', '1230-1390', '990-1190', '1160-1390', '1210-1450',\n",
       "       '1110-1310', '1080-1270', '950-1130', '1160-1340', '1070-1270',\n",
       "       '1170-1350', '1050-1250', '1220-1480', '1080-1260', '910-1130',\n",
       "       '1060-1320', '1090-1270', '1190-1440', '1120-1320', '1190-1410',\n",
       "       '1190-1400', '1140-1400', '1080-1368', '1120-1310', '1160-1330',\n",
       "       '1100-1345', '1170-1360', '1210-1358', '1080-1380', '1200-1430',\n",
       "       '1142.5-1380', '1110-1370', '1050-1310', '1020-1190', '1100-1370',\n",
       "       '1070-1280', '1180-1350', '1190-1380', '1190-1390', '1130-1360',\n",
       "       '1045-1225', '1070-1260', '1248-1420', '1010-1210', '1180-1390',\n",
       "       '1140-1310', '1120-1290', '1080-1358', '1170-1320', '1200-1400',\n",
       "       '1150-1340', '1078-1300', '1020-1240', '1180-1360', '940-1150',\n",
       "       '990-1210', '1080-1310', '1070-1290', '1090-1350', '1160-1338',\n",
       "       '910-1090', '990-1200', '1060-1295', '1000-1210', '--',\n",
       "       '1040-1265', '1150-1310', '990-1170', '1070-1300', '1070-1250',\n",
       "       '1050-1269', '1110-1280', '980-1180', '1180-1340', '1153-1390',\n",
       "       '1012-1345', '990-1180', '1110-1300', '1130-1300', '1030-1260',\n",
       "       '990-1230', '1010-1230', '1150-1330', '1060-1250', '1108-1273',\n",
       "       '970-1190', '1038-1250', '1170-1370', '1100-1250', '1050-1260',\n",
       "       '960-1170', '1060-1220', '1130-1380', '1030-1220', '1100-1270',\n",
       "       '1120-1300', '1060-1365', '1010-1240', '1090-1290', '1140-1340',\n",
       "       '1120-1360', '1140-1350', '1160-1320', '1240-1460', '1030-1190',\n",
       "       '1060-1260', '1143-1320', '1210-1410', '1040-1290', '1130-1310',\n",
       "       '1150-1320', '960-1180', '1070-1240', '1010-1250', '1010-1180',\n",
       "       '1050-1240', '1100-1310', '1020-1220', '940-1140', '1000-1160',\n",
       "       '1080-1320', '1150-1370', '1180-1380', '1060-1290', '1120-1350',\n",
       "       '1100-1290', '1220-1440', '1030-1230', '1090-1280', '1008-1240',\n",
       "       '1040-1240', '1000-1398', '980-1190', '1100-1340', '1090-1300',\n",
       "       '1060-1270', '1080-1300', '1000-1240', '990-1220', '1240-1520',\n",
       "       '1160-1380', '1245-1420', '1200-1340', '1140-1285', '1275-1465',\n",
       "       '1170-1330', '793-1078', '1240-1300', '1060-1280', '1050-1230',\n",
       "       '1050-1270', '820-1050'], dtype=object)"
      ]
     },
     "execution_count": 18,
     "metadata": {},
     "output_type": "execute_result"
    }
   ],
   "source": [
    "sat_act_by_college['SAT Total 25th-75th Percentile'].unique()"
   ]
  },
  {
   "cell_type": "code",
   "execution_count": 19,
   "metadata": {},
   "outputs": [],
   "source": [
    "sat_act_by_college['SAT Total 25th-75th Percentile'] = sat_act_by_college['SAT Total 25th-75th Percentile'].str.replace('\\u200b','')"
   ]
  },
  {
   "cell_type": "code",
   "execution_count": 20,
   "metadata": {},
   "outputs": [],
   "source": [
    "sat_act_by_college['SAT Total 25th-75th Percentile'] = sat_act_by_college['SAT Total 25th-75th Percentile'].str.strip()"
   ]
  },
  {
   "cell_type": "code",
   "execution_count": 21,
   "metadata": {},
   "outputs": [
    {
     "data": {
      "text/plain": [
       "array(['1440-1570', '1460-1580', '1450-1560', '1460-1570', '1530-1560',\n",
       "       '1500-1570', '1490-1570', '1390-1540', '1440-1560', '1330-1520',\n",
       "       '1450-1570', '1380-1540', '1440-1550', '1460-1560', '1360-1510',\n",
       "       '1470-1560', '1400-1560', '1410-1550', '1340-1520', '1270-1480',\n",
       "       '1290-1510', '1360-1520', '1350-1530', '1350-1510', '1340-1490',\n",
       "       '1300-1480', '1370-1530', '1300-1530', '1470-1570', '1360-1530',\n",
       "       '1400-1550', '1283-1510', '1370-1510', '1320-1510', '1370-1520',\n",
       "       '1310-1485', '1350-1520', '1360-1540', '1300-1510', '1348-1490',\n",
       "       '1330-1500', '1300-1490', '1340-1530', '1180-1440', '1340-1500',\n",
       "       '1270-1450', '1280-1420', '1370-1490', '1320-1470', '1290-1460',\n",
       "       '1250-1420', '1290-1450', '1300-1500', '1260-1460', '1320-1490',\n",
       "       '1220-1400', '1250-1470', '1250-1460', '1280-1500', '1250-1440',\n",
       "       '1220-1380', '1240-1470', '1333-1490', '1280-1450', '1300-1460',\n",
       "       '1210-1380', '1110-1320', '1270-1460', '1260-1430', '1255-1430',\n",
       "       '1200-1390', '1220-1420', '1040-1310', '1280-1480', '1090-1260',\n",
       "       '1310-1450', '1270-1490', '1030-1213', '1100-1320', '1180-1410',\n",
       "       '890-1080', '1040-1250', '1325-1520', '1310-1440', '1240-1410',\n",
       "       '1280-1470', '1150-1410', '1330-1480', '1160-1350', '1130-1330',\n",
       "       '1080-1230', '1230-1410', '1230-1440', '1220-1430', '1250-1390',\n",
       "       '1200-1380', '1150-1360', '1270-1420', '1250-1430', '1150-1350',\n",
       "       '1210-1350', '1190-1430', '1040-1270', '1200-1350', '1210-1420',\n",
       "       '1280-1440', '1140-1320', '1160-1370', '1210-1360', '1160-1360',\n",
       "       '1310-1470', '1180-1370', '1020-1205', '1230-1400', '1110-1290',\n",
       "       '1200-1360', '1240-1440', '1030-1200', '1330-1450', '1190-1370',\n",
       "       '990-1160', '1090-1250', '1050-1200', '1150-1380', '1040-1260',\n",
       "       '1030-1250', '1240-1450', '1240-1420', '1260-1440', '1130-1340',\n",
       "       '1260-1480', '1203-1360', '1040-1230', '1230-1390', '990-1190',\n",
       "       '1160-1390', '1210-1450', '1110-1310', '1080-1270', '950-1130',\n",
       "       '1160-1340', '1070-1270', '1170-1350', '1050-1250', '1220-1480',\n",
       "       '1080-1260', '910-1130', '1060-1320', '1090-1270', '1190-1440',\n",
       "       '1120-1320', '1190-1410', '1190-1400', '1140-1400', '1080-1368',\n",
       "       '1120-1310', '1160-1330', '1100-1345', '1170-1360', '1210-1358',\n",
       "       '1080-1380', '1200-1430', '1142.5-1380', '1110-1370', '1050-1310',\n",
       "       '1020-1190', '1100-1370', '1070-1280', '1180-1350', '1190-1380',\n",
       "       '1190-1390', '1130-1360', '1045-1225', '1070-1260', '1248-1420',\n",
       "       '1010-1210', '1180-1390', '1140-1310', '1120-1290', '1080-1358',\n",
       "       '1170-1320', '1200-1400', '1150-1340', '1078-1300', '1020-1240',\n",
       "       '1180-1360', '940-1150', '990-1210', '1080-1310', '1070-1290',\n",
       "       '1090-1350', '1160-1338', '910-1090', '990-1200', '1060-1295',\n",
       "       '1000-1210', '--', '1040-1265', '1150-1310', '990-1170',\n",
       "       '1070-1300', '1070-1250', '1050-1269', '1110-1280', '980-1180',\n",
       "       '1180-1340', '1153-1390', '1012-1345', '990-1180', '1110-1300',\n",
       "       '1130-1300', '1030-1260', '990-1230', '1010-1230', '1150-1330',\n",
       "       '1060-1250', '1108-1273', '970-1190', '1038-1250', '1170-1370',\n",
       "       '1100-1250', '1050-1260', '960-1170', '1060-1220', '1130-1380',\n",
       "       '1030-1220', '1100-1270', '1120-1300', '1060-1365', '1010-1240',\n",
       "       '1090-1290', '1140-1340', '1120-1360', '1140-1350', '1160-1320',\n",
       "       '1240-1460', '1030-1190', '1060-1260', '1143-1320', '1210-1410',\n",
       "       '1040-1290', '1130-1310', '1150-1320', '960-1180', '1070-1240',\n",
       "       '1010-1250', '1010-1180', '1050-1240', '1100-1310', '1020-1220',\n",
       "       '940-1140', '1000-1160', '1080-1320', '1150-1370', '1180-1380',\n",
       "       '1060-1290', '1120-1350', '1100-1290', '1220-1440', '1030-1230',\n",
       "       '1090-1280', '1008-1240', '1040-1240', '1000-1398', '980-1190',\n",
       "       '1100-1340', '1090-1300', '1060-1270', '1080-1300', '1000-1240',\n",
       "       '990-1220', '1240-1520', '1160-1380', '1245-1420', '1200-1340',\n",
       "       '1140-1285', '1275-1465', '1170-1330', '793-1078', '1240-1300',\n",
       "       '1060-1280', '1050-1230', '1050-1270', '820-1050'], dtype=object)"
      ]
     },
     "execution_count": 21,
     "metadata": {},
     "output_type": "execute_result"
    }
   ],
   "source": [
    "sat_act_by_college['SAT Total 25th-75th Percentile'].unique()"
   ]
  },
  {
   "cell_type": "code",
   "execution_count": 22,
   "metadata": {},
   "outputs": [
    {
     "data": {
      "text/plain": [
       "array(['32-35', '33-35', '35-36', '34-36', '31-34', '31-35', '29-33',\n",
       "       '27-34', '31-33', '30-34', '30-33', '28-34', '32-34', '29-34',\n",
       "       '27-33', '26-32', '28-32', '--', '29-32', '25-33', '26-33',\n",
       "       '28-33', '27-31', '28-31', '22-29', '19-24', '27-32', '22-27',\n",
       "       '26-30', '27-30', '15-20', '20-26', '25-32', '25-31', '24-30',\n",
       "       '22-26', '19-25', '26-31', '23-29', '25-30', '24-29', '22-28',\n",
       "       '20-25', '24-31', '19-26', '19-27', '21-27', '21-26', '24-33',\n",
       "       '16-22', '21-28', '22-30', '23-30', '21-29', '23-28', '23-31',\n",
       "       '20-27', '17-23', '24-28.5', '15-19', '24-28', '17-22', '20-29',\n",
       "       '18-24', '19-28', '20-28', '19.3-25.3', '25-29', '17-24', '17-25',\n",
       "       '18-25'], dtype=object)"
      ]
     },
     "execution_count": 22,
     "metadata": {},
     "output_type": "execute_result"
    }
   ],
   "source": [
    "sat_act_by_college['ACT Total 25th-75th Percentile'].unique()"
   ]
  },
  {
   "cell_type": "code",
   "execution_count": 23,
   "metadata": {},
   "outputs": [],
   "source": [
    "sat_act_by_college = sat_act_by_college[(sat_act_by_college[\"SAT Total 25th-75th Percentile\"]  != '--')]\n",
    "sat_act_by_college = sat_act_by_college[(sat_act_by_college[\"ACT Total 25th-75th Percentile\"]  != '--')]"
   ]
  },
  {
   "cell_type": "code",
   "execution_count": 24,
   "metadata": {},
   "outputs": [
    {
     "data": {
      "text/plain": [
       "array(['32-35', '33-35', '35-36', '34-36', '31-34', '31-35', '29-33',\n",
       "       '27-34', '31-33', '30-34', '30-33', '28-34', '32-34', '29-34',\n",
       "       '27-33', '26-32', '28-32', '29-32', '25-33', '26-33', '28-33',\n",
       "       '27-31', '28-31', '22-29', '19-24', '27-32', '22-27', '26-30',\n",
       "       '27-30', '15-20', '20-26', '25-32', '25-31', '24-30', '22-26',\n",
       "       '19-25', '26-31', '23-29', '25-30', '24-29', '22-28', '20-25',\n",
       "       '24-31', '19-26', '19-27', '21-27', '21-26', '24-33', '16-22',\n",
       "       '21-28', '22-30', '23-30', '21-29', '23-28', '23-31', '20-27',\n",
       "       '17-23', '24-28.5', '15-19', '24-28', '17-22', '20-29', '18-24',\n",
       "       '19-28', '20-28', '19.3-25.3', '25-29', '17-24', '17-25', '18-25'],\n",
       "      dtype=object)"
      ]
     },
     "execution_count": 24,
     "metadata": {},
     "output_type": "execute_result"
    }
   ],
   "source": [
    "sat_act_by_college['ACT Total 25th-75th Percentile'].unique()"
   ]
  },
  {
   "cell_type": "code",
   "execution_count": 25,
   "metadata": {},
   "outputs": [],
   "source": [
    "sat_act_by_college['SAT Total 25th-75th Percentile'] = sat_act_by_college['SAT Total 25th-75th Percentile'].map(lambda x: str(x)[:-5])"
   ]
  },
  {
   "cell_type": "code",
   "execution_count": 26,
   "metadata": {},
   "outputs": [
    {
     "name": "stdout",
     "output_type": "stream",
     "text": [
      "1142.5\n"
     ]
    }
   ],
   "source": [
    "for i in sat_act_by_college['SAT Total 25th-75th Percentile']:\n",
    "    if len(i) > 4:\n",
    "        print(i)"
   ]
  },
  {
   "cell_type": "code",
   "execution_count": 27,
   "metadata": {},
   "outputs": [],
   "source": [
    "sat_act_by_college['SAT Total 25th-75th Percentile'] = sat_act_by_college['SAT Total 25th-75th Percentile'].astype(float)\n",
    "sat_act_by_college['SAT Total 25th-75th Percentile'] = sat_act_by_college['SAT Total 25th-75th Percentile'].round()\n",
    "sat_act_by_college['SAT Total 25th-75th Percentile'] = sat_act_by_college['SAT Total 25th-75th Percentile'].astype(int)"
   ]
  },
  {
   "cell_type": "code",
   "execution_count": 28,
   "metadata": {},
   "outputs": [
    {
     "data": {
      "text/plain": [
       "array([1440, 1460, 1450, 1530, 1500, 1490, 1390, 1330, 1380, 1360, 1470,\n",
       "       1400, 1410, 1340, 1270, 1290, 1350, 1300, 1370, 1283, 1320, 1310,\n",
       "       1348, 1180, 1280, 1250, 1260, 1220, 1240, 1333, 1210, 1110, 1255,\n",
       "       1200, 1040, 1030, 1100,  890, 1325, 1150, 1160, 1080, 1230, 1190,\n",
       "       1140, 1020,  990, 1090, 1050, 1130, 1203,  950, 1070, 1170,  910,\n",
       "       1060, 1120, 1142, 1045, 1248, 1010, 1078,  940, 1000,  980, 1153,\n",
       "       1012, 1108,  970, 1038,  960, 1143, 1008, 1245, 1275,  793,  820])"
      ]
     },
     "execution_count": 28,
     "metadata": {},
     "output_type": "execute_result"
    }
   ],
   "source": [
    "sat_act_by_college['SAT Total 25th-75th Percentile'].unique()"
   ]
  },
  {
   "cell_type": "code",
   "execution_count": 29,
   "metadata": {},
   "outputs": [],
   "source": [
    "sat_act_by_college['ACT Total 25th-75th Percentile'] = sat_act_by_college['ACT Total 25th-75th Percentile'].map(lambda x: str(x)[:-3])"
   ]
  },
  {
   "cell_type": "code",
   "execution_count": 30,
   "metadata": {},
   "outputs": [
    {
     "name": "stdout",
     "output_type": "stream",
     "text": [
      "24-2\n",
      "19.3-2\n"
     ]
    }
   ],
   "source": [
    "for i in sat_act_by_college['ACT Total 25th-75th Percentile']:\n",
    "    if len(i) > 2:\n",
    "        print(i)"
   ]
  },
  {
   "cell_type": "code",
   "execution_count": 31,
   "metadata": {},
   "outputs": [],
   "source": [
    "sat_act_by_college['ACT Total 25th-75th Percentile'] = sat_act_by_college['ACT Total 25th-75th Percentile'].map(lambda x: str(x)[0:2])\n",
    "sat_act_by_college['ACT Total 25th-75th Percentile'] = sat_act_by_college['ACT Total 25th-75th Percentile'].astype(int)"
   ]
  },
  {
   "cell_type": "code",
   "execution_count": 32,
   "metadata": {},
   "outputs": [
    {
     "data": {
      "text/plain": [
       "array([32, 33, 35, 34, 31, 29, 27, 30, 28, 26, 25, 22, 19, 15, 20, 24, 23,\n",
       "       21, 16, 17, 18])"
      ]
     },
     "execution_count": 32,
     "metadata": {},
     "output_type": "execute_result"
    }
   ],
   "source": [
    "sat_act_by_college['ACT Total 25th-75th Percentile'].unique()"
   ]
  },
  {
   "cell_type": "code",
   "execution_count": 33,
   "metadata": {},
   "outputs": [
    {
     "data": {
      "text/html": [
       "<div>\n",
       "<style scoped>\n",
       "    .dataframe tbody tr th:only-of-type {\n",
       "        vertical-align: middle;\n",
       "    }\n",
       "\n",
       "    .dataframe tbody tr th {\n",
       "        vertical-align: top;\n",
       "    }\n",
       "\n",
       "    .dataframe thead th {\n",
       "        text-align: right;\n",
       "    }\n",
       "</style>\n",
       "<table border=\"1\" class=\"dataframe\">\n",
       "  <thead>\n",
       "    <tr style=\"text-align: right;\">\n",
       "      <th></th>\n",
       "      <th>School</th>\n",
       "      <th>Test Optional?</th>\n",
       "      <th>Applies to Class Year(s)</th>\n",
       "      <th>Policy Details</th>\n",
       "      <th>Number of Applicants</th>\n",
       "      <th>Accept Rate</th>\n",
       "      <th>SAT Total 25th-75th Percentile</th>\n",
       "      <th>ACT Total 25th-75th Percentile</th>\n",
       "    </tr>\n",
       "  </thead>\n",
       "  <tbody>\n",
       "    <tr>\n",
       "      <th>0</th>\n",
       "      <td>Stanford University</td>\n",
       "      <td>Yes</td>\n",
       "      <td>2021</td>\n",
       "      <td>Stanford has adopted a one-year test optional ...</td>\n",
       "      <td>47452</td>\n",
       "      <td>4.3%</td>\n",
       "      <td>1440</td>\n",
       "      <td>32</td>\n",
       "    </tr>\n",
       "    <tr>\n",
       "      <th>1</th>\n",
       "      <td>Harvard College</td>\n",
       "      <td>Yes</td>\n",
       "      <td>2021</td>\n",
       "      <td>Harvard has adopted a one-year test optional p...</td>\n",
       "      <td>42749</td>\n",
       "      <td>4.7%</td>\n",
       "      <td>1460</td>\n",
       "      <td>33</td>\n",
       "    </tr>\n",
       "    <tr>\n",
       "      <th>2</th>\n",
       "      <td>Princeton University</td>\n",
       "      <td>Yes</td>\n",
       "      <td>2021</td>\n",
       "      <td>Princeton has adopted a one-year test optional...</td>\n",
       "      <td>35370</td>\n",
       "      <td>5.5%</td>\n",
       "      <td>1440</td>\n",
       "      <td>32</td>\n",
       "    </tr>\n",
       "    <tr>\n",
       "      <th>3</th>\n",
       "      <td>Columbia University</td>\n",
       "      <td>Yes</td>\n",
       "      <td>2021</td>\n",
       "      <td>Columbia has adopted a one-year test optional ...</td>\n",
       "      <td>40203</td>\n",
       "      <td>5.5%</td>\n",
       "      <td>1450</td>\n",
       "      <td>33</td>\n",
       "    </tr>\n",
       "    <tr>\n",
       "      <th>4</th>\n",
       "      <td>Yale University</td>\n",
       "      <td>Yes</td>\n",
       "      <td>2021</td>\n",
       "      <td>Yale has adopted a one-year test optional poli...</td>\n",
       "      <td>36844</td>\n",
       "      <td>6.1%</td>\n",
       "      <td>1460</td>\n",
       "      <td>33</td>\n",
       "    </tr>\n",
       "  </tbody>\n",
       "</table>\n",
       "</div>"
      ],
      "text/plain": [
       "                 School Test Optional? Applies to Class Year(s)  \\\n",
       "0   Stanford University            Yes                     2021   \n",
       "1       Harvard College            Yes                     2021   \n",
       "2  Princeton University            Yes                     2021   \n",
       "3   Columbia University            Yes                     2021   \n",
       "4       Yale University            Yes                     2021   \n",
       "\n",
       "                                      Policy Details  Number of Applicants  \\\n",
       "0  Stanford has adopted a one-year test optional ...                 47452   \n",
       "1  Harvard has adopted a one-year test optional p...                 42749   \n",
       "2  Princeton has adopted a one-year test optional...                 35370   \n",
       "3  Columbia has adopted a one-year test optional ...                 40203   \n",
       "4  Yale has adopted a one-year test optional poli...                 36844   \n",
       "\n",
       "  Accept Rate  SAT Total 25th-75th Percentile  ACT Total 25th-75th Percentile  \n",
       "0        4.3%                            1440                              32  \n",
       "1        4.7%                            1460                              33  \n",
       "2        5.5%                            1440                              32  \n",
       "3        5.5%                            1450                              33  \n",
       "4        6.1%                            1460                              33  "
      ]
     },
     "execution_count": 33,
     "metadata": {},
     "output_type": "execute_result"
    }
   ],
   "source": [
    "sat_act_by_college.head()"
   ]
  },
  {
   "cell_type": "code",
   "execution_count": 34,
   "metadata": {},
   "outputs": [
    {
     "data": {
      "text/html": [
       "<div>\n",
       "<style scoped>\n",
       "    .dataframe tbody tr th:only-of-type {\n",
       "        vertical-align: middle;\n",
       "    }\n",
       "\n",
       "    .dataframe tbody tr th {\n",
       "        vertical-align: top;\n",
       "    }\n",
       "\n",
       "    .dataframe thead th {\n",
       "        text-align: right;\n",
       "    }\n",
       "</style>\n",
       "<table border=\"1\" class=\"dataframe\">\n",
       "  <thead>\n",
       "    <tr style=\"text-align: right;\">\n",
       "      <th></th>\n",
       "      <th>college</th>\n",
       "      <th>test_required?</th>\n",
       "      <th>class_year(s)</th>\n",
       "      <th>policy_details</th>\n",
       "      <th>num_of_applicants</th>\n",
       "      <th>accept_rate</th>\n",
       "      <th>sat_25th_pclt</th>\n",
       "      <th>act_25th_pclt</th>\n",
       "    </tr>\n",
       "  </thead>\n",
       "  <tbody>\n",
       "    <tr>\n",
       "      <th>0</th>\n",
       "      <td>Stanford University</td>\n",
       "      <td>Yes</td>\n",
       "      <td>2021</td>\n",
       "      <td>Stanford has adopted a one-year test optional ...</td>\n",
       "      <td>47452</td>\n",
       "      <td>4.3%</td>\n",
       "      <td>1440</td>\n",
       "      <td>32</td>\n",
       "    </tr>\n",
       "    <tr>\n",
       "      <th>1</th>\n",
       "      <td>Harvard College</td>\n",
       "      <td>Yes</td>\n",
       "      <td>2021</td>\n",
       "      <td>Harvard has adopted a one-year test optional p...</td>\n",
       "      <td>42749</td>\n",
       "      <td>4.7%</td>\n",
       "      <td>1460</td>\n",
       "      <td>33</td>\n",
       "    </tr>\n",
       "    <tr>\n",
       "      <th>2</th>\n",
       "      <td>Princeton University</td>\n",
       "      <td>Yes</td>\n",
       "      <td>2021</td>\n",
       "      <td>Princeton has adopted a one-year test optional...</td>\n",
       "      <td>35370</td>\n",
       "      <td>5.5%</td>\n",
       "      <td>1440</td>\n",
       "      <td>32</td>\n",
       "    </tr>\n",
       "    <tr>\n",
       "      <th>3</th>\n",
       "      <td>Columbia University</td>\n",
       "      <td>Yes</td>\n",
       "      <td>2021</td>\n",
       "      <td>Columbia has adopted a one-year test optional ...</td>\n",
       "      <td>40203</td>\n",
       "      <td>5.5%</td>\n",
       "      <td>1450</td>\n",
       "      <td>33</td>\n",
       "    </tr>\n",
       "    <tr>\n",
       "      <th>4</th>\n",
       "      <td>Yale University</td>\n",
       "      <td>Yes</td>\n",
       "      <td>2021</td>\n",
       "      <td>Yale has adopted a one-year test optional poli...</td>\n",
       "      <td>36844</td>\n",
       "      <td>6.1%</td>\n",
       "      <td>1460</td>\n",
       "      <td>33</td>\n",
       "    </tr>\n",
       "  </tbody>\n",
       "</table>\n",
       "</div>"
      ],
      "text/plain": [
       "                college test_required? class_year(s)  \\\n",
       "0   Stanford University            Yes          2021   \n",
       "1       Harvard College            Yes          2021   \n",
       "2  Princeton University            Yes          2021   \n",
       "3   Columbia University            Yes          2021   \n",
       "4       Yale University            Yes          2021   \n",
       "\n",
       "                                      policy_details  num_of_applicants  \\\n",
       "0  Stanford has adopted a one-year test optional ...              47452   \n",
       "1  Harvard has adopted a one-year test optional p...              42749   \n",
       "2  Princeton has adopted a one-year test optional...              35370   \n",
       "3  Columbia has adopted a one-year test optional ...              40203   \n",
       "4  Yale has adopted a one-year test optional poli...              36844   \n",
       "\n",
       "  accept_rate  sat_25th_pclt  act_25th_pclt  \n",
       "0        4.3%           1440             32  \n",
       "1        4.7%           1460             33  \n",
       "2        5.5%           1440             32  \n",
       "3        5.5%           1450             33  \n",
       "4        6.1%           1460             33  "
      ]
     },
     "execution_count": 34,
     "metadata": {},
     "output_type": "execute_result"
    }
   ],
   "source": [
    "sat_act_by_college.rename(columns={'School': 'college',\n",
    "                                   'Test Optional?': 'test_required?',\n",
    "                                   'Applies to Class Year(s)': 'class_year(s)',\n",
    "                                   'Policy Details': 'policy_details',\n",
    "                                   'Number of Applicants':'num_of_applicants',\n",
    "                                   'Accept Rate':'accept_rate',\n",
    "                                   'SAT Total 25th-75th Percentile':'sat_25th_pclt',\n",
    "                                   'ACT Total 25th-75th Percentile':'act_25th_pclt'},inplace=True)\n",
    "sat_act_by_college.head()"
   ]
  },
  {
   "cell_type": "markdown",
   "metadata": {},
   "source": [
    "#### 3.1.4 'sat_act_score_convertor' Dataset"
   ]
  },
  {
   "cell_type": "code",
   "execution_count": 35,
   "metadata": {},
   "outputs": [
    {
     "data": {
      "text/html": [
       "<div>\n",
       "<style scoped>\n",
       "    .dataframe tbody tr th:only-of-type {\n",
       "        vertical-align: middle;\n",
       "    }\n",
       "\n",
       "    .dataframe tbody tr th {\n",
       "        vertical-align: top;\n",
       "    }\n",
       "\n",
       "    .dataframe thead th {\n",
       "        text-align: right;\n",
       "    }\n",
       "</style>\n",
       "<table border=\"1\" class=\"dataframe\">\n",
       "  <thead>\n",
       "    <tr style=\"text-align: right;\">\n",
       "      <th></th>\n",
       "      <th>SAT_Score</th>\n",
       "      <th>ACT_Score</th>\n",
       "    </tr>\n",
       "  </thead>\n",
       "  <tbody>\n",
       "    <tr>\n",
       "      <th>0</th>\n",
       "      <td>1560</td>\n",
       "      <td>36</td>\n",
       "    </tr>\n",
       "    <tr>\n",
       "      <th>1</th>\n",
       "      <td>1540</td>\n",
       "      <td>35</td>\n",
       "    </tr>\n",
       "    <tr>\n",
       "      <th>2</th>\n",
       "      <td>1500</td>\n",
       "      <td>34</td>\n",
       "    </tr>\n",
       "    <tr>\n",
       "      <th>3</th>\n",
       "      <td>1460</td>\n",
       "      <td>33</td>\n",
       "    </tr>\n",
       "    <tr>\n",
       "      <th>4</th>\n",
       "      <td>1430</td>\n",
       "      <td>32</td>\n",
       "    </tr>\n",
       "  </tbody>\n",
       "</table>\n",
       "</div>"
      ],
      "text/plain": [
       "   SAT_Score  ACT_Score\n",
       "0       1560         36\n",
       "1       1540         35\n",
       "2       1500         34\n",
       "3       1460         33\n",
       "4       1430         32"
      ]
     },
     "execution_count": 35,
     "metadata": {},
     "output_type": "execute_result"
    }
   ],
   "source": [
    "sat_act_score_convertor.head()"
   ]
  },
  {
   "cell_type": "code",
   "execution_count": 36,
   "metadata": {},
   "outputs": [
    {
     "name": "stdout",
     "output_type": "stream",
     "text": [
      "<class 'pandas.core.frame.DataFrame'>\n",
      "RangeIndex: 28 entries, 0 to 27\n",
      "Data columns (total 2 columns):\n",
      " #   Column     Non-Null Count  Dtype\n",
      "---  ------     --------------  -----\n",
      " 0   SAT_Score  28 non-null     int64\n",
      " 1   ACT_Score  28 non-null     int64\n",
      "dtypes: int64(2)\n",
      "memory usage: 576.0 bytes\n"
     ]
    }
   ],
   "source": [
    "sat_act_score_convertor.info()"
   ]
  },
  {
   "cell_type": "code",
   "execution_count": 37,
   "metadata": {},
   "outputs": [
    {
     "data": {
      "text/html": [
       "<div>\n",
       "<style scoped>\n",
       "    .dataframe tbody tr th:only-of-type {\n",
       "        vertical-align: middle;\n",
       "    }\n",
       "\n",
       "    .dataframe tbody tr th {\n",
       "        vertical-align: top;\n",
       "    }\n",
       "\n",
       "    .dataframe thead th {\n",
       "        text-align: right;\n",
       "    }\n",
       "</style>\n",
       "<table border=\"1\" class=\"dataframe\">\n",
       "  <thead>\n",
       "    <tr style=\"text-align: right;\">\n",
       "      <th></th>\n",
       "      <th>sat_score</th>\n",
       "      <th>act_score</th>\n",
       "    </tr>\n",
       "  </thead>\n",
       "  <tbody>\n",
       "    <tr>\n",
       "      <th>0</th>\n",
       "      <td>1560</td>\n",
       "      <td>36</td>\n",
       "    </tr>\n",
       "    <tr>\n",
       "      <th>1</th>\n",
       "      <td>1540</td>\n",
       "      <td>35</td>\n",
       "    </tr>\n",
       "    <tr>\n",
       "      <th>2</th>\n",
       "      <td>1500</td>\n",
       "      <td>34</td>\n",
       "    </tr>\n",
       "    <tr>\n",
       "      <th>3</th>\n",
       "      <td>1460</td>\n",
       "      <td>33</td>\n",
       "    </tr>\n",
       "    <tr>\n",
       "      <th>4</th>\n",
       "      <td>1430</td>\n",
       "      <td>32</td>\n",
       "    </tr>\n",
       "  </tbody>\n",
       "</table>\n",
       "</div>"
      ],
      "text/plain": [
       "   sat_score  act_score\n",
       "0       1560         36\n",
       "1       1540         35\n",
       "2       1500         34\n",
       "3       1460         33\n",
       "4       1430         32"
      ]
     },
     "execution_count": 37,
     "metadata": {},
     "output_type": "execute_result"
    }
   ],
   "source": [
    "sat_act_score_convertor.rename(columns={'SAT_Score': 'sat_score', 'ACT_Score': 'act_score'}, inplace=True)\n",
    "sat_act_score_convertor.head()"
   ]
  },
  {
   "cell_type": "markdown",
   "metadata": {},
   "source": [
    "#### 3.2 Combining Dataset"
   ]
  },
  {
   "cell_type": "markdown",
   "metadata": {},
   "source": [
    "We shall proceed to:\n",
    "\n",
    "1. Merge the 'act_2019' and 'sat_2019' datasets together\n",
    "2. Calculate the projected SAT score for each state for the merged dataset based on the 'sat_act_score_convertor' dataset (The approach is to use ACT score in the 'sat_act_score_convertor' dataset to project SAT score for the merged dataset as ACT score allows us to use matching values)\n",
    "3. Calculate the projected SAT score for each state for the 'sat_act_by_college' dataset based on the sat_act_score_convertor "
   ]
  },
  {
   "cell_type": "code",
   "execution_count": 38,
   "metadata": {},
   "outputs": [
    {
     "data": {
      "text/html": [
       "<div>\n",
       "<style scoped>\n",
       "    .dataframe tbody tr th:only-of-type {\n",
       "        vertical-align: middle;\n",
       "    }\n",
       "\n",
       "    .dataframe tbody tr th {\n",
       "        vertical-align: top;\n",
       "    }\n",
       "\n",
       "    .dataframe thead th {\n",
       "        text-align: right;\n",
       "    }\n",
       "</style>\n",
       "<table border=\"1\" class=\"dataframe\">\n",
       "  <thead>\n",
       "    <tr style=\"text-align: right;\">\n",
       "      <th></th>\n",
       "      <th>state</th>\n",
       "      <th>act_participation_%</th>\n",
       "      <th>act_composite</th>\n",
       "      <th>sat_participation_%</th>\n",
       "      <th>sat_ebrw</th>\n",
       "      <th>sat_math</th>\n",
       "      <th>sat_total</th>\n",
       "    </tr>\n",
       "  </thead>\n",
       "  <tbody>\n",
       "    <tr>\n",
       "      <th>0</th>\n",
       "      <td>Alabama</td>\n",
       "      <td>100</td>\n",
       "      <td>19</td>\n",
       "      <td>7</td>\n",
       "      <td>583</td>\n",
       "      <td>560</td>\n",
       "      <td>1143</td>\n",
       "    </tr>\n",
       "    <tr>\n",
       "      <th>1</th>\n",
       "      <td>Alaska</td>\n",
       "      <td>38</td>\n",
       "      <td>20</td>\n",
       "      <td>41</td>\n",
       "      <td>556</td>\n",
       "      <td>541</td>\n",
       "      <td>1097</td>\n",
       "    </tr>\n",
       "    <tr>\n",
       "      <th>2</th>\n",
       "      <td>Arizona</td>\n",
       "      <td>73</td>\n",
       "      <td>19</td>\n",
       "      <td>31</td>\n",
       "      <td>569</td>\n",
       "      <td>565</td>\n",
       "      <td>1134</td>\n",
       "    </tr>\n",
       "    <tr>\n",
       "      <th>3</th>\n",
       "      <td>Arkansas</td>\n",
       "      <td>100</td>\n",
       "      <td>19</td>\n",
       "      <td>6</td>\n",
       "      <td>582</td>\n",
       "      <td>559</td>\n",
       "      <td>1141</td>\n",
       "    </tr>\n",
       "    <tr>\n",
       "      <th>4</th>\n",
       "      <td>California</td>\n",
       "      <td>23</td>\n",
       "      <td>23</td>\n",
       "      <td>63</td>\n",
       "      <td>534</td>\n",
       "      <td>531</td>\n",
       "      <td>1065</td>\n",
       "    </tr>\n",
       "  </tbody>\n",
       "</table>\n",
       "</div>"
      ],
      "text/plain": [
       "        state  act_participation_%  act_composite  sat_participation_%  \\\n",
       "0     Alabama                  100             19                    7   \n",
       "1      Alaska                   38             20                   41   \n",
       "2     Arizona                   73             19                   31   \n",
       "3    Arkansas                  100             19                    6   \n",
       "4  California                   23             23                   63   \n",
       "\n",
       "   sat_ebrw  sat_math  sat_total  \n",
       "0       583       560       1143  \n",
       "1       556       541       1097  \n",
       "2       569       565       1134  \n",
       "3       582       559       1141  \n",
       "4       534       531       1065  "
      ]
     },
     "execution_count": 38,
     "metadata": {},
     "output_type": "execute_result"
    }
   ],
   "source": [
    "act_sat_2019 = act_2019.merge(sat_2019, how='inner', on='state')\n",
    "act_sat_2019.head()"
   ]
  },
  {
   "cell_type": "code",
   "execution_count": 39,
   "metadata": {},
   "outputs": [
    {
     "name": "stdout",
     "output_type": "stream",
     "text": [
      "{36: 1560, 35: 1540, 34: 1500, 33: 1460, 32: 1430, 31: 1400, 30: 1370, 29: 1340, 28: 1310, 27: 1280, 26: 1240, 25: 1210, 24: 1180, 23: 1140, 22: 1110, 21: 1080, 20: 1040, 19: 1010, 18: 970, 17: 930, 16: 890, 15: 850, 14: 800, 13: 760, 12: 710, 11: 670, 10: 630, 9: 590}\n"
     ]
    }
   ],
   "source": [
    "# Convert the sat_act_score_convertor into a dict\n",
    "sat_act_score_dict = sat_act_score_convertor.set_index('act_score').T.to_dict('records')\n",
    "for i in sat_act_score_dict:\n",
    "    sat_act_score_dict = i\n",
    "print(sat_act_score_dict)"
   ]
  },
  {
   "cell_type": "code",
   "execution_count": 40,
   "metadata": {},
   "outputs": [
    {
     "name": "stdout",
     "output_type": "stream",
     "text": [
      "[1010, 1040, 1010, 1010, 1140, 1180, 1240, 1180, 1180, 1040, 1080, 1010, 1110, 1180, 1110, 1110, 1080, 1040, 1010, 1180, 1110, 1240, 1180, 1080, 970, 1080, 1040, 1040, 970, 1210, 1180, 1010, 1180, 1010, 1040, 1040, 1010, 1080, 1180, 1210, 1010, 1110, 1010, 1040, 1040, 1180, 1180, 1110, 1080, 1040, 1040, 1080]\n"
     ]
    }
   ],
   "source": [
    "proj_sat_score_state = []\n",
    "for i in act_sat_2019['act_composite']:\n",
    "    for j, k in sat_act_score_dict.items():\n",
    "        if i == j: \n",
    "            proj_sat_score_state.append(k)\n",
    "print(proj_sat_score_state)"
   ]
  },
  {
   "cell_type": "code",
   "execution_count": 41,
   "metadata": {},
   "outputs": [
    {
     "data": {
      "text/html": [
       "<div>\n",
       "<style scoped>\n",
       "    .dataframe tbody tr th:only-of-type {\n",
       "        vertical-align: middle;\n",
       "    }\n",
       "\n",
       "    .dataframe tbody tr th {\n",
       "        vertical-align: top;\n",
       "    }\n",
       "\n",
       "    .dataframe thead th {\n",
       "        text-align: right;\n",
       "    }\n",
       "</style>\n",
       "<table border=\"1\" class=\"dataframe\">\n",
       "  <thead>\n",
       "    <tr style=\"text-align: right;\">\n",
       "      <th></th>\n",
       "      <th>state</th>\n",
       "      <th>act_participation_%</th>\n",
       "      <th>act_composite</th>\n",
       "      <th>sat_participation_%</th>\n",
       "      <th>sat_ebrw</th>\n",
       "      <th>sat_math</th>\n",
       "      <th>sat_total</th>\n",
       "      <th>proj_sat_score_state</th>\n",
       "    </tr>\n",
       "  </thead>\n",
       "  <tbody>\n",
       "    <tr>\n",
       "      <th>0</th>\n",
       "      <td>Alabama</td>\n",
       "      <td>100</td>\n",
       "      <td>19</td>\n",
       "      <td>7</td>\n",
       "      <td>583</td>\n",
       "      <td>560</td>\n",
       "      <td>1143</td>\n",
       "      <td>1010</td>\n",
       "    </tr>\n",
       "    <tr>\n",
       "      <th>1</th>\n",
       "      <td>Alaska</td>\n",
       "      <td>38</td>\n",
       "      <td>20</td>\n",
       "      <td>41</td>\n",
       "      <td>556</td>\n",
       "      <td>541</td>\n",
       "      <td>1097</td>\n",
       "      <td>1040</td>\n",
       "    </tr>\n",
       "    <tr>\n",
       "      <th>2</th>\n",
       "      <td>Arizona</td>\n",
       "      <td>73</td>\n",
       "      <td>19</td>\n",
       "      <td>31</td>\n",
       "      <td>569</td>\n",
       "      <td>565</td>\n",
       "      <td>1134</td>\n",
       "      <td>1010</td>\n",
       "    </tr>\n",
       "    <tr>\n",
       "      <th>3</th>\n",
       "      <td>Arkansas</td>\n",
       "      <td>100</td>\n",
       "      <td>19</td>\n",
       "      <td>6</td>\n",
       "      <td>582</td>\n",
       "      <td>559</td>\n",
       "      <td>1141</td>\n",
       "      <td>1010</td>\n",
       "    </tr>\n",
       "    <tr>\n",
       "      <th>4</th>\n",
       "      <td>California</td>\n",
       "      <td>23</td>\n",
       "      <td>23</td>\n",
       "      <td>63</td>\n",
       "      <td>534</td>\n",
       "      <td>531</td>\n",
       "      <td>1065</td>\n",
       "      <td>1140</td>\n",
       "    </tr>\n",
       "  </tbody>\n",
       "</table>\n",
       "</div>"
      ],
      "text/plain": [
       "        state  act_participation_%  act_composite  sat_participation_%  \\\n",
       "0     Alabama                  100             19                    7   \n",
       "1      Alaska                   38             20                   41   \n",
       "2     Arizona                   73             19                   31   \n",
       "3    Arkansas                  100             19                    6   \n",
       "4  California                   23             23                   63   \n",
       "\n",
       "   sat_ebrw  sat_math  sat_total  proj_sat_score_state  \n",
       "0       583       560       1143                  1010  \n",
       "1       556       541       1097                  1040  \n",
       "2       569       565       1134                  1010  \n",
       "3       582       559       1141                  1010  \n",
       "4       534       531       1065                  1140  "
      ]
     },
     "execution_count": 41,
     "metadata": {},
     "output_type": "execute_result"
    }
   ],
   "source": [
    "act_sat_2019['proj_sat_score_state'] = proj_sat_score_state\n",
    "act_sat_2019.head()"
   ]
  },
  {
   "cell_type": "code",
   "execution_count": 42,
   "metadata": {},
   "outputs": [
    {
     "name": "stdout",
     "output_type": "stream",
     "text": [
      "[1430, 1460, 1430, 1460, 1460, 1540, 1500, 1460, 1460, 1430, 1460, 1430, 1400, 1460, 1400, 1460, 1460, 1400, 1460, 1430, 1460, 1400, 1400, 1340, 1280, 1400, 1370, 1430, 1400, 1370, 1340, 1460, 1400, 1310, 1430, 1430, 1430, 1460, 1430, 1400, 1370, 1430, 1400, 1430, 1430, 1370, 1400, 1400, 1340, 1400, 1400, 1370, 1400, 1280, 1400, 1400, 1240, 1370, 1370, 1310, 1340, 1400, 1400, 1370, 1240, 1340, 1370, 1340, 1210, 1370, 1310, 1240, 1310, 1340, 1310, 1280, 1280, 1370, 1340, 1340, 1370, 1340, 1340, 1310, 1110, 1340, 1310, 1310, 1280, 1240, 1010, 1340, 1310, 1370, 1370, 1280, 1110, 1240, 1280, 850, 1040, 1370, 1310, 1310, 1210, 1340, 1210, 1370, 1180, 1280, 1340, 1310, 1110, 1280, 1340, 1240, 1280, 1280, 1240, 1180, 1240, 1310, 1210, 1340, 1280, 1240, 1010, 1280, 1240, 1240, 1310, 1140, 1210, 1240, 1210, 1340, 1210, 1040, 1280, 1180, 1180, 1280, 1010, 1280, 1280, 1210, 1310, 1010, 1110, 1040, 1180, 1010, 1010, 1310, 1280, 1180, 1310, 1180, 1240, 1280, 1080, 1310, 1110, 1240, 1080, 1240, 1210, 1180, 1140, 1080, 890, 1180, 1080, 1240, 1080, 1280, 1110, 890, 1310, 1110, 1080, 1210, 1180, 1210, 1240, 1110, 1180, 1310, 1180, 1080, 1140, 1140, 1140, 1240, 1210, 1180, 1210, 1110, 1180, 1210, 1140, 1140, 1010, 1140, 1110, 1280, 1210, 1240, 1140, 1140, 1110, 1080, 1140, 1280, 1080, 1180, 1210, 1110, 1110, 1180, 1110, 1140, 1110, 1140, 1280, 1140, 1110, 1210, 1110, 1110, 1040, 1210, 1240, 930, 1240, 1180, 1180, 1040, 1110, 1180, 1210, 1210, 850, 1210, 1080, 1010, 1110, 1110, 1040, 1210, 1040, 1080, 1110, 1180, 1080, 1140, 1180, 1140, 1110, 1180, 1080, 1110, 1110, 930, 1210, 1140, 1280, 1240, 1040, 970, 1110, 1140, 1140, 1080, 1010, 1140, 1180, 1140, 1080, 1180, 1180, 1040, 1110, 1110, 1280, 1010, 1010, 1110, 1080, 1210, 1210, 1140, 1110, 930, 1040, 1210, 1040, 1240, 1010, 1140, 1110, 1180, 1110, 1080, 1140, 1140, 1040, 1140, 1400, 1110, 1110, 1110, 1210, 1210, 1180, 1240, 1010, 1180, 1040, 1040, 1010, 1210, 1240, 1110, 1140, 1210, 1010, 1080, 1110, 1110, 1040, 1010, 1140, 1010, 1080, 1110, 1180, 1110, 1040, 1080, 890, 1010, 1110, 1210, 930, 1180, 1110, 1080, 1180, 1210, 1110, 1210, 1080, 1080, 1110, 1110, 1240, 1010, 1110, 1040, 1080, 1140, 1110, 1180, 970, 1080, 1040, 1180, 1080, 930, 1080, 1110, 1040, 1080, 1140, 1140, 1040, 970, 1080, 1010, 1280, 1210, 1310, 1240, 1210, 1110, 1240, 1340, 1210, 1280, 1210, 850, 1140, 1040, 1140, 1180, 1140, 1040, 1240, 1210, 930, 1010, 1080, 1110, 930]\n"
     ]
    }
   ],
   "source": [
    "proj_sat_score_college = []\n",
    "for i in sat_act_by_college['act_25th_pclt']:\n",
    "    for j, k in sat_act_score_dict.items():\n",
    "        if i == j: proj_sat_score_college.append(k)\n",
    "print(proj_sat_score_college)"
   ]
  },
  {
   "cell_type": "code",
   "execution_count": 43,
   "metadata": {},
   "outputs": [
    {
     "data": {
      "text/html": [
       "<div>\n",
       "<style scoped>\n",
       "    .dataframe tbody tr th:only-of-type {\n",
       "        vertical-align: middle;\n",
       "    }\n",
       "\n",
       "    .dataframe tbody tr th {\n",
       "        vertical-align: top;\n",
       "    }\n",
       "\n",
       "    .dataframe thead th {\n",
       "        text-align: right;\n",
       "    }\n",
       "</style>\n",
       "<table border=\"1\" class=\"dataframe\">\n",
       "  <thead>\n",
       "    <tr style=\"text-align: right;\">\n",
       "      <th></th>\n",
       "      <th>college</th>\n",
       "      <th>test_required?</th>\n",
       "      <th>class_year(s)</th>\n",
       "      <th>policy_details</th>\n",
       "      <th>num_of_applicants</th>\n",
       "      <th>accept_rate</th>\n",
       "      <th>sat_25th_pclt</th>\n",
       "      <th>act_25th_pclt</th>\n",
       "      <th>proj_sat_score_college</th>\n",
       "    </tr>\n",
       "  </thead>\n",
       "  <tbody>\n",
       "    <tr>\n",
       "      <th>0</th>\n",
       "      <td>Stanford University</td>\n",
       "      <td>Yes</td>\n",
       "      <td>2021</td>\n",
       "      <td>Stanford has adopted a one-year test optional ...</td>\n",
       "      <td>47452</td>\n",
       "      <td>4.3%</td>\n",
       "      <td>1440</td>\n",
       "      <td>32</td>\n",
       "      <td>1430</td>\n",
       "    </tr>\n",
       "    <tr>\n",
       "      <th>1</th>\n",
       "      <td>Harvard College</td>\n",
       "      <td>Yes</td>\n",
       "      <td>2021</td>\n",
       "      <td>Harvard has adopted a one-year test optional p...</td>\n",
       "      <td>42749</td>\n",
       "      <td>4.7%</td>\n",
       "      <td>1460</td>\n",
       "      <td>33</td>\n",
       "      <td>1460</td>\n",
       "    </tr>\n",
       "    <tr>\n",
       "      <th>2</th>\n",
       "      <td>Princeton University</td>\n",
       "      <td>Yes</td>\n",
       "      <td>2021</td>\n",
       "      <td>Princeton has adopted a one-year test optional...</td>\n",
       "      <td>35370</td>\n",
       "      <td>5.5%</td>\n",
       "      <td>1440</td>\n",
       "      <td>32</td>\n",
       "      <td>1430</td>\n",
       "    </tr>\n",
       "    <tr>\n",
       "      <th>3</th>\n",
       "      <td>Columbia University</td>\n",
       "      <td>Yes</td>\n",
       "      <td>2021</td>\n",
       "      <td>Columbia has adopted a one-year test optional ...</td>\n",
       "      <td>40203</td>\n",
       "      <td>5.5%</td>\n",
       "      <td>1450</td>\n",
       "      <td>33</td>\n",
       "      <td>1460</td>\n",
       "    </tr>\n",
       "    <tr>\n",
       "      <th>4</th>\n",
       "      <td>Yale University</td>\n",
       "      <td>Yes</td>\n",
       "      <td>2021</td>\n",
       "      <td>Yale has adopted a one-year test optional poli...</td>\n",
       "      <td>36844</td>\n",
       "      <td>6.1%</td>\n",
       "      <td>1460</td>\n",
       "      <td>33</td>\n",
       "      <td>1460</td>\n",
       "    </tr>\n",
       "  </tbody>\n",
       "</table>\n",
       "</div>"
      ],
      "text/plain": [
       "                college test_required? class_year(s)  \\\n",
       "0   Stanford University            Yes          2021   \n",
       "1       Harvard College            Yes          2021   \n",
       "2  Princeton University            Yes          2021   \n",
       "3   Columbia University            Yes          2021   \n",
       "4       Yale University            Yes          2021   \n",
       "\n",
       "                                      policy_details  num_of_applicants  \\\n",
       "0  Stanford has adopted a one-year test optional ...              47452   \n",
       "1  Harvard has adopted a one-year test optional p...              42749   \n",
       "2  Princeton has adopted a one-year test optional...              35370   \n",
       "3  Columbia has adopted a one-year test optional ...              40203   \n",
       "4  Yale has adopted a one-year test optional poli...              36844   \n",
       "\n",
       "  accept_rate  sat_25th_pclt  act_25th_pclt  proj_sat_score_college  \n",
       "0        4.3%           1440             32                    1430  \n",
       "1        4.7%           1460             33                    1460  \n",
       "2        5.5%           1440             32                    1430  \n",
       "3        5.5%           1450             33                    1460  \n",
       "4        6.1%           1460             33                    1460  "
      ]
     },
     "execution_count": 43,
     "metadata": {},
     "output_type": "execute_result"
    }
   ],
   "source": [
    "sat_act_by_college['proj_sat_score_college'] = proj_sat_score_college\n",
    "sat_act_by_college.head()"
   ]
  },
  {
   "cell_type": "code",
   "execution_count": 48,
   "metadata": {},
   "outputs": [
    {
     "name": "stdout",
     "output_type": "stream",
     "text": [
      "[[1.         0.96064067]\n",
      " [0.96064067 1.        ]]\n"
     ]
    }
   ],
   "source": [
    "my_rho = np.corrcoef(sat_act_by_college['sat_25th_pclt'], sat_act_by_college['proj_sat_score_college'])\n",
    "print(my_rho)"
   ]
  },
  {
   "cell_type": "code",
   "execution_count": 50,
   "metadata": {},
   "outputs": [
    {
     "name": "stdout",
     "output_type": "stream",
     "text": [
      "[[ 1.         -0.41762673]\n",
      " [-0.41762673  1.        ]]\n"
     ]
    }
   ],
   "source": [
    "my_rho = np.corrcoef(act_sat_2019['sat_total'], act_sat_2019['proj_sat_score_state'])\n",
    "print(my_rho)"
   ]
  },
  {
   "cell_type": "markdown",
   "metadata": {},
   "source": [
    "--- \n",
    "# Part 2\n",
    "\n",
    "Part 2 requires knowledge of Pandas, EDA, data cleaning, and data visualization.\n",
    "\n",
    "---"
   ]
  },
  {
   "cell_type": "markdown",
   "metadata": {},
   "source": [
    "*All libraries used should be added here*"
   ]
  },
  {
   "cell_type": "code",
   "execution_count": 1,
   "metadata": {},
   "outputs": [],
   "source": []
  },
  {
   "cell_type": "code",
   "execution_count": null,
   "metadata": {},
   "outputs": [],
   "source": []
  },
  {
   "cell_type": "markdown",
   "metadata": {},
   "source": [
    "### Data Dictionary\n",
    "\n",
    "Now that we've fixed our data, and given it appropriate names, let's create a [data dictionary](http://library.ucmerced.edu/node/10249). \n",
    "\n",
    "A data dictionary provides a quick overview of features/variables/columns, alongside data types and descriptions. The more descriptive you can be, the more useful this document is.\n",
    "\n",
    "Example of a Fictional Data Dictionary Entry: \n",
    "\n",
    "|Feature|Type|Dataset|Description|\n",
    "|---|---|---|---|\n",
    "|**county_pop**|*integer*|2010 census|The population of the county (units in thousands, where 2.5 represents 2500 people).| \n",
    "|**per_poverty**|*float*|2010 census|The percent of the county over the age of 18 living below the 200% of official US poverty rate (units percent to two decimal places 98.10 means 98.1%)|\n",
    "\n",
    "[Here's a quick link to a short guide for formatting markdown in Jupyter notebooks](https://jupyter-notebook.readthedocs.io/en/stable/examples/Notebook/Working%20With%20Markdown%20Cells.html).\n",
    "\n",
    "Provided is the skeleton for formatting a markdown table, with columns headers that will help you create a data dictionary to quickly summarize your data, as well as some examples. **This would be a great thing to copy and paste into your custom README for this project.**\n",
    "\n",
    "*Note*: if you are unsure of what a feature is, check the source of the data! This can be found in the README."
   ]
  },
  {
   "cell_type": "markdown",
   "metadata": {},
   "source": [
    "**To-Do:** *Edit the table below to create your own data dictionary for the datasets you chose.*\n",
    "\n",
    "|Feature|Type|Dataset|Description|\n",
    "|---|---|---|---|\n",
    "|column name|int/float/object|ACT/SAT|This is an example| \n"
   ]
  },
  {
   "cell_type": "markdown",
   "metadata": {},
   "source": [
    "## Exploratory Data Analysis\n",
    "\n",
    "Complete the following steps to explore your data. You are welcome to do more EDA than the steps outlined here as you feel necessary:\n",
    "1. Summary Statistics.\n",
    "2. Use a **dictionary comprehension** to apply the standard deviation function you create in part 1 to each numeric column in the dataframe.  **No loops**.\n",
    "    - Assign the output to variable `sd` as a dictionary where: \n",
    "        - Each column name is now a key \n",
    "        - That standard deviation of the column is the value \n",
    "        - *Example Output :* `{'ACT_Math': 120, 'ACT_Reading': 120, ...}`\n",
    "3. Investigate trends in the data.\n",
    "    - Using sorting and/or masking (along with the `.head()` method to avoid printing our entire dataframe), consider questions relevant to your problem statement. Some examples are provided below (but feel free to change these questions for your specific problem):\n",
    "        - Which states have the highest and lowest participation rates for the 2017, 2019, or 2019 SAT and ACT?\n",
    "        - Which states have the highest and lowest mean total/composite scores for the 2017, 2019, or 2019 SAT and ACT?\n",
    "        - Do any states with 100% participation on a given test have a rate change year-to-year?\n",
    "        - Do any states show have >50% participation on *both* tests each year?\n",
    "        - Which colleges have the highest median SAT and ACT scores for admittance?\n",
    "        - Which California school districts have the highest and lowest mean test scores?\n",
    "    - **You should comment on your findings at each step in a markdown cell below your code block**. Make sure you include at least one example of sorting your dataframe by a column, and one example of using boolean filtering (i.e., masking) to select a subset of the dataframe."
   ]
  },
  {
   "cell_type": "code",
   "execution_count": null,
   "metadata": {},
   "outputs": [],
   "source": [
    "#Code:"
   ]
  },
  {
   "cell_type": "markdown",
   "metadata": {},
   "source": [
    "**To-Do:** *Edit this cell with your findings on trends in the data (step 3 above).*"
   ]
  },
  {
   "cell_type": "markdown",
   "metadata": {},
   "source": [
    "## Visualize the Data\n",
    "\n",
    "There's not a magic bullet recommendation for the right number of plots to understand a given dataset, but visualizing your data is *always* a good idea. Not only does it allow you to quickly convey your findings (even if you have a non-technical audience), it will often reveal trends in your data that escaped you when you were looking only at numbers. It is important to not only create visualizations, but to **interpret your visualizations** as well.\n",
    "\n",
    "**Every plot should**:\n",
    "- Have a title\n",
    "- Have axis labels\n",
    "- Have appropriate tick labels\n",
    "- Text is legible in a plot\n",
    "- Plots demonstrate meaningful and valid relationships\n",
    "- Have an interpretation to aid understanding\n",
    "\n",
    "Here is an example of what your plots should look like following the above guidelines. Note that while the content of this example is unrelated, the principles of visualization hold:\n",
    "\n",
    "![](https://snag.gy/hCBR1U.jpg)\n",
    "*Interpretation: The above image shows that as we increase our spending on advertising, our sales numbers also tend to increase. There is a positive correlation between advertising spending and sales.*\n",
    "\n",
    "---\n",
    "\n",
    "Here are some prompts to get you started with visualizations. Feel free to add additional visualizations as you see fit:\n",
    "1. Use Seaborn's heatmap with pandas `.corr()` to visualize correlations between all numeric features.\n",
    "    - Heatmaps are generally not appropriate for presentations, and should often be excluded from reports as they can be visually overwhelming. **However**, they can be extremely useful in identify relationships of potential interest (as well as identifying potential collinearity before modeling).\n",
    "    - Please take time to format your output, adding a title. Look through some of the additional arguments and options. (Axis labels aren't really necessary, as long as the title is informative).\n",
    "2. Visualize distributions using histograms. If you have a lot, consider writing a custom function and use subplots.\n",
    "    - *OPTIONAL*: Summarize the underlying distributions of your features (in words & statistics)\n",
    "         - Be thorough in your verbal description of these distributions.\n",
    "         - Be sure to back up these summaries with statistics.\n",
    "         - We generally assume that data we sample from a population will be normally distributed. Do we observe this trend? Explain your answers for each distribution and how you think this will affect estimates made from these data.\n",
    "3. Plot and interpret boxplots. \n",
    "    - Boxplots demonstrate central tendency and spread in variables. In a certain sense, these are somewhat redundant with histograms, but you may be better able to identify clear outliers or differences in IQR, etc.\n",
    "    - Multiple values can be plotted to a single boxplot as long as they are of the same relative scale (meaning they have similar min/max values).\n",
    "    - Each boxplot should:\n",
    "        - Only include variables of a similar scale\n",
    "        - Have clear labels for each variable\n",
    "        - Have appropriate titles and labels\n",
    "4. Plot and interpret scatter plots to view relationships between features. Feel free to write a custom function, and subplot if you'd like. Functions save both time and space.\n",
    "    - Your plots should have:\n",
    "        - Two clearly labeled axes\n",
    "        - A proper title\n",
    "        - Colors and symbols that are clear and unmistakable\n",
    "5. Additional plots of your choosing.\n",
    "    - Are there any additional trends or relationships you haven't explored? Was there something interesting you saw that you'd like to dive further into? It's likely that there are a few more plots you might want to generate to support your narrative and recommendations that you are building toward. **As always, make sure you're interpreting your plots as you go**."
   ]
  },
  {
   "cell_type": "code",
   "execution_count": null,
   "metadata": {},
   "outputs": [],
   "source": [
    "# Code"
   ]
  },
  {
   "cell_type": "markdown",
   "metadata": {},
   "source": [
    "## Conclusions and Recommendations"
   ]
  },
  {
   "cell_type": "markdown",
   "metadata": {},
   "source": [
    "Based on your exploration of the data, what are you key takeaways and recommendations? Make sure to answer your question of interest or address your problem statement here."
   ]
  },
  {
   "cell_type": "markdown",
   "metadata": {},
   "source": [
    "**To-Do:** *Edit this cell with your conclusions and recommendations.*"
   ]
  },
  {
   "cell_type": "markdown",
   "metadata": {},
   "source": [
    "Don't forget to create your README!\n",
    "\n",
    "**To-Do:** *If you combine your problem statement, data dictionary, brief summary of your analysis, and conclusions/recommendations, you have an amazing README.md file that quickly aligns your audience to the contents of your project.* Don't forget to cite your data sources!"
   ]
  }
 ],
 "metadata": {
  "anaconda-cloud": {},
  "kernelspec": {
   "display_name": "Python 3 (ipykernel)",
   "language": "python",
   "name": "python3"
  },
  "language_info": {
   "codemirror_mode": {
    "name": "ipython",
    "version": 3
   },
   "file_extension": ".py",
   "mimetype": "text/x-python",
   "name": "python",
   "nbconvert_exporter": "python",
   "pygments_lexer": "ipython3",
   "version": "3.8.13"
  }
 },
 "nbformat": 4,
 "nbformat_minor": 4
}
