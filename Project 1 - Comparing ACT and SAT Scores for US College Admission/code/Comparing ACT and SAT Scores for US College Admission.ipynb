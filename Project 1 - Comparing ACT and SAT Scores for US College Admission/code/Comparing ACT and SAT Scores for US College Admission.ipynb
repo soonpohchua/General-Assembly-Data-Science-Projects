{
 "cells": [
  {
   "cell_type": "markdown",
   "metadata": {},
   "source": [
    "<img src=\"http://imgur.com/1ZcRyrc.png\" style=\"float: left; margin: 20px; height: 55px\">\n",
    "\n",
    "## Project 1: Comparing ACT and SAT Scores for US College Admission"
   ]
  },
  {
   "cell_type": "markdown",
   "metadata": {
    "tags": []
   },
   "source": [
    "## 1. Problem Statement"
   ]
  },
  {
   "cell_type": "markdown",
   "metadata": {},
   "source": [
    "This project is meant to help high school students decide between taking ACT or SAT for their college admission.\n",
    "\n",
    "SAT and ACT are standardized tests that many colleges and universities in the United States require for their admission process. Since the advent of ACT, the SAT and ACT have been in [rivalry](https://www.bestcolleges.com/blog/history-of-act/). Despite their [differences](https://www.crimsoneducation.org/sg/blog/test-prep/sat-vs-act-whats-the-difference/), there have been online resources to convert SAT and ACT interchangably. For example, see [the princeton review](https://www.princetonreview.com/college-advice/act-to-sat-conversion), [crimson education](https://www.crimsoneducation.org/sg/blog/test-prep/sat-vs-act-whats-the-difference/) etc.\n",
    "\n",
    "This project shall aim to:\n",
    "1. examine the reliability of the SAT and ACT concordance table taken from the respective official board website by comparing it with the college admission scores and stats admission scores; \n",
    "2. advise students on which test to take in order to better their chance to enroll in their dream colleges;\n",
    "3. advise students on which test to fare better given the state they reside in; and\n",
    "4. provide further analysis using logistic regression on the findings from point 2 and point 3."
   ]
  },
  {
   "cell_type": "markdown",
   "metadata": {},
   "source": [
    "## 2. Background"
   ]
  },
  {
   "cell_type": "markdown",
   "metadata": {
    "tags": []
   },
   "source": [
    "## 3. Datasets"
   ]
  },
  {
   "cell_type": "markdown",
   "metadata": {
    "tags": []
   },
   "source": [
    "The project will make use of the following datasets for analysis:\n",
    "1. [`act_2019.csv`](./data/act_2019.csv): 2019 ACT Scores by State ([*source*](https://blog.prepscholar.com/act-scores-by-state-averages-highs-and-lows))\n",
    "2. [`sat_2019.csv`](./data/sat_2019.csv): 2019 SAT Scores by State ([*source*](https://blog.prepscholar.com/average-sat-scores-by-state-most-recent))\n",
    "3. [`sat_act_by_college.csv`](./data/sat_act_by_college.csv): Ranges of Accepted ACT & SAT Student Scores by Colleges ([*source*](https://www.compassprep.com/college-profiles/))\n",
    "4. [`sat_act_score_convertor.csv`](./data/sat_act_score_convertor.csv): ACT & SAT Student Scores Concordance Table from offical websites (sources: [ACT](https://www.act.org/content/act/en/products-and-services/the-act/scores/act-sat-concordance.html) & [SAT](https://satsuite.collegeboard.org/higher-ed-professionals/score-reports/score-comparisons/sat-act))"
   ]
  },
  {
   "cell_type": "markdown",
   "metadata": {
    "tags": []
   },
   "source": [
    "## 4. Library Imports and Functions Creation"
   ]
  },
  {
   "cell_type": "code",
   "execution_count": 1,
   "metadata": {},
   "outputs": [],
   "source": [
    "import numpy as np\n",
    "import pandas as pd\n",
    "import matplotlib.pyplot as plt\n",
    "import seaborn as sns\n",
    "import statsmodels.api as sm\n",
    "import warnings\n",
    "from scipy import stats\n",
    "from sklearn.linear_model import LogisticRegression\n",
    "from sklearn.model_selection import train_test_split, cross_val_score\n",
    "from warnings import simplefilter"
   ]
  },
  {
   "cell_type": "code",
   "execution_count": 2,
   "metadata": {},
   "outputs": [],
   "source": [
    "# function for normality + statistical significance check\n",
    "def cont_stat_sig_test(df,col):\n",
    "    # Step 1: normality test\n",
    "    stat, p_value = stats.normaltest(df[col].values)\n",
    "    \n",
    "    # Step 2: filter series    \n",
    "    neutral = df[df['recommendation']=='Neutral'][col].values\n",
    "    sat_preferred = df[df['recommendation']=='SAT Preferred'][col].values\n",
    "    act_preferred = df[df['recommendation']=='ACT Preferred'][col].values\n",
    "    \n",
    "    # Step 3: determining appropriate statistical significance test based on normality\n",
    "    if p_value>0.01:\n",
    "        distribution = 'normal distribution'\n",
    "        test = 'Anova test'\n",
    "        stat, p_value = stats.f_oneway(neutral, sat_preferred, act_preferred)\n",
    "    \n",
    "    else:\n",
    "        distribution = 'non-normal distribution'\n",
    "        test = 'KW test'\n",
    "        stat, p_value = stats.kruskal(neutral, sat_preferred, act_preferred)\n",
    "    \n",
    "    # Step 4: conclude on statistical significance\n",
    "    if p_value>0.05:\n",
    "        sig = 'not statistically significant'\n",
    "    else:\n",
    "        sig = 'statistically significant'\n",
    "\n",
    "    print(f'{col}: {distribution}, {test}, {sig}, {p_value}')"
   ]
  },
  {
   "cell_type": "code",
   "execution_count": 3,
   "metadata": {},
   "outputs": [],
   "source": [
    "# function for heatmap\n",
    "def heatmap(df):\n",
    "    simplefilter(action='ignore', category=DeprecationWarning)\n",
    "    plt.subplots(figsize=(10, 8))\n",
    "    mask = np.triu(np.ones_like(df.corr(), dtype=np.bool))\n",
    "    mask = mask[1:, :-1]\n",
    "    corr1 = df.corr().iloc[1:,:-1].copy()\n",
    "    corr2 = sns.heatmap(corr1,mask=mask, cmap='coolwarm_r', annot=True, fmt=\".2f\", annot_kws={'fontsize':16},linewidths=4, cbar = False,)\n",
    "    corr2.set_yticklabels(corr2.get_ymajorticklabels(), fontsize = 10)\n",
    "    corr2.set_xticklabels(corr2.get_xmajorticklabels(), fontsize = 10);"
   ]
  },
  {
   "cell_type": "code",
   "execution_count": 4,
   "metadata": {},
   "outputs": [],
   "source": [
    "# defining a function for horizontal bar graph\n",
    "def bar(df):\n",
    "    warnings.filterwarnings(\"ignore\")\n",
    "    plt.subplots(figsize=(10, 8))\n",
    "    recommendation_bar = sns.barplot(data=df,y=df['recommendation'].value_counts().index,x=df['recommendation'].value_counts().values)\n",
    "    recommendation_bar.set_xticklabels(recommendation_bar.get_xticks(), size=14)\n",
    "    recommendation_bar.set_yticklabels(df['recommendation'].value_counts().index, size=14)\n",
    "    recommendation_bar.bar_label(recommendation_bar.containers[0], size=14);"
   ]
  },
  {
   "cell_type": "markdown",
   "metadata": {},
   "source": [
    "## 4. Data Cleaning"
   ]
  },
  {
   "cell_type": "code",
   "execution_count": 5,
   "metadata": {},
   "outputs": [],
   "source": [
    "act_2019 = pd.read_csv('../data/act_2019.csv')\n",
    "sat_2019 = pd.read_csv('../data/sat_2019.csv')\n",
    "sat_act_by_college = pd.read_csv('../data/sat_act_by_college.csv')\n",
    "sat_act_score_convertor = pd.read_csv('../data/sat_act_score_convertor.csv')"
   ]
  },
  {
   "cell_type": "markdown",
   "metadata": {},
   "source": [
    "### 4.1 Individual Dataset"
   ]
  },
  {
   "cell_type": "markdown",
   "metadata": {},
   "source": [
    "We shall proceed to:\n",
    "1. examine each of the datasets; and \n",
    "2. prepare each data for further analysis based on the observations made."
   ]
  },
  {
   "cell_type": "markdown",
   "metadata": {},
   "source": [
    "#### 'act_2019' Dataset"
   ]
  },
  {
   "cell_type": "code",
   "execution_count": 6,
   "metadata": {},
   "outputs": [
    {
     "data": {
      "text/html": [
       "<div>\n",
       "<style scoped>\n",
       "    .dataframe tbody tr th:only-of-type {\n",
       "        vertical-align: middle;\n",
       "    }\n",
       "\n",
       "    .dataframe tbody tr th {\n",
       "        vertical-align: top;\n",
       "    }\n",
       "\n",
       "    .dataframe thead th {\n",
       "        text-align: right;\n",
       "    }\n",
       "</style>\n",
       "<table border=\"1\" class=\"dataframe\">\n",
       "  <thead>\n",
       "    <tr style=\"text-align: right;\">\n",
       "      <th></th>\n",
       "      <th>State</th>\n",
       "      <th>Participation</th>\n",
       "      <th>Composite</th>\n",
       "    </tr>\n",
       "  </thead>\n",
       "  <tbody>\n",
       "    <tr>\n",
       "      <th>0</th>\n",
       "      <td>Alabama</td>\n",
       "      <td>100%</td>\n",
       "      <td>18.9</td>\n",
       "    </tr>\n",
       "    <tr>\n",
       "      <th>1</th>\n",
       "      <td>Alaska</td>\n",
       "      <td>38%</td>\n",
       "      <td>20.1</td>\n",
       "    </tr>\n",
       "    <tr>\n",
       "      <th>2</th>\n",
       "      <td>Arizona</td>\n",
       "      <td>73%</td>\n",
       "      <td>19.0</td>\n",
       "    </tr>\n",
       "    <tr>\n",
       "      <th>3</th>\n",
       "      <td>Arkansas</td>\n",
       "      <td>100%</td>\n",
       "      <td>19.3</td>\n",
       "    </tr>\n",
       "    <tr>\n",
       "      <th>4</th>\n",
       "      <td>California</td>\n",
       "      <td>23%</td>\n",
       "      <td>22.6</td>\n",
       "    </tr>\n",
       "  </tbody>\n",
       "</table>\n",
       "</div>"
      ],
      "text/plain": [
       "        State Participation  Composite\n",
       "0     Alabama          100%       18.9\n",
       "1      Alaska           38%       20.1\n",
       "2     Arizona           73%       19.0\n",
       "3    Arkansas          100%       19.3\n",
       "4  California           23%       22.6"
      ]
     },
     "execution_count": 6,
     "metadata": {},
     "output_type": "execute_result"
    }
   ],
   "source": [
    "act_2019.head()"
   ]
  },
  {
   "cell_type": "code",
   "execution_count": 7,
   "metadata": {},
   "outputs": [
    {
     "name": "stdout",
     "output_type": "stream",
     "text": [
      "<class 'pandas.core.frame.DataFrame'>\n",
      "RangeIndex: 52 entries, 0 to 51\n",
      "Data columns (total 3 columns):\n",
      " #   Column         Non-Null Count  Dtype  \n",
      "---  ------         --------------  -----  \n",
      " 0   State          52 non-null     object \n",
      " 1   Participation  52 non-null     object \n",
      " 2   Composite      52 non-null     float64\n",
      "dtypes: float64(1), object(2)\n",
      "memory usage: 1.3+ KB\n"
     ]
    }
   ],
   "source": [
    "act_2019.info()"
   ]
  },
  {
   "cell_type": "code",
   "execution_count": 8,
   "metadata": {},
   "outputs": [
    {
     "name": "stdout",
     "output_type": "stream",
     "text": [
      "['Alabama' 'Alaska' 'Arizona' 'Arkansas' 'California' 'Colorado'\n",
      " 'Connecticut' 'Delaware' 'District of Columbia' 'Florida' 'Georgia'\n",
      " 'Hawaii' 'Idaho' 'Illinois' 'Indiana' 'Iowa' 'Kansas' 'Kentucky'\n",
      " 'Louisiana' 'Maine' 'Maryland' 'Massachusetts' 'Michigan' 'Minnesota'\n",
      " 'Mississippi' 'Missouri' 'Montana' 'Nebraska' 'Nevada' 'New Hampshire'\n",
      " 'New Jersey' 'New Mexico' 'New York' 'North Carolina' 'North Dakota'\n",
      " 'Ohio' 'Oklahoma' 'Oregon' 'Pennsylvania' 'Rhode Island' 'South Carolina'\n",
      " 'South Dakota' 'Tennessee' 'Texas' 'Utah' 'Vermont' 'Virginia'\n",
      " 'Washington' 'West Virginia' 'Wisconsin' 'Wyoming' 'National']\n",
      "\n",
      "\n",
      "The number of unique states is 52.\n"
     ]
    }
   ],
   "source": [
    "# clarifying the unique stats in order to compare with sat_2019 dataset\n",
    "print(act_2019['State'].unique())\n",
    "print('\\n')\n",
    "print(f'The number of unique states is {act_2019.State.nunique()}.')"
   ]
  },
  {
   "cell_type": "markdown",
   "metadata": {},
   "source": [
    "### <span style=\"color: Blue;\">Observation</span>\n",
    "\n",
    "The dataset has no missing and suspicious value.\n",
    "\n",
    "There are three things that we want to adjust for the 'act_2019.csv' Dataset :-\n",
    "1. Drop the % under the participation rate column and change its value to integer.\n",
    "2. Round composite score to integer as ACT score is [only meaningful](https://www.quadeducationgroup.com/blog/act-scores-everything-you-need-to-know) as a whole number.\n",
    "3. Rename the columns to standardise with the 'sat_2019.csv' Dataset."
   ]
  },
  {
   "cell_type": "code",
   "execution_count": 9,
   "metadata": {},
   "outputs": [
    {
     "data": {
      "text/html": [
       "<div>\n",
       "<style scoped>\n",
       "    .dataframe tbody tr th:only-of-type {\n",
       "        vertical-align: middle;\n",
       "    }\n",
       "\n",
       "    .dataframe tbody tr th {\n",
       "        vertical-align: top;\n",
       "    }\n",
       "\n",
       "    .dataframe thead th {\n",
       "        text-align: right;\n",
       "    }\n",
       "</style>\n",
       "<table border=\"1\" class=\"dataframe\">\n",
       "  <thead>\n",
       "    <tr style=\"text-align: right;\">\n",
       "      <th></th>\n",
       "      <th>State</th>\n",
       "      <th>Participation</th>\n",
       "      <th>Composite</th>\n",
       "    </tr>\n",
       "  </thead>\n",
       "  <tbody>\n",
       "    <tr>\n",
       "      <th>0</th>\n",
       "      <td>Alabama</td>\n",
       "      <td>100</td>\n",
       "      <td>18.9</td>\n",
       "    </tr>\n",
       "    <tr>\n",
       "      <th>1</th>\n",
       "      <td>Alaska</td>\n",
       "      <td>38</td>\n",
       "      <td>20.1</td>\n",
       "    </tr>\n",
       "    <tr>\n",
       "      <th>2</th>\n",
       "      <td>Arizona</td>\n",
       "      <td>73</td>\n",
       "      <td>19.0</td>\n",
       "    </tr>\n",
       "    <tr>\n",
       "      <th>3</th>\n",
       "      <td>Arkansas</td>\n",
       "      <td>100</td>\n",
       "      <td>19.3</td>\n",
       "    </tr>\n",
       "    <tr>\n",
       "      <th>4</th>\n",
       "      <td>California</td>\n",
       "      <td>23</td>\n",
       "      <td>22.6</td>\n",
       "    </tr>\n",
       "  </tbody>\n",
       "</table>\n",
       "</div>"
      ],
      "text/plain": [
       "        State  Participation  Composite\n",
       "0     Alabama            100       18.9\n",
       "1      Alaska             38       20.1\n",
       "2     Arizona             73       19.0\n",
       "3    Arkansas            100       19.3\n",
       "4  California             23       22.6"
      ]
     },
     "execution_count": 9,
     "metadata": {},
     "output_type": "execute_result"
    }
   ],
   "source": [
    "act_2019['Participation'] = act_2019['Participation'].str.replace('%','').astype(int)\n",
    "act_2019.head()"
   ]
  },
  {
   "cell_type": "code",
   "execution_count": 10,
   "metadata": {},
   "outputs": [
    {
     "data": {
      "text/plain": [
       "0.9911093015066212"
      ]
     },
     "execution_count": 10,
     "metadata": {},
     "output_type": "execute_result"
    }
   ],
   "source": [
    "# showing that the rounding of values does not have much impact on the values given the high correlation\n",
    "act_2019['Composite'].corr(act_2019['Composite'].round(0).astype(int))"
   ]
  },
  {
   "cell_type": "code",
   "execution_count": 11,
   "metadata": {},
   "outputs": [
    {
     "data": {
      "text/html": [
       "<div>\n",
       "<style scoped>\n",
       "    .dataframe tbody tr th:only-of-type {\n",
       "        vertical-align: middle;\n",
       "    }\n",
       "\n",
       "    .dataframe tbody tr th {\n",
       "        vertical-align: top;\n",
       "    }\n",
       "\n",
       "    .dataframe thead th {\n",
       "        text-align: right;\n",
       "    }\n",
       "</style>\n",
       "<table border=\"1\" class=\"dataframe\">\n",
       "  <thead>\n",
       "    <tr style=\"text-align: right;\">\n",
       "      <th></th>\n",
       "      <th>State</th>\n",
       "      <th>Participation</th>\n",
       "      <th>Composite</th>\n",
       "    </tr>\n",
       "  </thead>\n",
       "  <tbody>\n",
       "    <tr>\n",
       "      <th>0</th>\n",
       "      <td>Alabama</td>\n",
       "      <td>100</td>\n",
       "      <td>19</td>\n",
       "    </tr>\n",
       "    <tr>\n",
       "      <th>1</th>\n",
       "      <td>Alaska</td>\n",
       "      <td>38</td>\n",
       "      <td>20</td>\n",
       "    </tr>\n",
       "    <tr>\n",
       "      <th>2</th>\n",
       "      <td>Arizona</td>\n",
       "      <td>73</td>\n",
       "      <td>19</td>\n",
       "    </tr>\n",
       "    <tr>\n",
       "      <th>3</th>\n",
       "      <td>Arkansas</td>\n",
       "      <td>100</td>\n",
       "      <td>19</td>\n",
       "    </tr>\n",
       "    <tr>\n",
       "      <th>4</th>\n",
       "      <td>California</td>\n",
       "      <td>23</td>\n",
       "      <td>23</td>\n",
       "    </tr>\n",
       "  </tbody>\n",
       "</table>\n",
       "</div>"
      ],
      "text/plain": [
       "        State  Participation  Composite\n",
       "0     Alabama            100         19\n",
       "1      Alaska             38         20\n",
       "2     Arizona             73         19\n",
       "3    Arkansas            100         19\n",
       "4  California             23         23"
      ]
     },
     "execution_count": 11,
     "metadata": {},
     "output_type": "execute_result"
    }
   ],
   "source": [
    "act_2019['Composite'] = act_2019['Composite'].round(0).astype(int)\n",
    "act_2019.head()"
   ]
  },
  {
   "cell_type": "code",
   "execution_count": 12,
   "metadata": {},
   "outputs": [
    {
     "data": {
      "text/html": [
       "<div>\n",
       "<style scoped>\n",
       "    .dataframe tbody tr th:only-of-type {\n",
       "        vertical-align: middle;\n",
       "    }\n",
       "\n",
       "    .dataframe tbody tr th {\n",
       "        vertical-align: top;\n",
       "    }\n",
       "\n",
       "    .dataframe thead th {\n",
       "        text-align: right;\n",
       "    }\n",
       "</style>\n",
       "<table border=\"1\" class=\"dataframe\">\n",
       "  <thead>\n",
       "    <tr style=\"text-align: right;\">\n",
       "      <th></th>\n",
       "      <th>state</th>\n",
       "      <th>act_participation_%</th>\n",
       "      <th>act_composite</th>\n",
       "    </tr>\n",
       "  </thead>\n",
       "  <tbody>\n",
       "    <tr>\n",
       "      <th>0</th>\n",
       "      <td>Alabama</td>\n",
       "      <td>100</td>\n",
       "      <td>19</td>\n",
       "    </tr>\n",
       "    <tr>\n",
       "      <th>1</th>\n",
       "      <td>Alaska</td>\n",
       "      <td>38</td>\n",
       "      <td>20</td>\n",
       "    </tr>\n",
       "    <tr>\n",
       "      <th>2</th>\n",
       "      <td>Arizona</td>\n",
       "      <td>73</td>\n",
       "      <td>19</td>\n",
       "    </tr>\n",
       "    <tr>\n",
       "      <th>3</th>\n",
       "      <td>Arkansas</td>\n",
       "      <td>100</td>\n",
       "      <td>19</td>\n",
       "    </tr>\n",
       "    <tr>\n",
       "      <th>4</th>\n",
       "      <td>California</td>\n",
       "      <td>23</td>\n",
       "      <td>23</td>\n",
       "    </tr>\n",
       "  </tbody>\n",
       "</table>\n",
       "</div>"
      ],
      "text/plain": [
       "        state  act_participation_%  act_composite\n",
       "0     Alabama                  100             19\n",
       "1      Alaska                   38             20\n",
       "2     Arizona                   73             19\n",
       "3    Arkansas                  100             19\n",
       "4  California                   23             23"
      ]
     },
     "execution_count": 12,
     "metadata": {},
     "output_type": "execute_result"
    }
   ],
   "source": [
    "act_2019.rename(columns={'State': 'state',\n",
    "                         'Participation': 'act_participation_%',\n",
    "                         'Composite': 'act_composite'}, inplace=True)\n",
    "act_2019.head()"
   ]
  },
  {
   "cell_type": "markdown",
   "metadata": {},
   "source": [
    "#### 'sat_2019' Dataset"
   ]
  },
  {
   "cell_type": "code",
   "execution_count": 13,
   "metadata": {},
   "outputs": [
    {
     "data": {
      "text/html": [
       "<div>\n",
       "<style scoped>\n",
       "    .dataframe tbody tr th:only-of-type {\n",
       "        vertical-align: middle;\n",
       "    }\n",
       "\n",
       "    .dataframe tbody tr th {\n",
       "        vertical-align: top;\n",
       "    }\n",
       "\n",
       "    .dataframe thead th {\n",
       "        text-align: right;\n",
       "    }\n",
       "</style>\n",
       "<table border=\"1\" class=\"dataframe\">\n",
       "  <thead>\n",
       "    <tr style=\"text-align: right;\">\n",
       "      <th></th>\n",
       "      <th>State</th>\n",
       "      <th>Participation Rate</th>\n",
       "      <th>EBRW</th>\n",
       "      <th>Math</th>\n",
       "      <th>Total</th>\n",
       "    </tr>\n",
       "  </thead>\n",
       "  <tbody>\n",
       "    <tr>\n",
       "      <th>0</th>\n",
       "      <td>Alabama</td>\n",
       "      <td>7%</td>\n",
       "      <td>583</td>\n",
       "      <td>560</td>\n",
       "      <td>1143</td>\n",
       "    </tr>\n",
       "    <tr>\n",
       "      <th>1</th>\n",
       "      <td>Alaska</td>\n",
       "      <td>41%</td>\n",
       "      <td>556</td>\n",
       "      <td>541</td>\n",
       "      <td>1097</td>\n",
       "    </tr>\n",
       "    <tr>\n",
       "      <th>2</th>\n",
       "      <td>Arizona</td>\n",
       "      <td>31%</td>\n",
       "      <td>569</td>\n",
       "      <td>565</td>\n",
       "      <td>1134</td>\n",
       "    </tr>\n",
       "    <tr>\n",
       "      <th>3</th>\n",
       "      <td>Arkansas</td>\n",
       "      <td>6%</td>\n",
       "      <td>582</td>\n",
       "      <td>559</td>\n",
       "      <td>1141</td>\n",
       "    </tr>\n",
       "    <tr>\n",
       "      <th>4</th>\n",
       "      <td>California</td>\n",
       "      <td>63%</td>\n",
       "      <td>534</td>\n",
       "      <td>531</td>\n",
       "      <td>1065</td>\n",
       "    </tr>\n",
       "  </tbody>\n",
       "</table>\n",
       "</div>"
      ],
      "text/plain": [
       "        State Participation Rate  EBRW  Math  Total\n",
       "0     Alabama                 7%   583   560   1143\n",
       "1      Alaska                41%   556   541   1097\n",
       "2     Arizona                31%   569   565   1134\n",
       "3    Arkansas                 6%   582   559   1141\n",
       "4  California                63%   534   531   1065"
      ]
     },
     "execution_count": 13,
     "metadata": {},
     "output_type": "execute_result"
    }
   ],
   "source": [
    "sat_2019.head()"
   ]
  },
  {
   "cell_type": "code",
   "execution_count": 14,
   "metadata": {},
   "outputs": [
    {
     "name": "stdout",
     "output_type": "stream",
     "text": [
      "<class 'pandas.core.frame.DataFrame'>\n",
      "RangeIndex: 53 entries, 0 to 52\n",
      "Data columns (total 5 columns):\n",
      " #   Column              Non-Null Count  Dtype \n",
      "---  ------              --------------  ----- \n",
      " 0   State               53 non-null     object\n",
      " 1   Participation Rate  53 non-null     object\n",
      " 2   EBRW                53 non-null     int64 \n",
      " 3   Math                53 non-null     int64 \n",
      " 4   Total               53 non-null     int64 \n",
      "dtypes: int64(3), object(2)\n",
      "memory usage: 2.2+ KB\n"
     ]
    }
   ],
   "source": [
    "sat_2019.info()"
   ]
  },
  {
   "cell_type": "code",
   "execution_count": 15,
   "metadata": {},
   "outputs": [
    {
     "name": "stdout",
     "output_type": "stream",
     "text": [
      "['Alabama' 'Alaska' 'Arizona' 'Arkansas' 'California' 'Colorado'\n",
      " 'Connecticut' 'Delaware' 'District of Columbia' 'Florida' 'Georgia'\n",
      " 'Hawaii' 'Idaho' 'Illinois' 'Indiana' 'Iowa' 'Kansas' 'Kentucky'\n",
      " 'Louisiana' 'Maine' 'Maryland' 'Massachusetts' 'Michigan' 'Minnesota'\n",
      " 'Mississippi' 'Missouri' 'Montana' 'Nebraska' 'Nevada' 'New Hampshire'\n",
      " 'New Jersey' 'New Mexico' 'New York' 'North Carolina' 'North Dakota'\n",
      " 'Ohio' 'Oklahoma' 'Oregon' 'Pennsylvania' 'Puerto Rico' 'Rhode Island'\n",
      " 'South Carolina' 'South Dakota' 'Tennessee' 'Texas' 'Utah' 'Vermont'\n",
      " 'Virgin Islands' 'Virginia' 'Washington' 'West Virginia' 'Wisconsin'\n",
      " 'Wyoming']\n",
      "\n",
      "\n",
      "The number of unique states is 53.\n"
     ]
    }
   ],
   "source": [
    "# need this to compare with act_2019 dataset\n",
    "print(sat_2019['State'].unique())\n",
    "print('\\n')\n",
    "print(f'The number of unique states is {sat_2019.State.nunique()}.')\n",
    "# notice that the dataset has two more stats as compared to the act_2019 dataset (namely, Puerto Rico and Virgin Islands)\n",
    "# notice also that the act_2019 dataset has a national average"
   ]
  },
  {
   "cell_type": "markdown",
   "metadata": {},
   "source": [
    "### <span style=\"color: Blue;\">Observation</span>\n",
    "\n",
    "The dataset has no missing and suspicious value.\n",
    "\n",
    "There are four things that we want to adjust for the 'sat_2019.csv' Dataset :-\n",
    "\n",
    "1. Delete the rows of consisting Puerto Rico and Virgin Islands of sat_2019 dataset. Although they are under US's territory, they are not considered [US states](https://en.wikipedia.org/wiki/List_of_U.S._state_and_territory_abbreviations).\n",
    "2. Drop the % under the participation rate column and change its value to integer.\n",
    "3. Compute national average in sat_2019 dataset based on the remaining states. As we do not have any information on how national average was caculated in the act_2019 dataset, this is the next best alternative method.\n",
    "4. Rename the columns to standardise with the 'sat_2019.csv' Dataset."
   ]
  },
  {
   "cell_type": "code",
   "execution_count": 16,
   "metadata": {},
   "outputs": [
    {
     "name": "stdout",
     "output_type": "stream",
     "text": [
      "['Alabama' 'Alaska' 'Arizona' 'Arkansas' 'California' 'Colorado'\n",
      " 'Connecticut' 'Delaware' 'District of Columbia' 'Florida' 'Georgia'\n",
      " 'Hawaii' 'Idaho' 'Illinois' 'Indiana' 'Iowa' 'Kansas' 'Kentucky'\n",
      " 'Louisiana' 'Maine' 'Maryland' 'Massachusetts' 'Michigan' 'Minnesota'\n",
      " 'Mississippi' 'Missouri' 'Montana' 'Nebraska' 'Nevada' 'New Hampshire'\n",
      " 'New Jersey' 'New Mexico' 'New York' 'North Carolina' 'North Dakota'\n",
      " 'Ohio' 'Oklahoma' 'Oregon' 'Pennsylvania' 'Rhode Island' 'South Carolina'\n",
      " 'South Dakota' 'Tennessee' 'Texas' 'Utah' 'Vermont' 'Virginia'\n",
      " 'Washington' 'West Virginia' 'Wisconsin' 'Wyoming']\n",
      "\n",
      "\n",
      "The number of unique states is 51.\n"
     ]
    }
   ],
   "source": [
    "sat_2019 = sat_2019[(sat_2019.State  != 'Puerto Rico') & (sat_2019.State  != 'Virgin Islands')]\n",
    "print(sat_2019['State'].unique())\n",
    "print('\\n')\n",
    "print(f'The number of unique states is {sat_2019.State.nunique()}.')"
   ]
  },
  {
   "cell_type": "code",
   "execution_count": 17,
   "metadata": {},
   "outputs": [
    {
     "data": {
      "text/html": [
       "<div>\n",
       "<style scoped>\n",
       "    .dataframe tbody tr th:only-of-type {\n",
       "        vertical-align: middle;\n",
       "    }\n",
       "\n",
       "    .dataframe tbody tr th {\n",
       "        vertical-align: top;\n",
       "    }\n",
       "\n",
       "    .dataframe thead th {\n",
       "        text-align: right;\n",
       "    }\n",
       "</style>\n",
       "<table border=\"1\" class=\"dataframe\">\n",
       "  <thead>\n",
       "    <tr style=\"text-align: right;\">\n",
       "      <th></th>\n",
       "      <th>State</th>\n",
       "      <th>Participation Rate</th>\n",
       "      <th>EBRW</th>\n",
       "      <th>Math</th>\n",
       "      <th>Total</th>\n",
       "    </tr>\n",
       "  </thead>\n",
       "  <tbody>\n",
       "    <tr>\n",
       "      <th>0</th>\n",
       "      <td>Alabama</td>\n",
       "      <td>7</td>\n",
       "      <td>583</td>\n",
       "      <td>560</td>\n",
       "      <td>1143</td>\n",
       "    </tr>\n",
       "    <tr>\n",
       "      <th>1</th>\n",
       "      <td>Alaska</td>\n",
       "      <td>41</td>\n",
       "      <td>556</td>\n",
       "      <td>541</td>\n",
       "      <td>1097</td>\n",
       "    </tr>\n",
       "    <tr>\n",
       "      <th>2</th>\n",
       "      <td>Arizona</td>\n",
       "      <td>31</td>\n",
       "      <td>569</td>\n",
       "      <td>565</td>\n",
       "      <td>1134</td>\n",
       "    </tr>\n",
       "    <tr>\n",
       "      <th>3</th>\n",
       "      <td>Arkansas</td>\n",
       "      <td>6</td>\n",
       "      <td>582</td>\n",
       "      <td>559</td>\n",
       "      <td>1141</td>\n",
       "    </tr>\n",
       "    <tr>\n",
       "      <th>4</th>\n",
       "      <td>California</td>\n",
       "      <td>63</td>\n",
       "      <td>534</td>\n",
       "      <td>531</td>\n",
       "      <td>1065</td>\n",
       "    </tr>\n",
       "  </tbody>\n",
       "</table>\n",
       "</div>"
      ],
      "text/plain": [
       "        State  Participation Rate  EBRW  Math  Total\n",
       "0     Alabama                   7   583   560   1143\n",
       "1      Alaska                  41   556   541   1097\n",
       "2     Arizona                  31   569   565   1134\n",
       "3    Arkansas                   6   582   559   1141\n",
       "4  California                  63   534   531   1065"
      ]
     },
     "execution_count": 17,
     "metadata": {},
     "output_type": "execute_result"
    }
   ],
   "source": [
    "sat_2019['Participation Rate'] = sat_2019['Participation Rate'].str.replace('%','').astype(int)\n",
    "sat_2019.head()"
   ]
  },
  {
   "cell_type": "code",
   "execution_count": 18,
   "metadata": {},
   "outputs": [
    {
     "data": {
      "text/html": [
       "<div>\n",
       "<style scoped>\n",
       "    .dataframe tbody tr th:only-of-type {\n",
       "        vertical-align: middle;\n",
       "    }\n",
       "\n",
       "    .dataframe tbody tr th {\n",
       "        vertical-align: top;\n",
       "    }\n",
       "\n",
       "    .dataframe thead th {\n",
       "        text-align: right;\n",
       "    }\n",
       "</style>\n",
       "<table border=\"1\" class=\"dataframe\">\n",
       "  <thead>\n",
       "    <tr style=\"text-align: right;\">\n",
       "      <th></th>\n",
       "      <th>State</th>\n",
       "      <th>Participation Rate</th>\n",
       "      <th>EBRW</th>\n",
       "      <th>Math</th>\n",
       "      <th>Total</th>\n",
       "    </tr>\n",
       "  </thead>\n",
       "  <tbody>\n",
       "    <tr>\n",
       "      <th>47</th>\n",
       "      <td>Washington</td>\n",
       "      <td>70</td>\n",
       "      <td>539</td>\n",
       "      <td>535</td>\n",
       "      <td>1074</td>\n",
       "    </tr>\n",
       "    <tr>\n",
       "      <th>48</th>\n",
       "      <td>West Virginia</td>\n",
       "      <td>99</td>\n",
       "      <td>483</td>\n",
       "      <td>460</td>\n",
       "      <td>943</td>\n",
       "    </tr>\n",
       "    <tr>\n",
       "      <th>49</th>\n",
       "      <td>Wisconsin</td>\n",
       "      <td>3</td>\n",
       "      <td>635</td>\n",
       "      <td>648</td>\n",
       "      <td>1283</td>\n",
       "    </tr>\n",
       "    <tr>\n",
       "      <th>50</th>\n",
       "      <td>Wyoming</td>\n",
       "      <td>3</td>\n",
       "      <td>623</td>\n",
       "      <td>615</td>\n",
       "      <td>1238</td>\n",
       "    </tr>\n",
       "    <tr>\n",
       "      <th>51</th>\n",
       "      <td>National</td>\n",
       "      <td>49</td>\n",
       "      <td>560</td>\n",
       "      <td>552</td>\n",
       "      <td>1113</td>\n",
       "    </tr>\n",
       "  </tbody>\n",
       "</table>\n",
       "</div>"
      ],
      "text/plain": [
       "            State  Participation Rate  EBRW  Math  Total\n",
       "47     Washington                  70   539   535   1074\n",
       "48  West Virginia                  99   483   460    943\n",
       "49      Wisconsin                   3   635   648   1283\n",
       "50        Wyoming                   3   623   615   1238\n",
       "51       National                  49   560   552   1113"
      ]
     },
     "execution_count": 18,
     "metadata": {},
     "output_type": "execute_result"
    }
   ],
   "source": [
    "simplefilter(action='ignore', category=FutureWarning)\n",
    "nat_avg = {'State':'National',\n",
    "           'Participation Rate':sat_2019['Participation Rate'].mean().astype(int),\n",
    "           'EBRW':sat_2019['EBRW'].mean().astype(int),\n",
    "           'Math':sat_2019['Math'].mean().astype(int),\n",
    "           'Total':sat_2019['Total'].mean().astype(int)}\n",
    "sat_2019 = sat_2019.append(nat_avg, ignore_index = True)\n",
    "sat_2019.tail()"
   ]
  },
  {
   "cell_type": "code",
   "execution_count": 19,
   "metadata": {},
   "outputs": [
    {
     "data": {
      "text/html": [
       "<div>\n",
       "<style scoped>\n",
       "    .dataframe tbody tr th:only-of-type {\n",
       "        vertical-align: middle;\n",
       "    }\n",
       "\n",
       "    .dataframe tbody tr th {\n",
       "        vertical-align: top;\n",
       "    }\n",
       "\n",
       "    .dataframe thead th {\n",
       "        text-align: right;\n",
       "    }\n",
       "</style>\n",
       "<table border=\"1\" class=\"dataframe\">\n",
       "  <thead>\n",
       "    <tr style=\"text-align: right;\">\n",
       "      <th></th>\n",
       "      <th>state</th>\n",
       "      <th>sat_participation_%</th>\n",
       "      <th>sat_ebrw</th>\n",
       "      <th>sat_math</th>\n",
       "      <th>sat_total</th>\n",
       "    </tr>\n",
       "  </thead>\n",
       "  <tbody>\n",
       "    <tr>\n",
       "      <th>0</th>\n",
       "      <td>Alabama</td>\n",
       "      <td>7</td>\n",
       "      <td>583</td>\n",
       "      <td>560</td>\n",
       "      <td>1143</td>\n",
       "    </tr>\n",
       "    <tr>\n",
       "      <th>1</th>\n",
       "      <td>Alaska</td>\n",
       "      <td>41</td>\n",
       "      <td>556</td>\n",
       "      <td>541</td>\n",
       "      <td>1097</td>\n",
       "    </tr>\n",
       "    <tr>\n",
       "      <th>2</th>\n",
       "      <td>Arizona</td>\n",
       "      <td>31</td>\n",
       "      <td>569</td>\n",
       "      <td>565</td>\n",
       "      <td>1134</td>\n",
       "    </tr>\n",
       "    <tr>\n",
       "      <th>3</th>\n",
       "      <td>Arkansas</td>\n",
       "      <td>6</td>\n",
       "      <td>582</td>\n",
       "      <td>559</td>\n",
       "      <td>1141</td>\n",
       "    </tr>\n",
       "    <tr>\n",
       "      <th>4</th>\n",
       "      <td>California</td>\n",
       "      <td>63</td>\n",
       "      <td>534</td>\n",
       "      <td>531</td>\n",
       "      <td>1065</td>\n",
       "    </tr>\n",
       "  </tbody>\n",
       "</table>\n",
       "</div>"
      ],
      "text/plain": [
       "        state  sat_participation_%  sat_ebrw  sat_math  sat_total\n",
       "0     Alabama                    7       583       560       1143\n",
       "1      Alaska                   41       556       541       1097\n",
       "2     Arizona                   31       569       565       1134\n",
       "3    Arkansas                    6       582       559       1141\n",
       "4  California                   63       534       531       1065"
      ]
     },
     "execution_count": 19,
     "metadata": {},
     "output_type": "execute_result"
    }
   ],
   "source": [
    "sat_2019.rename(columns={'State': 'state',\n",
    "                         'Participation Rate': 'sat_participation_%',\n",
    "                         'EBRW': 'sat_ebrw',\n",
    "                         'Math': 'sat_math',\n",
    "                         'Total':'sat_total'}, inplace=True)\n",
    "sat_2019.head()"
   ]
  },
  {
   "cell_type": "markdown",
   "metadata": {},
   "source": [
    "#### 'sat_act_by_college' Dataset"
   ]
  },
  {
   "cell_type": "code",
   "execution_count": 20,
   "metadata": {},
   "outputs": [
    {
     "data": {
      "text/html": [
       "<div>\n",
       "<style scoped>\n",
       "    .dataframe tbody tr th:only-of-type {\n",
       "        vertical-align: middle;\n",
       "    }\n",
       "\n",
       "    .dataframe tbody tr th {\n",
       "        vertical-align: top;\n",
       "    }\n",
       "\n",
       "    .dataframe thead th {\n",
       "        text-align: right;\n",
       "    }\n",
       "</style>\n",
       "<table border=\"1\" class=\"dataframe\">\n",
       "  <thead>\n",
       "    <tr style=\"text-align: right;\">\n",
       "      <th></th>\n",
       "      <th>School</th>\n",
       "      <th>Test Optional?</th>\n",
       "      <th>Applies to Class Year(s)</th>\n",
       "      <th>Policy Details</th>\n",
       "      <th>Number of Applicants</th>\n",
       "      <th>Accept Rate</th>\n",
       "      <th>SAT Total 25th-75th Percentile</th>\n",
       "      <th>ACT Total 25th-75th Percentile</th>\n",
       "    </tr>\n",
       "  </thead>\n",
       "  <tbody>\n",
       "    <tr>\n",
       "      <th>0</th>\n",
       "      <td>Stanford University</td>\n",
       "      <td>Yes</td>\n",
       "      <td>2021</td>\n",
       "      <td>Stanford has adopted a one-year test optional ...</td>\n",
       "      <td>47452</td>\n",
       "      <td>4.3%</td>\n",
       "      <td>1440-1570</td>\n",
       "      <td>32-35</td>\n",
       "    </tr>\n",
       "    <tr>\n",
       "      <th>1</th>\n",
       "      <td>Harvard College</td>\n",
       "      <td>Yes</td>\n",
       "      <td>2021</td>\n",
       "      <td>Harvard has adopted a one-year test optional p...</td>\n",
       "      <td>42749</td>\n",
       "      <td>4.7%</td>\n",
       "      <td>1460-1580</td>\n",
       "      <td>33-35</td>\n",
       "    </tr>\n",
       "    <tr>\n",
       "      <th>2</th>\n",
       "      <td>Princeton University</td>\n",
       "      <td>Yes</td>\n",
       "      <td>2021</td>\n",
       "      <td>Princeton has adopted a one-year test optional...</td>\n",
       "      <td>35370</td>\n",
       "      <td>5.5%</td>\n",
       "      <td>1440-1570</td>\n",
       "      <td>32-35</td>\n",
       "    </tr>\n",
       "    <tr>\n",
       "      <th>3</th>\n",
       "      <td>Columbia University</td>\n",
       "      <td>Yes</td>\n",
       "      <td>2021</td>\n",
       "      <td>Columbia has adopted a one-year test optional ...</td>\n",
       "      <td>40203</td>\n",
       "      <td>5.5%</td>\n",
       "      <td>1450-1560</td>\n",
       "      <td>33-35</td>\n",
       "    </tr>\n",
       "    <tr>\n",
       "      <th>4</th>\n",
       "      <td>Yale University</td>\n",
       "      <td>Yes</td>\n",
       "      <td>2021</td>\n",
       "      <td>Yale has adopted a one-year test optional poli...</td>\n",
       "      <td>36844</td>\n",
       "      <td>6.1%</td>\n",
       "      <td>1460-1570</td>\n",
       "      <td>33-35</td>\n",
       "    </tr>\n",
       "  </tbody>\n",
       "</table>\n",
       "</div>"
      ],
      "text/plain": [
       "                 School Test Optional? Applies to Class Year(s)  \\\n",
       "0   Stanford University            Yes                     2021   \n",
       "1       Harvard College            Yes                     2021   \n",
       "2  Princeton University            Yes                     2021   \n",
       "3   Columbia University            Yes                     2021   \n",
       "4       Yale University            Yes                     2021   \n",
       "\n",
       "                                      Policy Details  Number of Applicants  \\\n",
       "0  Stanford has adopted a one-year test optional ...                 47452   \n",
       "1  Harvard has adopted a one-year test optional p...                 42749   \n",
       "2  Princeton has adopted a one-year test optional...                 35370   \n",
       "3  Columbia has adopted a one-year test optional ...                 40203   \n",
       "4  Yale has adopted a one-year test optional poli...                 36844   \n",
       "\n",
       "  Accept Rate SAT Total 25th-75th Percentile ACT Total 25th-75th Percentile  \n",
       "0        4.3%                      1440-1570                          32-35  \n",
       "1        4.7%                      1460-1580                          33-35  \n",
       "2        5.5%                      1440-1570                          32-35  \n",
       "3        5.5%                      1450-1560                          33-35  \n",
       "4        6.1%                      1460-1570                          33-35  "
      ]
     },
     "execution_count": 20,
     "metadata": {},
     "output_type": "execute_result"
    }
   ],
   "source": [
    "sat_act_by_college.head()"
   ]
  },
  {
   "cell_type": "code",
   "execution_count": 21,
   "metadata": {},
   "outputs": [
    {
     "name": "stdout",
     "output_type": "stream",
     "text": [
      "<class 'pandas.core.frame.DataFrame'>\n",
      "RangeIndex: 416 entries, 0 to 415\n",
      "Data columns (total 8 columns):\n",
      " #   Column                          Non-Null Count  Dtype \n",
      "---  ------                          --------------  ----- \n",
      " 0   School                          416 non-null    object\n",
      " 1   Test Optional?                  416 non-null    object\n",
      " 2   Applies to Class Year(s)        390 non-null    object\n",
      " 3   Policy Details                  416 non-null    object\n",
      " 4   Number of Applicants            416 non-null    int64 \n",
      " 5   Accept Rate                     416 non-null    object\n",
      " 6   SAT Total 25th-75th Percentile  416 non-null    object\n",
      " 7   ACT Total 25th-75th Percentile  416 non-null    object\n",
      "dtypes: int64(1), object(7)\n",
      "memory usage: 26.1+ KB\n"
     ]
    }
   ],
   "source": [
    "sat_act_by_college.info()"
   ]
  },
  {
   "cell_type": "markdown",
   "metadata": {},
   "source": [
    "### <span style=\"color: Blue;\">Observation</span>\n",
    "\n",
    "There are null values in the dataset but the column is not required for analysis.\n",
    "\n",
    "There are four things that we want to adjust for the 'sat_act_by_college.csv' Dataset :-\n",
    "\n",
    "1. Drop the rows of colleges without both ACT and SAT scores as they are not useful for analysis with the ACT and SAT scores of the concordance table.\n",
    "2. Pick out the score of 25th percentile of the ACT and SAT score columns. Given that the analysis is meant to gauge the admission scores of both tests required to enter the colleges, the score at 25th percentile would be more useful. The lower the percentile the better we can gauge the minimum scores required to enter each college. \n",
    "3. Convert the values of the 25th percentile of the ACT and SAT score columns to integers for analysis.\n",
    "4. Rename the columns to represent the values."
   ]
  },
  {
   "cell_type": "code",
   "execution_count": 22,
   "metadata": {
    "scrolled": true,
    "tags": []
   },
   "outputs": [
    {
     "data": {
      "text/plain": [
       "array(['1440-1570', '1460-1580', '1450-1560', '1460-1570',\n",
       "       '\\u200b\\u200b 1530-1560', '\\u200b\\u200b 1500-1570',\n",
       "       '\\u200b\\u200b 1440-1570', '\\u200b\\u200b 1490-1570', '1390-1540',\n",
       "       '1440-1560', '1330-1520', '1450-1570', '1380-1540', '1440-1550',\n",
       "       '1460-1560', '1360-1510', '1470-1560', '1400-1560', '1410-1550',\n",
       "       '1340-1520', '1270-1480', '1290-1510', '1360-1520', '1350-1530',\n",
       "       '1350-1510', '1340-1490', '1300-1480', '1490-1570', '1370-1530',\n",
       "       '1300-1530', '1470-1570', '1360-1530', '1400-1550', '1283-1510',\n",
       "       '1370-1510', '1320-1510', '1370-1520', '1310-1485', '1350-1520',\n",
       "       '1360-1540', '1300-1510', '1348-1490', '1330-1500', '1300-1490',\n",
       "       '1340-1530', '1180-1440', '1340-1500', '1270-1450', '1280-1420',\n",
       "       '1370-1490', '1320-1470', '1290-1460', '1250-1420', '1290-1450',\n",
       "       '1300-1500', '1260-1460', '1320-1490', '1220-1400', '1250-1470',\n",
       "       '1250-1460', '1280-1500', '1250-1440', '1220-1380', '1240-1470',\n",
       "       '1333-1490', '1280-1450', '1300-1460', '1210-1380', '1110-1320',\n",
       "       '1270-1460', '1260-1430', '1255-1430', '1200-1390', '1220-1420',\n",
       "       '1040-1310', '1280-1480', '1090-1260', '1310-1450', '1270-1490',\n",
       "       '1030-1213', '1100-1320', '1180-1410', '890-1080', '1040-1250',\n",
       "       '1325-1520', '1310-1440', '1240-1410', '1280-1470', '1150-1410',\n",
       "       '1330-1480', '1160-1350', '1130-1330', '1080-1230', '1230-1410',\n",
       "       '1230-1440', '1220-1430', '1250-1390', '1200-1380', '1150-1360',\n",
       "       '1270-1420', '1250-1430', '1150-1350', '1210-1350', '1190-1430',\n",
       "       '1040-1270', '1200-1350', '1210-1420', '1280-1440', '1140-1320',\n",
       "       '1160-1370', '1210-1360', '1160-1360', '1310-1470', '1180-1370',\n",
       "       '1020-1205', '1230-1400', '1110-1290', '1200-1360', '1240-1440',\n",
       "       '1030-1200', '1330-1450', '1190-1370', '990-1160', '1090-1250',\n",
       "       '1050-1200', '1150-1380', '1040-1260', '1030-1250', '1240-1450',\n",
       "       '1240-1420', '1260-1440', '1130-1340', '1260-1480', '1203-1360',\n",
       "       '1040-1230', '1230-1390', '990-1190', '1160-1390', '1210-1450',\n",
       "       '1110-1310', '1080-1270', '950-1130', '1160-1340', '1070-1270',\n",
       "       '1170-1350', '1050-1250', '1220-1480', '1080-1260', '910-1130',\n",
       "       '1060-1320', '1090-1270', '1190-1440', '1120-1320', '1190-1410',\n",
       "       '1190-1400', '1140-1400', '1080-1368', '1120-1310', '1160-1330',\n",
       "       '1100-1345', '1170-1360', '1210-1358', '1080-1380', '1200-1430',\n",
       "       '1142.5-1380', '1110-1370', '1050-1310', '1020-1190', '1100-1370',\n",
       "       '1070-1280', '1180-1350', '1190-1380', '1190-1390', '1130-1360',\n",
       "       '1045-1225', '1070-1260', '1248-1420', '1010-1210', '1180-1390',\n",
       "       '1140-1310', '1120-1290', '1080-1358', '1170-1320', '1200-1400',\n",
       "       '1150-1340', '1078-1300', '1020-1240', '1180-1360', '940-1150',\n",
       "       '990-1210', '1080-1310', '1070-1290', '1090-1350', '1160-1338',\n",
       "       '910-1090', '990-1200', '1060-1295', '1000-1210', '--',\n",
       "       '1040-1265', '1150-1310', '990-1170', '1070-1300', '1070-1250',\n",
       "       '1050-1269', '1110-1280', '980-1180', '1180-1340', '1153-1390',\n",
       "       '1012-1345', '990-1180', '1110-1300', '1130-1300', '1030-1260',\n",
       "       '990-1230', '1010-1230', '1150-1330', '1060-1250', '1108-1273',\n",
       "       '970-1190', '1038-1250', '1170-1370', '1100-1250', '1050-1260',\n",
       "       '960-1170', '1060-1220', '1130-1380', '1030-1220', '1100-1270',\n",
       "       '1120-1300', '1060-1365', '1010-1240', '1090-1290', '1140-1340',\n",
       "       '1120-1360', '1140-1350', '1160-1320', '1240-1460', '1030-1190',\n",
       "       '1060-1260', '1143-1320', '1210-1410', '1040-1290', '1130-1310',\n",
       "       '1150-1320', '960-1180', '1070-1240', '1010-1250', '1010-1180',\n",
       "       '1050-1240', '1100-1310', '1020-1220', '940-1140', '1000-1160',\n",
       "       '1080-1320', '1150-1370', '1180-1380', '1060-1290', '1120-1350',\n",
       "       '1100-1290', '1220-1440', '1030-1230', '1090-1280', '1008-1240',\n",
       "       '1040-1240', '1000-1398', '980-1190', '1100-1340', '1090-1300',\n",
       "       '1060-1270', '1080-1300', '1000-1240', '990-1220', '1240-1520',\n",
       "       '1160-1380', '1245-1420', '1200-1340', '1140-1285', '1275-1465',\n",
       "       '1170-1330', '793-1078', '1240-1300', '1060-1280', '1050-1230',\n",
       "       '1050-1270', '820-1050'], dtype=object)"
      ]
     },
     "execution_count": 22,
     "metadata": {},
     "output_type": "execute_result"
    }
   ],
   "source": [
    "# working on the sat_act_by_college['SAT Total 25th-75th Percentile'] column \n",
    "sat_act_by_college['SAT Total 25th-75th Percentile'].unique()"
   ]
  },
  {
   "cell_type": "code",
   "execution_count": 23,
   "metadata": {
    "scrolled": true,
    "tags": []
   },
   "outputs": [
    {
     "data": {
      "text/plain": [
       "array(['1440-1570', '1460-1580', '1450-1560', '1460-1570', '1530-1560',\n",
       "       '1500-1570', '1490-1570', '1390-1540', '1440-1560', '1330-1520',\n",
       "       '1450-1570', '1380-1540', '1440-1550', '1460-1560', '1360-1510',\n",
       "       '1470-1560', '1400-1560', '1410-1550', '1340-1520', '1270-1480',\n",
       "       '1290-1510', '1360-1520', '1350-1530', '1350-1510', '1340-1490',\n",
       "       '1300-1480', '1370-1530', '1300-1530', '1470-1570', '1360-1530',\n",
       "       '1400-1550', '1283-1510', '1370-1510', '1320-1510', '1370-1520',\n",
       "       '1310-1485', '1350-1520', '1360-1540', '1300-1510', '1348-1490',\n",
       "       '1330-1500', '1300-1490', '1340-1530', '1180-1440', '1340-1500',\n",
       "       '1270-1450', '1280-1420', '1370-1490', '1320-1470', '1290-1460',\n",
       "       '1250-1420', '1290-1450', '1300-1500', '1260-1460', '1320-1490',\n",
       "       '1220-1400', '1250-1470', '1250-1460', '1280-1500', '1250-1440',\n",
       "       '1220-1380', '1240-1470', '1333-1490', '1280-1450', '1300-1460',\n",
       "       '1210-1380', '1110-1320', '1270-1460', '1260-1430', '1255-1430',\n",
       "       '1200-1390', '1220-1420', '1040-1310', '1280-1480', '1090-1260',\n",
       "       '1310-1450', '1270-1490', '1030-1213', '1100-1320', '1180-1410',\n",
       "       '890-1080', '1040-1250', '1325-1520', '1310-1440', '1240-1410',\n",
       "       '1280-1470', '1150-1410', '1330-1480', '1160-1350', '1130-1330',\n",
       "       '1080-1230', '1230-1410', '1230-1440', '1220-1430', '1250-1390',\n",
       "       '1200-1380', '1150-1360', '1270-1420', '1250-1430', '1150-1350',\n",
       "       '1210-1350', '1190-1430', '1040-1270', '1200-1350', '1210-1420',\n",
       "       '1280-1440', '1140-1320', '1160-1370', '1210-1360', '1160-1360',\n",
       "       '1310-1470', '1180-1370', '1020-1205', '1230-1400', '1110-1290',\n",
       "       '1200-1360', '1240-1440', '1030-1200', '1330-1450', '1190-1370',\n",
       "       '990-1160', '1090-1250', '1050-1200', '1150-1380', '1040-1260',\n",
       "       '1030-1250', '1240-1450', '1240-1420', '1260-1440', '1130-1340',\n",
       "       '1260-1480', '1203-1360', '1040-1230', '1230-1390', '990-1190',\n",
       "       '1160-1390', '1210-1450', '1110-1310', '1080-1270', '950-1130',\n",
       "       '1160-1340', '1070-1270', '1170-1350', '1050-1250', '1220-1480',\n",
       "       '1080-1260', '910-1130', '1060-1320', '1090-1270', '1190-1440',\n",
       "       '1120-1320', '1190-1410', '1190-1400', '1140-1400', '1080-1368',\n",
       "       '1120-1310', '1160-1330', '1100-1345', '1170-1360', '1210-1358',\n",
       "       '1080-1380', '1200-1430', '1142.5-1380', '1110-1370', '1050-1310',\n",
       "       '1020-1190', '1100-1370', '1070-1280', '1180-1350', '1190-1380',\n",
       "       '1190-1390', '1130-1360', '1045-1225', '1070-1260', '1248-1420',\n",
       "       '1010-1210', '1180-1390', '1140-1310', '1120-1290', '1080-1358',\n",
       "       '1170-1320', '1200-1400', '1150-1340', '1078-1300', '1020-1240',\n",
       "       '1180-1360', '940-1150', '990-1210', '1080-1310', '1070-1290',\n",
       "       '1090-1350', '1160-1338', '910-1090', '990-1200', '1060-1295',\n",
       "       '1000-1210', '1040-1265', '1150-1310', '990-1170', '1070-1300',\n",
       "       '1070-1250', '1050-1269', '1110-1280', '980-1180', '1180-1340',\n",
       "       '1153-1390', '1012-1345', '990-1180', '1110-1300', '1130-1300',\n",
       "       '1030-1260', '990-1230', '1010-1230', '1150-1330', '1060-1250',\n",
       "       '1108-1273', '970-1190', '1038-1250', '1170-1370', '1100-1250',\n",
       "       '1050-1260', '960-1170', '1060-1220', '1130-1380', '1030-1220',\n",
       "       '1100-1270', '1120-1300', '1060-1365', '1010-1240', '1090-1290',\n",
       "       '1140-1340', '1120-1360', '1140-1350', '1160-1320', '1240-1460',\n",
       "       '1030-1190', '1060-1260', '1143-1320', '1210-1410', '1040-1290',\n",
       "       '1130-1310', '1150-1320', '960-1180', '1070-1240', '1010-1250',\n",
       "       '1010-1180', '1050-1240', '1100-1310', '1020-1220', '940-1140',\n",
       "       '1000-1160', '1080-1320', '1150-1370', '1180-1380', '1060-1290',\n",
       "       '1120-1350', '1100-1290', '1220-1440', '1030-1230', '1090-1280',\n",
       "       '1008-1240', '1040-1240', '1000-1398', '980-1190', '1100-1340',\n",
       "       '1090-1300', '1060-1270', '1080-1300', '1000-1240', '990-1220',\n",
       "       '1240-1520', '1160-1380', '1245-1420', '1200-1340', '1140-1285',\n",
       "       '1275-1465', '1170-1330', '793-1078', '1240-1300', '1060-1280',\n",
       "       '1050-1230', '1050-1270', '820-1050'], dtype=object)"
      ]
     },
     "execution_count": 23,
     "metadata": {},
     "output_type": "execute_result"
    }
   ],
   "source": [
    "sat_act_by_college['SAT Total 25th-75th Percentile'] = sat_act_by_college['SAT Total 25th-75th Percentile'].str.replace('\\u200b','')\n",
    "sat_act_by_college['SAT Total 25th-75th Percentile'] = sat_act_by_college['SAT Total 25th-75th Percentile'].str.strip()\n",
    "sat_act_by_college = sat_act_by_college[(sat_act_by_college[\"SAT Total 25th-75th Percentile\"]  != '--')]\n",
    "sat_act_by_college['SAT Total 25th-75th Percentile'].unique()"
   ]
  },
  {
   "cell_type": "code",
   "execution_count": 24,
   "metadata": {},
   "outputs": [],
   "source": [
    "sat_act_by_college['SAT Total 25th-75th Percentile'] = sat_act_by_college['SAT Total 25th-75th Percentile'].map(lambda x: str(x)[:-5])"
   ]
  },
  {
   "cell_type": "code",
   "execution_count": 25,
   "metadata": {},
   "outputs": [
    {
     "data": {
      "text/plain": [
       "array(['1440', '1460', '1450', '1530', '1500', '1490', '1390', '1330',\n",
       "       '1380', '1360', '1470', '1400', '1410', '1340', '1270', '1290',\n",
       "       '1350', '1300', '1370', '1283', '1320', '1310', '1348', '1180',\n",
       "       '1280', '1250', '1260', '1220', '1240', '1333', '1210', '1110',\n",
       "       '1255', '1200', '1040', '1090', '1030', '1100', '890', '1325',\n",
       "       '1150', '1160', '1130', '1080', '1230', '1190', '1140', '1020',\n",
       "       '990', '1050', '1203', '950', '1070', '1170', '910', '1060',\n",
       "       '1120', '1142.5', '1045', '1248', '1010', '1078', '940', '1000',\n",
       "       '980', '1153', '1012', '1108', '970', '1038', '960', '1143',\n",
       "       '1008', '1245', '1275', '793', '820'], dtype=object)"
      ]
     },
     "execution_count": 25,
     "metadata": {},
     "output_type": "execute_result"
    }
   ],
   "source": [
    "sat_act_by_college['SAT Total 25th-75th Percentile'].unique()"
   ]
  },
  {
   "cell_type": "code",
   "execution_count": 26,
   "metadata": {
    "scrolled": true,
    "tags": []
   },
   "outputs": [
    {
     "name": "stdout",
     "output_type": "stream",
     "text": [
      "1142.5\n"
     ]
    }
   ],
   "source": [
    "for i in sat_act_by_college['SAT Total 25th-75th Percentile']:\n",
    "    if len(i) > 4:\n",
    "        print(i)"
   ]
  },
  {
   "cell_type": "code",
   "execution_count": 27,
   "metadata": {},
   "outputs": [],
   "source": [
    "sat_act_by_college['SAT Total 25th-75th Percentile'] = sat_act_by_college['SAT Total 25th-75th Percentile'].astype(float)\n",
    "sat_act_by_college['SAT Total 25th-75th Percentile'] = sat_act_by_college['SAT Total 25th-75th Percentile'].round()\n",
    "sat_act_by_college['SAT Total 25th-75th Percentile'] = sat_act_by_college['SAT Total 25th-75th Percentile'].astype(int)"
   ]
  },
  {
   "cell_type": "code",
   "execution_count": 28,
   "metadata": {},
   "outputs": [
    {
     "data": {
      "text/plain": [
       "array(['32-35', '33-35', '35-36', '34-36', '31-34', '31-35', '29-33',\n",
       "       '27-34', '31-33', '30-34', '30-33', '28-34', '32-34', '29-34',\n",
       "       '27-33', '26-32', '28-32', '--', '29-32', '25-33', '26-33',\n",
       "       '28-33', '27-31', '28-31', '22-29', '19-24', '27-32', '22-27',\n",
       "       '26-30', '27-30', '15-20', '20-26', '25-32', '25-31', '24-30',\n",
       "       '22-26', '19-25', '26-31', '23-29', '25-30', '24-29', '22-28',\n",
       "       '20-25', '24-31', '19-26', '19-27', '21-27', '21-26', '24-33',\n",
       "       '16-22', '21-28', '22-30', '23-30', '21-29', '23-28', '23-31',\n",
       "       '20-27', '17-23', '24-28.5', '15-19', '24-28', '17-22', '20-29',\n",
       "       '18-24', '19-28', '20-28', '19.3-25.3', '25-29', '17-24', '17-25',\n",
       "       '18-25'], dtype=object)"
      ]
     },
     "execution_count": 28,
     "metadata": {},
     "output_type": "execute_result"
    }
   ],
   "source": [
    "# working on the sat_act_by_college['ACT Total 25th-75th Percentile'] column \n",
    "sat_act_by_college['ACT Total 25th-75th Percentile'].unique()"
   ]
  },
  {
   "cell_type": "code",
   "execution_count": 29,
   "metadata": {},
   "outputs": [
    {
     "data": {
      "text/plain": [
       "array(['32-35', '33-35', '35-36', '34-36', '31-34', '31-35', '29-33',\n",
       "       '27-34', '31-33', '30-34', '30-33', '28-34', '32-34', '29-34',\n",
       "       '27-33', '26-32', '28-32', '29-32', '25-33', '26-33', '28-33',\n",
       "       '27-31', '28-31', '22-29', '19-24', '27-32', '22-27', '26-30',\n",
       "       '27-30', '15-20', '20-26', '25-32', '25-31', '24-30', '22-26',\n",
       "       '19-25', '26-31', '23-29', '25-30', '24-29', '22-28', '20-25',\n",
       "       '24-31', '19-26', '19-27', '21-27', '21-26', '24-33', '16-22',\n",
       "       '21-28', '22-30', '23-30', '21-29', '23-28', '23-31', '20-27',\n",
       "       '17-23', '24-28.5', '15-19', '24-28', '17-22', '20-29', '18-24',\n",
       "       '19-28', '20-28', '19.3-25.3', '25-29', '17-24', '17-25', '18-25'],\n",
       "      dtype=object)"
      ]
     },
     "execution_count": 29,
     "metadata": {},
     "output_type": "execute_result"
    }
   ],
   "source": [
    "sat_act_by_college = sat_act_by_college[(sat_act_by_college[\"ACT Total 25th-75th Percentile\"]  != '--')]\n",
    "sat_act_by_college['ACT Total 25th-75th Percentile'].unique()"
   ]
  },
  {
   "cell_type": "code",
   "execution_count": 30,
   "metadata": {},
   "outputs": [],
   "source": [
    "sat_act_by_college['ACT Total 25th-75th Percentile'] = sat_act_by_college['ACT Total 25th-75th Percentile'].map(lambda x: str(x)[:-3])"
   ]
  },
  {
   "cell_type": "code",
   "execution_count": 31,
   "metadata": {},
   "outputs": [
    {
     "name": "stdout",
     "output_type": "stream",
     "text": [
      "24-2\n",
      "19.3-2\n"
     ]
    }
   ],
   "source": [
    "for i in sat_act_by_college['ACT Total 25th-75th Percentile']:\n",
    "    if len(i) > 2:\n",
    "        print(i)"
   ]
  },
  {
   "cell_type": "code",
   "execution_count": 32,
   "metadata": {},
   "outputs": [],
   "source": [
    "sat_act_by_college['ACT Total 25th-75th Percentile'] = sat_act_by_college['ACT Total 25th-75th Percentile'].map(lambda x: str(x)[0:2])\n",
    "sat_act_by_college['ACT Total 25th-75th Percentile'] = sat_act_by_college['ACT Total 25th-75th Percentile'].astype(int)"
   ]
  },
  {
   "cell_type": "code",
   "execution_count": 33,
   "metadata": {},
   "outputs": [
    {
     "data": {
      "text/plain": [
       "array([32, 33, 35, 34, 31, 29, 27, 30, 28, 26, 25, 22, 19, 15, 20, 24, 23,\n",
       "       21, 16, 17, 18])"
      ]
     },
     "execution_count": 33,
     "metadata": {},
     "output_type": "execute_result"
    }
   ],
   "source": [
    "sat_act_by_college['ACT Total 25th-75th Percentile'].unique()"
   ]
  },
  {
   "cell_type": "code",
   "execution_count": 34,
   "metadata": {},
   "outputs": [
    {
     "data": {
      "text/html": [
       "<div>\n",
       "<style scoped>\n",
       "    .dataframe tbody tr th:only-of-type {\n",
       "        vertical-align: middle;\n",
       "    }\n",
       "\n",
       "    .dataframe tbody tr th {\n",
       "        vertical-align: top;\n",
       "    }\n",
       "\n",
       "    .dataframe thead th {\n",
       "        text-align: right;\n",
       "    }\n",
       "</style>\n",
       "<table border=\"1\" class=\"dataframe\">\n",
       "  <thead>\n",
       "    <tr style=\"text-align: right;\">\n",
       "      <th></th>\n",
       "      <th>School</th>\n",
       "      <th>Test Optional?</th>\n",
       "      <th>Applies to Class Year(s)</th>\n",
       "      <th>Policy Details</th>\n",
       "      <th>Number of Applicants</th>\n",
       "      <th>Accept Rate</th>\n",
       "      <th>SAT Total 25th-75th Percentile</th>\n",
       "      <th>ACT Total 25th-75th Percentile</th>\n",
       "    </tr>\n",
       "  </thead>\n",
       "  <tbody>\n",
       "    <tr>\n",
       "      <th>0</th>\n",
       "      <td>Stanford University</td>\n",
       "      <td>Yes</td>\n",
       "      <td>2021</td>\n",
       "      <td>Stanford has adopted a one-year test optional ...</td>\n",
       "      <td>47452</td>\n",
       "      <td>4.3%</td>\n",
       "      <td>1440</td>\n",
       "      <td>32</td>\n",
       "    </tr>\n",
       "    <tr>\n",
       "      <th>1</th>\n",
       "      <td>Harvard College</td>\n",
       "      <td>Yes</td>\n",
       "      <td>2021</td>\n",
       "      <td>Harvard has adopted a one-year test optional p...</td>\n",
       "      <td>42749</td>\n",
       "      <td>4.7%</td>\n",
       "      <td>1460</td>\n",
       "      <td>33</td>\n",
       "    </tr>\n",
       "    <tr>\n",
       "      <th>2</th>\n",
       "      <td>Princeton University</td>\n",
       "      <td>Yes</td>\n",
       "      <td>2021</td>\n",
       "      <td>Princeton has adopted a one-year test optional...</td>\n",
       "      <td>35370</td>\n",
       "      <td>5.5%</td>\n",
       "      <td>1440</td>\n",
       "      <td>32</td>\n",
       "    </tr>\n",
       "    <tr>\n",
       "      <th>3</th>\n",
       "      <td>Columbia University</td>\n",
       "      <td>Yes</td>\n",
       "      <td>2021</td>\n",
       "      <td>Columbia has adopted a one-year test optional ...</td>\n",
       "      <td>40203</td>\n",
       "      <td>5.5%</td>\n",
       "      <td>1450</td>\n",
       "      <td>33</td>\n",
       "    </tr>\n",
       "    <tr>\n",
       "      <th>4</th>\n",
       "      <td>Yale University</td>\n",
       "      <td>Yes</td>\n",
       "      <td>2021</td>\n",
       "      <td>Yale has adopted a one-year test optional poli...</td>\n",
       "      <td>36844</td>\n",
       "      <td>6.1%</td>\n",
       "      <td>1460</td>\n",
       "      <td>33</td>\n",
       "    </tr>\n",
       "  </tbody>\n",
       "</table>\n",
       "</div>"
      ],
      "text/plain": [
       "                 School Test Optional? Applies to Class Year(s)  \\\n",
       "0   Stanford University            Yes                     2021   \n",
       "1       Harvard College            Yes                     2021   \n",
       "2  Princeton University            Yes                     2021   \n",
       "3   Columbia University            Yes                     2021   \n",
       "4       Yale University            Yes                     2021   \n",
       "\n",
       "                                      Policy Details  Number of Applicants  \\\n",
       "0  Stanford has adopted a one-year test optional ...                 47452   \n",
       "1  Harvard has adopted a one-year test optional p...                 42749   \n",
       "2  Princeton has adopted a one-year test optional...                 35370   \n",
       "3  Columbia has adopted a one-year test optional ...                 40203   \n",
       "4  Yale has adopted a one-year test optional poli...                 36844   \n",
       "\n",
       "  Accept Rate  SAT Total 25th-75th Percentile  ACT Total 25th-75th Percentile  \n",
       "0        4.3%                            1440                              32  \n",
       "1        4.7%                            1460                              33  \n",
       "2        5.5%                            1440                              32  \n",
       "3        5.5%                            1450                              33  \n",
       "4        6.1%                            1460                              33  "
      ]
     },
     "execution_count": 34,
     "metadata": {},
     "output_type": "execute_result"
    }
   ],
   "source": [
    "sat_act_by_college.head()"
   ]
  },
  {
   "cell_type": "code",
   "execution_count": 35,
   "metadata": {},
   "outputs": [
    {
     "data": {
      "text/html": [
       "<div>\n",
       "<style scoped>\n",
       "    .dataframe tbody tr th:only-of-type {\n",
       "        vertical-align: middle;\n",
       "    }\n",
       "\n",
       "    .dataframe tbody tr th {\n",
       "        vertical-align: top;\n",
       "    }\n",
       "\n",
       "    .dataframe thead th {\n",
       "        text-align: right;\n",
       "    }\n",
       "</style>\n",
       "<table border=\"1\" class=\"dataframe\">\n",
       "  <thead>\n",
       "    <tr style=\"text-align: right;\">\n",
       "      <th></th>\n",
       "      <th>college</th>\n",
       "      <th>test_required?</th>\n",
       "      <th>class_year(s)</th>\n",
       "      <th>policy_details</th>\n",
       "      <th>num_of_applicants</th>\n",
       "      <th>accept_rate</th>\n",
       "      <th>sat_25th_pclt</th>\n",
       "      <th>act_25th_pclt</th>\n",
       "    </tr>\n",
       "  </thead>\n",
       "  <tbody>\n",
       "    <tr>\n",
       "      <th>0</th>\n",
       "      <td>Stanford University</td>\n",
       "      <td>Yes</td>\n",
       "      <td>2021</td>\n",
       "      <td>Stanford has adopted a one-year test optional ...</td>\n",
       "      <td>47452</td>\n",
       "      <td>4.3%</td>\n",
       "      <td>1440</td>\n",
       "      <td>32</td>\n",
       "    </tr>\n",
       "    <tr>\n",
       "      <th>1</th>\n",
       "      <td>Harvard College</td>\n",
       "      <td>Yes</td>\n",
       "      <td>2021</td>\n",
       "      <td>Harvard has adopted a one-year test optional p...</td>\n",
       "      <td>42749</td>\n",
       "      <td>4.7%</td>\n",
       "      <td>1460</td>\n",
       "      <td>33</td>\n",
       "    </tr>\n",
       "    <tr>\n",
       "      <th>2</th>\n",
       "      <td>Princeton University</td>\n",
       "      <td>Yes</td>\n",
       "      <td>2021</td>\n",
       "      <td>Princeton has adopted a one-year test optional...</td>\n",
       "      <td>35370</td>\n",
       "      <td>5.5%</td>\n",
       "      <td>1440</td>\n",
       "      <td>32</td>\n",
       "    </tr>\n",
       "    <tr>\n",
       "      <th>3</th>\n",
       "      <td>Columbia University</td>\n",
       "      <td>Yes</td>\n",
       "      <td>2021</td>\n",
       "      <td>Columbia has adopted a one-year test optional ...</td>\n",
       "      <td>40203</td>\n",
       "      <td>5.5%</td>\n",
       "      <td>1450</td>\n",
       "      <td>33</td>\n",
       "    </tr>\n",
       "    <tr>\n",
       "      <th>4</th>\n",
       "      <td>Yale University</td>\n",
       "      <td>Yes</td>\n",
       "      <td>2021</td>\n",
       "      <td>Yale has adopted a one-year test optional poli...</td>\n",
       "      <td>36844</td>\n",
       "      <td>6.1%</td>\n",
       "      <td>1460</td>\n",
       "      <td>33</td>\n",
       "    </tr>\n",
       "  </tbody>\n",
       "</table>\n",
       "</div>"
      ],
      "text/plain": [
       "                college test_required? class_year(s)  \\\n",
       "0   Stanford University            Yes          2021   \n",
       "1       Harvard College            Yes          2021   \n",
       "2  Princeton University            Yes          2021   \n",
       "3   Columbia University            Yes          2021   \n",
       "4       Yale University            Yes          2021   \n",
       "\n",
       "                                      policy_details  num_of_applicants  \\\n",
       "0  Stanford has adopted a one-year test optional ...              47452   \n",
       "1  Harvard has adopted a one-year test optional p...              42749   \n",
       "2  Princeton has adopted a one-year test optional...              35370   \n",
       "3  Columbia has adopted a one-year test optional ...              40203   \n",
       "4  Yale has adopted a one-year test optional poli...              36844   \n",
       "\n",
       "  accept_rate  sat_25th_pclt  act_25th_pclt  \n",
       "0        4.3%           1440             32  \n",
       "1        4.7%           1460             33  \n",
       "2        5.5%           1440             32  \n",
       "3        5.5%           1450             33  \n",
       "4        6.1%           1460             33  "
      ]
     },
     "execution_count": 35,
     "metadata": {},
     "output_type": "execute_result"
    }
   ],
   "source": [
    "sat_act_by_college.rename(columns={'School': 'college',\n",
    "                                   'Test Optional?': 'test_required?',\n",
    "                                   'Applies to Class Year(s)': 'class_year(s)',\n",
    "                                   'Policy Details': 'policy_details',\n",
    "                                   'Number of Applicants':'num_of_applicants',\n",
    "                                   'Accept Rate':'accept_rate',\n",
    "                                   'SAT Total 25th-75th Percentile':'sat_25th_pclt',\n",
    "                                   'ACT Total 25th-75th Percentile':'act_25th_pclt'},inplace=True)\n",
    "sat_act_by_college.head()"
   ]
  },
  {
   "cell_type": "markdown",
   "metadata": {},
   "source": [
    "#### 'sat_act_score_convertor' Dataset"
   ]
  },
  {
   "cell_type": "code",
   "execution_count": 36,
   "metadata": {},
   "outputs": [
    {
     "data": {
      "text/html": [
       "<div>\n",
       "<style scoped>\n",
       "    .dataframe tbody tr th:only-of-type {\n",
       "        vertical-align: middle;\n",
       "    }\n",
       "\n",
       "    .dataframe tbody tr th {\n",
       "        vertical-align: top;\n",
       "    }\n",
       "\n",
       "    .dataframe thead th {\n",
       "        text-align: right;\n",
       "    }\n",
       "</style>\n",
       "<table border=\"1\" class=\"dataframe\">\n",
       "  <thead>\n",
       "    <tr style=\"text-align: right;\">\n",
       "      <th></th>\n",
       "      <th>SAT_Score</th>\n",
       "      <th>ACT_Score</th>\n",
       "    </tr>\n",
       "  </thead>\n",
       "  <tbody>\n",
       "    <tr>\n",
       "      <th>0</th>\n",
       "      <td>1560</td>\n",
       "      <td>36</td>\n",
       "    </tr>\n",
       "    <tr>\n",
       "      <th>1</th>\n",
       "      <td>1540</td>\n",
       "      <td>35</td>\n",
       "    </tr>\n",
       "    <tr>\n",
       "      <th>2</th>\n",
       "      <td>1500</td>\n",
       "      <td>34</td>\n",
       "    </tr>\n",
       "    <tr>\n",
       "      <th>3</th>\n",
       "      <td>1460</td>\n",
       "      <td>33</td>\n",
       "    </tr>\n",
       "    <tr>\n",
       "      <th>4</th>\n",
       "      <td>1430</td>\n",
       "      <td>32</td>\n",
       "    </tr>\n",
       "  </tbody>\n",
       "</table>\n",
       "</div>"
      ],
      "text/plain": [
       "   SAT_Score  ACT_Score\n",
       "0       1560         36\n",
       "1       1540         35\n",
       "2       1500         34\n",
       "3       1460         33\n",
       "4       1430         32"
      ]
     },
     "execution_count": 36,
     "metadata": {},
     "output_type": "execute_result"
    }
   ],
   "source": [
    "sat_act_score_convertor.head()"
   ]
  },
  {
   "cell_type": "code",
   "execution_count": 37,
   "metadata": {},
   "outputs": [
    {
     "name": "stdout",
     "output_type": "stream",
     "text": [
      "<class 'pandas.core.frame.DataFrame'>\n",
      "RangeIndex: 28 entries, 0 to 27\n",
      "Data columns (total 2 columns):\n",
      " #   Column     Non-Null Count  Dtype\n",
      "---  ------     --------------  -----\n",
      " 0   SAT_Score  28 non-null     int64\n",
      " 1   ACT_Score  28 non-null     int64\n",
      "dtypes: int64(2)\n",
      "memory usage: 576.0 bytes\n"
     ]
    }
   ],
   "source": [
    "sat_act_score_convertor.info()"
   ]
  },
  {
   "cell_type": "markdown",
   "metadata": {},
   "source": [
    "### <span style=\"color: Blue;\">Observation</span>\n",
    "\n",
    "There is no missing and suspicious value. However, there is a need to change column names."
   ]
  },
  {
   "cell_type": "code",
   "execution_count": 38,
   "metadata": {},
   "outputs": [
    {
     "data": {
      "text/html": [
       "<div>\n",
       "<style scoped>\n",
       "    .dataframe tbody tr th:only-of-type {\n",
       "        vertical-align: middle;\n",
       "    }\n",
       "\n",
       "    .dataframe tbody tr th {\n",
       "        vertical-align: top;\n",
       "    }\n",
       "\n",
       "    .dataframe thead th {\n",
       "        text-align: right;\n",
       "    }\n",
       "</style>\n",
       "<table border=\"1\" class=\"dataframe\">\n",
       "  <thead>\n",
       "    <tr style=\"text-align: right;\">\n",
       "      <th></th>\n",
       "      <th>sat_score</th>\n",
       "      <th>act_score</th>\n",
       "    </tr>\n",
       "  </thead>\n",
       "  <tbody>\n",
       "    <tr>\n",
       "      <th>0</th>\n",
       "      <td>1560</td>\n",
       "      <td>36</td>\n",
       "    </tr>\n",
       "    <tr>\n",
       "      <th>1</th>\n",
       "      <td>1540</td>\n",
       "      <td>35</td>\n",
       "    </tr>\n",
       "    <tr>\n",
       "      <th>2</th>\n",
       "      <td>1500</td>\n",
       "      <td>34</td>\n",
       "    </tr>\n",
       "    <tr>\n",
       "      <th>3</th>\n",
       "      <td>1460</td>\n",
       "      <td>33</td>\n",
       "    </tr>\n",
       "    <tr>\n",
       "      <th>4</th>\n",
       "      <td>1430</td>\n",
       "      <td>32</td>\n",
       "    </tr>\n",
       "  </tbody>\n",
       "</table>\n",
       "</div>"
      ],
      "text/plain": [
       "   sat_score  act_score\n",
       "0       1560         36\n",
       "1       1540         35\n",
       "2       1500         34\n",
       "3       1460         33\n",
       "4       1430         32"
      ]
     },
     "execution_count": 38,
     "metadata": {},
     "output_type": "execute_result"
    }
   ],
   "source": [
    "sat_act_score_convertor.rename(columns={'SAT_Score': 'sat_score', 'ACT_Score': 'act_score'}, inplace=True)\n",
    "sat_act_score_convertor.head()"
   ]
  },
  {
   "cell_type": "markdown",
   "metadata": {},
   "source": [
    "### 4.2 Combining Dataset"
   ]
  },
  {
   "cell_type": "markdown",
   "metadata": {},
   "source": [
    "We shall proceed to:\n",
    "\n",
    "1. Merge the 'act_2019' and 'sat_2019' datasets together;\n",
    "2. Calculate the projected SAT score for each state for the merged dataset based on the 'sat_act_score_convertor' dataset (The approach is to use ACT score in the 'sat_act_score_convertor' dataset to project SAT score for the merged dataset as ACT score allows us to use matching values); and\n",
    "3. Calculate the projected SAT score for each state for the 'sat_act_by_college' dataset based on the sat_act_score_convertor."
   ]
  },
  {
   "cell_type": "code",
   "execution_count": 39,
   "metadata": {},
   "outputs": [
    {
     "data": {
      "text/html": [
       "<div>\n",
       "<style scoped>\n",
       "    .dataframe tbody tr th:only-of-type {\n",
       "        vertical-align: middle;\n",
       "    }\n",
       "\n",
       "    .dataframe tbody tr th {\n",
       "        vertical-align: top;\n",
       "    }\n",
       "\n",
       "    .dataframe thead th {\n",
       "        text-align: right;\n",
       "    }\n",
       "</style>\n",
       "<table border=\"1\" class=\"dataframe\">\n",
       "  <thead>\n",
       "    <tr style=\"text-align: right;\">\n",
       "      <th></th>\n",
       "      <th>state</th>\n",
       "      <th>act_participation_%</th>\n",
       "      <th>act_composite</th>\n",
       "      <th>sat_participation_%</th>\n",
       "      <th>sat_ebrw</th>\n",
       "      <th>sat_math</th>\n",
       "      <th>sat_total</th>\n",
       "    </tr>\n",
       "  </thead>\n",
       "  <tbody>\n",
       "    <tr>\n",
       "      <th>0</th>\n",
       "      <td>Alabama</td>\n",
       "      <td>100</td>\n",
       "      <td>19</td>\n",
       "      <td>7</td>\n",
       "      <td>583</td>\n",
       "      <td>560</td>\n",
       "      <td>1143</td>\n",
       "    </tr>\n",
       "    <tr>\n",
       "      <th>1</th>\n",
       "      <td>Alaska</td>\n",
       "      <td>38</td>\n",
       "      <td>20</td>\n",
       "      <td>41</td>\n",
       "      <td>556</td>\n",
       "      <td>541</td>\n",
       "      <td>1097</td>\n",
       "    </tr>\n",
       "    <tr>\n",
       "      <th>2</th>\n",
       "      <td>Arizona</td>\n",
       "      <td>73</td>\n",
       "      <td>19</td>\n",
       "      <td>31</td>\n",
       "      <td>569</td>\n",
       "      <td>565</td>\n",
       "      <td>1134</td>\n",
       "    </tr>\n",
       "    <tr>\n",
       "      <th>3</th>\n",
       "      <td>Arkansas</td>\n",
       "      <td>100</td>\n",
       "      <td>19</td>\n",
       "      <td>6</td>\n",
       "      <td>582</td>\n",
       "      <td>559</td>\n",
       "      <td>1141</td>\n",
       "    </tr>\n",
       "    <tr>\n",
       "      <th>4</th>\n",
       "      <td>California</td>\n",
       "      <td>23</td>\n",
       "      <td>23</td>\n",
       "      <td>63</td>\n",
       "      <td>534</td>\n",
       "      <td>531</td>\n",
       "      <td>1065</td>\n",
       "    </tr>\n",
       "  </tbody>\n",
       "</table>\n",
       "</div>"
      ],
      "text/plain": [
       "        state  act_participation_%  act_composite  sat_participation_%  \\\n",
       "0     Alabama                  100             19                    7   \n",
       "1      Alaska                   38             20                   41   \n",
       "2     Arizona                   73             19                   31   \n",
       "3    Arkansas                  100             19                    6   \n",
       "4  California                   23             23                   63   \n",
       "\n",
       "   sat_ebrw  sat_math  sat_total  \n",
       "0       583       560       1143  \n",
       "1       556       541       1097  \n",
       "2       569       565       1134  \n",
       "3       582       559       1141  \n",
       "4       534       531       1065  "
      ]
     },
     "execution_count": 39,
     "metadata": {},
     "output_type": "execute_result"
    }
   ],
   "source": [
    "act_sat_2019 = act_2019.merge(sat_2019, how='inner', on='state')\n",
    "act_sat_2019.head()"
   ]
  },
  {
   "cell_type": "code",
   "execution_count": 40,
   "metadata": {},
   "outputs": [
    {
     "name": "stdout",
     "output_type": "stream",
     "text": [
      "{36: 1560, 35: 1540, 34: 1500, 33: 1460, 32: 1430, 31: 1400, 30: 1370, 29: 1340, 28: 1310, 27: 1280, 26: 1240, 25: 1210, 24: 1180, 23: 1140, 22: 1110, 21: 1080, 20: 1040, 19: 1010, 18: 970, 17: 930, 16: 890, 15: 850, 14: 800, 13: 760, 12: 710, 11: 670, 10: 630, 9: 590}\n"
     ]
    }
   ],
   "source": [
    "# convert the sat_act_score_convertor into a dict\n",
    "sat_act_score_dict = sat_act_score_convertor.set_index('act_score').T.to_dict('records')\n",
    "for i in sat_act_score_dict:\n",
    "    sat_act_score_dict = i\n",
    "print(sat_act_score_dict)"
   ]
  },
  {
   "cell_type": "code",
   "execution_count": 41,
   "metadata": {},
   "outputs": [
    {
     "name": "stdout",
     "output_type": "stream",
     "text": [
      "[1010, 1040, 1010]\n"
     ]
    }
   ],
   "source": [
    "# add the dict into the state dataset\n",
    "proj_sat_score_state = []\n",
    "for i in act_sat_2019['act_composite']:\n",
    "    for j, k in sat_act_score_dict.items():\n",
    "        if i == j: \n",
    "            proj_sat_score_state.append(k)\n",
    "print(proj_sat_score_state[:3])"
   ]
  },
  {
   "cell_type": "code",
   "execution_count": 42,
   "metadata": {},
   "outputs": [
    {
     "data": {
      "text/html": [
       "<div>\n",
       "<style scoped>\n",
       "    .dataframe tbody tr th:only-of-type {\n",
       "        vertical-align: middle;\n",
       "    }\n",
       "\n",
       "    .dataframe tbody tr th {\n",
       "        vertical-align: top;\n",
       "    }\n",
       "\n",
       "    .dataframe thead th {\n",
       "        text-align: right;\n",
       "    }\n",
       "</style>\n",
       "<table border=\"1\" class=\"dataframe\">\n",
       "  <thead>\n",
       "    <tr style=\"text-align: right;\">\n",
       "      <th></th>\n",
       "      <th>state</th>\n",
       "      <th>act_participation_%</th>\n",
       "      <th>act_composite</th>\n",
       "      <th>sat_participation_%</th>\n",
       "      <th>sat_ebrw</th>\n",
       "      <th>sat_math</th>\n",
       "      <th>sat_total</th>\n",
       "      <th>proj_sat_score_state</th>\n",
       "    </tr>\n",
       "  </thead>\n",
       "  <tbody>\n",
       "    <tr>\n",
       "      <th>0</th>\n",
       "      <td>Alabama</td>\n",
       "      <td>100</td>\n",
       "      <td>19</td>\n",
       "      <td>7</td>\n",
       "      <td>583</td>\n",
       "      <td>560</td>\n",
       "      <td>1143</td>\n",
       "      <td>1010</td>\n",
       "    </tr>\n",
       "    <tr>\n",
       "      <th>1</th>\n",
       "      <td>Alaska</td>\n",
       "      <td>38</td>\n",
       "      <td>20</td>\n",
       "      <td>41</td>\n",
       "      <td>556</td>\n",
       "      <td>541</td>\n",
       "      <td>1097</td>\n",
       "      <td>1040</td>\n",
       "    </tr>\n",
       "    <tr>\n",
       "      <th>2</th>\n",
       "      <td>Arizona</td>\n",
       "      <td>73</td>\n",
       "      <td>19</td>\n",
       "      <td>31</td>\n",
       "      <td>569</td>\n",
       "      <td>565</td>\n",
       "      <td>1134</td>\n",
       "      <td>1010</td>\n",
       "    </tr>\n",
       "    <tr>\n",
       "      <th>3</th>\n",
       "      <td>Arkansas</td>\n",
       "      <td>100</td>\n",
       "      <td>19</td>\n",
       "      <td>6</td>\n",
       "      <td>582</td>\n",
       "      <td>559</td>\n",
       "      <td>1141</td>\n",
       "      <td>1010</td>\n",
       "    </tr>\n",
       "    <tr>\n",
       "      <th>4</th>\n",
       "      <td>California</td>\n",
       "      <td>23</td>\n",
       "      <td>23</td>\n",
       "      <td>63</td>\n",
       "      <td>534</td>\n",
       "      <td>531</td>\n",
       "      <td>1065</td>\n",
       "      <td>1140</td>\n",
       "    </tr>\n",
       "  </tbody>\n",
       "</table>\n",
       "</div>"
      ],
      "text/plain": [
       "        state  act_participation_%  act_composite  sat_participation_%  \\\n",
       "0     Alabama                  100             19                    7   \n",
       "1      Alaska                   38             20                   41   \n",
       "2     Arizona                   73             19                   31   \n",
       "3    Arkansas                  100             19                    6   \n",
       "4  California                   23             23                   63   \n",
       "\n",
       "   sat_ebrw  sat_math  sat_total  proj_sat_score_state  \n",
       "0       583       560       1143                  1010  \n",
       "1       556       541       1097                  1040  \n",
       "2       569       565       1134                  1010  \n",
       "3       582       559       1141                  1010  \n",
       "4       534       531       1065                  1140  "
      ]
     },
     "execution_count": 42,
     "metadata": {},
     "output_type": "execute_result"
    }
   ],
   "source": [
    "act_sat_2019['proj_sat_score_state'] = proj_sat_score_state\n",
    "act_sat_2019.head()"
   ]
  },
  {
   "cell_type": "code",
   "execution_count": 43,
   "metadata": {},
   "outputs": [
    {
     "name": "stdout",
     "output_type": "stream",
     "text": [
      "[1430, 1460, 1430]\n"
     ]
    }
   ],
   "source": [
    "# add the dict into the college dataset\n",
    "proj_sat_score_college = []\n",
    "for i in sat_act_by_college['act_25th_pclt']:\n",
    "    for j, k in sat_act_score_dict.items():\n",
    "        if i == j: proj_sat_score_college.append(k)\n",
    "print(proj_sat_score_college[:3])"
   ]
  },
  {
   "cell_type": "code",
   "execution_count": 44,
   "metadata": {},
   "outputs": [
    {
     "name": "stdout",
     "output_type": "stream",
     "text": [
      "<class 'pandas.core.frame.DataFrame'>\n",
      "Int64Index: 405 entries, 0 to 415\n",
      "Data columns (total 9 columns):\n",
      " #   Column                  Non-Null Count  Dtype \n",
      "---  ------                  --------------  ----- \n",
      " 0   college                 405 non-null    object\n",
      " 1   test_required?          405 non-null    object\n",
      " 2   class_year(s)           380 non-null    object\n",
      " 3   policy_details          405 non-null    object\n",
      " 4   num_of_applicants       405 non-null    int64 \n",
      " 5   accept_rate             405 non-null    object\n",
      " 6   sat_25th_pclt           405 non-null    int64 \n",
      " 7   act_25th_pclt           405 non-null    int64 \n",
      " 8   proj_sat_score_college  405 non-null    int64 \n",
      "dtypes: int64(4), object(5)\n",
      "memory usage: 31.6+ KB\n"
     ]
    }
   ],
   "source": [
    "sat_act_by_college['proj_sat_score_college'] = proj_sat_score_college\n",
    "sat_act_by_college.info()"
   ]
  },
  {
   "cell_type": "markdown",
   "metadata": {},
   "source": [
    "## 5. Reliability of the SAT and ACT Concordance Table"
   ]
  },
  {
   "cell_type": "markdown",
   "metadata": {},
   "source": [
    "In order to gauge the reliability of the SAT and ACT concordance table, we shall examine the correlation between the projected SAT score and the actual SAT scores of both datasets."
   ]
  },
  {
   "cell_type": "markdown",
   "metadata": {},
   "source": [
    "### 5.1 Correlation with College Dataset"
   ]
  },
  {
   "cell_type": "code",
   "execution_count": 45,
   "metadata": {},
   "outputs": [
    {
     "data": {
      "image/png": "[encoded data removed]",
      "text/plain": [
       "<Figure size 720x576 with 1 Axes>"
      ]
     },
     "metadata": {
      "needs_background": "light"
     },
     "output_type": "display_data"
    }
   ],
   "source": [
    "heatmap(sat_act_by_college)\n",
    "plt.title(\"Correlation between Projected SAT Score & SAT Score from College Dataset\", size='16');"
   ]
  },
  {
   "cell_type": "markdown",
   "metadata": {},
   "source": [
    "### <span style=\"color: Blue;\">Finding</span>\n",
    "\n",
    "There is a strong positive correlation of 0.96 for the projected SAT score and the SAT score at 25th percentile of the college dataset. As the value is the same as the correlation value between the ACT score at 25th percentile and the SAT score at 25th percentile, this suggests that the SAT and ACT concordance table is generally a reliable indicator to measure the SAT score required from ACT score. However, further analysis is required to examine if this is the case for each individual college."
   ]
  },
  {
   "cell_type": "markdown",
   "metadata": {},
   "source": [
    "### 5.2 Correlation with State Dataset"
   ]
  },
  {
   "cell_type": "code",
   "execution_count": 46,
   "metadata": {},
   "outputs": [
    {
     "data": {
      "image/png": "[encoded data removed]",
      "text/plain": [
       "<Figure size 720x576 with 1 Axes>"
      ]
     },
     "metadata": {
      "needs_background": "light"
     },
     "output_type": "display_data"
    }
   ],
   "source": [
    "heatmap(act_sat_2019)\n",
    "plt.title(\"Correlation between Projected SAT Score & SAT Score from State Dataset\", size='16');"
   ]
  },
  {
   "cell_type": "markdown",
   "metadata": {},
   "source": [
    "### <span style=\"color: Blue;\">Finding</span>\n",
    "\n",
    "There is a negative correlation of -0.42 for the projected SAT score and the SAT score of the state dataset. Nevertheless, this is close to the -0.41 correlation value between the ACT and SAT score. This suggests that the SAT and ACT concordance table is still a reliable indicator to measure the SAT score required from ACT score as a whole. However, like the college dataset, it remains to be seen if this is the case for each individual state.\n",
    "\n",
    "There are also other findings worth highlighting from the above visualisation:\n",
    "1. There is a strong negative correlation (-0.85) between ACT participation rate and ACT score. The same relationship holds true (-0.86) for SAT participation rate and SAT score. One possible explanation why the minority of each state did better in the less popular test than majority is that because they are more driven to do well in opting for the less popular test.\n",
    "2. The negative correlation of -0.41 between the ACT and SAT score implies that states generally do better for either test."
   ]
  },
  {
   "cell_type": "markdown",
   "metadata": {},
   "source": [
    "## 6. Examining College Dataset"
   ]
  },
  {
   "cell_type": "markdown",
   "metadata": {},
   "source": [
    "We shall examine the relationship between the projected SAT score and the 25th percentile SAT score of each college. "
   ]
  },
  {
   "cell_type": "code",
   "execution_count": 47,
   "metadata": {},
   "outputs": [
    {
     "data": {
      "text/html": [
       "<div>\n",
       "<style scoped>\n",
       "    .dataframe tbody tr th:only-of-type {\n",
       "        vertical-align: middle;\n",
       "    }\n",
       "\n",
       "    .dataframe tbody tr th {\n",
       "        vertical-align: top;\n",
       "    }\n",
       "\n",
       "    .dataframe thead th {\n",
       "        text-align: right;\n",
       "    }\n",
       "</style>\n",
       "<table border=\"1\" class=\"dataframe\">\n",
       "  <thead>\n",
       "    <tr style=\"text-align: right;\">\n",
       "      <th></th>\n",
       "      <th>college</th>\n",
       "      <th>test_required?</th>\n",
       "      <th>class_year(s)</th>\n",
       "      <th>policy_details</th>\n",
       "      <th>num_of_applicants</th>\n",
       "      <th>accept_rate</th>\n",
       "      <th>sat_25th_pclt</th>\n",
       "      <th>act_25th_pclt</th>\n",
       "      <th>proj_sat_score_college</th>\n",
       "      <th>diff_between_sat_scores</th>\n",
       "    </tr>\n",
       "  </thead>\n",
       "  <tbody>\n",
       "    <tr>\n",
       "      <th>0</th>\n",
       "      <td>Stanford University</td>\n",
       "      <td>Yes</td>\n",
       "      <td>2021</td>\n",
       "      <td>Stanford has adopted a one-year test optional ...</td>\n",
       "      <td>47452</td>\n",
       "      <td>4.3%</td>\n",
       "      <td>1440</td>\n",
       "      <td>32</td>\n",
       "      <td>1430</td>\n",
       "      <td>-10</td>\n",
       "    </tr>\n",
       "    <tr>\n",
       "      <th>1</th>\n",
       "      <td>Harvard College</td>\n",
       "      <td>Yes</td>\n",
       "      <td>2021</td>\n",
       "      <td>Harvard has adopted a one-year test optional p...</td>\n",
       "      <td>42749</td>\n",
       "      <td>4.7%</td>\n",
       "      <td>1460</td>\n",
       "      <td>33</td>\n",
       "      <td>1460</td>\n",
       "      <td>0</td>\n",
       "    </tr>\n",
       "    <tr>\n",
       "      <th>2</th>\n",
       "      <td>Princeton University</td>\n",
       "      <td>Yes</td>\n",
       "      <td>2021</td>\n",
       "      <td>Princeton has adopted a one-year test optional...</td>\n",
       "      <td>35370</td>\n",
       "      <td>5.5%</td>\n",
       "      <td>1440</td>\n",
       "      <td>32</td>\n",
       "      <td>1430</td>\n",
       "      <td>-10</td>\n",
       "    </tr>\n",
       "    <tr>\n",
       "      <th>3</th>\n",
       "      <td>Columbia University</td>\n",
       "      <td>Yes</td>\n",
       "      <td>2021</td>\n",
       "      <td>Columbia has adopted a one-year test optional ...</td>\n",
       "      <td>40203</td>\n",
       "      <td>5.5%</td>\n",
       "      <td>1450</td>\n",
       "      <td>33</td>\n",
       "      <td>1460</td>\n",
       "      <td>10</td>\n",
       "    </tr>\n",
       "    <tr>\n",
       "      <th>4</th>\n",
       "      <td>Yale University</td>\n",
       "      <td>Yes</td>\n",
       "      <td>2021</td>\n",
       "      <td>Yale has adopted a one-year test optional poli...</td>\n",
       "      <td>36844</td>\n",
       "      <td>6.1%</td>\n",
       "      <td>1460</td>\n",
       "      <td>33</td>\n",
       "      <td>1460</td>\n",
       "      <td>0</td>\n",
       "    </tr>\n",
       "  </tbody>\n",
       "</table>\n",
       "</div>"
      ],
      "text/plain": [
       "                college test_required? class_year(s)  \\\n",
       "0   Stanford University            Yes          2021   \n",
       "1       Harvard College            Yes          2021   \n",
       "2  Princeton University            Yes          2021   \n",
       "3   Columbia University            Yes          2021   \n",
       "4       Yale University            Yes          2021   \n",
       "\n",
       "                                      policy_details  num_of_applicants  \\\n",
       "0  Stanford has adopted a one-year test optional ...              47452   \n",
       "1  Harvard has adopted a one-year test optional p...              42749   \n",
       "2  Princeton has adopted a one-year test optional...              35370   \n",
       "3  Columbia has adopted a one-year test optional ...              40203   \n",
       "4  Yale has adopted a one-year test optional poli...              36844   \n",
       "\n",
       "  accept_rate  sat_25th_pclt  act_25th_pclt  proj_sat_score_college  \\\n",
       "0        4.3%           1440             32                    1430   \n",
       "1        4.7%           1460             33                    1460   \n",
       "2        5.5%           1440             32                    1430   \n",
       "3        5.5%           1450             33                    1460   \n",
       "4        6.1%           1460             33                    1460   \n",
       "\n",
       "   diff_between_sat_scores  \n",
       "0                      -10  \n",
       "1                        0  \n",
       "2                      -10  \n",
       "3                       10  \n",
       "4                        0  "
      ]
     },
     "execution_count": 47,
     "metadata": {},
     "output_type": "execute_result"
    }
   ],
   "source": [
    "# create a new column in the dataset to capture the difference in value \n",
    "sat_act_by_college['diff_between_sat_scores'] = sat_act_by_college['proj_sat_score_college']-sat_act_by_college['sat_25th_pclt']\n",
    "sat_act_by_college.head()"
   ]
  },
  {
   "cell_type": "code",
   "execution_count": 48,
   "metadata": {},
   "outputs": [
    {
     "data": {
      "text/plain": [
       "38.0"
      ]
     },
     "execution_count": 48,
     "metadata": {},
     "output_type": "execute_result"
    }
   ],
   "source": [
    "# we want to help students to decide between which of the tests is more favourable to enter each college\n",
    "# we will need a marker to differentiate between three categories: (1)ACT Preferred, (2)SAT Preferred and (3)Neutral\n",
    "# we will set the marker as one standard deviation from mean to separate the categories\n",
    "sat_act_by_college['diff_between_sat_scores'].std().round()"
   ]
  },
  {
   "cell_type": "code",
   "execution_count": 49,
   "metadata": {},
   "outputs": [
    {
     "data": {
      "text/html": [
       "<div>\n",
       "<style scoped>\n",
       "    .dataframe tbody tr th:only-of-type {\n",
       "        vertical-align: middle;\n",
       "    }\n",
       "\n",
       "    .dataframe tbody tr th {\n",
       "        vertical-align: top;\n",
       "    }\n",
       "\n",
       "    .dataframe thead th {\n",
       "        text-align: right;\n",
       "    }\n",
       "</style>\n",
       "<table border=\"1\" class=\"dataframe\">\n",
       "  <thead>\n",
       "    <tr style=\"text-align: right;\">\n",
       "      <th></th>\n",
       "      <th>college</th>\n",
       "      <th>test_required?</th>\n",
       "      <th>class_year(s)</th>\n",
       "      <th>policy_details</th>\n",
       "      <th>num_of_applicants</th>\n",
       "      <th>accept_rate</th>\n",
       "      <th>sat_25th_pclt</th>\n",
       "      <th>act_25th_pclt</th>\n",
       "      <th>proj_sat_score_college</th>\n",
       "      <th>diff_between_sat_scores</th>\n",
       "      <th>recommendation</th>\n",
       "    </tr>\n",
       "  </thead>\n",
       "  <tbody>\n",
       "    <tr>\n",
       "      <th>0</th>\n",
       "      <td>Stanford University</td>\n",
       "      <td>Yes</td>\n",
       "      <td>2021</td>\n",
       "      <td>Stanford has adopted a one-year test optional ...</td>\n",
       "      <td>47452</td>\n",
       "      <td>4.3%</td>\n",
       "      <td>1440</td>\n",
       "      <td>32</td>\n",
       "      <td>1430</td>\n",
       "      <td>-10</td>\n",
       "      <td>Neutral</td>\n",
       "    </tr>\n",
       "    <tr>\n",
       "      <th>1</th>\n",
       "      <td>Harvard College</td>\n",
       "      <td>Yes</td>\n",
       "      <td>2021</td>\n",
       "      <td>Harvard has adopted a one-year test optional p...</td>\n",
       "      <td>42749</td>\n",
       "      <td>4.7%</td>\n",
       "      <td>1460</td>\n",
       "      <td>33</td>\n",
       "      <td>1460</td>\n",
       "      <td>0</td>\n",
       "      <td>Neutral</td>\n",
       "    </tr>\n",
       "    <tr>\n",
       "      <th>2</th>\n",
       "      <td>Princeton University</td>\n",
       "      <td>Yes</td>\n",
       "      <td>2021</td>\n",
       "      <td>Princeton has adopted a one-year test optional...</td>\n",
       "      <td>35370</td>\n",
       "      <td>5.5%</td>\n",
       "      <td>1440</td>\n",
       "      <td>32</td>\n",
       "      <td>1430</td>\n",
       "      <td>-10</td>\n",
       "      <td>Neutral</td>\n",
       "    </tr>\n",
       "    <tr>\n",
       "      <th>3</th>\n",
       "      <td>Columbia University</td>\n",
       "      <td>Yes</td>\n",
       "      <td>2021</td>\n",
       "      <td>Columbia has adopted a one-year test optional ...</td>\n",
       "      <td>40203</td>\n",
       "      <td>5.5%</td>\n",
       "      <td>1450</td>\n",
       "      <td>33</td>\n",
       "      <td>1460</td>\n",
       "      <td>10</td>\n",
       "      <td>Neutral</td>\n",
       "    </tr>\n",
       "    <tr>\n",
       "      <th>4</th>\n",
       "      <td>Yale University</td>\n",
       "      <td>Yes</td>\n",
       "      <td>2021</td>\n",
       "      <td>Yale has adopted a one-year test optional poli...</td>\n",
       "      <td>36844</td>\n",
       "      <td>6.1%</td>\n",
       "      <td>1460</td>\n",
       "      <td>33</td>\n",
       "      <td>1460</td>\n",
       "      <td>0</td>\n",
       "      <td>Neutral</td>\n",
       "    </tr>\n",
       "  </tbody>\n",
       "</table>\n",
       "</div>"
      ],
      "text/plain": [
       "                college test_required? class_year(s)  \\\n",
       "0   Stanford University            Yes          2021   \n",
       "1       Harvard College            Yes          2021   \n",
       "2  Princeton University            Yes          2021   \n",
       "3   Columbia University            Yes          2021   \n",
       "4       Yale University            Yes          2021   \n",
       "\n",
       "                                      policy_details  num_of_applicants  \\\n",
       "0  Stanford has adopted a one-year test optional ...              47452   \n",
       "1  Harvard has adopted a one-year test optional p...              42749   \n",
       "2  Princeton has adopted a one-year test optional...              35370   \n",
       "3  Columbia has adopted a one-year test optional ...              40203   \n",
       "4  Yale has adopted a one-year test optional poli...              36844   \n",
       "\n",
       "  accept_rate  sat_25th_pclt  act_25th_pclt  proj_sat_score_college  \\\n",
       "0        4.3%           1440             32                    1430   \n",
       "1        4.7%           1460             33                    1460   \n",
       "2        5.5%           1440             32                    1430   \n",
       "3        5.5%           1450             33                    1460   \n",
       "4        6.1%           1460             33                    1460   \n",
       "\n",
       "   diff_between_sat_scores recommendation  \n",
       "0                      -10        Neutral  \n",
       "1                        0        Neutral  \n",
       "2                      -10        Neutral  \n",
       "3                       10        Neutral  \n",
       "4                        0        Neutral  "
      ]
     },
     "execution_count": 49,
     "metadata": {},
     "output_type": "execute_result"
    }
   ],
   "source": [
    "# create a new column to recommend students which test is more favourable\n",
    "recommendation = []\n",
    "for i in sat_act_by_college['diff_between_sat_scores']:\n",
    "        if i > 38: recommendation.append('ACT Preferred')\n",
    "        elif i < -38: recommendation.append('SAT Preferred')\n",
    "        else: recommendation.append('Neutral')\n",
    "sat_act_by_college['recommendation'] = recommendation\n",
    "sat_act_by_college.head()"
   ]
  },
  {
   "cell_type": "code",
   "execution_count": 50,
   "metadata": {},
   "outputs": [
    {
     "data": {
      "image/png": "[encoded data removed]",
      "text/plain": [
       "<Figure size 720x576 with 1 Axes>"
      ]
     },
     "metadata": {
      "needs_background": "light"
     },
     "output_type": "display_data"
    }
   ],
   "source": [
    "bar(sat_act_by_college)\n",
    "plt.title(\"Colleges tend to prefer ACT Score to SAT Score\", size='16')\n",
    "plt.xlabel('Number of Colleges', size='14');"
   ]
  },
  {
   "cell_type": "code",
   "execution_count": 51,
   "metadata": {},
   "outputs": [
    {
     "data": {
      "text/plain": [
       "35              Washington University in St. Louis\n",
       "69         University of California—​Santa Barbara\n",
       "101       California State University--Los Angeles\n",
       "146               University of Wisconsin—​Madison\n",
       "173            California State University--Fresno\n",
       "223       University of North Carolina—​Wilmington\n",
       "246    California State University--San Bernardino\n",
       "269                University of California—Merced\n",
       "347        California State University--Sacramento\n",
       "351                 University of Alaska Anchorage\n",
       "360                          University of Arizona\n",
       "377                      Humboldt State University\n",
       "380                             Washington College\n",
       "387                                 Portland State\n",
       "402                          Florida International\n",
       "Name: college, dtype: object"
      ]
     },
     "execution_count": 51,
     "metadata": {},
     "output_type": "execute_result"
    }
   ],
   "source": [
    "sat_act_by_college[sat_act_by_college['recommendation']=='SAT Preferred']['college']"
   ]
  },
  {
   "cell_type": "markdown",
   "metadata": {},
   "source": [
    "### <span style=\"color: Blue;\">Finding</span>\n",
    "\n",
    "While most colleges have no preference over either test, the number of colleges which prefer ACT score is substantially more those which prefer SAT score. Hence, unless one's dream college belongs to the list of college preferring SAT, it would be more advisable for students to take ACT test in general. The finding is contrary to popular opinion that colleges do not prefer one test over another. See [crimson education](https://www.crimsoneducation.org/sg/blog/test-prep/sat-vs-act-whats-the-difference/), [the olive book](https://theolivebook.com/do-colleges-prefer-the-sat-or-the-act/) etc."
   ]
  },
  {
   "cell_type": "markdown",
   "metadata": {},
   "source": [
    "## 7. Examining State Dataset"
   ]
  },
  {
   "cell_type": "markdown",
   "metadata": {},
   "source": [
    "We shall examine the relationship between the projected SAT score and the SAT score of each state."
   ]
  },
  {
   "cell_type": "code",
   "execution_count": 52,
   "metadata": {},
   "outputs": [
    {
     "data": {
      "text/html": [
       "<div>\n",
       "<style scoped>\n",
       "    .dataframe tbody tr th:only-of-type {\n",
       "        vertical-align: middle;\n",
       "    }\n",
       "\n",
       "    .dataframe tbody tr th {\n",
       "        vertical-align: top;\n",
       "    }\n",
       "\n",
       "    .dataframe thead th {\n",
       "        text-align: right;\n",
       "    }\n",
       "</style>\n",
       "<table border=\"1\" class=\"dataframe\">\n",
       "  <thead>\n",
       "    <tr style=\"text-align: right;\">\n",
       "      <th></th>\n",
       "      <th>state</th>\n",
       "      <th>act_participation_%</th>\n",
       "      <th>act_composite</th>\n",
       "      <th>sat_participation_%</th>\n",
       "      <th>sat_ebrw</th>\n",
       "      <th>sat_math</th>\n",
       "      <th>sat_total</th>\n",
       "      <th>proj_sat_score_state</th>\n",
       "      <th>diff_between_sat_scores</th>\n",
       "    </tr>\n",
       "  </thead>\n",
       "  <tbody>\n",
       "    <tr>\n",
       "      <th>0</th>\n",
       "      <td>Alabama</td>\n",
       "      <td>100</td>\n",
       "      <td>19</td>\n",
       "      <td>7</td>\n",
       "      <td>583</td>\n",
       "      <td>560</td>\n",
       "      <td>1143</td>\n",
       "      <td>1010</td>\n",
       "      <td>-133</td>\n",
       "    </tr>\n",
       "    <tr>\n",
       "      <th>1</th>\n",
       "      <td>Alaska</td>\n",
       "      <td>38</td>\n",
       "      <td>20</td>\n",
       "      <td>41</td>\n",
       "      <td>556</td>\n",
       "      <td>541</td>\n",
       "      <td>1097</td>\n",
       "      <td>1040</td>\n",
       "      <td>-57</td>\n",
       "    </tr>\n",
       "    <tr>\n",
       "      <th>2</th>\n",
       "      <td>Arizona</td>\n",
       "      <td>73</td>\n",
       "      <td>19</td>\n",
       "      <td>31</td>\n",
       "      <td>569</td>\n",
       "      <td>565</td>\n",
       "      <td>1134</td>\n",
       "      <td>1010</td>\n",
       "      <td>-124</td>\n",
       "    </tr>\n",
       "    <tr>\n",
       "      <th>3</th>\n",
       "      <td>Arkansas</td>\n",
       "      <td>100</td>\n",
       "      <td>19</td>\n",
       "      <td>6</td>\n",
       "      <td>582</td>\n",
       "      <td>559</td>\n",
       "      <td>1141</td>\n",
       "      <td>1010</td>\n",
       "      <td>-131</td>\n",
       "    </tr>\n",
       "    <tr>\n",
       "      <th>4</th>\n",
       "      <td>California</td>\n",
       "      <td>23</td>\n",
       "      <td>23</td>\n",
       "      <td>63</td>\n",
       "      <td>534</td>\n",
       "      <td>531</td>\n",
       "      <td>1065</td>\n",
       "      <td>1140</td>\n",
       "      <td>75</td>\n",
       "    </tr>\n",
       "  </tbody>\n",
       "</table>\n",
       "</div>"
      ],
      "text/plain": [
       "        state  act_participation_%  act_composite  sat_participation_%  \\\n",
       "0     Alabama                  100             19                    7   \n",
       "1      Alaska                   38             20                   41   \n",
       "2     Arizona                   73             19                   31   \n",
       "3    Arkansas                  100             19                    6   \n",
       "4  California                   23             23                   63   \n",
       "\n",
       "   sat_ebrw  sat_math  sat_total  proj_sat_score_state  \\\n",
       "0       583       560       1143                  1010   \n",
       "1       556       541       1097                  1040   \n",
       "2       569       565       1134                  1010   \n",
       "3       582       559       1141                  1010   \n",
       "4       534       531       1065                  1140   \n",
       "\n",
       "   diff_between_sat_scores  \n",
       "0                     -133  \n",
       "1                      -57  \n",
       "2                     -124  \n",
       "3                     -131  \n",
       "4                       75  "
      ]
     },
     "execution_count": 52,
     "metadata": {},
     "output_type": "execute_result"
    }
   ],
   "source": [
    "act_sat_2019['diff_between_sat_scores'] = act_sat_2019['proj_sat_score_state']-act_sat_2019['sat_total']\n",
    "act_sat_2019.head()"
   ]
  },
  {
   "cell_type": "code",
   "execution_count": 53,
   "metadata": {},
   "outputs": [
    {
     "data": {
      "text/plain": [
       "145.0"
      ]
     },
     "execution_count": 53,
     "metadata": {},
     "output_type": "execute_result"
    }
   ],
   "source": [
    "act_sat_2019['diff_between_sat_scores'].std().round()"
   ]
  },
  {
   "cell_type": "code",
   "execution_count": 54,
   "metadata": {},
   "outputs": [
    {
     "data": {
      "text/html": [
       "<div>\n",
       "<style scoped>\n",
       "    .dataframe tbody tr th:only-of-type {\n",
       "        vertical-align: middle;\n",
       "    }\n",
       "\n",
       "    .dataframe tbody tr th {\n",
       "        vertical-align: top;\n",
       "    }\n",
       "\n",
       "    .dataframe thead th {\n",
       "        text-align: right;\n",
       "    }\n",
       "</style>\n",
       "<table border=\"1\" class=\"dataframe\">\n",
       "  <thead>\n",
       "    <tr style=\"text-align: right;\">\n",
       "      <th></th>\n",
       "      <th>state</th>\n",
       "      <th>act_participation_%</th>\n",
       "      <th>act_composite</th>\n",
       "      <th>sat_participation_%</th>\n",
       "      <th>sat_ebrw</th>\n",
       "      <th>sat_math</th>\n",
       "      <th>sat_total</th>\n",
       "      <th>proj_sat_score_state</th>\n",
       "      <th>diff_between_sat_scores</th>\n",
       "      <th>recommendation</th>\n",
       "    </tr>\n",
       "  </thead>\n",
       "  <tbody>\n",
       "    <tr>\n",
       "      <th>0</th>\n",
       "      <td>Alabama</td>\n",
       "      <td>100</td>\n",
       "      <td>19</td>\n",
       "      <td>7</td>\n",
       "      <td>583</td>\n",
       "      <td>560</td>\n",
       "      <td>1143</td>\n",
       "      <td>1010</td>\n",
       "      <td>-133</td>\n",
       "      <td>Neutral</td>\n",
       "    </tr>\n",
       "    <tr>\n",
       "      <th>1</th>\n",
       "      <td>Alaska</td>\n",
       "      <td>38</td>\n",
       "      <td>20</td>\n",
       "      <td>41</td>\n",
       "      <td>556</td>\n",
       "      <td>541</td>\n",
       "      <td>1097</td>\n",
       "      <td>1040</td>\n",
       "      <td>-57</td>\n",
       "      <td>Neutral</td>\n",
       "    </tr>\n",
       "    <tr>\n",
       "      <th>2</th>\n",
       "      <td>Arizona</td>\n",
       "      <td>73</td>\n",
       "      <td>19</td>\n",
       "      <td>31</td>\n",
       "      <td>569</td>\n",
       "      <td>565</td>\n",
       "      <td>1134</td>\n",
       "      <td>1010</td>\n",
       "      <td>-124</td>\n",
       "      <td>Neutral</td>\n",
       "    </tr>\n",
       "    <tr>\n",
       "      <th>3</th>\n",
       "      <td>Arkansas</td>\n",
       "      <td>100</td>\n",
       "      <td>19</td>\n",
       "      <td>6</td>\n",
       "      <td>582</td>\n",
       "      <td>559</td>\n",
       "      <td>1141</td>\n",
       "      <td>1010</td>\n",
       "      <td>-131</td>\n",
       "      <td>Neutral</td>\n",
       "    </tr>\n",
       "    <tr>\n",
       "      <th>4</th>\n",
       "      <td>California</td>\n",
       "      <td>23</td>\n",
       "      <td>23</td>\n",
       "      <td>63</td>\n",
       "      <td>534</td>\n",
       "      <td>531</td>\n",
       "      <td>1065</td>\n",
       "      <td>1140</td>\n",
       "      <td>75</td>\n",
       "      <td>Neutral</td>\n",
       "    </tr>\n",
       "  </tbody>\n",
       "</table>\n",
       "</div>"
      ],
      "text/plain": [
       "        state  act_participation_%  act_composite  sat_participation_%  \\\n",
       "0     Alabama                  100             19                    7   \n",
       "1      Alaska                   38             20                   41   \n",
       "2     Arizona                   73             19                   31   \n",
       "3    Arkansas                  100             19                    6   \n",
       "4  California                   23             23                   63   \n",
       "\n",
       "   sat_ebrw  sat_math  sat_total  proj_sat_score_state  \\\n",
       "0       583       560       1143                  1010   \n",
       "1       556       541       1097                  1040   \n",
       "2       569       565       1134                  1010   \n",
       "3       582       559       1141                  1010   \n",
       "4       534       531       1065                  1140   \n",
       "\n",
       "   diff_between_sat_scores recommendation  \n",
       "0                     -133        Neutral  \n",
       "1                      -57        Neutral  \n",
       "2                     -124        Neutral  \n",
       "3                     -131        Neutral  \n",
       "4                       75        Neutral  "
      ]
     },
     "execution_count": 54,
     "metadata": {},
     "output_type": "execute_result"
    }
   ],
   "source": [
    "recommendation = []\n",
    "for i in act_sat_2019['diff_between_sat_scores']:\n",
    "        if i > 145: recommendation.append('ACT Preferred')\n",
    "        elif i < -145: recommendation.append('SAT Preferred')\n",
    "        else: recommendation.append('Neutral')\n",
    "act_sat_2019['recommendation'] = recommendation\n",
    "act_sat_2019.head()"
   ]
  },
  {
   "cell_type": "code",
   "execution_count": 55,
   "metadata": {},
   "outputs": [
    {
     "data": {
      "image/png": "[encoded data removed]",
      "text/plain": [
       "<Figure size 720x576 with 1 Axes>"
      ]
     },
     "metadata": {
      "needs_background": "light"
     },
     "output_type": "display_data"
    }
   ],
   "source": [
    "bar(act_sat_2019)\n",
    "plt.title(\"States tend to do better in SAT Score\", size='16')\n",
    "plt.xlabel('Number of States', size='14');"
   ]
  },
  {
   "cell_type": "markdown",
   "metadata": {},
   "source": [
    "### <span style=\"color: Blue;\">Finding</span>\n",
    "\n",
    "For more than half of the states, it is not clear that they do better for either test. Nevertheless, there are more states that do better in SAT test than ACT test. Given this information, there is incentive for high school students to choose their test based on the states they reside in."
   ]
  },
  {
   "cell_type": "markdown",
   "metadata": {},
   "source": [
    "## 8. Extra Analysis - Logistic Regression on the College Dataset"
   ]
  },
  {
   "cell_type": "markdown",
   "metadata": {},
   "source": [
    "To further examine the factors contributing to a college's preference for either test, we shall conduct logistic regression on the college dataset. The college dataset was chosen over the state dataset as it has more fields in the dataset for analysis."
   ]
  },
  {
   "cell_type": "markdown",
   "metadata": {},
   "source": [
    "### 8.1 Preparation of College Dataset"
   ]
  },
  {
   "cell_type": "code",
   "execution_count": 56,
   "metadata": {},
   "outputs": [
    {
     "data": {
      "text/html": [
       "<div>\n",
       "<style scoped>\n",
       "    .dataframe tbody tr th:only-of-type {\n",
       "        vertical-align: middle;\n",
       "    }\n",
       "\n",
       "    .dataframe tbody tr th {\n",
       "        vertical-align: top;\n",
       "    }\n",
       "\n",
       "    .dataframe thead th {\n",
       "        text-align: right;\n",
       "    }\n",
       "</style>\n",
       "<table border=\"1\" class=\"dataframe\">\n",
       "  <thead>\n",
       "    <tr style=\"text-align: right;\">\n",
       "      <th></th>\n",
       "      <th>college</th>\n",
       "      <th>test_required?</th>\n",
       "      <th>class_year(s)</th>\n",
       "      <th>policy_details</th>\n",
       "      <th>num_of_applicants</th>\n",
       "      <th>accept_rate</th>\n",
       "      <th>sat_25th_pclt</th>\n",
       "      <th>act_25th_pclt</th>\n",
       "      <th>proj_sat_score_college</th>\n",
       "      <th>diff_between_sat_scores</th>\n",
       "      <th>recommendation</th>\n",
       "    </tr>\n",
       "  </thead>\n",
       "  <tbody>\n",
       "    <tr>\n",
       "      <th>0</th>\n",
       "      <td>Stanford University</td>\n",
       "      <td>Yes</td>\n",
       "      <td>2021</td>\n",
       "      <td>Stanford has adopted a one-year test optional ...</td>\n",
       "      <td>47452</td>\n",
       "      <td>4.3%</td>\n",
       "      <td>1440</td>\n",
       "      <td>32</td>\n",
       "      <td>1430</td>\n",
       "      <td>-10</td>\n",
       "      <td>Neutral</td>\n",
       "    </tr>\n",
       "    <tr>\n",
       "      <th>1</th>\n",
       "      <td>Harvard College</td>\n",
       "      <td>Yes</td>\n",
       "      <td>2021</td>\n",
       "      <td>Harvard has adopted a one-year test optional p...</td>\n",
       "      <td>42749</td>\n",
       "      <td>4.7%</td>\n",
       "      <td>1460</td>\n",
       "      <td>33</td>\n",
       "      <td>1460</td>\n",
       "      <td>0</td>\n",
       "      <td>Neutral</td>\n",
       "    </tr>\n",
       "    <tr>\n",
       "      <th>2</th>\n",
       "      <td>Princeton University</td>\n",
       "      <td>Yes</td>\n",
       "      <td>2021</td>\n",
       "      <td>Princeton has adopted a one-year test optional...</td>\n",
       "      <td>35370</td>\n",
       "      <td>5.5%</td>\n",
       "      <td>1440</td>\n",
       "      <td>32</td>\n",
       "      <td>1430</td>\n",
       "      <td>-10</td>\n",
       "      <td>Neutral</td>\n",
       "    </tr>\n",
       "    <tr>\n",
       "      <th>3</th>\n",
       "      <td>Columbia University</td>\n",
       "      <td>Yes</td>\n",
       "      <td>2021</td>\n",
       "      <td>Columbia has adopted a one-year test optional ...</td>\n",
       "      <td>40203</td>\n",
       "      <td>5.5%</td>\n",
       "      <td>1450</td>\n",
       "      <td>33</td>\n",
       "      <td>1460</td>\n",
       "      <td>10</td>\n",
       "      <td>Neutral</td>\n",
       "    </tr>\n",
       "    <tr>\n",
       "      <th>4</th>\n",
       "      <td>Yale University</td>\n",
       "      <td>Yes</td>\n",
       "      <td>2021</td>\n",
       "      <td>Yale has adopted a one-year test optional poli...</td>\n",
       "      <td>36844</td>\n",
       "      <td>6.1%</td>\n",
       "      <td>1460</td>\n",
       "      <td>33</td>\n",
       "      <td>1460</td>\n",
       "      <td>0</td>\n",
       "      <td>Neutral</td>\n",
       "    </tr>\n",
       "  </tbody>\n",
       "</table>\n",
       "</div>"
      ],
      "text/plain": [
       "                college test_required? class_year(s)  \\\n",
       "0   Stanford University            Yes          2021   \n",
       "1       Harvard College            Yes          2021   \n",
       "2  Princeton University            Yes          2021   \n",
       "3   Columbia University            Yes          2021   \n",
       "4       Yale University            Yes          2021   \n",
       "\n",
       "                                      policy_details  num_of_applicants  \\\n",
       "0  Stanford has adopted a one-year test optional ...              47452   \n",
       "1  Harvard has adopted a one-year test optional p...              42749   \n",
       "2  Princeton has adopted a one-year test optional...              35370   \n",
       "3  Columbia has adopted a one-year test optional ...              40203   \n",
       "4  Yale has adopted a one-year test optional poli...              36844   \n",
       "\n",
       "  accept_rate  sat_25th_pclt  act_25th_pclt  proj_sat_score_college  \\\n",
       "0        4.3%           1440             32                    1430   \n",
       "1        4.7%           1460             33                    1460   \n",
       "2        5.5%           1440             32                    1430   \n",
       "3        5.5%           1450             33                    1460   \n",
       "4        6.1%           1460             33                    1460   \n",
       "\n",
       "   diff_between_sat_scores recommendation  \n",
       "0                      -10        Neutral  \n",
       "1                        0        Neutral  \n",
       "2                      -10        Neutral  \n",
       "3                       10        Neutral  \n",
       "4                        0        Neutral  "
      ]
     },
     "execution_count": 56,
     "metadata": {},
     "output_type": "execute_result"
    }
   ],
   "source": [
    "# here's a recap on the current state for the college dataset\n",
    "sat_act_by_college.head()"
   ]
  },
  {
   "cell_type": "code",
   "execution_count": 57,
   "metadata": {},
   "outputs": [
    {
     "name": "stdout",
     "output_type": "stream",
     "text": [
      "<class 'pandas.core.frame.DataFrame'>\n",
      "Int64Index: 405 entries, 0 to 415\n",
      "Data columns (total 11 columns):\n",
      " #   Column                   Non-Null Count  Dtype \n",
      "---  ------                   --------------  ----- \n",
      " 0   college                  405 non-null    object\n",
      " 1   test_required?           405 non-null    object\n",
      " 2   class_year(s)            380 non-null    object\n",
      " 3   policy_details           405 non-null    object\n",
      " 4   num_of_applicants        405 non-null    int64 \n",
      " 5   accept_rate              405 non-null    object\n",
      " 6   sat_25th_pclt            405 non-null    int64 \n",
      " 7   act_25th_pclt            405 non-null    int64 \n",
      " 8   proj_sat_score_college   405 non-null    int64 \n",
      " 9   diff_between_sat_scores  405 non-null    int64 \n",
      " 10  recommendation           405 non-null    object\n",
      "dtypes: int64(5), object(6)\n",
      "memory usage: 38.0+ KB\n"
     ]
    }
   ],
   "source": [
    "sat_act_by_college.info()"
   ]
  },
  {
   "cell_type": "markdown",
   "metadata": {},
   "source": [
    "### <span style=\"color: Blue;\">Observation</span>\n",
    "\n",
    "There is a column with missing data. The 'class_year(s)' column contains the values of the years in which either SAT and ACT test is required for a college. Since the data is encapsulated under the 'test_required?' column, we shall proceed to drop it.\n",
    "\n",
    "There are four further things that we want to adjust for the 'act_2019.csv' Dataset :-\n",
    "\n",
    "1. Drop 'college' and 'policy_details' columns as we do not need to use them for analysis.\n",
    "2. Drop 'diff_between_sat_scores' column as it is used to create the recommendation in the first place.\n",
    "3. Drop columns that are not statistically significance.\n",
    "4. Drop further columns with strong correlation with one another to avoid multicollinearity."
   ]
  },
  {
   "cell_type": "code",
   "execution_count": 58,
   "metadata": {},
   "outputs": [
    {
     "name": "stdout",
     "output_type": "stream",
     "text": [
      "  test_required?  num_of_applicants accept_rate  sat_25th_pclt  act_25th_pclt  \\\n",
      "0            Yes              47452        4.3%           1440             32   \n",
      "1            Yes              42749        4.7%           1460             33   \n",
      "2            Yes              35370        5.5%           1440             32   \n",
      "3            Yes              40203        5.5%           1450             33   \n",
      "4            Yes              36844        6.1%           1460             33   \n",
      "\n",
      "   proj_sat_score_college recommendation  \n",
      "0                    1430        Neutral  \n",
      "1                    1460        Neutral  \n",
      "2                    1430        Neutral  \n",
      "3                    1460        Neutral  \n",
      "4                    1460        Neutral  \n"
     ]
    }
   ],
   "source": [
    "sat_act_by_college.pop('college')\n",
    "sat_act_by_college.pop('class_year(s)')\n",
    "sat_act_by_college.pop('policy_details')\n",
    "sat_act_by_college.pop('diff_between_sat_scores')\n",
    "print(sat_act_by_college.head())"
   ]
  },
  {
   "cell_type": "code",
   "execution_count": 59,
   "metadata": {},
   "outputs": [],
   "source": [
    "sat_act_by_college['test_required?'].value_counts()\n",
    "sat_act_by_college['test_required?'] = sat_act_by_college['test_required?'].map({'Yes': 1, 'No': 0, 'Yes (TB)': 1, 'Yes*': 1, 'Yes (TF)': 1})"
   ]
  },
  {
   "cell_type": "code",
   "execution_count": 60,
   "metadata": {},
   "outputs": [
    {
     "data": {
      "text/plain": [
       "1    380\n",
       "0     25\n",
       "Name: test_required?, dtype: int64"
      ]
     },
     "execution_count": 60,
     "metadata": {},
     "output_type": "execute_result"
    }
   ],
   "source": [
    "sat_act_by_college['test_required?'].value_counts()"
   ]
  },
  {
   "cell_type": "code",
   "execution_count": 61,
   "metadata": {},
   "outputs": [
    {
     "name": "stdout",
     "output_type": "stream",
     "text": [
      "   test_required?  num_of_applicants  accept_rate  sat_25th_pclt  \\\n",
      "0               1              47452          4.3           1440   \n",
      "1               1              42749          4.7           1460   \n",
      "2               1              35370          5.5           1440   \n",
      "3               1              40203          5.5           1450   \n",
      "4               1              36844          6.1           1460   \n",
      "\n",
      "   act_25th_pclt  proj_sat_score_college recommendation  \n",
      "0             32                    1430        Neutral  \n",
      "1             33                    1460        Neutral  \n",
      "2             32                    1430        Neutral  \n",
      "3             33                    1460        Neutral  \n",
      "4             33                    1460        Neutral  \n"
     ]
    }
   ],
   "source": [
    "sat_act_by_college['accept_rate'] = sat_act_by_college['accept_rate'].str.replace('%','').astype(float)\n",
    "print(sat_act_by_college.head())"
   ]
  },
  {
   "cell_type": "code",
   "execution_count": 62,
   "metadata": {},
   "outputs": [
    {
     "name": "stdout",
     "output_type": "stream",
     "text": [
      "6\n"
     ]
    },
    {
     "data": {
      "text/plain": [
       "['test_required?',\n",
       " 'num_of_applicants',\n",
       " 'accept_rate',\n",
       " 'sat_25th_pclt',\n",
       " 'act_25th_pclt',\n",
       " 'proj_sat_score_college']"
      ]
     },
     "execution_count": 62,
     "metadata": {},
     "output_type": "execute_result"
    }
   ],
   "source": [
    "sat_act_by_college_cols = [col for col in sat_act_by_college.columns if col not in ['recommendation']]\n",
    "print(len(sat_act_by_college_cols))\n",
    "sat_act_by_college_cols"
   ]
  },
  {
   "cell_type": "code",
   "execution_count": 63,
   "metadata": {},
   "outputs": [
    {
     "name": "stdout",
     "output_type": "stream",
     "text": [
      "test_required?: non-normal distribution, KW test, not statistically significant, 0.9805104545996376\n",
      "num_of_applicants: non-normal distribution, KW test, statistically significant, 0.0016802221969996521\n",
      "accept_rate: non-normal distribution, KW test, not statistically significant, 0.11343708425702986\n",
      "sat_25th_pclt: non-normal distribution, KW test, statistically significant, 0.04277950173985062\n",
      "act_25th_pclt: non-normal distribution, KW test, statistically significant, 4.577685383924265e-08\n",
      "proj_sat_score_college: normal distribution, Anova test, statistically significant, 6.346813959126099e-09\n"
     ]
    }
   ],
   "source": [
    "results_dict = {col:cont_stat_sig_test(sat_act_by_college,col) for col in sat_act_by_college_cols}"
   ]
  },
  {
   "cell_type": "code",
   "execution_count": 64,
   "metadata": {},
   "outputs": [
    {
     "name": "stdout",
     "output_type": "stream",
     "text": [
      "   num_of_applicants  sat_25th_pclt  act_25th_pclt  proj_sat_score_college  \\\n",
      "0              47452           1440             32                    1430   \n",
      "1              42749           1460             33                    1460   \n",
      "2              35370           1440             32                    1430   \n",
      "3              40203           1450             33                    1460   \n",
      "4              36844           1460             33                    1460   \n",
      "\n",
      "  recommendation  \n",
      "0        Neutral  \n",
      "1        Neutral  \n",
      "2        Neutral  \n",
      "3        Neutral  \n",
      "4        Neutral  \n"
     ]
    }
   ],
   "source": [
    "# drop the columns that are not statistically significant\n",
    "sat_act_by_college.pop('test_required?')\n",
    "sat_act_by_college.pop('accept_rate')\n",
    "print(sat_act_by_college.head())"
   ]
  },
  {
   "cell_type": "code",
   "execution_count": 65,
   "metadata": {},
   "outputs": [],
   "source": [
    "sat_act_by_college['recommendation'] = sat_act_by_college['recommendation'].map({'Neutral': 0, 'ACT Preferred': 1, 'SAT Preferred': 2})"
   ]
  },
  {
   "cell_type": "code",
   "execution_count": 66,
   "metadata": {},
   "outputs": [
    {
     "data": {
      "text/plain": [
       "0    202\n",
       "1    188\n",
       "2     15\n",
       "Name: recommendation, dtype: int64"
      ]
     },
     "execution_count": 66,
     "metadata": {},
     "output_type": "execute_result"
    }
   ],
   "source": [
    "sat_act_by_college['recommendation'].value_counts()"
   ]
  },
  {
   "cell_type": "code",
   "execution_count": 67,
   "metadata": {},
   "outputs": [
    {
     "name": "stdout",
     "output_type": "stream",
     "text": [
      "<class 'pandas.core.frame.DataFrame'>\n",
      "Int64Index: 405 entries, 0 to 415\n",
      "Data columns (total 5 columns):\n",
      " #   Column                  Non-Null Count  Dtype\n",
      "---  ------                  --------------  -----\n",
      " 0   num_of_applicants       405 non-null    int64\n",
      " 1   sat_25th_pclt           405 non-null    int64\n",
      " 2   act_25th_pclt           405 non-null    int64\n",
      " 3   proj_sat_score_college  405 non-null    int64\n",
      " 4   recommendation          405 non-null    int64\n",
      "dtypes: int64(5)\n",
      "memory usage: 19.0 KB\n",
      "None\n"
     ]
    }
   ],
   "source": [
    "print(sat_act_by_college.info())"
   ]
  },
  {
   "cell_type": "code",
   "execution_count": 68,
   "metadata": {},
   "outputs": [
    {
     "data": {
      "image/png": "[encoded data removed]",
      "text/plain": [
       "<Figure size 720x576 with 1 Axes>"
      ]
     },
     "metadata": {
      "needs_background": "light"
     },
     "output_type": "display_data"
    }
   ],
   "source": [
    "heatmap(sat_act_by_college)\n",
    "plt.title(\"Checking for Multicollinearity from College Dataset\", size='16');"
   ]
  },
  {
   "cell_type": "code",
   "execution_count": 69,
   "metadata": {},
   "outputs": [
    {
     "name": "stdout",
     "output_type": "stream",
     "text": [
      "   num_of_applicants  sat_25th_pclt  recommendation\n",
      "0              47452           1440               0\n",
      "1              42749           1460               0\n",
      "2              35370           1440               0\n",
      "3              40203           1450               0\n",
      "4              36844           1460               0\n"
     ]
    }
   ],
   "source": [
    "# There are three columns with strong correlation with each other\n",
    "# I shall drop the 'proj_sat_score_college' and 'act_25th_pclt' columns as the values from 'act_25th_pclt' was used to project the values of 'proj_sat_score_college'\n",
    "sat_act_by_college.pop('act_25th_pclt')\n",
    "sat_act_by_college.pop('proj_sat_score_college')\n",
    "print(sat_act_by_college.head())"
   ]
  },
  {
   "cell_type": "code",
   "execution_count": 70,
   "metadata": {},
   "outputs": [],
   "source": [
    "# used seed = 42 to ensure consistency of value\n",
    "X = sat_act_by_college.drop(columns = 'recommendation')\n",
    "y = sat_act_by_college['recommendation']\n",
    "X_train, X_test, y_train, y_test = train_test_split(X, y, random_state = 42)"
   ]
  },
  {
   "cell_type": "code",
   "execution_count": 71,
   "metadata": {},
   "outputs": [
    {
     "data": {
      "text/html": [
       "<style>#sk-container-id-1 {color: black;background-color: white;}#sk-container-id-1 pre{padding: 0;}#sk-container-id-1 div.sk-toggleable {background-color: white;}#sk-container-id-1 label.sk-toggleable__label {cursor: pointer;display: block;width: 100%;margin-bottom: 0;padding: 0.3em;box-sizing: border-box;text-align: center;}#sk-container-id-1 label.sk-toggleable__label-arrow:before {content: \"▸\";float: left;margin-right: 0.25em;color: #696969;}#sk-container-id-1 label.sk-toggleable__label-arrow:hover:before {color: black;}#sk-container-id-1 div.sk-estimator:hover label.sk-toggleable__label-arrow:before {color: black;}#sk-container-id-1 div.sk-toggleable__content {max-height: 0;max-width: 0;overflow: hidden;text-align: left;background-color: #f0f8ff;}#sk-container-id-1 div.sk-toggleable__content pre {margin: 0.2em;color: black;border-radius: 0.25em;background-color: #f0f8ff;}#sk-container-id-1 input.sk-toggleable__control:checked~div.sk-toggleable__content {max-height: 200px;max-width: 100%;overflow: auto;}#sk-container-id-1 input.sk-toggleable__control:checked~label.sk-toggleable__label-arrow:before {content: \"▾\";}#sk-container-id-1 div.sk-estimator input.sk-toggleable__control:checked~label.sk-toggleable__label {background-color: #d4ebff;}#sk-container-id-1 div.sk-label input.sk-toggleable__control:checked~label.sk-toggleable__label {background-color: #d4ebff;}#sk-container-id-1 input.sk-hidden--visually {border: 0;clip: rect(1px 1px 1px 1px);clip: rect(1px, 1px, 1px, 1px);height: 1px;margin: -1px;overflow: hidden;padding: 0;position: absolute;width: 1px;}#sk-container-id-1 div.sk-estimator {font-family: monospace;background-color: #f0f8ff;border: 1px dotted black;border-radius: 0.25em;box-sizing: border-box;margin-bottom: 0.5em;}#sk-container-id-1 div.sk-estimator:hover {background-color: #d4ebff;}#sk-container-id-1 div.sk-parallel-item::after {content: \"\";width: 100%;border-bottom: 1px solid gray;flex-grow: 1;}#sk-container-id-1 div.sk-label:hover label.sk-toggleable__label {background-color: #d4ebff;}#sk-container-id-1 div.sk-serial::before {content: \"\";position: absolute;border-left: 1px solid gray;box-sizing: border-box;top: 0;bottom: 0;left: 50%;z-index: 0;}#sk-container-id-1 div.sk-serial {display: flex;flex-direction: column;align-items: center;background-color: white;padding-right: 0.2em;padding-left: 0.2em;position: relative;}#sk-container-id-1 div.sk-item {position: relative;z-index: 1;}#sk-container-id-1 div.sk-parallel {display: flex;align-items: stretch;justify-content: center;background-color: white;position: relative;}#sk-container-id-1 div.sk-item::before, #sk-container-id-1 div.sk-parallel-item::before {content: \"\";position: absolute;border-left: 1px solid gray;box-sizing: border-box;top: 0;bottom: 0;left: 50%;z-index: -1;}#sk-container-id-1 div.sk-parallel-item {display: flex;flex-direction: column;z-index: 1;position: relative;background-color: white;}#sk-container-id-1 div.sk-parallel-item:first-child::after {align-self: flex-end;width: 50%;}#sk-container-id-1 div.sk-parallel-item:last-child::after {align-self: flex-start;width: 50%;}#sk-container-id-1 div.sk-parallel-item:only-child::after {width: 0;}#sk-container-id-1 div.sk-dashed-wrapped {border: 1px dashed gray;margin: 0 0.4em 0.5em 0.4em;box-sizing: border-box;padding-bottom: 0.4em;background-color: white;}#sk-container-id-1 div.sk-label label {font-family: monospace;font-weight: bold;display: inline-block;line-height: 1.2em;}#sk-container-id-1 div.sk-label-container {text-align: center;}#sk-container-id-1 div.sk-container {/* jupyter's `normalize.less` sets `[hidden] { display: none; }` but bootstrap.min.css set `[hidden] { display: none !important; }` so we also need the `!important` here to be able to override the default hidden behavior on the sphinx rendered scikit-learn.org. See: https://github.com/scikit-learn/scikit-learn/issues/21755 */display: inline-block !important;position: relative;}#sk-container-id-1 div.sk-text-repr-fallback {display: none;}</style><div id=\"sk-container-id-1\" class=\"sk-top-container\"><div class=\"sk-text-repr-fallback\"><pre>LogisticRegression()</pre><b>In a Jupyter environment, please rerun this cell to show the HTML representation or trust the notebook. <br />On GitHub, the HTML representation is unable to render, please try loading this page with nbviewer.org.</b></div><div class=\"sk-container\" hidden><div class=\"sk-item\"><div class=\"sk-estimator sk-toggleable\"><input class=\"sk-toggleable__control sk-hidden--visually\" id=\"sk-estimator-id-1\" type=\"checkbox\" checked><label for=\"sk-estimator-id-1\" class=\"sk-toggleable__label sk-toggleable__label-arrow\">LogisticRegression</label><div class=\"sk-toggleable__content\"><pre>LogisticRegression()</pre></div></div></div></div></div>"
      ],
      "text/plain": [
       "LogisticRegression()"
      ]
     },
     "execution_count": 71,
     "metadata": {},
     "output_type": "execute_result"
    }
   ],
   "source": [
    "logreg = LogisticRegression()\n",
    "logreg.fit(X_train, y_train)"
   ]
  },
  {
   "cell_type": "code",
   "execution_count": 72,
   "metadata": {},
   "outputs": [
    {
     "data": {
      "text/plain": [
       "0.5610561056105611"
      ]
     },
     "execution_count": 72,
     "metadata": {},
     "output_type": "execute_result"
    }
   ],
   "source": [
    "logreg.score(X_train, y_train)"
   ]
  },
  {
   "cell_type": "code",
   "execution_count": 73,
   "metadata": {},
   "outputs": [
    {
     "data": {
      "text/plain": [
       "0.5446994535519126"
      ]
     },
     "execution_count": 73,
     "metadata": {},
     "output_type": "execute_result"
    }
   ],
   "source": [
    "cross_val_score(logreg, X_train, y_train).mean()"
   ]
  },
  {
   "cell_type": "code",
   "execution_count": 74,
   "metadata": {},
   "outputs": [
    {
     "data": {
      "text/plain": [
       "0.5882352941176471"
      ]
     },
     "execution_count": 74,
     "metadata": {},
     "output_type": "execute_result"
    }
   ],
   "source": [
    "logreg.score(X_test, y_test)"
   ]
  },
  {
   "cell_type": "markdown",
   "metadata": {},
   "source": [
    "### <span style=\"color: Blue;\">Finding</span>\n",
    "\n",
    "With a logistic regression score of 0.56, the features 'num_of_applicants' and 'sat_25th_pclt' are not able to predict the recommendation for high school students on the test to take. The test result of 0.59 reinforces the result. Hence, there is a need to look beyond the variables from the college dataset in order to improve the accuracy of the regression."
   ]
  },
  {
   "cell_type": "markdown",
   "metadata": {},
   "source": [
    "## 9. Extra Analysis - Logistic Regression on the State Dataset"
   ]
  },
  {
   "cell_type": "code",
   "execution_count": 75,
   "metadata": {},
   "outputs": [
    {
     "data": {
      "text/html": [
       "<div>\n",
       "<style scoped>\n",
       "    .dataframe tbody tr th:only-of-type {\n",
       "        vertical-align: middle;\n",
       "    }\n",
       "\n",
       "    .dataframe tbody tr th {\n",
       "        vertical-align: top;\n",
       "    }\n",
       "\n",
       "    .dataframe thead th {\n",
       "        text-align: right;\n",
       "    }\n",
       "</style>\n",
       "<table border=\"1\" class=\"dataframe\">\n",
       "  <thead>\n",
       "    <tr style=\"text-align: right;\">\n",
       "      <th></th>\n",
       "      <th>state</th>\n",
       "      <th>act_participation_%</th>\n",
       "      <th>act_composite</th>\n",
       "      <th>sat_participation_%</th>\n",
       "      <th>sat_ebrw</th>\n",
       "      <th>sat_math</th>\n",
       "      <th>sat_total</th>\n",
       "      <th>proj_sat_score_state</th>\n",
       "      <th>diff_between_sat_scores</th>\n",
       "      <th>recommendation</th>\n",
       "    </tr>\n",
       "  </thead>\n",
       "  <tbody>\n",
       "    <tr>\n",
       "      <th>0</th>\n",
       "      <td>Alabama</td>\n",
       "      <td>100</td>\n",
       "      <td>19</td>\n",
       "      <td>7</td>\n",
       "      <td>583</td>\n",
       "      <td>560</td>\n",
       "      <td>1143</td>\n",
       "      <td>1010</td>\n",
       "      <td>-133</td>\n",
       "      <td>Neutral</td>\n",
       "    </tr>\n",
       "    <tr>\n",
       "      <th>1</th>\n",
       "      <td>Alaska</td>\n",
       "      <td>38</td>\n",
       "      <td>20</td>\n",
       "      <td>41</td>\n",
       "      <td>556</td>\n",
       "      <td>541</td>\n",
       "      <td>1097</td>\n",
       "      <td>1040</td>\n",
       "      <td>-57</td>\n",
       "      <td>Neutral</td>\n",
       "    </tr>\n",
       "    <tr>\n",
       "      <th>2</th>\n",
       "      <td>Arizona</td>\n",
       "      <td>73</td>\n",
       "      <td>19</td>\n",
       "      <td>31</td>\n",
       "      <td>569</td>\n",
       "      <td>565</td>\n",
       "      <td>1134</td>\n",
       "      <td>1010</td>\n",
       "      <td>-124</td>\n",
       "      <td>Neutral</td>\n",
       "    </tr>\n",
       "    <tr>\n",
       "      <th>3</th>\n",
       "      <td>Arkansas</td>\n",
       "      <td>100</td>\n",
       "      <td>19</td>\n",
       "      <td>6</td>\n",
       "      <td>582</td>\n",
       "      <td>559</td>\n",
       "      <td>1141</td>\n",
       "      <td>1010</td>\n",
       "      <td>-131</td>\n",
       "      <td>Neutral</td>\n",
       "    </tr>\n",
       "    <tr>\n",
       "      <th>4</th>\n",
       "      <td>California</td>\n",
       "      <td>23</td>\n",
       "      <td>23</td>\n",
       "      <td>63</td>\n",
       "      <td>534</td>\n",
       "      <td>531</td>\n",
       "      <td>1065</td>\n",
       "      <td>1140</td>\n",
       "      <td>75</td>\n",
       "      <td>Neutral</td>\n",
       "    </tr>\n",
       "  </tbody>\n",
       "</table>\n",
       "</div>"
      ],
      "text/plain": [
       "        state  act_participation_%  act_composite  sat_participation_%  \\\n",
       "0     Alabama                  100             19                    7   \n",
       "1      Alaska                   38             20                   41   \n",
       "2     Arizona                   73             19                   31   \n",
       "3    Arkansas                  100             19                    6   \n",
       "4  California                   23             23                   63   \n",
       "\n",
       "   sat_ebrw  sat_math  sat_total  proj_sat_score_state  \\\n",
       "0       583       560       1143                  1010   \n",
       "1       556       541       1097                  1040   \n",
       "2       569       565       1134                  1010   \n",
       "3       582       559       1141                  1010   \n",
       "4       534       531       1065                  1140   \n",
       "\n",
       "   diff_between_sat_scores recommendation  \n",
       "0                     -133        Neutral  \n",
       "1                      -57        Neutral  \n",
       "2                     -124        Neutral  \n",
       "3                     -131        Neutral  \n",
       "4                       75        Neutral  "
      ]
     },
     "execution_count": 75,
     "metadata": {},
     "output_type": "execute_result"
    }
   ],
   "source": [
    "# Here's a recap on the current state for the state dataset\n",
    "act_sat_2019.head()"
   ]
  },
  {
   "cell_type": "code",
   "execution_count": 76,
   "metadata": {},
   "outputs": [
    {
     "name": "stdout",
     "output_type": "stream",
     "text": [
      "<class 'pandas.core.frame.DataFrame'>\n",
      "Int64Index: 52 entries, 0 to 51\n",
      "Data columns (total 10 columns):\n",
      " #   Column                   Non-Null Count  Dtype \n",
      "---  ------                   --------------  ----- \n",
      " 0   state                    52 non-null     object\n",
      " 1   act_participation_%      52 non-null     int64 \n",
      " 2   act_composite            52 non-null     int64 \n",
      " 3   sat_participation_%      52 non-null     int64 \n",
      " 4   sat_ebrw                 52 non-null     int64 \n",
      " 5   sat_math                 52 non-null     int64 \n",
      " 6   sat_total                52 non-null     int64 \n",
      " 7   proj_sat_score_state     52 non-null     int64 \n",
      " 8   diff_between_sat_scores  52 non-null     int64 \n",
      " 9   recommendation           52 non-null     object\n",
      "dtypes: int64(8), object(2)\n",
      "memory usage: 4.5+ KB\n"
     ]
    }
   ],
   "source": [
    "act_sat_2019.info()"
   ]
  },
  {
   "cell_type": "markdown",
   "metadata": {
    "tags": []
   },
   "source": [
    "### <span style=\"color: Blue;\">Observation</span>\n",
    "\n",
    "There is no missing data in the dataset.\n",
    "\n",
    "To prepare for logistic regression analysis, we will proceed with the following :-\n",
    "\n",
    "1. Drop 'state' column as we do not need to use it.\n",
    "2. Drop 'diff_between_sat_scores' column as it is used to create the recommendation in the first place.\n",
    "3. Drop columns that are not statistically significance.\n",
    "4. Drop further columns with strong correlation with one another to avoid multicollinearity."
   ]
  },
  {
   "cell_type": "code",
   "execution_count": 77,
   "metadata": {},
   "outputs": [
    {
     "data": {
      "text/html": [
       "<div>\n",
       "<style scoped>\n",
       "    .dataframe tbody tr th:only-of-type {\n",
       "        vertical-align: middle;\n",
       "    }\n",
       "\n",
       "    .dataframe tbody tr th {\n",
       "        vertical-align: top;\n",
       "    }\n",
       "\n",
       "    .dataframe thead th {\n",
       "        text-align: right;\n",
       "    }\n",
       "</style>\n",
       "<table border=\"1\" class=\"dataframe\">\n",
       "  <thead>\n",
       "    <tr style=\"text-align: right;\">\n",
       "      <th></th>\n",
       "      <th>act_participation_%</th>\n",
       "      <th>act_composite</th>\n",
       "      <th>sat_participation_%</th>\n",
       "      <th>sat_ebrw</th>\n",
       "      <th>sat_math</th>\n",
       "      <th>sat_total</th>\n",
       "      <th>proj_sat_score_state</th>\n",
       "      <th>diff_between_sat_scores</th>\n",
       "      <th>recommendation</th>\n",
       "    </tr>\n",
       "  </thead>\n",
       "  <tbody>\n",
       "    <tr>\n",
       "      <th>0</th>\n",
       "      <td>100</td>\n",
       "      <td>19</td>\n",
       "      <td>7</td>\n",
       "      <td>583</td>\n",
       "      <td>560</td>\n",
       "      <td>1143</td>\n",
       "      <td>1010</td>\n",
       "      <td>-133</td>\n",
       "      <td>Neutral</td>\n",
       "    </tr>\n",
       "    <tr>\n",
       "      <th>1</th>\n",
       "      <td>38</td>\n",
       "      <td>20</td>\n",
       "      <td>41</td>\n",
       "      <td>556</td>\n",
       "      <td>541</td>\n",
       "      <td>1097</td>\n",
       "      <td>1040</td>\n",
       "      <td>-57</td>\n",
       "      <td>Neutral</td>\n",
       "    </tr>\n",
       "    <tr>\n",
       "      <th>2</th>\n",
       "      <td>73</td>\n",
       "      <td>19</td>\n",
       "      <td>31</td>\n",
       "      <td>569</td>\n",
       "      <td>565</td>\n",
       "      <td>1134</td>\n",
       "      <td>1010</td>\n",
       "      <td>-124</td>\n",
       "      <td>Neutral</td>\n",
       "    </tr>\n",
       "    <tr>\n",
       "      <th>3</th>\n",
       "      <td>100</td>\n",
       "      <td>19</td>\n",
       "      <td>6</td>\n",
       "      <td>582</td>\n",
       "      <td>559</td>\n",
       "      <td>1141</td>\n",
       "      <td>1010</td>\n",
       "      <td>-131</td>\n",
       "      <td>Neutral</td>\n",
       "    </tr>\n",
       "    <tr>\n",
       "      <th>4</th>\n",
       "      <td>23</td>\n",
       "      <td>23</td>\n",
       "      <td>63</td>\n",
       "      <td>534</td>\n",
       "      <td>531</td>\n",
       "      <td>1065</td>\n",
       "      <td>1140</td>\n",
       "      <td>75</td>\n",
       "      <td>Neutral</td>\n",
       "    </tr>\n",
       "  </tbody>\n",
       "</table>\n",
       "</div>"
      ],
      "text/plain": [
       "   act_participation_%  act_composite  sat_participation_%  sat_ebrw  \\\n",
       "0                  100             19                    7       583   \n",
       "1                   38             20                   41       556   \n",
       "2                   73             19                   31       569   \n",
       "3                  100             19                    6       582   \n",
       "4                   23             23                   63       534   \n",
       "\n",
       "   sat_math  sat_total  proj_sat_score_state  diff_between_sat_scores  \\\n",
       "0       560       1143                  1010                     -133   \n",
       "1       541       1097                  1040                      -57   \n",
       "2       565       1134                  1010                     -124   \n",
       "3       559       1141                  1010                     -131   \n",
       "4       531       1065                  1140                       75   \n",
       "\n",
       "  recommendation  \n",
       "0        Neutral  \n",
       "1        Neutral  \n",
       "2        Neutral  \n",
       "3        Neutral  \n",
       "4        Neutral  "
      ]
     },
     "execution_count": 77,
     "metadata": {},
     "output_type": "execute_result"
    }
   ],
   "source": [
    "act_sat_2019.pop('state')\n",
    "act_sat_2019.head()"
   ]
  },
  {
   "cell_type": "code",
   "execution_count": 78,
   "metadata": {},
   "outputs": [
    {
     "name": "stdout",
     "output_type": "stream",
     "text": [
      "8\n"
     ]
    },
    {
     "data": {
      "text/plain": [
       "['act_participation_%',\n",
       " 'act_composite',\n",
       " 'sat_participation_%',\n",
       " 'sat_ebrw',\n",
       " 'sat_math',\n",
       " 'sat_total',\n",
       " 'proj_sat_score_state',\n",
       " 'diff_between_sat_scores']"
      ]
     },
     "execution_count": 78,
     "metadata": {},
     "output_type": "execute_result"
    }
   ],
   "source": [
    "act_sat_2019_cols = [col for col in act_sat_2019.columns if col not in ['recommendation']]\n",
    "print(len(act_sat_2019_cols))\n",
    "act_sat_2019_cols"
   ]
  },
  {
   "cell_type": "code",
   "execution_count": 79,
   "metadata": {},
   "outputs": [
    {
     "name": "stdout",
     "output_type": "stream",
     "text": [
      "act_participation_%: non-normal distribution, KW test, statistically significant, 9.366002554858438e-07\n",
      "act_composite: normal distribution, Anova test, statistically significant, 2.3295240491917547e-07\n",
      "sat_participation_%: non-normal distribution, KW test, statistically significant, 1.441063663279962e-08\n",
      "sat_ebrw: non-normal distribution, KW test, statistically significant, 2.3677976267640396e-08\n",
      "sat_math: normal distribution, Anova test, statistically significant, 1.877893233338882e-14\n",
      "sat_total: normal distribution, Anova test, statistically significant, 3.2782489283878107e-15\n",
      "proj_sat_score_state: non-normal distribution, KW test, statistically significant, 3.817635173503496e-05\n",
      "diff_between_sat_scores: non-normal distribution, KW test, statistically significant, 9.393411690189057e-10\n"
     ]
    }
   ],
   "source": [
    "esults_dict = {col:cont_stat_sig_test(act_sat_2019,col) for col in act_sat_2019_cols}\n",
    "sat_act_by_college_results_df = pd.DataFrame.from_dict(results_dict, orient='index', columns=['p_value']).sort_values(by='p_value')"
   ]
  },
  {
   "cell_type": "code",
   "execution_count": 80,
   "metadata": {},
   "outputs": [
    {
     "data": {
      "image/png": "[encoded data removed]",
      "text/plain": [
       "<Figure size 720x576 with 1 Axes>"
      ]
     },
     "metadata": {
      "needs_background": "light"
     },
     "output_type": "display_data"
    }
   ],
   "source": [
    "# there is no need to drop any column as they are all statistically significant\n",
    "heatmap(act_sat_2019)\n",
    "plt.title(\"Checking for Multicollinearity from State Dataset\", size='16');"
   ]
  },
  {
   "cell_type": "code",
   "execution_count": 81,
   "metadata": {},
   "outputs": [
    {
     "data": {
      "text/html": [
       "<div>\n",
       "<style scoped>\n",
       "    .dataframe tbody tr th:only-of-type {\n",
       "        vertical-align: middle;\n",
       "    }\n",
       "\n",
       "    .dataframe tbody tr th {\n",
       "        vertical-align: top;\n",
       "    }\n",
       "\n",
       "    .dataframe thead th {\n",
       "        text-align: right;\n",
       "    }\n",
       "</style>\n",
       "<table border=\"1\" class=\"dataframe\">\n",
       "  <thead>\n",
       "    <tr style=\"text-align: right;\">\n",
       "      <th></th>\n",
       "      <th>act_participation_%</th>\n",
       "      <th>recommendation</th>\n",
       "    </tr>\n",
       "  </thead>\n",
       "  <tbody>\n",
       "    <tr>\n",
       "      <th>0</th>\n",
       "      <td>100</td>\n",
       "      <td>Neutral</td>\n",
       "    </tr>\n",
       "    <tr>\n",
       "      <th>1</th>\n",
       "      <td>38</td>\n",
       "      <td>Neutral</td>\n",
       "    </tr>\n",
       "    <tr>\n",
       "      <th>2</th>\n",
       "      <td>73</td>\n",
       "      <td>Neutral</td>\n",
       "    </tr>\n",
       "    <tr>\n",
       "      <th>3</th>\n",
       "      <td>100</td>\n",
       "      <td>Neutral</td>\n",
       "    </tr>\n",
       "    <tr>\n",
       "      <th>4</th>\n",
       "      <td>23</td>\n",
       "      <td>Neutral</td>\n",
       "    </tr>\n",
       "  </tbody>\n",
       "</table>\n",
       "</div>"
      ],
      "text/plain": [
       "   act_participation_% recommendation\n",
       "0                  100        Neutral\n",
       "1                   38        Neutral\n",
       "2                   73        Neutral\n",
       "3                  100        Neutral\n",
       "4                   23        Neutral"
      ]
     },
     "execution_count": 81,
     "metadata": {},
     "output_type": "execute_result"
    }
   ],
   "source": [
    "# dropping all the columns with strong correlation except 'act_participation_%' column\n",
    "act_sat_2019.pop('sat_ebrw')\n",
    "act_sat_2019.pop('sat_math')\n",
    "act_sat_2019.pop('act_composite')\n",
    "act_sat_2019.pop('sat_participation_%')\n",
    "act_sat_2019.pop('sat_total')\n",
    "act_sat_2019.pop('proj_sat_score_state')\n",
    "act_sat_2019.pop('diff_between_sat_scores')\n",
    "act_sat_2019.head()"
   ]
  },
  {
   "cell_type": "code",
   "execution_count": 82,
   "metadata": {},
   "outputs": [],
   "source": [
    "act_sat_2019['recommendation'] = act_sat_2019['recommendation'].map({'Neutral': 0, 'ACT Preferred': 1, 'SAT Preferred': 2})"
   ]
  },
  {
   "cell_type": "code",
   "execution_count": 83,
   "metadata": {},
   "outputs": [],
   "source": [
    "X = act_sat_2019.drop(columns = 'recommendation')\n",
    "y = act_sat_2019['recommendation']\n",
    "X_train, X_test, y_train, y_test = train_test_split(X, y, random_state = 42)"
   ]
  },
  {
   "cell_type": "code",
   "execution_count": 84,
   "metadata": {},
   "outputs": [
    {
     "data": {
      "text/html": [
       "<style>#sk-container-id-2 {color: black;background-color: white;}#sk-container-id-2 pre{padding: 0;}#sk-container-id-2 div.sk-toggleable {background-color: white;}#sk-container-id-2 label.sk-toggleable__label {cursor: pointer;display: block;width: 100%;margin-bottom: 0;padding: 0.3em;box-sizing: border-box;text-align: center;}#sk-container-id-2 label.sk-toggleable__label-arrow:before {content: \"▸\";float: left;margin-right: 0.25em;color: #696969;}#sk-container-id-2 label.sk-toggleable__label-arrow:hover:before {color: black;}#sk-container-id-2 div.sk-estimator:hover label.sk-toggleable__label-arrow:before {color: black;}#sk-container-id-2 div.sk-toggleable__content {max-height: 0;max-width: 0;overflow: hidden;text-align: left;background-color: #f0f8ff;}#sk-container-id-2 div.sk-toggleable__content pre {margin: 0.2em;color: black;border-radius: 0.25em;background-color: #f0f8ff;}#sk-container-id-2 input.sk-toggleable__control:checked~div.sk-toggleable__content {max-height: 200px;max-width: 100%;overflow: auto;}#sk-container-id-2 input.sk-toggleable__control:checked~label.sk-toggleable__label-arrow:before {content: \"▾\";}#sk-container-id-2 div.sk-estimator input.sk-toggleable__control:checked~label.sk-toggleable__label {background-color: #d4ebff;}#sk-container-id-2 div.sk-label input.sk-toggleable__control:checked~label.sk-toggleable__label {background-color: #d4ebff;}#sk-container-id-2 input.sk-hidden--visually {border: 0;clip: rect(1px 1px 1px 1px);clip: rect(1px, 1px, 1px, 1px);height: 1px;margin: -1px;overflow: hidden;padding: 0;position: absolute;width: 1px;}#sk-container-id-2 div.sk-estimator {font-family: monospace;background-color: #f0f8ff;border: 1px dotted black;border-radius: 0.25em;box-sizing: border-box;margin-bottom: 0.5em;}#sk-container-id-2 div.sk-estimator:hover {background-color: #d4ebff;}#sk-container-id-2 div.sk-parallel-item::after {content: \"\";width: 100%;border-bottom: 1px solid gray;flex-grow: 1;}#sk-container-id-2 div.sk-label:hover label.sk-toggleable__label {background-color: #d4ebff;}#sk-container-id-2 div.sk-serial::before {content: \"\";position: absolute;border-left: 1px solid gray;box-sizing: border-box;top: 0;bottom: 0;left: 50%;z-index: 0;}#sk-container-id-2 div.sk-serial {display: flex;flex-direction: column;align-items: center;background-color: white;padding-right: 0.2em;padding-left: 0.2em;position: relative;}#sk-container-id-2 div.sk-item {position: relative;z-index: 1;}#sk-container-id-2 div.sk-parallel {display: flex;align-items: stretch;justify-content: center;background-color: white;position: relative;}#sk-container-id-2 div.sk-item::before, #sk-container-id-2 div.sk-parallel-item::before {content: \"\";position: absolute;border-left: 1px solid gray;box-sizing: border-box;top: 0;bottom: 0;left: 50%;z-index: -1;}#sk-container-id-2 div.sk-parallel-item {display: flex;flex-direction: column;z-index: 1;position: relative;background-color: white;}#sk-container-id-2 div.sk-parallel-item:first-child::after {align-self: flex-end;width: 50%;}#sk-container-id-2 div.sk-parallel-item:last-child::after {align-self: flex-start;width: 50%;}#sk-container-id-2 div.sk-parallel-item:only-child::after {width: 0;}#sk-container-id-2 div.sk-dashed-wrapped {border: 1px dashed gray;margin: 0 0.4em 0.5em 0.4em;box-sizing: border-box;padding-bottom: 0.4em;background-color: white;}#sk-container-id-2 div.sk-label label {font-family: monospace;font-weight: bold;display: inline-block;line-height: 1.2em;}#sk-container-id-2 div.sk-label-container {text-align: center;}#sk-container-id-2 div.sk-container {/* jupyter's `normalize.less` sets `[hidden] { display: none; }` but bootstrap.min.css set `[hidden] { display: none !important; }` so we also need the `!important` here to be able to override the default hidden behavior on the sphinx rendered scikit-learn.org. See: https://github.com/scikit-learn/scikit-learn/issues/21755 */display: inline-block !important;position: relative;}#sk-container-id-2 div.sk-text-repr-fallback {display: none;}</style><div id=\"sk-container-id-2\" class=\"sk-top-container\"><div class=\"sk-text-repr-fallback\"><pre>LogisticRegression()</pre><b>In a Jupyter environment, please rerun this cell to show the HTML representation or trust the notebook. <br />On GitHub, the HTML representation is unable to render, please try loading this page with nbviewer.org.</b></div><div class=\"sk-container\" hidden><div class=\"sk-item\"><div class=\"sk-estimator sk-toggleable\"><input class=\"sk-toggleable__control sk-hidden--visually\" id=\"sk-estimator-id-2\" type=\"checkbox\" checked><label for=\"sk-estimator-id-2\" class=\"sk-toggleable__label sk-toggleable__label-arrow\">LogisticRegression</label><div class=\"sk-toggleable__content\"><pre>LogisticRegression()</pre></div></div></div></div></div>"
      ],
      "text/plain": [
       "LogisticRegression()"
      ]
     },
     "execution_count": 84,
     "metadata": {},
     "output_type": "execute_result"
    }
   ],
   "source": [
    "logreg = LogisticRegression()\n",
    "logreg.fit(X_train, y_train)"
   ]
  },
  {
   "cell_type": "code",
   "execution_count": 85,
   "metadata": {},
   "outputs": [
    {
     "data": {
      "text/plain": [
       "0.7692307692307693"
      ]
     },
     "execution_count": 85,
     "metadata": {},
     "output_type": "execute_result"
    }
   ],
   "source": [
    "logreg.score(X_train, y_train)"
   ]
  },
  {
   "cell_type": "code",
   "execution_count": 86,
   "metadata": {},
   "outputs": [
    {
     "data": {
      "text/plain": [
       "0.7714285714285715"
      ]
     },
     "execution_count": 86,
     "metadata": {},
     "output_type": "execute_result"
    }
   ],
   "source": [
    "cross_val_score(logreg, X_train, y_train).mean()"
   ]
  },
  {
   "cell_type": "code",
   "execution_count": 87,
   "metadata": {},
   "outputs": [
    {
     "data": {
      "text/plain": [
       "0.6153846153846154"
      ]
     },
     "execution_count": 87,
     "metadata": {},
     "output_type": "execute_result"
    }
   ],
   "source": [
    "logreg.score(X_test, y_test)"
   ]
  },
  {
   "cell_type": "markdown",
   "metadata": {},
   "source": [
    "### <span style=\"color: Blue;\">Finding</span>\n",
    "\n",
    "The logistic regression from the state dataset has reasonably good predictive power of 0.77 based on the sole feature of 'act_participation_%'. However, there is a discrepancy with the test result of 0.62. Nevertheless, even with the lower test result, it is fair to conclude that ACT participatin rate is a useful predictor of test recommendation for state. Further analysis can be done to further improve the score by including other possible features in the regression."
   ]
  },
  {
   "cell_type": "markdown",
   "metadata": {},
   "source": [
    "## 10. Summary"
   ]
  },
  {
   "cell_type": "markdown",
   "metadata": {},
   "source": [
    "The following are the key findings of this project:\n",
    "\n",
    "1. The SAT and ACT concordance table taken from the respective official SAT and ACT website is useful as a convertor for SAT and ACT scores in general.\n",
    "2. However, as we propped deeper into individual colleges and states, there is a preference for either tests even though the most colleges and states are neutral. \n",
    "3. There is an obvious preference for ACT score for colleges. Apart from the only 15 colleges that prefers SAT scores, high school students are advised to take ACT to increase their likelihood of getting into college.\n",
    "4. Slightly more states do better in SAT test than ACT test. High school students are also suggested to base their decision to take either test based on their geographical location.\n",
    "5. Logistic regression analysis from the college dataset does not return any promising result.\n",
    "6. Logistic regression analysis from the state dataset reveals that the participation rate of ACT is a fairly good predictor on the best performing test for each state."
   ]
  },
  {
   "cell_type": "markdown",
   "metadata": {},
   "source": [
    "In closure, it is worth highlighting the limitations of this project. The analysis was conducted using the past data from 2019. For the latest trend, data will need to be up-to-date. More importantly, the recommendations provided for high school students are based on general trends derived from colleges and states data. There might be other relevant data not captured in this project that can further provide insights for high school students. For each high school student to decide between taking ACT or SAT test, other factors, such as individual preference and strengths, should also be taken into consideration. Nevertheless, the project hopes that the findings can provide useful insights for high school students to aid their decision making."
   ]
  }
 ],
 "metadata": {
  "anaconda-cloud": {},
  "kernelspec": {
   "display_name": "Python 3 (ipykernel)",
   "language": "python",
   "name": "python3"
  },
  "language_info": {
   "codemirror_mode": {
    "name": "ipython",
    "version": 3
   },
   "file_extension": ".py",
   "mimetype": "text/x-python",
   "name": "python",
   "nbconvert_exporter": "python",
   "pygments_lexer": "ipython3",
   "version": "3.8.13"
  }
 },
 "nbformat": 4,
 "nbformat_minor": 4
}
