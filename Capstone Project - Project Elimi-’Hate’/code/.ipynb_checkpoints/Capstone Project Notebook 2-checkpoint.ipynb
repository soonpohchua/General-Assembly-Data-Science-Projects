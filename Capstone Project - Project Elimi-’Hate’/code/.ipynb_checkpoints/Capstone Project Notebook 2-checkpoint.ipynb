{
 "cells": [
  {
   "cell_type": "markdown",
   "id": "39055511-c69f-4128-b122-238752ecf2e5",
   "metadata": {},
   "source": [
    "<img src=\"http://imgur.com/1ZcRyrc.png\" style=\"float: left; margin: 20px; height: 55px\"> \n",
    "\n",
    "# Capstone: Project Elimi-'Hate'"
   ]
  },
  {
   "cell_type": "markdown",
   "id": "901cfa82-c358-410b-9dc9-e5c17b8fecfb",
   "metadata": {},
   "source": [
    "Note: This is part 2 of the code notebook covering the following :-\n",
    "\n",
    "1. [Library Imports & Functions Creation](#1.-Library-Imports-&-Functions-Creation)\n",
    "2. [Preparation for Modeling](#2.-Preparation-for-Modeling)\n",
    "3.\n",
    "4."
   ]
  },
  {
   "cell_type": "markdown",
   "id": "6ca5b45e-6eba-40ea-b9c3-eda3af9dc70e",
   "metadata": {},
   "source": [
    "## 1. Library Imports & Functions Creation"
   ]
  },
  {
   "cell_type": "code",
   "execution_count": 1,
   "id": "672b62d2-4e39-41f5-b414-2fad90eb3c79",
   "metadata": {},
   "outputs": [],
   "source": [
    "import pickle\n",
    "import matplotlib.pyplot as plt\n",
    "import numpy as np\n",
    "import pandas as pd\n",
    "import warnings\n",
    "from sklearn.feature_extraction.text import TfidfVectorizer\n",
    "from skmultilearn.model_selection import iterative_train_test_split\n",
    "from warnings import simplefilter\n",
    "from sklearn import metrics\n",
    "from skmultilearn.problem_transform import BinaryRelevance, ClassifierChain\n",
    "from sklearn.naive_bayes import MultinomialNB\n",
    "from sklearn.metrics import accuracy_score,hamming_loss\n",
    "from sklearn.metrics import classification_report\n",
    "from skmultilearn.adapt import MLARAM"
   ]
  },
  {
   "cell_type": "code",
   "execution_count": 2,
   "id": "13e4cbec-e4e0-4b0c-a3d2-d8fb11adb817",
   "metadata": {},
   "outputs": [
    {
     "name": "stdout",
     "output_type": "stream",
     "text": [
      "Init Plugin\n",
      "Init Graph Optimizer\n",
      "Init Kernel\n"
     ]
    }
   ],
   "source": [
    "from nltk.tokenize import word_tokenize\n",
    "from nltk.stem import WordNetLemmatizer\n",
    "from nltk.stem import PorterStemmer\n",
    "from sklearn import preprocessing\n",
    "from tqdm import tqdm\n",
    "from tensorflow.keras.models import Sequential\n",
    "# from tensorflow.keras.layers.recurrent import LSTM, GRU\n",
    "# from tensorflow.keras.layers.core import Dense, Activation, Dropout\n",
    "from tensorflow.keras.layers import Embedding, LSTM, Dense\n",
    "# from tensorflow.keras.layers.normalization import BatchNormalization\n",
    "# from tensorflow.keras.utils import np_utils\n",
    "from tensorflow.keras.layers import GlobalMaxPooling1D, Conv1D, MaxPooling1D, Flatten, Bidirectional, SpatialDropout1D\n",
    "from tensorflow.keras.preprocessing import sequence\n",
    "from tensorflow.keras.preprocessing.text import Tokenizer\n",
    "from tensorflow.keras.callbacks import EarlyStopping\n",
    "import matplotlib.pyplot as plt\n",
    "from tensorflow.keras.optimizers import Adam"
   ]
  },
  {
   "cell_type": "code",
   "execution_count": 3,
   "id": "0f778aa0-9571-4362-a19f-95a2e0ba1cfe",
   "metadata": {},
   "outputs": [],
   "source": [
    "def build_model(model,mlb_estimator,xtrain,ytrain,xtest,ytest):\n",
    "    clf = mlb_estimator(model)\n",
    "    clf.fit(xtrain,ytrain)\n",
    "    prediction = clf.predict(xtest)\n",
    "    label_names = ['disrespect', 'insult', 'offensive', 'inferiority', 'humiliation', 'hate_speech', 'dehumanizing']\n",
    "    class_report = metrics.classification_report(y_test, prediction, target_names=label_names) \n",
    "    return print(class_report)"
   ]
  },
  {
   "cell_type": "markdown",
   "id": "2d13b74e-8c54-42c9-b73b-666ce439f502",
   "metadata": {},
   "source": [
    "## 2. Preparation for Modeling\n",
    "\n",
    "We shall proceed to :-\n",
    "- import the cleaned dataframe from previous notebook;\n",
    "- check and remove rows with null values;\n",
    "- separate the target variables from the features;\n",
    "- apply train-test split; and\n",
    "- apply TF-IDF vectorization."
   ]
  },
  {
   "cell_type": "code",
   "execution_count": 4,
   "id": "f95c98ec-0725-439f-b5dc-d76caff22371",
   "metadata": {},
   "outputs": [
    {
     "data": {
      "text/html": [
       "<div>\n",
       "<style scoped>\n",
       "    .dataframe tbody tr th:only-of-type {\n",
       "        vertical-align: middle;\n",
       "    }\n",
       "\n",
       "    .dataframe tbody tr th {\n",
       "        vertical-align: top;\n",
       "    }\n",
       "\n",
       "    .dataframe thead th {\n",
       "        text-align: right;\n",
       "    }\n",
       "</style>\n",
       "<table border=\"1\" class=\"dataframe\">\n",
       "  <thead>\n",
       "    <tr style=\"text-align: right;\">\n",
       "      <th></th>\n",
       "      <th>comment_id</th>\n",
       "      <th>text</th>\n",
       "      <th>disrespect</th>\n",
       "      <th>insult</th>\n",
       "      <th>humiliation</th>\n",
       "      <th>inferiority</th>\n",
       "      <th>dehumanizing</th>\n",
       "      <th>offensive</th>\n",
       "      <th>hate_speech</th>\n",
       "    </tr>\n",
       "  </thead>\n",
       "  <tbody>\n",
       "    <tr>\n",
       "      <th>0</th>\n",
       "      <td>1</td>\n",
       "      <td>white people trash</td>\n",
       "      <td>1</td>\n",
       "      <td>1</td>\n",
       "      <td>1</td>\n",
       "      <td>1</td>\n",
       "      <td>1</td>\n",
       "      <td>1</td>\n",
       "      <td>1</td>\n",
       "    </tr>\n",
       "    <tr>\n",
       "      <th>1</th>\n",
       "      <td>2</td>\n",
       "      <td>youve caught big gay known airborne dildo</td>\n",
       "      <td>1</td>\n",
       "      <td>1</td>\n",
       "      <td>1</td>\n",
       "      <td>1</td>\n",
       "      <td>0</td>\n",
       "      <td>1</td>\n",
       "      <td>1</td>\n",
       "    </tr>\n",
       "  </tbody>\n",
       "</table>\n",
       "</div>"
      ],
      "text/plain": [
       "   comment_id                                       text  disrespect  insult  \\\n",
       "0           1                         white people trash           1       1   \n",
       "1           2  youve caught big gay known airborne dildo           1       1   \n",
       "\n",
       "   humiliation  inferiority  dehumanizing  offensive  hate_speech  \n",
       "0            1            1             1          1            1  \n",
       "1            1            1             0          1            1  "
      ]
     },
     "execution_count": 4,
     "metadata": {},
     "output_type": "execute_result"
    }
   ],
   "source": [
    "# Importing the dataset and provide a recap\n",
    "df = pd.read_csv('df_cleaned.csv')\n",
    "df.head(2)"
   ]
  },
  {
   "cell_type": "code",
   "execution_count": 5,
   "id": "d84a7d63-0277-4ce3-aa38-737b1b6fb2dc",
   "metadata": {},
   "outputs": [
    {
     "data": {
      "text/html": [
       "<div>\n",
       "<style scoped>\n",
       "    .dataframe tbody tr th:only-of-type {\n",
       "        vertical-align: middle;\n",
       "    }\n",
       "\n",
       "    .dataframe tbody tr th {\n",
       "        vertical-align: top;\n",
       "    }\n",
       "\n",
       "    .dataframe thead th {\n",
       "        text-align: right;\n",
       "    }\n",
       "</style>\n",
       "<table border=\"1\" class=\"dataframe\">\n",
       "  <thead>\n",
       "    <tr style=\"text-align: right;\">\n",
       "      <th></th>\n",
       "      <th>col</th>\n",
       "      <th>num_nulls</th>\n",
       "      <th>%nulls</th>\n",
       "    </tr>\n",
       "  </thead>\n",
       "  <tbody>\n",
       "    <tr>\n",
       "      <th>1</th>\n",
       "      <td>text</td>\n",
       "      <td>2</td>\n",
       "      <td>0.005055</td>\n",
       "    </tr>\n",
       "  </tbody>\n",
       "</table>\n",
       "</div>"
      ],
      "text/plain": [
       "    col  num_nulls    %nulls\n",
       "1  text          2  0.005055"
      ]
     },
     "metadata": {},
     "output_type": "display_data"
    }
   ],
   "source": [
    "# Checking for null values\n",
    "pd.DataFrame(df.isna().sum())\n",
    "pd.DataFrame(df.isna().sum()).reset_index()\n",
    "missing_df = pd.DataFrame(df.isna().sum()).reset_index()\n",
    "missing_df.columns = ['col', 'num_nulls'] \n",
    "missing_df['%nulls'] = missing_df['num_nulls']*100/len(df)\n",
    "missing_df = missing_df[missing_df['num_nulls']>0].sort_values(by=[\"%nulls\"], ascending=False)\n",
    "display(missing_df)"
   ]
  },
  {
   "cell_type": "code",
   "execution_count": 6,
   "id": "63577fd9-1cf3-4e2e-8b5d-5084d30e9399",
   "metadata": {},
   "outputs": [],
   "source": [
    "# Drop null rows due to data import\n",
    "df.dropna(inplace=True)\n",
    "df.reset_index(drop=True, inplace=True)"
   ]
  },
  {
   "cell_type": "code",
   "execution_count": 7,
   "id": "70df9a6e-7c27-4de1-a99d-3cc1806a2aff",
   "metadata": {},
   "outputs": [],
   "source": [
    "# Extracting the targets \n",
    "targets = df[['disrespect', 'insult', 'humiliation', 'inferiority', 'dehumanizing','offensive', 'hate_speech']]\n",
    "targets = targets.loc[:, ['disrespect', 'insult', 'offensive', 'inferiority', 'humiliation', 'hate_speech', 'dehumanizing']]"
   ]
  },
  {
   "cell_type": "code",
   "execution_count": 8,
   "id": "a891b6a8-808c-45fd-80dd-33a74917e183",
   "metadata": {},
   "outputs": [],
   "source": [
    "# Preparing for train_test split\n",
    "X = [[i] for i in df['text']]\n",
    "y = targets  \n",
    "X = np.array(X)\n",
    "y = y.to_numpy()"
   ]
  },
  {
   "cell_type": "code",
   "execution_count": 9,
   "id": "002afc68-7c18-4fab-8533-6f72237b0f36",
   "metadata": {},
   "outputs": [
    {
     "name": "stdout",
     "output_type": "stream",
     "text": [
      "Number of Rows Remaining for Modeling: 39563.\n"
     ]
    }
   ],
   "source": [
    "print(f'Number of Rows Remaining for Modeling: {len(df)}.')"
   ]
  },
  {
   "cell_type": "code",
   "execution_count": 10,
   "id": "edb47838-1ef1-427a-b0c4-228f6ea99d55",
   "metadata": {},
   "outputs": [],
   "source": [
    "# Train-test split using random seed 27\n",
    "np.random.seed(27)\n",
    "X_train, y_train, X_test, y_test = iterative_train_test_split(X, y, test_size = 0.25)"
   ]
  },
  {
   "cell_type": "code",
   "execution_count": 11,
   "id": "8540be0e-94a7-4167-8e8c-7f83fcb68e2e",
   "metadata": {},
   "outputs": [],
   "source": [
    "# Changing from np array to list\n",
    "X_train = [i[0] for i in X_train]\n",
    "X_test = [i[0] for i in X_test]"
   ]
  },
  {
   "cell_type": "code",
   "execution_count": 12,
   "id": "f572b3c6-80a0-499d-baee-ea0f69fdfcce",
   "metadata": {},
   "outputs": [],
   "source": [
    "# Apply tf-idf vectorization\n",
    "warnings.simplefilter(action='ignore', category=FutureWarning)\n",
    "tfid = TfidfVectorizer(stop_words='english')\n",
    "X_train = tfid.fit_transform(X_train)\n",
    "X_test = tfid.transform(X_test)"
   ]
  },
  {
   "cell_type": "code",
   "execution_count": 13,
   "id": "249ec225-1e23-4679-8ae2-1fe0f9c2057a",
   "metadata": {},
   "outputs": [],
   "source": [
    "X_train = pd.DataFrame.sparse.from_spmatrix(X_train, columns = tfid.get_feature_names())\n",
    "X_test = pd.DataFrame.sparse.from_spmatrix(X_test, columns = tfid.get_feature_names())"
   ]
  },
  {
   "cell_type": "markdown",
   "id": "775a906e-f0d1-4208-8e48-501a776ebe41",
   "metadata": {},
   "source": [
    "Choice of vectorizer is most commonly between count vectorizer and Term Frequency-Inverse Document Frequency (TF-IDF) vectorizer. Given that TF-IDF vectorizer is able to account for frequency of words present and uncover those which are more important for analysis, it is preferred over count vectorizer."
   ]
  },
  {
   "cell_type": "code",
   "execution_count": 14,
   "id": "f1331455-c55b-426f-871f-6d41e19c984e",
   "metadata": {},
   "outputs": [
    {
     "name": "stdout",
     "output_type": "stream",
     "text": [
      "Number of Features from Train Dataset: 43671.\n"
     ]
    }
   ],
   "source": [
    "print(f'Number of Features from Train Dataset: {len(X_train. columns)}.')"
   ]
  },
  {
   "cell_type": "markdown",
   "id": "aac9b2c1-d4fe-4d65-a134-0f6ef699331b",
   "metadata": {},
   "source": [
    "## 3. Baseline Model"
   ]
  },
  {
   "cell_type": "markdown",
   "id": "37df662f-fa5d-4f66-a40a-ec82644afacb",
   "metadata": {},
   "source": [
    "### - Binary Relevance & Naives Bayes"
   ]
  },
  {
   "cell_type": "markdown",
   "id": "d3d16601-6dbd-490f-acc8-cb90b2e3839a",
   "metadata": {},
   "source": [
    "We shall implement a baseline model using binary relevance and naives bayes for the multi-label classification tasks, which involves using 51574 word features to predict seven target labels (`disrespect`, `insult`, `offensive`, `inferiority`, `humiliation`, `hate_speech` & `dehumanizing`).\n",
    "\n",
    "Binary relevance assumes each target label is mutually exclusive of each other. Naives bayes classified method is chose to accompany binary relevance as it is most commonly used for NLP tasks and requires the least processing power for modeling."
   ]
  },
  {
   "cell_type": "code",
   "execution_count": 15,
   "id": "76e1a93d-98fa-4012-812f-b66fdc6d0ac1",
   "metadata": {},
   "outputs": [
    {
     "name": "stdout",
     "output_type": "stream",
     "text": [
      "              precision    recall  f1-score   support\n",
      "\n",
      "  disrespect       0.75      0.98      0.85      6899\n",
      "      insult       0.73      0.95      0.83      6166\n",
      "   offensive       0.71      0.94      0.81      6043\n",
      " inferiority       0.67      0.91      0.77      5861\n",
      " humiliation       0.73      0.81      0.77      5202\n",
      " hate_speech       0.81      0.41      0.55      3659\n",
      "dehumanizing       0.72      0.18      0.29      3301\n",
      "\n",
      "   micro avg       0.72      0.81      0.76     37131\n",
      "   macro avg       0.73      0.74      0.70     37131\n",
      "weighted avg       0.73      0.81      0.74     37131\n",
      " samples avg       0.61      0.60      0.58     37131\n",
      "\n"
     ]
    }
   ],
   "source": [
    "warnings.filterwarnings(\"ignore\")\n",
    "build_model(MultinomialNB(),BinaryRelevance,X_train,y_train,X_test,y_test)"
   ]
  },
  {
   "cell_type": "markdown",
   "id": "7824d175-9e69-4333-a007-26821ab4bb26",
   "metadata": {},
   "source": [
    "### Methodology for Evaluation\n",
    "\n",
    "1. Classification report, which provides an overview of the precision, recall and f1-scores for each label and the labels collectively, is the preferred method for evaluation.\n",
    "2. Of key importance is the f1-score, which is the harmonic mean of both precision and recall scores. Precision measures how well the model performs out of all predictions while recall measures how well the model performs out of all actual labels. In other words, increasing precision score means that the model is able to elimate false prediction better and increasing recall score means that the model is able to pick out those wrongly predicted actual labels better. Using f-1 score will allow us to strike a balance between precision and recall scores as they are often in tension with each other. \n",
    "3. Apart from individual f-1 scores, micro and macro average f-1 scores shall also taken into account for evaluation. Micro average f-1 score averages based on the different weightage of each label, while macro average f-1 score measures the average of the recall score of each label based on equal weightage.\n",
    "4. F-1 score assumes equal weightage between precision and recall scores. Nevertheless, given the context of this project to pick out unhelpful comments, the priority is to make sure that as many of such comments are being flagged out throuh the model. Hence, in evaluating model with similar f-1 scores, recall scores will take priority over precision."
   ]
  },
  {
   "cell_type": "markdown",
   "id": "ddd759a4-9a43-45d1-b29d-70809caec067",
   "metadata": {},
   "source": [
    "### Evaluation of Base Model: Binary Relevance & Naives Bayes\n",
    "\n",
    "- **Individual f-1 Scores**: Base model is able to perform relatively well in f-1 scores for most labels apart from `hate_speech` and `dehumanzing`, which fared below 0.6. Given the project's focus on hate speech, the score of 0.55 is not ideal. Moreover, the 0.29 score for `dehumanzing` is also low.\n",
    "- **Micro Avg & Macro Avg f-1 Scores**: The model fared better in macro average and micro average scores with macro average performing worse than micro average when assuming equal weightage for `hate_speech` and `dehumazing` labels.\n",
    "- **Precision vs. Recall Scores**: Of the well preforming labels (with f-1 scores above 0.75), recall performs better than precision. However, the opposite is true for `hate_speech` and `dehumanzing` labels. This means that the low f-1 scores of both labels are mainly due to their low recall scores. In other words, the model has the tendency to miss out on these true labels.\n",
    "- **Summary**: In short, base model leaves room for improvement, especially for the f-1 scores of both `hate_speech` and `dehumanzing` labels."
   ]
  },
  {
   "cell_type": "markdown",
   "id": "d52546b7-9336-4d4c-a7b7-6a979e6e6751",
   "metadata": {},
   "source": [
    "## 4. Alternative Models"
   ]
  },
  {
   "cell_type": "markdown",
   "id": "2352f6da-3047-4260-a666-09311aa27fba",
   "metadata": {},
   "source": [
    "### - Classifier Chain & Naives Bayes"
   ]
  },
  {
   "cell_type": "markdown",
   "id": "88432b3f-8b27-4776-af21-8ff416e2ccc8",
   "metadata": {},
   "source": [
    "While helpful as a base model, the assumption of binary relevance that each label is independent of the others does not hold true for the current multi-label classification task. As indicated in the previous notebook, the target labels are postively correlated to each other. Hence, in order to take into account of this relationship between labels, the classifer chain approach would be used instead. It will predict each label sequentially. As per the baseline model, naives bayes is also used."
   ]
  },
  {
   "cell_type": "code",
   "execution_count": 16,
   "id": "fdc7456b-4f67-4948-a9ef-add1b99175fc",
   "metadata": {},
   "outputs": [
    {
     "name": "stdout",
     "output_type": "stream",
     "text": [
      "              precision    recall  f1-score   support\n",
      "\n",
      "  disrespect       0.75      0.98      0.85      6899\n",
      "      insult       0.68      0.98      0.80      6166\n",
      "   offensive       0.66      0.98      0.79      6043\n",
      " inferiority       0.63      0.96      0.76      5861\n",
      " humiliation       0.58      0.99      0.73      5202\n",
      " hate_speech       0.53      0.87      0.66      3659\n",
      "dehumanizing       0.49      0.75      0.60      3301\n",
      "\n",
      "   micro avg       0.63      0.95      0.76     37131\n",
      "   macro avg       0.62      0.93      0.74     37131\n",
      "weighted avg       0.64      0.95      0.76     37131\n",
      " samples avg       0.55      0.70      0.60     37131\n",
      "\n"
     ]
    }
   ],
   "source": [
    "warnings.filterwarnings(\"ignore\")\n",
    "build_model(MultinomialNB(),ClassifierChain,X_train,y_train,X_test,y_test)"
   ]
  },
  {
   "cell_type": "markdown",
   "id": "e6a1d42d-9ced-40b3-b567-663c0fed7f49",
   "metadata": {},
   "source": [
    "### Evaluation of Classifier Chain & Naives Bayes Model\n",
    "\n",
    "- **Individual f-1 Scores**: As compared to the base model, this model is able to perform more consistently across the multi-labels with the worst performing label `dehumanzing` at 0.6. \n",
    "- **Micro Avg & Macro Avg f-1 Scores**: Given the improved f-1 scores of `hate_speech` and `dehumazing` labels, the model is able to register better f-1 macro average and micro average scores. \n",
    "- **Precision vs. Recall Scores**: The improvement in f-1 scores came at the expense of the lower precision scores of each individual label. As compared to the base model, almost all (apart from `disrespect`) saw lower precision scores. Precision macro average score dropped from 0.73 to 0.62, while recall macro average score improved from 0.74 to 0.93. \n",
    "- **Summary**: With both f-1 macro average and micro average scores at least 0.74, this model is promising. Given the relationship between labels, classifier chain model is a suitable model in theory. Practically, the model is also able to produce promising results. It is a model with potential for improvement through further tuning of parameters such as adjusting the alpha value for Naives Bayes or changing the order of labels for Classifier Chain."
   ]
  },
  {
   "cell_type": "markdown",
   "id": "11505ec8-e640-451b-a787-242f5a46bfa3",
   "metadata": {},
   "source": [
    "### - Multi Label Adaptive Resonance Associative Map (MLARAM) "
   ]
  },
  {
   "cell_type": "markdown",
   "id": "0c23d213-fb04-45e9-a44f-26cdcac9652e",
   "metadata": {},
   "source": [
    "Despite the promising scores of the Classifier Chain & Naives Bayes model, we shall exploring using more complex models to improve the scores. All the models from here on will be neutral network models. The first model is a pre-trained neural network model meant for multi-label classification task. Much like the previous model, the Multi Label Adaptive Resonance Associative Map (MLARAM) produces predictions based on relationships between labels. It works on a hierarchy extraction algorithm is based on building association rules from label co-occurrences. For more information on this model, you can refer to this [documentation](https://ieeexplore.ieee.org/document/5596699?signout=success)."
   ]
  },
  {
   "cell_type": "code",
   "execution_count": 17,
   "id": "80baa1dd-14cc-404d-b586-4aece99c5fca",
   "metadata": {},
   "outputs": [],
   "source": [
    "# Need to convert X_train to np array for this model\n",
    "X_train = np.array(X_train)\n",
    "X_test = np.array(X_test)"
   ]
  },
  {
   "cell_type": "code",
   "execution_count": 18,
   "id": "fe515cbf-37ca-4e3b-b58f-a35c1578160b",
   "metadata": {},
   "outputs": [],
   "source": [
    "classifier = MLARAM()\n",
    "classifier.fit(X_train, y_train)\n",
    "prediction = classifier.predict(X_test)"
   ]
  },
  {
   "cell_type": "code",
   "execution_count": 19,
   "id": "3e78a14c-d758-4f8a-b855-d7d18276d1fb",
   "metadata": {},
   "outputs": [
    {
     "name": "stdout",
     "output_type": "stream",
     "text": [
      "              precision    recall  f1-score   support\n",
      "\n",
      "  disrespect       0.70      0.99      0.82      6899\n",
      "      insult       0.72      0.56      0.63      6166\n",
      "   offensive       0.70      0.55      0.61      6043\n",
      " inferiority       0.66      0.53      0.59      5861\n",
      " humiliation       0.63      0.51      0.57      5202\n",
      " hate_speech       0.52      0.37      0.43      3659\n",
      "dehumanizing       0.42      0.04      0.07      3301\n",
      "\n",
      "   micro avg       0.67      0.56      0.61     37131\n",
      "   macro avg       0.62      0.51      0.53     37131\n",
      "weighted avg       0.65      0.56      0.58     37131\n",
      " samples avg       0.64      0.44      0.45     37131\n",
      "\n"
     ]
    }
   ],
   "source": [
    "label_names = ['disrespect', 'insult', 'offensive', 'inferiority', 'humiliation', 'hate_speech', 'dehumanizing']\n",
    "print(classification_report(y_test, prediction,target_names=label_names))"
   ]
  },
  {
   "cell_type": "markdown",
   "id": "225299e6-bd50-4858-b371-c7dc35480c73",
   "metadata": {},
   "source": [
    "### Evaluation of MLARAM Model\n",
    "\n",
    "- **Summary**: There is no need to evaluate the model in details given the low micro average and macro average scores for precision, recall and f-1 scores across the board (below 0.7 for all). Despite the room for further tuning, the above initial result of the default parameters shows that it might not be worth the effort."
   ]
  },
  {
   "cell_type": "markdown",
   "id": "9a6f7bbe-6ea8-4a18-99ad-61620a627e6f",
   "metadata": {},
   "source": [
    "### - Neural Network"
   ]
  },
  {
   "cell_type": "markdown",
   "id": "932212d7-72ad-4269-a05d-9e2ce1e25675",
   "metadata": {},
   "source": [
    "Instead of relying on a pre-trained model, we shall now explore the option of training our own neural network model. Given the complexity of neural network, much can be done to vary the structure of the model (from adding more layers, different kinds of layers to adding different regularization techniques). Of course, a potential downside is the issue of overfitting arising due to overcomplexity of the model. \n",
    "\n",
    "We shall first initiate a simple neural network."
   ]
  },
  {
   "cell_type": "code",
   "execution_count": 20,
   "id": "fbc2ef9f-576a-4ed0-b4bc-b121004fdb69",
   "metadata": {},
   "outputs": [
    {
     "name": "stdout",
     "output_type": "stream",
     "text": [
      "Metal device set to: Apple M1\n"
     ]
    },
    {
     "name": "stderr",
     "output_type": "stream",
     "text": [
      "2022-11-15 15:44:15.198599: I tensorflow/core/common_runtime/pluggable_device/pluggable_device_factory.cc:305] Could not identify NUMA node of platform GPU ID 0, defaulting to 0. Your kernel may not have been built with NUMA support.\n",
      "2022-11-15 15:44:15.198746: I tensorflow/core/common_runtime/pluggable_device/pluggable_device_factory.cc:271] Created TensorFlow device (/job:localhost/replica:0/task:0/device:GPU:0 with 0 MB memory) -> physical PluggableDevice (device: 0, name: METAL, pci bus id: <undefined>)\n"
     ]
    }
   ],
   "source": [
    "model = Sequential()\n",
    "model.add(Dense(128, input_shape=(43671,), activation='relu'))\n",
    "model.add(Dense(64, activation='relu'))\n",
    "model.add(Dense(32, activation='relu'))\n",
    "model.add(Dense(7, activation='sigmoid')) "
   ]
  },
  {
   "cell_type": "code",
   "execution_count": 21,
   "id": "9722349c-9fb3-4b67-b6fe-1fbbc32ffe57",
   "metadata": {},
   "outputs": [],
   "source": [
    "opt = Adam(learning_rate=0.0001)\n",
    "model.compile(loss='binary_crossentropy', optimizer= opt, metrics=['accuracy'])"
   ]
  },
  {
   "cell_type": "code",
   "execution_count": 22,
   "id": "61436b34-d456-47d3-9976-7b4c3057bc9d",
   "metadata": {},
   "outputs": [
    {
     "name": "stdout",
     "output_type": "stream",
     "text": [
      "Model: \"sequential\"\n",
      "_________________________________________________________________\n",
      "Layer (type)                 Output Shape              Param #   \n",
      "=================================================================\n",
      "dense (Dense)                (None, 128)               5590016   \n",
      "_________________________________________________________________\n",
      "dense_1 (Dense)              (None, 64)                8256      \n",
      "_________________________________________________________________\n",
      "dense_2 (Dense)              (None, 32)                2080      \n",
      "_________________________________________________________________\n",
      "dense_3 (Dense)              (None, 7)                 231       \n",
      "=================================================================\n",
      "Total params: 5,600,583\n",
      "Trainable params: 5,600,583\n",
      "Non-trainable params: 0\n",
      "_________________________________________________________________\n"
     ]
    }
   ],
   "source": [
    "model.summary()"
   ]
  },
  {
   "cell_type": "code",
   "execution_count": 23,
   "id": "a4b5a2b4-0d8f-4870-a531-cfb0e31e066d",
   "metadata": {},
   "outputs": [
    {
     "name": "stderr",
     "output_type": "stream",
     "text": [
      "2022-11-15 15:44:31.067939: I tensorflow/compiler/mlir/mlir_graph_optimization_pass.cc:176] None of the MLIR Optimization Passes are enabled (registered 2)\n",
      "2022-11-15 15:44:31.068206: W tensorflow/core/platform/profile_utils/cpu_utils.cc:128] Failed to get CPU frequency: 0 Hz\n",
      "2022-11-15 15:44:31.237665: I tensorflow/core/grappler/optimizers/custom_graph_optimizer_registry.cc:112] Plugin optimizer for device_type GPU is enabled.\n"
     ]
    },
    {
     "name": "stdout",
     "output_type": "stream",
     "text": [
      "Epoch 1/10\n",
      "58/58 [==============================] - ETA: 0s - loss: 0.6865 - accuracy: 0.7043"
     ]
    },
    {
     "name": "stderr",
     "output_type": "stream",
     "text": [
      "2022-11-15 15:44:37.363188: I tensorflow/core/grappler/optimizers/custom_graph_optimizer_registry.cc:112] Plugin optimizer for device_type GPU is enabled.\n"
     ]
    },
    {
     "name": "stdout",
     "output_type": "stream",
     "text": [
      "58/58 [==============================] - 7s 115ms/step - loss: 0.6865 - accuracy: 0.7043 - val_loss: 0.6895 - val_accuracy: 0.6914\n",
      "Epoch 2/10\n",
      "58/58 [==============================] - 4s 70ms/step - loss: 0.6692 - accuracy: 0.6162 - val_loss: 0.6840 - val_accuracy: 0.5033\n",
      "Epoch 3/10\n",
      "58/58 [==============================] - 4s 67ms/step - loss: 0.6432 - accuracy: 0.4293 - val_loss: 0.6760 - val_accuracy: 0.4027\n",
      "Epoch 4/10\n",
      "58/58 [==============================] - 4s 67ms/step - loss: 0.5999 - accuracy: 0.4284 - val_loss: 0.6652 - val_accuracy: 0.4776\n",
      "Epoch 5/10\n",
      "58/58 [==============================] - 4s 66ms/step - loss: 0.5363 - accuracy: 0.5433 - val_loss: 0.6509 - val_accuracy: 0.5548\n",
      "Epoch 6/10\n",
      "58/58 [==============================] - 4s 65ms/step - loss: 0.4433 - accuracy: 0.6215 - val_loss: 0.6344 - val_accuracy: 0.7482\n",
      "Epoch 7/10\n",
      "58/58 [==============================] - 4s 66ms/step - loss: 0.3286 - accuracy: 0.8701 - val_loss: 0.6169 - val_accuracy: 0.9439\n",
      "Epoch 8/10\n",
      "58/58 [==============================] - 4s 66ms/step - loss: 0.1819 - accuracy: 0.9341 - val_loss: 0.6019 - val_accuracy: 0.9440\n",
      "Epoch 9/10\n",
      "58/58 [==============================] - 4s 66ms/step - loss: -7.5819e-04 - accuracy: 0.9341 - val_loss: 0.5895 - val_accuracy: 0.9440\n",
      "Epoch 10/10\n",
      "58/58 [==============================] - 4s 65ms/step - loss: -0.2351 - accuracy: 0.9341 - val_loss: 0.5790 - val_accuracy: 0.9440\n"
     ]
    }
   ],
   "source": [
    "history = model.fit(X_train, y_train, validation_data=(X_test, y_test), epochs=10, batch_size=512)"
   ]
  },
  {
   "cell_type": "code",
   "execution_count": 24,
   "id": "013be9df-0e2a-4ed7-a3c0-33012dbbd182",
   "metadata": {},
   "outputs": [
    {
     "name": "stderr",
     "output_type": "stream",
     "text": [
      "2022-11-15 15:45:15.491408: I tensorflow/core/grappler/optimizers/custom_graph_optimizer_registry.cc:112] Plugin optimizer for device_type GPU is enabled.\n"
     ]
    },
    {
     "name": "stdout",
     "output_type": "stream",
     "text": [
      "[[1. 0. 1. ... 0. 0. 0.]\n",
      " [1. 1. 1. ... 1. 0. 1.]\n",
      " [1. 1. 1. ... 1. 1. 1.]\n",
      " ...\n",
      " [1. 0. 1. ... 0. 0. 0.]\n",
      " [1. 0. 1. ... 0. 0. 0.]\n",
      " [1. 1. 1. ... 0. 0. 0.]]\n"
     ]
    }
   ],
   "source": [
    "y_pred = model.predict(X_test)\n",
    "y_pred[(y_pred < 0.5)] = 0\n",
    "y_pred[(y_pred >= 0.5)] = 1\n",
    "print(y_pred)"
   ]
  },
  {
   "cell_type": "code",
   "execution_count": 25,
   "id": "a2ec245a-7011-4cdb-9d40-99077fd2690e",
   "metadata": {},
   "outputs": [
    {
     "name": "stdout",
     "output_type": "stream",
     "text": [
      "              precision    recall  f1-score   support\n",
      "\n",
      "  disrespect       0.70      1.00      0.82      6899\n",
      "      insult       0.73      0.94      0.82      6166\n",
      "   offensive       0.61      1.00      0.76      6043\n",
      " inferiority       0.65      0.94      0.77      5861\n",
      " humiliation       0.77      0.69      0.73      5202\n",
      " hate_speech       0.67      0.59      0.63      3659\n",
      "dehumanizing       0.51      0.73      0.60      3301\n",
      "\n",
      "   micro avg       0.67      0.87      0.75     37131\n",
      "   macro avg       0.66      0.84      0.73     37131\n",
      "weighted avg       0.67      0.87      0.75     37131\n",
      " samples avg       0.60      0.65      0.60     37131\n",
      "\n"
     ]
    }
   ],
   "source": [
    "warnings.filterwarnings(\"ignore\")\n",
    "label_names = ['disrespect', 'insult', 'offensive', 'inferiority', 'humiliation', 'hate_speech', 'dehumanizing']\n",
    "print(classification_report(y_test, y_pred,target_names=label_names))"
   ]
  },
  {
   "cell_type": "code",
   "execution_count": 26,
   "id": "580f6623-f978-4e62-8e88-92f6b80425c7",
   "metadata": {},
   "outputs": [
    {
     "data": {
      "image/png": "[encoded data removed]",
      "text/plain": [
       "<Figure size 800x600 with 1 Axes>"
      ]
     },
     "metadata": {},
     "output_type": "display_data"
    }
   ],
   "source": [
    "# Check out our train loss and test loss over epochs.\n",
    "train_loss = history.history['loss']\n",
    "test_loss = history.history['val_loss']\n",
    "# Set figure size.\n",
    "plt.figure(figsize=(8, 6))\n",
    "# Generate line plot of training, testing loss over epochs.\n",
    "plt.plot(train_loss, label='Training Loss')\n",
    "plt.plot(test_loss, label='Testing Loss')\n",
    "# Set title\n",
    "plt.xlabel('Epoch')\n",
    "plt.ylabel('Loss')\n",
    "plt.legend();"
   ]
  },
  {
   "cell_type": "markdown",
   "id": "416ad922-7543-4bdc-8459-dc80b46bf0d5",
   "metadata": {},
   "source": [
    "### Special Mention of Trained Neural Network Models\n",
    "\n",
    "Individual f-1 Scores: As compared to the base model, this model is able to perform more consistently across the multi-labels with the worst performing label dehumanzing at 0.6.\n",
    "Micro Avg & Macro Avg f-1 Scores: Given the improved f-1 scores of hate_speech and dehumazing labels, the model is able to register better f-1 macro average and micro average scores.\n",
    "Precision vs. Recall Scores: The improvement in f-1 scores came at the expense of the lower precision scores of each individual label. As compared to the base model, almost all (apart from disrespect) saw lower precision scores. Precision macro average score dropped from 0.73 to 0.62, while recall macro average score improved from 0.74 to 0.93.\n",
    "Summary: With both f-1 macro average and micro average scores at least 0.74, this model is promising. Given the relationship between labels, classifier chain model is a suitable model in theory. Practically, the model is also able to produce promising results. It is a model with potential for improvement through further tuning of parameters such as adjusting the alpha value for Naives Bayes or changing the order of labels for Classifier Chain."
   ]
  },
  {
   "cell_type": "markdown",
   "id": "8794155c-1d1a-442f-b37f-fd6f94ceaa5b",
   "metadata": {},
   "source": [
    "### Evaluation of Neural Network Model\n",
    "\n",
    "- **Individual f-1 Scores**: As compared to the base model, this model is able to perform more consistently across the multi-labels with the worst performing label `dehumanzing` at 0.6. \n",
    "- **Micro Avg & Macro Avg f-1 Scores**: Given the improved f-1 scores of `hate_speech` and `dehumazing` labels, the model is able to register better f-1 macro average and micro average scores. \n",
    "- **Precision vs. Recall Scores**: The improvement in f-1 scores came at the expense of the lower precision scores of each individual label. As compared to the base model, almost all (apart from `disrespect`) saw lower precision scores. Precision macro average score dropped from 0.73 to 0.62, while recall macro average score improved from 0.74 to 0.93. \n",
    "- **Summary**: With both f-1 macro average and micro average scores at least 0.74, this model is promising. Given the relationship between labels, classifier chain model is a suitable model in theory. Practically, the model is also able to produce promising results. It is a model with potential for improvement through further tuning of parameters such as adjusting the alpha value for Naives Bayes or changing the order of labels for Classifier Chain."
   ]
  },
  {
   "cell_type": "markdown",
   "id": "10b7038f-1990-466f-bdab-468b98a168b8",
   "metadata": {},
   "source": [
    "###  - Neural Network with GLOVE & LSTM"
   ]
  },
  {
   "cell_type": "code",
   "execution_count": 27,
   "id": "5701e163-2fab-4a3b-a228-799217200b24",
   "metadata": {
    "tags": []
   },
   "outputs": [],
   "source": [
    "# with open('model_pk', 'wb') as files:\n",
    "#    pickle.dump(model, files)"
   ]
  },
  {
   "cell_type": "markdown",
   "id": "dca6a771-2158-4a37-8a36-37c8fd2f7ed6",
   "metadata": {},
   "source": [
    "## LTSM Neural Network"
   ]
  },
  {
   "cell_type": "code",
   "execution_count": 28,
   "id": "fe7126f3-13e0-4d19-ba94-7e5f700eca73",
   "metadata": {},
   "outputs": [],
   "source": [
    "from tqdm import tqdm"
   ]
  },
  {
   "cell_type": "code",
   "execution_count": 29,
   "id": "a9ddae3d-5cca-463b-81a8-2c05ea702a06",
   "metadata": {},
   "outputs": [
    {
     "name": "stderr",
     "output_type": "stream",
     "text": [
      "1193514it [00:03, 305840.23it/s]"
     ]
    },
    {
     "name": "stdout",
     "output_type": "stream",
     "text": [
      "Found 1193514 word vectors.\n"
     ]
    },
    {
     "name": "stderr",
     "output_type": "stream",
     "text": [
      "\n"
     ]
    }
   ],
   "source": [
    "embeddings_index = {}\n",
    "f = open('glove.twitter.27B.25d.txt',encoding='utf8')\n",
    "for line in tqdm(f):\n",
    "    values = line.split()\n",
    "    word = values[0]\n",
    "    coefs = np.asarray(values[1:], dtype='float32')\n",
    "    embeddings_index[word] = coefs\n",
    "f.close()\n",
    "print('Found %s word vectors.' % len(embeddings_index))"
   ]
  },
  {
   "cell_type": "code",
   "execution_count": 30,
   "id": "127c6956-af4d-4ede-8bf6-4188e4893c72",
   "metadata": {},
   "outputs": [],
   "source": [
    "VOCABULARY_SIZE = 51575\n",
    "MAX_LENGTH = 512"
   ]
  },
  {
   "cell_type": "code",
   "execution_count": 31,
   "id": "4d0b3a83-5708-4823-9772-df626d9b8af4",
   "metadata": {},
   "outputs": [],
   "source": [
    "X1 = [[i] for i in df['text']]"
   ]
  },
  {
   "cell_type": "code",
   "execution_count": 32,
   "id": "0bef5477-9c38-4e69-a069-5c36100c81bf",
   "metadata": {},
   "outputs": [
    {
     "data": {
      "text/plain": [
       "array([[1, 1, 1, ..., 1, 1, 1],\n",
       "       [1, 1, 1, ..., 1, 1, 0],\n",
       "       [1, 1, 1, ..., 1, 0, 0],\n",
       "       ...,\n",
       "       [0, 0, 0, ..., 0, 0, 0],\n",
       "       [1, 1, 1, ..., 1, 1, 1],\n",
       "       [1, 1, 1, ..., 1, 1, 0]])"
      ]
     },
     "execution_count": 32,
     "metadata": {},
     "output_type": "execute_result"
    }
   ],
   "source": [
    "y"
   ]
  },
  {
   "cell_type": "code",
   "execution_count": 33,
   "id": "4d8cac2a-f94a-4f38-a15c-9a2f1b4fd62f",
   "metadata": {},
   "outputs": [],
   "source": [
    "X1 = np.array(X1)"
   ]
  },
  {
   "cell_type": "code",
   "execution_count": 34,
   "id": "3ff8af6d-62ef-4577-91e1-7ded0bb5b0f8",
   "metadata": {},
   "outputs": [],
   "source": [
    "from skmultilearn.model_selection import iterative_train_test_split\n",
    "np.random.seed(27)\n",
    "X_train, y_train, X_test, y_test = iterative_train_test_split(X1, y, test_size = 0.25)"
   ]
  },
  {
   "cell_type": "code",
   "execution_count": 35,
   "id": "b4bef2e8-0727-4619-aef1-da70e4ece92f",
   "metadata": {},
   "outputs": [],
   "source": [
    "X_train = [i[0] for i in X_train]\n",
    "X_test = [i[0] for i in X_test]"
   ]
  },
  {
   "cell_type": "code",
   "execution_count": 36,
   "id": "86a7e566-d6fe-47bf-894d-339d7d30b031",
   "metadata": {},
   "outputs": [],
   "source": [
    "tokenizer = Tokenizer(num_words=VOCABULARY_SIZE+1)\n",
    "tokenizer.fit_on_texts(X_train + X_test)"
   ]
  },
  {
   "cell_type": "code",
   "execution_count": 37,
   "id": "8783af5d-f201-42bb-9e97-d63190a5441d",
   "metadata": {},
   "outputs": [],
   "source": [
    "xtrain_sequence = tokenizer.texts_to_sequences(X_train)\n",
    "xtest_sequence = tokenizer.texts_to_sequences(X_test)"
   ]
  },
  {
   "cell_type": "code",
   "execution_count": 38,
   "id": "c24bf4ce-3804-4a5d-bf89-180247925f34",
   "metadata": {},
   "outputs": [],
   "source": [
    "from tensorflow.keras.preprocessing import sequence\n",
    "xtrain_padding = sequence.pad_sequences(xtrain_sequence, maxlen=MAX_LENGTH)\n",
    "xtest_padding = sequence.pad_sequences(xtest_sequence, maxlen=MAX_LENGTH)\n",
    "word_index = tokenizer.word_index"
   ]
  },
  {
   "cell_type": "code",
   "execution_count": 39,
   "id": "f6228e74-31e9-421f-9239-a29db27c9655",
   "metadata": {},
   "outputs": [
    {
     "name": "stderr",
     "output_type": "stream",
     "text": [
      "100%|█████████████████████████████████| 51627/51627 [00:00<00:00, 585553.21it/s]\n"
     ]
    }
   ],
   "source": [
    "embedding_matrix = np.zeros((len(word_index) + 1, 25))\n",
    "for word, i in tqdm(word_index.items()):\n",
    "    embedding_vector = embeddings_index.get(word)\n",
    "    if embedding_vector is not None:\n",
    "        embedding_matrix[i] = embedding_vector"
   ]
  },
  {
   "cell_type": "code",
   "execution_count": 40,
   "id": "f14f8170-376c-4cb4-8625-e5167cda2a46",
   "metadata": {},
   "outputs": [],
   "source": [
    "import pandas as pd\n",
    "import numpy as np\n",
    "import matplotlib.pyplot as plt\n",
    "from nltk.tokenize import word_tokenize\n",
    "from nltk.stem import WordNetLemmatizer\n",
    "from nltk.stem import PorterStemmer\n",
    "from sklearn import preprocessing\n",
    "from tqdm import tqdm\n",
    "from tensorflow.keras.layers import Dropout\n",
    "from tensorflow.keras.models import Sequential\n",
    "# from tensorflow.keras.layers.recurrent import LSTM, GRU\n",
    "# from tensorflow.keras.layers.core import Dense, Activation, Dropout\n",
    "from tensorflow.keras.layers import Embedding, LSTM, Dense\n",
    "# from tensorflow.keras.layers.normalization import BatchNormalization\n",
    "# from tensorflow.keras.utils import np_utils\n",
    "from tensorflow.keras.layers import GlobalMaxPooling1D, Conv1D, MaxPooling1D, Flatten, Bidirectional, SpatialDropout1D\n",
    "from tensorflow.keras.preprocessing import sequence\n",
    "from tensorflow.keras.preprocessing.text import Tokenizer\n",
    "from tensorflow.keras.callbacks import EarlyStopping\n",
    "import matplotlib.pyplot as plt\n",
    "from tensorflow.keras.optimizers import Adam"
   ]
  },
  {
   "cell_type": "code",
   "execution_count": 41,
   "id": "32c09b34-7205-4f08-8ab8-4db75fee9383",
   "metadata": {},
   "outputs": [],
   "source": [
    "X_train = np.array(X_train)\n",
    "X_test = np.array(X_test)"
   ]
  },
  {
   "cell_type": "code",
   "execution_count": 42,
   "id": "213c76bb-3fd7-41f8-8b25-8d54ac1d4643",
   "metadata": {},
   "outputs": [],
   "source": [
    "model = Sequential()\n",
    "model.add(Embedding(len(word_index) + 1,\n",
    " 25,\n",
    " weights=[embedding_matrix],\n",
    " input_length=MAX_LENGTH,\n",
    " trainable=False))\n",
    "model.add(LSTM(128))\n",
    "model.add(Dense(64, activation='relu'))\n",
    "model.add(Dropout(0.3))\n",
    "model.add(Dense(32, activation='relu'))\n",
    "model.add(Dense(7, activation='sigmoid')) "
   ]
  },
  {
   "cell_type": "code",
   "execution_count": 43,
   "id": "954cd115-38c4-48da-a580-1df04d96b796",
   "metadata": {},
   "outputs": [],
   "source": [
    "early_stop = EarlyStopping(monitor='val_loss', \n",
    "                           min_delta=0, \n",
    "                           patience=3, \n",
    "                           mode='auto')"
   ]
  },
  {
   "cell_type": "code",
   "execution_count": 44,
   "id": "701b57cd-4340-4d01-8c04-f8a48a2a331c",
   "metadata": {},
   "outputs": [],
   "source": [
    "opt = Adam(learning_rate=0.001)\n",
    "model.compile(loss='binary_crossentropy', optimizer= opt, metrics=['accuracy'])"
   ]
  },
  {
   "cell_type": "code",
   "execution_count": 45,
   "id": "dae38017-a90c-4a6e-b9ba-fb054fd5ce21",
   "metadata": {},
   "outputs": [
    {
     "name": "stdout",
     "output_type": "stream",
     "text": [
      "Epoch 1/15\n"
     ]
    },
    {
     "name": "stderr",
     "output_type": "stream",
     "text": [
      "2022-11-15 15:46:12.916661: I tensorflow/core/grappler/optimizers/custom_graph_optimizer_registry.cc:112] Plugin optimizer for device_type GPU is enabled.\n",
      "2022-11-15 15:46:13.006922: I tensorflow/core/grappler/optimizers/custom_graph_optimizer_registry.cc:112] Plugin optimizer for device_type GPU is enabled.\n",
      "2022-11-15 15:46:16.512391: I tensorflow/core/grappler/optimizers/custom_graph_optimizer_registry.cc:112] Plugin optimizer for device_type GPU is enabled.\n"
     ]
    },
    {
     "name": "stdout",
     "output_type": "stream",
     "text": [
      "58/58 [==============================] - ETA: 0s - loss: 0.6003 - accuracy: 0.6943"
     ]
    },
    {
     "name": "stderr",
     "output_type": "stream",
     "text": [
      "2022-11-15 15:47:03.973799: I tensorflow/core/grappler/optimizers/custom_graph_optimizer_registry.cc:112] Plugin optimizer for device_type GPU is enabled.\n",
      "2022-11-15 15:47:04.016037: I tensorflow/core/grappler/optimizers/custom_graph_optimizer_registry.cc:112] Plugin optimizer for device_type GPU is enabled.\n"
     ]
    },
    {
     "name": "stdout",
     "output_type": "stream",
     "text": [
      "58/58 [==============================] - 61s 877ms/step - loss: 0.6003 - accuracy: 0.6943 - val_loss: 0.5534 - val_accuracy: 0.8219\n",
      "Epoch 2/15\n",
      "58/58 [==============================] - 36s 622ms/step - loss: 0.5527 - accuracy: 0.7825 - val_loss: 0.5451 - val_accuracy: 0.9126\n",
      "Epoch 3/15\n",
      "58/58 [==============================] - ETA: 0s - loss: 0.5419 - accuracy: 0.8050"
     ]
    },
    {
     "ename": "KeyboardInterrupt",
     "evalue": "",
     "output_type": "error",
     "traceback": [
      "\u001b[0;31m---------------------------------------------------------------------------\u001b[0m",
      "\u001b[0;31mKeyboardInterrupt\u001b[0m                         Traceback (most recent call last)",
      "Input \u001b[0;32mIn [45]\u001b[0m, in \u001b[0;36m<cell line: 1>\u001b[0;34m()\u001b[0m\n\u001b[0;32m----> 1\u001b[0m history \u001b[38;5;241m=\u001b[39m \u001b[43mmodel\u001b[49m\u001b[38;5;241;43m.\u001b[39;49m\u001b[43mfit\u001b[49m\u001b[43m(\u001b[49m\n\u001b[1;32m      2\u001b[0m \u001b[43m    \u001b[49m\u001b[43mxtrain_padding\u001b[49m\u001b[43m,\u001b[49m\n\u001b[1;32m      3\u001b[0m \u001b[43m    \u001b[49m\u001b[43my_train\u001b[49m\u001b[43m,\u001b[49m\n\u001b[1;32m      4\u001b[0m \u001b[43m    \u001b[49m\u001b[43mvalidation_data\u001b[49m\u001b[38;5;241;43m=\u001b[39;49m\u001b[43m(\u001b[49m\u001b[43mxtest_padding\u001b[49m\u001b[43m,\u001b[49m\u001b[43m \u001b[49m\u001b[43my_test\u001b[49m\u001b[43m)\u001b[49m\u001b[43m,\u001b[49m\n\u001b[1;32m      5\u001b[0m \u001b[43m    \u001b[49m\u001b[43mepochs\u001b[49m\u001b[38;5;241;43m=\u001b[39;49m\u001b[38;5;241;43m15\u001b[39;49m\u001b[43m,\u001b[49m\n\u001b[1;32m      6\u001b[0m \u001b[43m    \u001b[49m\u001b[43mbatch_size\u001b[49m\u001b[38;5;241;43m=\u001b[39;49m\u001b[38;5;241;43m512\u001b[39;49m\u001b[43m,\u001b[49m\n\u001b[1;32m      7\u001b[0m \u001b[43m    \u001b[49m\u001b[43mcallbacks\u001b[49m\u001b[38;5;241;43m=\u001b[39;49m\u001b[43m[\u001b[49m\u001b[43mearly_stop\u001b[49m\u001b[43m]\u001b[49m\n\u001b[1;32m      8\u001b[0m \u001b[43m)\u001b[49m\n",
      "File \u001b[0;32m~/mambaforge/envs/capstone/lib/python3.9/site-packages/tensorflow/python/keras/engine/training.py:1214\u001b[0m, in \u001b[0;36mModel.fit\u001b[0;34m(self, x, y, batch_size, epochs, verbose, callbacks, validation_split, validation_data, shuffle, class_weight, sample_weight, initial_epoch, steps_per_epoch, validation_steps, validation_batch_size, validation_freq, max_queue_size, workers, use_multiprocessing)\u001b[0m\n\u001b[1;32m   1200\u001b[0m \u001b[38;5;28;01mif\u001b[39;00m \u001b[38;5;28mgetattr\u001b[39m(\u001b[38;5;28mself\u001b[39m, \u001b[38;5;124m'\u001b[39m\u001b[38;5;124m_eval_data_handler\u001b[39m\u001b[38;5;124m'\u001b[39m, \u001b[38;5;28;01mNone\u001b[39;00m) \u001b[38;5;129;01mis\u001b[39;00m \u001b[38;5;28;01mNone\u001b[39;00m:\n\u001b[1;32m   1201\u001b[0m   \u001b[38;5;28mself\u001b[39m\u001b[38;5;241m.\u001b[39m_eval_data_handler \u001b[38;5;241m=\u001b[39m data_adapter\u001b[38;5;241m.\u001b[39mget_data_handler(\n\u001b[1;32m   1202\u001b[0m       x\u001b[38;5;241m=\u001b[39mval_x,\n\u001b[1;32m   1203\u001b[0m       y\u001b[38;5;241m=\u001b[39mval_y,\n\u001b[0;32m   (...)\u001b[0m\n\u001b[1;32m   1212\u001b[0m       model\u001b[38;5;241m=\u001b[39m\u001b[38;5;28mself\u001b[39m,\n\u001b[1;32m   1213\u001b[0m       steps_per_execution\u001b[38;5;241m=\u001b[39m\u001b[38;5;28mself\u001b[39m\u001b[38;5;241m.\u001b[39m_steps_per_execution)\n\u001b[0;32m-> 1214\u001b[0m val_logs \u001b[38;5;241m=\u001b[39m \u001b[38;5;28;43mself\u001b[39;49m\u001b[38;5;241;43m.\u001b[39;49m\u001b[43mevaluate\u001b[49m\u001b[43m(\u001b[49m\n\u001b[1;32m   1215\u001b[0m \u001b[43m    \u001b[49m\u001b[43mx\u001b[49m\u001b[38;5;241;43m=\u001b[39;49m\u001b[43mval_x\u001b[49m\u001b[43m,\u001b[49m\n\u001b[1;32m   1216\u001b[0m \u001b[43m    \u001b[49m\u001b[43my\u001b[49m\u001b[38;5;241;43m=\u001b[39;49m\u001b[43mval_y\u001b[49m\u001b[43m,\u001b[49m\n\u001b[1;32m   1217\u001b[0m \u001b[43m    \u001b[49m\u001b[43msample_weight\u001b[49m\u001b[38;5;241;43m=\u001b[39;49m\u001b[43mval_sample_weight\u001b[49m\u001b[43m,\u001b[49m\n\u001b[1;32m   1218\u001b[0m \u001b[43m    \u001b[49m\u001b[43mbatch_size\u001b[49m\u001b[38;5;241;43m=\u001b[39;49m\u001b[43mvalidation_batch_size\u001b[49m\u001b[43m \u001b[49m\u001b[38;5;129;43;01mor\u001b[39;49;00m\u001b[43m \u001b[49m\u001b[43mbatch_size\u001b[49m\u001b[43m,\u001b[49m\n\u001b[1;32m   1219\u001b[0m \u001b[43m    \u001b[49m\u001b[43msteps\u001b[49m\u001b[38;5;241;43m=\u001b[39;49m\u001b[43mvalidation_steps\u001b[49m\u001b[43m,\u001b[49m\n\u001b[1;32m   1220\u001b[0m \u001b[43m    \u001b[49m\u001b[43mcallbacks\u001b[49m\u001b[38;5;241;43m=\u001b[39;49m\u001b[43mcallbacks\u001b[49m\u001b[43m,\u001b[49m\n\u001b[1;32m   1221\u001b[0m \u001b[43m    \u001b[49m\u001b[43mmax_queue_size\u001b[49m\u001b[38;5;241;43m=\u001b[39;49m\u001b[43mmax_queue_size\u001b[49m\u001b[43m,\u001b[49m\n\u001b[1;32m   1222\u001b[0m \u001b[43m    \u001b[49m\u001b[43mworkers\u001b[49m\u001b[38;5;241;43m=\u001b[39;49m\u001b[43mworkers\u001b[49m\u001b[43m,\u001b[49m\n\u001b[1;32m   1223\u001b[0m \u001b[43m    \u001b[49m\u001b[43muse_multiprocessing\u001b[49m\u001b[38;5;241;43m=\u001b[39;49m\u001b[43muse_multiprocessing\u001b[49m\u001b[43m,\u001b[49m\n\u001b[1;32m   1224\u001b[0m \u001b[43m    \u001b[49m\u001b[43mreturn_dict\u001b[49m\u001b[38;5;241;43m=\u001b[39;49m\u001b[38;5;28;43;01mTrue\u001b[39;49;00m\u001b[43m,\u001b[49m\n\u001b[1;32m   1225\u001b[0m \u001b[43m    \u001b[49m\u001b[43m_use_cached_eval_dataset\u001b[49m\u001b[38;5;241;43m=\u001b[39;49m\u001b[38;5;28;43;01mTrue\u001b[39;49;00m\u001b[43m)\u001b[49m\n\u001b[1;32m   1226\u001b[0m val_logs \u001b[38;5;241m=\u001b[39m {\u001b[38;5;124m'\u001b[39m\u001b[38;5;124mval_\u001b[39m\u001b[38;5;124m'\u001b[39m \u001b[38;5;241m+\u001b[39m name: val \u001b[38;5;28;01mfor\u001b[39;00m name, val \u001b[38;5;129;01min\u001b[39;00m val_logs\u001b[38;5;241m.\u001b[39mitems()}\n\u001b[1;32m   1227\u001b[0m epoch_logs\u001b[38;5;241m.\u001b[39mupdate(val_logs)\n",
      "File \u001b[0;32m~/mambaforge/envs/capstone/lib/python3.9/site-packages/tensorflow/python/keras/engine/training.py:1489\u001b[0m, in \u001b[0;36mModel.evaluate\u001b[0;34m(self, x, y, batch_size, verbose, sample_weight, steps, callbacks, max_queue_size, workers, use_multiprocessing, return_dict, **kwargs)\u001b[0m\n\u001b[1;32m   1487\u001b[0m \u001b[38;5;28;01mwith\u001b[39;00m trace\u001b[38;5;241m.\u001b[39mTrace(\u001b[38;5;124m'\u001b[39m\u001b[38;5;124mtest\u001b[39m\u001b[38;5;124m'\u001b[39m, step_num\u001b[38;5;241m=\u001b[39mstep, _r\u001b[38;5;241m=\u001b[39m\u001b[38;5;241m1\u001b[39m):\n\u001b[1;32m   1488\u001b[0m   callbacks\u001b[38;5;241m.\u001b[39mon_test_batch_begin(step)\n\u001b[0;32m-> 1489\u001b[0m   tmp_logs \u001b[38;5;241m=\u001b[39m \u001b[38;5;28;43mself\u001b[39;49m\u001b[38;5;241;43m.\u001b[39;49m\u001b[43mtest_function\u001b[49m\u001b[43m(\u001b[49m\u001b[43miterator\u001b[49m\u001b[43m)\u001b[49m\n\u001b[1;32m   1490\u001b[0m   \u001b[38;5;28;01mif\u001b[39;00m data_handler\u001b[38;5;241m.\u001b[39mshould_sync:\n\u001b[1;32m   1491\u001b[0m     context\u001b[38;5;241m.\u001b[39masync_wait()\n",
      "File \u001b[0;32m~/mambaforge/envs/capstone/lib/python3.9/site-packages/tensorflow/python/eager/def_function.py:889\u001b[0m, in \u001b[0;36mFunction.__call__\u001b[0;34m(self, *args, **kwds)\u001b[0m\n\u001b[1;32m    886\u001b[0m compiler \u001b[38;5;241m=\u001b[39m \u001b[38;5;124m\"\u001b[39m\u001b[38;5;124mxla\u001b[39m\u001b[38;5;124m\"\u001b[39m \u001b[38;5;28;01mif\u001b[39;00m \u001b[38;5;28mself\u001b[39m\u001b[38;5;241m.\u001b[39m_jit_compile \u001b[38;5;28;01melse\u001b[39;00m \u001b[38;5;124m\"\u001b[39m\u001b[38;5;124mnonXla\u001b[39m\u001b[38;5;124m\"\u001b[39m\n\u001b[1;32m    888\u001b[0m \u001b[38;5;28;01mwith\u001b[39;00m OptionalXlaContext(\u001b[38;5;28mself\u001b[39m\u001b[38;5;241m.\u001b[39m_jit_compile):\n\u001b[0;32m--> 889\u001b[0m   result \u001b[38;5;241m=\u001b[39m \u001b[38;5;28;43mself\u001b[39;49m\u001b[38;5;241;43m.\u001b[39;49m\u001b[43m_call\u001b[49m\u001b[43m(\u001b[49m\u001b[38;5;241;43m*\u001b[39;49m\u001b[43margs\u001b[49m\u001b[43m,\u001b[49m\u001b[43m \u001b[49m\u001b[38;5;241;43m*\u001b[39;49m\u001b[38;5;241;43m*\u001b[39;49m\u001b[43mkwds\u001b[49m\u001b[43m)\u001b[49m\n\u001b[1;32m    891\u001b[0m new_tracing_count \u001b[38;5;241m=\u001b[39m \u001b[38;5;28mself\u001b[39m\u001b[38;5;241m.\u001b[39mexperimental_get_tracing_count()\n\u001b[1;32m    892\u001b[0m without_tracing \u001b[38;5;241m=\u001b[39m (tracing_count \u001b[38;5;241m==\u001b[39m new_tracing_count)\n",
      "File \u001b[0;32m~/mambaforge/envs/capstone/lib/python3.9/site-packages/tensorflow/python/eager/def_function.py:924\u001b[0m, in \u001b[0;36mFunction._call\u001b[0;34m(self, *args, **kwds)\u001b[0m\n\u001b[1;32m    921\u001b[0m \u001b[38;5;28mself\u001b[39m\u001b[38;5;241m.\u001b[39m_lock\u001b[38;5;241m.\u001b[39mrelease()\n\u001b[1;32m    922\u001b[0m \u001b[38;5;66;03m# In this case we have not created variables on the first call. So we can\u001b[39;00m\n\u001b[1;32m    923\u001b[0m \u001b[38;5;66;03m# run the first trace but we should fail if variables are created.\u001b[39;00m\n\u001b[0;32m--> 924\u001b[0m results \u001b[38;5;241m=\u001b[39m \u001b[38;5;28;43mself\u001b[39;49m\u001b[38;5;241;43m.\u001b[39;49m\u001b[43m_stateful_fn\u001b[49m\u001b[43m(\u001b[49m\u001b[38;5;241;43m*\u001b[39;49m\u001b[43margs\u001b[49m\u001b[43m,\u001b[49m\u001b[43m \u001b[49m\u001b[38;5;241;43m*\u001b[39;49m\u001b[38;5;241;43m*\u001b[39;49m\u001b[43mkwds\u001b[49m\u001b[43m)\u001b[49m\n\u001b[1;32m    925\u001b[0m \u001b[38;5;28;01mif\u001b[39;00m \u001b[38;5;28mself\u001b[39m\u001b[38;5;241m.\u001b[39m_created_variables:\n\u001b[1;32m    926\u001b[0m   \u001b[38;5;28;01mraise\u001b[39;00m \u001b[38;5;167;01mValueError\u001b[39;00m(\u001b[38;5;124m\"\u001b[39m\u001b[38;5;124mCreating variables on a non-first call to a function\u001b[39m\u001b[38;5;124m\"\u001b[39m\n\u001b[1;32m    927\u001b[0m                    \u001b[38;5;124m\"\u001b[39m\u001b[38;5;124m decorated with tf.function.\u001b[39m\u001b[38;5;124m\"\u001b[39m)\n",
      "File \u001b[0;32m~/mambaforge/envs/capstone/lib/python3.9/site-packages/tensorflow/python/eager/function.py:3023\u001b[0m, in \u001b[0;36mFunction.__call__\u001b[0;34m(self, *args, **kwargs)\u001b[0m\n\u001b[1;32m   3020\u001b[0m \u001b[38;5;28;01mwith\u001b[39;00m \u001b[38;5;28mself\u001b[39m\u001b[38;5;241m.\u001b[39m_lock:\n\u001b[1;32m   3021\u001b[0m   (graph_function,\n\u001b[1;32m   3022\u001b[0m    filtered_flat_args) \u001b[38;5;241m=\u001b[39m \u001b[38;5;28mself\u001b[39m\u001b[38;5;241m.\u001b[39m_maybe_define_function(args, kwargs)\n\u001b[0;32m-> 3023\u001b[0m \u001b[38;5;28;01mreturn\u001b[39;00m \u001b[43mgraph_function\u001b[49m\u001b[38;5;241;43m.\u001b[39;49m\u001b[43m_call_flat\u001b[49m\u001b[43m(\u001b[49m\n\u001b[1;32m   3024\u001b[0m \u001b[43m    \u001b[49m\u001b[43mfiltered_flat_args\u001b[49m\u001b[43m,\u001b[49m\u001b[43m \u001b[49m\u001b[43mcaptured_inputs\u001b[49m\u001b[38;5;241;43m=\u001b[39;49m\u001b[43mgraph_function\u001b[49m\u001b[38;5;241;43m.\u001b[39;49m\u001b[43mcaptured_inputs\u001b[49m\u001b[43m)\u001b[49m\n",
      "File \u001b[0;32m~/mambaforge/envs/capstone/lib/python3.9/site-packages/tensorflow/python/eager/function.py:1960\u001b[0m, in \u001b[0;36mConcreteFunction._call_flat\u001b[0;34m(self, args, captured_inputs, cancellation_manager)\u001b[0m\n\u001b[1;32m   1956\u001b[0m possible_gradient_type \u001b[38;5;241m=\u001b[39m gradients_util\u001b[38;5;241m.\u001b[39mPossibleTapeGradientTypes(args)\n\u001b[1;32m   1957\u001b[0m \u001b[38;5;28;01mif\u001b[39;00m (possible_gradient_type \u001b[38;5;241m==\u001b[39m gradients_util\u001b[38;5;241m.\u001b[39mPOSSIBLE_GRADIENT_TYPES_NONE\n\u001b[1;32m   1958\u001b[0m     \u001b[38;5;129;01mand\u001b[39;00m executing_eagerly):\n\u001b[1;32m   1959\u001b[0m   \u001b[38;5;66;03m# No tape is watching; skip to running the function.\u001b[39;00m\n\u001b[0;32m-> 1960\u001b[0m   \u001b[38;5;28;01mreturn\u001b[39;00m \u001b[38;5;28mself\u001b[39m\u001b[38;5;241m.\u001b[39m_build_call_outputs(\u001b[38;5;28;43mself\u001b[39;49m\u001b[38;5;241;43m.\u001b[39;49m\u001b[43m_inference_function\u001b[49m\u001b[38;5;241;43m.\u001b[39;49m\u001b[43mcall\u001b[49m\u001b[43m(\u001b[49m\n\u001b[1;32m   1961\u001b[0m \u001b[43m      \u001b[49m\u001b[43mctx\u001b[49m\u001b[43m,\u001b[49m\u001b[43m \u001b[49m\u001b[43margs\u001b[49m\u001b[43m,\u001b[49m\u001b[43m \u001b[49m\u001b[43mcancellation_manager\u001b[49m\u001b[38;5;241;43m=\u001b[39;49m\u001b[43mcancellation_manager\u001b[49m\u001b[43m)\u001b[49m)\n\u001b[1;32m   1962\u001b[0m forward_backward \u001b[38;5;241m=\u001b[39m \u001b[38;5;28mself\u001b[39m\u001b[38;5;241m.\u001b[39m_select_forward_and_backward_functions(\n\u001b[1;32m   1963\u001b[0m     args,\n\u001b[1;32m   1964\u001b[0m     possible_gradient_type,\n\u001b[1;32m   1965\u001b[0m     executing_eagerly)\n\u001b[1;32m   1966\u001b[0m forward_function, args_with_tangents \u001b[38;5;241m=\u001b[39m forward_backward\u001b[38;5;241m.\u001b[39mforward()\n",
      "File \u001b[0;32m~/mambaforge/envs/capstone/lib/python3.9/site-packages/tensorflow/python/eager/function.py:591\u001b[0m, in \u001b[0;36m_EagerDefinedFunction.call\u001b[0;34m(self, ctx, args, cancellation_manager)\u001b[0m\n\u001b[1;32m    589\u001b[0m \u001b[38;5;28;01mwith\u001b[39;00m _InterpolateFunctionError(\u001b[38;5;28mself\u001b[39m):\n\u001b[1;32m    590\u001b[0m   \u001b[38;5;28;01mif\u001b[39;00m cancellation_manager \u001b[38;5;129;01mis\u001b[39;00m \u001b[38;5;28;01mNone\u001b[39;00m:\n\u001b[0;32m--> 591\u001b[0m     outputs \u001b[38;5;241m=\u001b[39m \u001b[43mexecute\u001b[49m\u001b[38;5;241;43m.\u001b[39;49m\u001b[43mexecute\u001b[49m\u001b[43m(\u001b[49m\n\u001b[1;32m    592\u001b[0m \u001b[43m        \u001b[49m\u001b[38;5;28;43mstr\u001b[39;49m\u001b[43m(\u001b[49m\u001b[38;5;28;43mself\u001b[39;49m\u001b[38;5;241;43m.\u001b[39;49m\u001b[43msignature\u001b[49m\u001b[38;5;241;43m.\u001b[39;49m\u001b[43mname\u001b[49m\u001b[43m)\u001b[49m\u001b[43m,\u001b[49m\n\u001b[1;32m    593\u001b[0m \u001b[43m        \u001b[49m\u001b[43mnum_outputs\u001b[49m\u001b[38;5;241;43m=\u001b[39;49m\u001b[38;5;28;43mself\u001b[39;49m\u001b[38;5;241;43m.\u001b[39;49m\u001b[43m_num_outputs\u001b[49m\u001b[43m,\u001b[49m\n\u001b[1;32m    594\u001b[0m \u001b[43m        \u001b[49m\u001b[43minputs\u001b[49m\u001b[38;5;241;43m=\u001b[39;49m\u001b[43margs\u001b[49m\u001b[43m,\u001b[49m\n\u001b[1;32m    595\u001b[0m \u001b[43m        \u001b[49m\u001b[43mattrs\u001b[49m\u001b[38;5;241;43m=\u001b[39;49m\u001b[43mattrs\u001b[49m\u001b[43m,\u001b[49m\n\u001b[1;32m    596\u001b[0m \u001b[43m        \u001b[49m\u001b[43mctx\u001b[49m\u001b[38;5;241;43m=\u001b[39;49m\u001b[43mctx\u001b[49m\u001b[43m)\u001b[49m\n\u001b[1;32m    597\u001b[0m   \u001b[38;5;28;01melse\u001b[39;00m:\n\u001b[1;32m    598\u001b[0m     outputs \u001b[38;5;241m=\u001b[39m execute\u001b[38;5;241m.\u001b[39mexecute_with_cancellation(\n\u001b[1;32m    599\u001b[0m         \u001b[38;5;28mstr\u001b[39m(\u001b[38;5;28mself\u001b[39m\u001b[38;5;241m.\u001b[39msignature\u001b[38;5;241m.\u001b[39mname),\n\u001b[1;32m    600\u001b[0m         num_outputs\u001b[38;5;241m=\u001b[39m\u001b[38;5;28mself\u001b[39m\u001b[38;5;241m.\u001b[39m_num_outputs,\n\u001b[0;32m   (...)\u001b[0m\n\u001b[1;32m    603\u001b[0m         ctx\u001b[38;5;241m=\u001b[39mctx,\n\u001b[1;32m    604\u001b[0m         cancellation_manager\u001b[38;5;241m=\u001b[39mcancellation_manager)\n",
      "File \u001b[0;32m~/mambaforge/envs/capstone/lib/python3.9/site-packages/tensorflow/python/eager/execute.py:59\u001b[0m, in \u001b[0;36mquick_execute\u001b[0;34m(op_name, num_outputs, inputs, attrs, ctx, name)\u001b[0m\n\u001b[1;32m     57\u001b[0m \u001b[38;5;28;01mtry\u001b[39;00m:\n\u001b[1;32m     58\u001b[0m   ctx\u001b[38;5;241m.\u001b[39mensure_initialized()\n\u001b[0;32m---> 59\u001b[0m   tensors \u001b[38;5;241m=\u001b[39m \u001b[43mpywrap_tfe\u001b[49m\u001b[38;5;241;43m.\u001b[39;49m\u001b[43mTFE_Py_Execute\u001b[49m\u001b[43m(\u001b[49m\u001b[43mctx\u001b[49m\u001b[38;5;241;43m.\u001b[39;49m\u001b[43m_handle\u001b[49m\u001b[43m,\u001b[49m\u001b[43m \u001b[49m\u001b[43mdevice_name\u001b[49m\u001b[43m,\u001b[49m\u001b[43m \u001b[49m\u001b[43mop_name\u001b[49m\u001b[43m,\u001b[49m\n\u001b[1;32m     60\u001b[0m \u001b[43m                                      \u001b[49m\u001b[43minputs\u001b[49m\u001b[43m,\u001b[49m\u001b[43m \u001b[49m\u001b[43mattrs\u001b[49m\u001b[43m,\u001b[49m\u001b[43m \u001b[49m\u001b[43mnum_outputs\u001b[49m\u001b[43m)\u001b[49m\n\u001b[1;32m     61\u001b[0m \u001b[38;5;28;01mexcept\u001b[39;00m core\u001b[38;5;241m.\u001b[39m_NotOkStatusException \u001b[38;5;28;01mas\u001b[39;00m e:\n\u001b[1;32m     62\u001b[0m   \u001b[38;5;28;01mif\u001b[39;00m name \u001b[38;5;129;01mis\u001b[39;00m \u001b[38;5;129;01mnot\u001b[39;00m \u001b[38;5;28;01mNone\u001b[39;00m:\n",
      "\u001b[0;31mKeyboardInterrupt\u001b[0m: "
     ]
    }
   ],
   "source": [
    "history = model.fit(\n",
    "    xtrain_padding,\n",
    "    y_train,\n",
    "    validation_data=(xtest_padding, y_test),\n",
    "    epochs=15,\n",
    "    batch_size=512,\n",
    "    callbacks=[early_stop]\n",
    ")"
   ]
  },
  {
   "cell_type": "code",
   "execution_count": null,
   "id": "3daed370-e109-4747-8084-5df9de8ccce4",
   "metadata": {},
   "outputs": [],
   "source": [
    "y_pred = model.predict(xtest_padding)\n",
    "y_pred[(y_pred < 0.5)] = 0\n",
    "y_pred[(y_pred >= 0.5)] = 1\n",
    "print(y_pred)"
   ]
  },
  {
   "cell_type": "code",
   "execution_count": null,
   "id": "f0e7e546-17ee-488b-9145-34958f7c8735",
   "metadata": {},
   "outputs": [],
   "source": [
    "from sklearn.metrics import classification_report\n",
    "warnings.filterwarnings(\"ignore\")\n",
    "label_names = ['disrespect', 'insult', 'offensive', 'inferiority', 'humiliation', 'hate_speech', 'dehumanizing']\n",
    "print(classification_report(y_test, y_pred,target_names=label_names))"
   ]
  },
  {
   "cell_type": "code",
   "execution_count": 50,
   "id": "d0139b8d-1c50-478a-8ad6-7f90a0c6103c",
   "metadata": {},
   "outputs": [
    {
     "data": {
      "image/png": "[encoded data removed]",
      "text/plain": [
       "<Figure size 800x600 with 1 Axes>"
      ]
     },
     "metadata": {},
     "output_type": "display_data"
    }
   ],
   "source": [
    "# Check out our train loss and test loss over epochs.\n",
    "train_loss = history.history['loss']\n",
    "test_loss = history.history['val_loss']\n",
    "\n",
    "# Set figure size.\n",
    "plt.figure(figsize=(8, 6))\n",
    "\n",
    "# Generate line plot of training, testing loss over epochs.\n",
    "plt.plot(train_loss, label='Training Loss')\n",
    "plt.plot(test_loss, label='Testing Loss')\n",
    "\n",
    "# Set title\n",
    "plt.xlabel('Epoch')\n",
    "plt.ylabel('Loss')\n",
    "plt.legend();"
   ]
  },
  {
   "cell_type": "code",
   "execution_count": 51,
   "id": "7649b36f-20bc-483f-956a-26c717b87ccd",
   "metadata": {},
   "outputs": [
    {
     "ename": "SyntaxError",
     "evalue": "invalid character '’' (U+2019) (4148695018.py, line 9)",
     "output_type": "error",
     "traceback": [
      "\u001b[0;36m  Input \u001b[0;32mIn [51]\u001b[0;36m\u001b[0m\n\u001b[0;31m    model.add(Dense(1024, activation=’relu’))\u001b[0m\n\u001b[0m                                     ^\u001b[0m\n\u001b[0;31mSyntaxError\u001b[0m\u001b[0;31m:\u001b[0m invalid character '’' (U+2019)\n"
     ]
    }
   ],
   "source": [
    "model = Sequential()\n",
    "model.add(Embedding(len(word_index) + 1,\n",
    " 100,\n",
    " weights=[embedding_matrix],\n",
    " input_length=MAX_LENGTH,\n",
    " trainable=False))\n",
    "model.add(SpatialDropout1D(0.3))\n",
    "model.add(Bidirectional(LSTM(100, dropout=0.3, recurrent_dropout=0.3)))\n",
    "model.add(Dense(1024, activation=’relu’))\n",
    "model.add(Dropout(0.8))\n",
    "model.add(Dense(1024, activation=’relu’))\n",
    "model.add(Dropout(0.8))\n",
    "model.add(Dense(3))\n",
    "model.add(Activation(‘softmax’))\n",
    "model.compile(loss=’categorical_crossentropy’, optimizer=’adam’, metrics=[‘accuracy’])"
   ]
  },
  {
   "cell_type": "code",
   "execution_count": null,
   "id": "98145ee0-6f6f-478f-b49f-e0d2d1bc2b5a",
   "metadata": {},
   "outputs": [],
   "source": [
    "history = model.fit(xtrain_padding, y=ytrain_encode, batch_size=512, epochs=10, verbose=1, validation_data=(xtest_padding, ytest_encode))"
   ]
  },
  {
   "cell_type": "code",
   "execution_count": null,
   "id": "9825fcd3-cc55-4199-81e4-3b6ffdb75b51",
   "metadata": {},
   "outputs": [],
   "source": [
    "from skmultilearn.adapt import MLTSVM\n",
    "\n",
    "classifier = MLTSVM(c_k = 2**-1)\n",
    "\n",
    "# train\n",
    "classifier.fit(X_train, y_train)\n",
    "\n",
    "# predict\n",
    "predictions = classifier.predict(X_test)"
   ]
  },
  {
   "cell_type": "code",
   "execution_count": null,
   "id": "609ff4ae-ba85-4b2a-b254-159f7354306e",
   "metadata": {},
   "outputs": [],
   "source": [
    "clf_labelP_model = build_model(MultinomialNB(),LabelPowerset,X_train,y_train,X_test,y_test)"
   ]
  },
  {
   "cell_type": "code",
   "execution_count": null,
   "id": "0b9e371c-4abc-4d63-b385-b51639c25cf5",
   "metadata": {},
   "outputs": [],
   "source": [
    "clf_labelP_model"
   ]
  },
  {
   "cell_type": "code",
   "execution_count": null,
   "id": "1f8d6c02-9554-404b-854c-7e48bdb1551f",
   "metadata": {},
   "outputs": [],
   "source": [
    "X_train.shape"
   ]
  },
  {
   "cell_type": "code",
   "execution_count": null,
   "id": "4b625c59-edf8-4b0e-a0bf-964a65e81b4a",
   "metadata": {},
   "outputs": [],
   "source": [
    "import os \n",
    "os.getcwd()"
   ]
  },
  {
   "cell_type": "code",
   "execution_count": null,
   "id": "16baf369-0550-4547-b02b-a9f7880fbe4f",
   "metadata": {},
   "outputs": [],
   "source": [
    "y_train.shape"
   ]
  },
  {
   "cell_type": "code",
   "execution_count": null,
   "id": "97ed75cd-1640-4cfe-8cc2-356f62864f1f",
   "metadata": {},
   "outputs": [],
   "source": [
    "\n",
    "'''def create_model_single_class(input_dim, output_dim):\n",
    "    # create model\n",
    "    model = Sequential()\n",
    "    model.add(Dense(12, input_dim=input_dim, activation='relu'))\n",
    "    model.add(Dense(8, activation='relu'))\n",
    "    model.add(Dense(output_dim, activation='sigmoid'))\n",
    "    # Compile model\n",
    "    model.compile(loss='binary_crossentropy', optimizer='adam', metrics=['accuracy'])\n",
    "    return model'''"
   ]
  },
  {
   "cell_type": "code",
   "execution_count": null,
   "id": "17712734-3b50-44c7-8eb3-b2e8b0337aed",
   "metadata": {},
   "outputs": [],
   "source": []
  },
  {
   "cell_type": "code",
   "execution_count": null,
   "id": "630234b5-bf76-4f26-b0ac-cf6227a49b01",
   "metadata": {},
   "outputs": [],
   "source": [
    "plt.plot(history.history['accuracy'], label='Train accuracy')\n",
    "plt.plot(history.history['val_accuracy'], label='Val accuracy')\n",
    "plt.legend();"
   ]
  },
  {
   "cell_type": "code",
   "execution_count": null,
   "id": "02ff5b55-deba-4147-8309-5fb9132860e3",
   "metadata": {},
   "outputs": [],
   "source": [
    "# Check out our train loss and test loss over epochs.\n",
    "train_loss = history.history['loss']\n",
    "test_loss = history.history['val_loss']\n",
    "\n",
    "# Set figure size.\n",
    "plt.figure(figsize=(8, 6))\n",
    "\n",
    "# Generate line plot of training, testing loss over epochs.\n",
    "plt.plot(train_loss, label='Training Loss')\n",
    "plt.plot(test_loss, label='Testing Loss')\n",
    "\n",
    "# Set title\n",
    "plt.xlabel('Epoch')\n",
    "plt.ylabel('Loss')\n",
    "plt.legend();"
   ]
  },
  {
   "cell_type": "code",
   "execution_count": null,
   "id": "d6125e98-f76c-4445-a2d7-423f5e3133d8",
   "metadata": {},
   "outputs": [],
   "source": [
    "from skmultilearn.problem_transform import BinaryRelevance\n",
    "from skmultilearn.ext import Keras\n",
    "\n",
    "'''KERAS_PARAMS = dict(epochs=5, batch_size=10, verbose=0)\n",
    "\n",
    "clf = BinaryRelevance(classifier=Keras(create_model_single_class, False, KERAS_PARAMS), require_dense=[True,True])\n",
    "clf.fit(X_train, y_train)\n",
    "result = clf.predict(X_test)'''"
   ]
  },
  {
   "cell_type": "code",
   "execution_count": null,
   "id": "f526b8ba-863d-4a4e-8cb6-b4ec0f19b1e8",
   "metadata": {},
   "outputs": [],
   "source": [
    "from tensorflow.keras.layers import Dropout\n",
    "from tensorflow.keras.optimizers import Adam\n",
    "from tensorflow.keras.regularizers import l2 \n",
    "model_es = Sequential() # same as original overfit model\n",
    "model_es.add(Dense(128, input_shape=(51575,), activation='relu',kernel_regularizer=l2(0.01)))\n",
    "model_es.add(Dense(64, activation='relu',kernel_regularizer=l2(0.01)))\n",
    "model_es.add(Dense(32, activation='relu',kernel_regularizer=l2(0.01)))\n",
    "model_es.add(Dense(10, activation='sigmoid'))"
   ]
  },
  {
   "cell_type": "code",
   "execution_count": null,
   "id": "8fe65992-0778-45b1-94a6-2d4b85037dde",
   "metadata": {},
   "outputs": [],
   "source": [
    "model_es.summary()"
   ]
  },
  {
   "cell_type": "code",
   "execution_count": null,
   "id": "2ab9bdc9-d881-4157-84ec-69a378a09cc8",
   "metadata": {},
   "outputs": [],
   "source": [
    "opt = adam_v2.Adam(learning_rate=0.001)\n",
    "model_es.compile(loss='binary_crossentropy', optimizer=opt, metrics=['binary_accuracy'])"
   ]
  },
  {
   "cell_type": "code",
   "execution_count": null,
   "id": "ee0c68d6-e661-4514-8569-e23f04773f4f",
   "metadata": {},
   "outputs": [],
   "source": [
    "from tensorflow.keras.callbacks import EarlyStopping\n",
    "early_stop = EarlyStopping(monitor='val_loss', \n",
    "                           min_delta=0, \n",
    "                           patience=5, \n",
    "                           mode='auto')"
   ]
  },
  {
   "cell_type": "code",
   "execution_count": null,
   "id": "5b5ce4da-6b0f-4679-ac7f-899a66038fd8",
   "metadata": {},
   "outputs": [],
   "source": [
    "history_es = model_es.fit(\n",
    "    X_train,\n",
    "    y_train,\n",
    "    validation_data=(X_test, y_test),\n",
    "    epochs=30,\n",
    "    batch_size=128,\n",
    "    callbacks=[early_stop]\n",
    ")"
   ]
  },
  {
   "cell_type": "code",
   "execution_count": null,
   "id": "69d46f8f-ac25-46d0-b142-062376e867e9",
   "metadata": {},
   "outputs": [],
   "source": [
    "# Check out our train loss and test loss over epochs.\n",
    "train_loss = history_es.history['loss']\n",
    "test_loss = history_es.history['val_loss']\n",
    "\n",
    "# Set figure size.\n",
    "plt.figure(figsize=(8, 6))\n",
    "\n",
    "# Generate line plot of training, testing loss over epochs.\n",
    "plt.plot(train_loss, label='Training Loss')\n",
    "plt.plot(test_loss, label='Testing Loss')\n",
    "\n",
    "# Set title\n",
    "plt.xlabel('Epoch')\n",
    "plt.ylabel('Loss')\n",
    "plt.legend();"
   ]
  },
  {
   "cell_type": "code",
   "execution_count": null,
   "id": "975349f8-c981-4996-8653-34d9a7d4ba2b",
   "metadata": {},
   "outputs": [],
   "source": [
    "plt.plot(history_es.history['binary_accuracy'], label='Train accuracy')\n",
    "plt.plot(history_es.history['val_binary_accuracy'], label='Val accuracy')\n",
    "plt.legend();"
   ]
  },
  {
   "cell_type": "code",
   "execution_count": null,
   "id": "a08bddf3-f3d8-4774-8c66-1b091d0846b7",
   "metadata": {},
   "outputs": [],
   "source": [
    "score = model.evaluate(X_test,y_test)"
   ]
  },
  {
   "cell_type": "code",
   "execution_count": null,
   "id": "1972ab84-d664-409e-bba7-31945a788cf4",
   "metadata": {},
   "outputs": [],
   "source": [
    "score"
   ]
  },
  {
   "cell_type": "code",
   "execution_count": null,
   "id": "0479844b-064a-4f25-948e-c6901b741c79",
   "metadata": {},
   "outputs": [],
   "source": [
    "import nltk\n",
    "import pandas as pd\n",
    "from nltk.corpus import stopwords\n",
    "from textblob import Word\n",
    "from sklearn.preprocessing import LabelEncoder\n",
    "from collections import Counter\n",
    "from sklearn.metrics import classification_report,confusion_matrix,accuracy_score\n",
    "from keras.models import Sequential\n",
    "from keras.preprocessing.text import Tokenizer\n",
    "from keras.preprocessing.sequence import pad_sequences\n",
    "from keras.layers import Dense, Embedding, LSTM, SpatialDropout1D\n",
    "from sklearn.model_selection import train_test_split \n",
    "import matplotlib.pyplot as plt"
   ]
  },
  {
   "cell_type": "code",
   "execution_count": null,
   "id": "40621ddb-86af-441e-9c93-6067d271ce26",
   "metadata": {},
   "outputs": [],
   "source": [
    "model = Sequential()\n",
    "model.add(Embedding(500, 120, input_length = X.shape[1]))\n",
    "\n",
    "model.add(SpatialDropout1D(0.4))\n",
    "\n",
    "model.add(LSTM(176, dropout=0.2, recurrent_dropout=0.2))\n",
    "\n",
    "model.add(Dense(2,activation='softmax'))\n",
    "\n",
    "\n",
    "model_es = Sequential() # same as original overfit model\n",
    "model_es.add(Dense(128, input_shape=(51575,), activation='relu'))\n",
    "model_es.add(Dense(32, activation='relu'))\n",
    "model_es.add(Dense(10, activation='sigmoid'))"
   ]
  },
  {
   "cell_type": "code",
   "execution_count": null,
   "id": "63d3532b-b4eb-44a5-87b1-bd5e7c865940",
   "metadata": {},
   "outputs": [],
   "source": [
    "model.summary()"
   ]
  },
  {
   "cell_type": "code",
   "execution_count": null,
   "id": "c79498d9-c38d-441e-bdbe-e7dae454bae3",
   "metadata": {},
   "outputs": [],
   "source": [
    "opt = adam_v2.Adam(learning_rate=0.001)\n",
    "model.compile(loss = 'binary_crossentropy', optimizer=opt, metrics = ['categorical_accuracy'])\n",
    "print(model.summary())"
   ]
  },
  {
   "cell_type": "code",
   "execution_count": null,
   "id": "e9910ad2-1918-4818-b494-634047feb203",
   "metadata": {},
   "outputs": [],
   "source": [
    "batch_size=32\n",
    "model.fit(X_train, y_train, epochs = 5, batch_size=batch_size, verbose = 'auto')"
   ]
  },
  {
   "cell_type": "code",
   "execution_count": null,
   "id": "2b42299b-e7ac-4aa0-bb31-81705d5d5e7a",
   "metadata": {},
   "outputs": [],
   "source": [
    "model.evaluate(X_test,y_test)"
   ]
  },
  {
   "cell_type": "code",
   "execution_count": null,
   "id": "17e4ec39-d827-492e-91ba-b450d640dcf5",
   "metadata": {},
   "outputs": [],
   "source": [
    "import pickle\n",
    "with open('vec_pk', 'wb') as files:\n",
    "    pickle.dump(tfid, files)"
   ]
  },
  {
   "cell_type": "code",
   "execution_count": null,
   "id": "169d4e73-f02a-4c11-ab81-307c4aa5e713",
   "metadata": {},
   "outputs": [],
   "source": []
  }
 ],
 "metadata": {
  "kernelspec": {
   "display_name": "Python 3 (ipykernel)",
   "language": "python",
   "name": "python3"
  },
  "language_info": {
   "codemirror_mode": {
    "name": "ipython",
    "version": 3
   },
   "file_extension": ".py",
   "mimetype": "text/x-python",
   "name": "python",
   "nbconvert_exporter": "python",
   "pygments_lexer": "ipython3",
   "version": "3.9.13"
  }
 },
 "nbformat": 4,
 "nbformat_minor": 5
}
