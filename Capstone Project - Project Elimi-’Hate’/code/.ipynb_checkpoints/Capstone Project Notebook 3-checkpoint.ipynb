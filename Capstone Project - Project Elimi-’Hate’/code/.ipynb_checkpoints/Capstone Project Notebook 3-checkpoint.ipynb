{
 "cells": [
  {
   "cell_type": "markdown",
   "id": "e3e8cb34-3151-4d8f-a079-7a5bf229ec64",
   "metadata": {},
   "source": [
    "<img src=\"http://imgur.com/1ZcRyrc.png\" style=\"float: left; margin: 20px; height: 55px\"> \n",
    "\n",
    "# Capstone Project: Hate Speech Analysis"
   ]
  },
  {
   "cell_type": "markdown",
   "id": "dcf10e8d-86d5-4110-8dbe-6349d943c1da",
   "metadata": {},
   "source": [
    "Note: This is part 3 of the code notebook covering the following :-\n",
    "\n",
    "1. [Problem Statement](#1.-Problem-Statement)\n",
    "2. [Data Scrapping]\n",
    "3. [Exploratory Data Analysis]"
   ]
  },
  {
   "cell_type": "markdown",
   "id": "4e226bae-e928-412c-94f8-ca05c3c964af",
   "metadata": {},
   "source": [
    "A sub-goal of this project is to pick out words related to hate speech. To do so, we shall scrap data from the [HateBase](https://hatebase.org/), which is an online respository built to help organisations identified hate words. "
   ]
  },
  {
   "cell_type": "markdown",
   "id": "21129781-8e39-40b4-8c24-d77f6fa9387c",
   "metadata": {},
   "source": [
    "## 1. Library Imports"
   ]
  },
  {
   "cell_type": "code",
   "execution_count": 1,
   "id": "876f6537-16ed-45c2-833e-f61357714cf2",
   "metadata": {},
   "outputs": [],
   "source": [
    "from bs4 import BeautifulSoup\n",
    "import matplotlib.pyplot as plt\n",
    "import pandas as pd\n",
    "import requests"
   ]
  },
  {
   "cell_type": "markdown",
   "id": "3d848904-ee96-46b3-b444-3721cad6abb5",
   "metadata": {},
   "source": [
    "## 2. Data Scrapping"
   ]
  },
  {
   "cell_type": "markdown",
   "id": "bfe167d4-04ed-4cb4-8218-a48325edd959",
   "metadata": {},
   "source": [
    "Given that the language of our dataset is english, we shall only focus on scrapping hate words from the english respository. To do so, we shall proceed with the following :- \n",
    "1. Loop through each page of the english respository;\n",
    "2. Extract the entries of hate words;\n",
    "3. Filter out those entries with words that are offensive (words are scaled from mildly offensive to extremely offensive);\n",
    "4. Pick out offensive hate words and its ratings; and \n",
    "5. Create a dataframe to capture hate words and its ratings."
   ]
  },
  {
   "cell_type": "code",
   "execution_count": 2,
   "id": "a6d84444-a020-47fd-b08e-51a11473f125",
   "metadata": {
    "tags": []
   },
   "outputs": [
    {
     "name": "stdout",
     "output_type": "stream",
     "text": [
      "https://hatebase.org/search_results/language_id=eng%7Cpage=1\n",
      "https://hatebase.org/search_results/language_id=eng%7Cpage=2\n",
      "https://hatebase.org/search_results/language_id=eng%7Cpage=3\n",
      "https://hatebase.org/search_results/language_id=eng%7Cpage=4\n",
      "https://hatebase.org/search_results/language_id=eng%7Cpage=5\n",
      "https://hatebase.org/search_results/language_id=eng%7Cpage=6\n",
      "https://hatebase.org/search_results/language_id=eng%7Cpage=7\n",
      "https://hatebase.org/search_results/language_id=eng%7Cpage=8\n",
      "https://hatebase.org/search_results/language_id=eng%7Cpage=9\n",
      "https://hatebase.org/search_results/language_id=eng%7Cpage=10\n",
      "https://hatebase.org/search_results/language_id=eng%7Cpage=11\n",
      "https://hatebase.org/search_results/language_id=eng%7Cpage=12\n",
      "https://hatebase.org/search_results/language_id=eng%7Cpage=13\n",
      "https://hatebase.org/search_results/language_id=eng%7Cpage=14\n",
      "https://hatebase.org/search_results/language_id=eng%7Cpage=15\n",
      "https://hatebase.org/search_results/language_id=eng%7Cpage=16\n",
      "https://hatebase.org/search_results/language_id=eng%7Cpage=17\n",
      "https://hatebase.org/search_results/language_id=eng%7Cpage=18\n",
      "https://hatebase.org/search_results/language_id=eng%7Cpage=19\n",
      "https://hatebase.org/search_results/language_id=eng%7Cpage=20\n",
      "https://hatebase.org/search_results/language_id=eng%7Cpage=21\n",
      "https://hatebase.org/search_results/language_id=eng%7Cpage=22\n",
      "https://hatebase.org/search_results/language_id=eng%7Cpage=23\n",
      "https://hatebase.org/search_results/language_id=eng%7Cpage=24\n",
      "https://hatebase.org/search_results/language_id=eng%7Cpage=25\n",
      "https://hatebase.org/search_results/language_id=eng%7Cpage=26\n",
      "https://hatebase.org/search_results/language_id=eng%7Cpage=27\n",
      "https://hatebase.org/search_results/language_id=eng%7Cpage=28\n",
      "https://hatebase.org/search_results/language_id=eng%7Cpage=29\n",
      "https://hatebase.org/search_results/language_id=eng%7Cpage=30\n",
      "https://hatebase.org/search_results/language_id=eng%7Cpage=31\n",
      "https://hatebase.org/search_results/language_id=eng%7Cpage=32\n"
     ]
    }
   ],
   "source": [
    "# Step 1 & 2: Looping through each page of the english respository and extract\n",
    "entry_list = []\n",
    "for num_results in range(1,33):\n",
    "    url = f'https://hatebase.org/search_results/language_id=eng%7Cpage={num_results}'\n",
    "    print(url)\n",
    "    res = requests.get(url)\n",
    "    soup = BeautifulSoup(res.content, 'lxml')\n",
    "    for i in range(len(soup.find_all('tr'))):\n",
    "        entry_list.append(soup.find_all('tr')[i].get_text())"
   ]
  },
  {
   "cell_type": "code",
   "execution_count": 3,
   "id": "08cc16ed-1c3d-4cbb-a478-73393196766e",
   "metadata": {},
   "outputs": [],
   "source": [
    "# Put the list of entries into a dataframe\n",
    "# Step 3: Filtering out offensive words\n",
    "entry_df = pd.DataFrame(entry_list, columns = ['entry'])\n",
    "entry_df = entry_df[entry_df['entry'].str.contains(\"offensive\")]"
   ]
  },
  {
   "cell_type": "code",
   "execution_count": 4,
   "id": "22a1ffd7-22bb-4fc0-a84c-2bc4d21ccab4",
   "metadata": {},
   "outputs": [
    {
     "name": "stdout",
     "output_type": "stream",
     "text": [
      "Number of Offensive Words: 944.\n"
     ]
    }
   ],
   "source": [
    "print(f'Number of Offensive Words: {len(entry_df)}.')"
   ]
  },
  {
   "cell_type": "code",
   "execution_count": 5,
   "id": "cd589d9b-86a0-4db9-8400-dee3e656dce5",
   "metadata": {},
   "outputs": [
    {
     "data": {
      "text/plain": [
       "'\\n\\n6 gorillion\\n\\nEnglish\\n\\n1 sighting (Recent)\\n\\n  Highly offensive\\n\\n'"
      ]
     },
     "execution_count": 5,
     "metadata": {},
     "output_type": "execute_result"
    }
   ],
   "source": [
    "# Printing a sample of the entry\n",
    "entry_df['entry'][0]"
   ]
  },
  {
   "cell_type": "code",
   "execution_count": 6,
   "id": "b86cdcc6-dec3-4ba8-b888-29c660739672",
   "metadata": {
    "scrolled": true,
    "tags": []
   },
   "outputs": [
    {
     "name": "stdout",
     "output_type": "stream",
     "text": [
      "['6 gorillion', 'abbo', 'abbos', 'ABC', 'ABCD']\n"
     ]
    }
   ],
   "source": [
    "# Step 4: Picking out hate words\n",
    "hatewords_list = []\n",
    "for i in entry_df['entry']:\n",
    "    hatewords_list.append(str(i).split(\"\\n\\n\")[1].split(\"\\n\")[0])\n",
    "print(hatewords_list[:5])"
   ]
  },
  {
   "cell_type": "code",
   "execution_count": 7,
   "id": "6d87a985-019a-4bff-a1cf-5b2d512ef368",
   "metadata": {},
   "outputs": [
    {
     "name": "stdout",
     "output_type": "stream",
     "text": [
      "['  Highly offensive', '\\n  Extremely offensive', '  Extremely offensive', '  Mildly offensive', '\\n  Mildly offensive']\n"
     ]
    }
   ],
   "source": [
    "# Step 4: Picking out the ratings of hate words\n",
    "offensive_list = []\n",
    "for i in entry_df['entry']:\n",
    "    offensive_list.append(str(i).split(\"\\n\\n\")[4])\n",
    "print(offensive_list[:5])"
   ]
  },
  {
   "cell_type": "code",
   "execution_count": 8,
   "id": "61b1165c-bcd4-41e3-9a10-99164e1e1d8c",
   "metadata": {},
   "outputs": [],
   "source": [
    "# Step 5: Creating a dataframe to capture the information\n",
    "hatewords_df = pd.DataFrame(hatewords_list, columns = ['hatewords'])\n",
    "hatewords_df['offensive_ratings'] = offensive_list"
   ]
  },
  {
   "cell_type": "code",
   "execution_count": 9,
   "id": "1f166515-c646-4dde-a6c8-8b77d96d0da3",
   "metadata": {},
   "outputs": [],
   "source": [
    "# Cleaning the offensive ratings\n",
    "hatewords_df['offensive_ratings'] = hatewords_df['offensive_ratings'].str.replace(\"\\n\",\"\")\n",
    "hatewords_df['offensive_ratings'] = hatewords_df['offensive_ratings'].str. strip()"
   ]
  },
  {
   "cell_type": "code",
   "execution_count": 10,
   "id": "343282fd-420a-4009-92b9-fee85ecce7a5",
   "metadata": {},
   "outputs": [
    {
     "data": {
      "text/html": [
       "<div>\n",
       "<style scoped>\n",
       "    .dataframe tbody tr th:only-of-type {\n",
       "        vertical-align: middle;\n",
       "    }\n",
       "\n",
       "    .dataframe tbody tr th {\n",
       "        vertical-align: top;\n",
       "    }\n",
       "\n",
       "    .dataframe thead th {\n",
       "        text-align: right;\n",
       "    }\n",
       "</style>\n",
       "<table border=\"1\" class=\"dataframe\">\n",
       "  <thead>\n",
       "    <tr style=\"text-align: right;\">\n",
       "      <th></th>\n",
       "      <th>hatewords</th>\n",
       "      <th>offensive_ratings</th>\n",
       "    </tr>\n",
       "  </thead>\n",
       "  <tbody>\n",
       "    <tr>\n",
       "      <th>0</th>\n",
       "      <td>6 gorillion</td>\n",
       "      <td>Highly offensive</td>\n",
       "    </tr>\n",
       "    <tr>\n",
       "      <th>1</th>\n",
       "      <td>abbo</td>\n",
       "      <td>Extremely offensive</td>\n",
       "    </tr>\n",
       "    <tr>\n",
       "      <th>2</th>\n",
       "      <td>abbos</td>\n",
       "      <td>Extremely offensive</td>\n",
       "    </tr>\n",
       "    <tr>\n",
       "      <th>3</th>\n",
       "      <td>ABC</td>\n",
       "      <td>Mildly offensive</td>\n",
       "    </tr>\n",
       "    <tr>\n",
       "      <th>4</th>\n",
       "      <td>ABCD</td>\n",
       "      <td>Mildly offensive</td>\n",
       "    </tr>\n",
       "  </tbody>\n",
       "</table>\n",
       "</div>"
      ],
      "text/plain": [
       "     hatewords    offensive_ratings\n",
       "0  6 gorillion     Highly offensive\n",
       "1         abbo  Extremely offensive\n",
       "2        abbos  Extremely offensive\n",
       "3          ABC     Mildly offensive\n",
       "4         ABCD     Mildly offensive"
      ]
     },
     "execution_count": 10,
     "metadata": {},
     "output_type": "execute_result"
    }
   ],
   "source": [
    "hatewords_df.head()"
   ]
  },
  {
   "cell_type": "markdown",
   "id": "7270251d-693f-4cd7-976e-f2fbbf1f5ad5",
   "metadata": {},
   "source": [
    "## 3 EDA"
   ]
  },
  {
   "cell_type": "code",
   "execution_count": 11,
   "id": "52890027-f301-423f-b987-6663ec1c8be1",
   "metadata": {},
   "outputs": [
    {
     "data": {
      "image/png": "[encoded data removed]",
      "text/plain": [
       "<Figure size 800x500 with 1 Axes>"
      ]
     },
     "metadata": {},
     "output_type": "display_data"
    }
   ],
   "source": [
    "labels = hatewords_df['offensive_ratings'].value_counts(normalize=True, ascending=True).index\n",
    "sizes = hatewords_df['offensive_ratings'].value_counts(normalize=True, ascending=True)\n",
    "plt.figure(figsize=(8,5))\n",
    "plt.pie(sizes,labels=labels, autopct='%1.1f%%', startangle=90)\n",
    "plt.axis('equal');"
   ]
  },
  {
   "cell_type": "code",
   "execution_count": 12,
   "id": "c575079d-79e4-4705-b8e3-46b71c26c681",
   "metadata": {},
   "outputs": [
    {
     "data": {
      "image/png": "[encoded data removed]",
      "text/plain": [
       "<Figure size 800x500 with 1 Axes>"
      ]
     },
     "metadata": {},
     "output_type": "display_data"
    }
   ],
   "source": [
    "plt.figure(figsize=(8,5))\n",
    "plt.bar(hatewords_df['offensive_ratings'].value_counts(ascending=True).index, hatewords_df['offensive_ratings'].value_counts(ascending=True))\n",
    "plt.title('Offensive Ratings of Hate Words', fontsize=14)\n",
    "plt.yticks(fontsize=10)\n",
    "plt.xticks(fontsize=10)\n",
    "plt.show()"
   ]
  }
 ],
 "metadata": {
  "kernelspec": {
   "display_name": "Python 3 (ipykernel)",
   "language": "python",
   "name": "python3"
  },
  "language_info": {
   "codemirror_mode": {
    "name": "ipython",
    "version": 3
   },
   "file_extension": ".py",
   "mimetype": "text/x-python",
   "name": "python",
   "nbconvert_exporter": "python",
   "pygments_lexer": "ipython3",
   "version": "3.9.13"
  }
 },
 "nbformat": 4,
 "nbformat_minor": 5
}
