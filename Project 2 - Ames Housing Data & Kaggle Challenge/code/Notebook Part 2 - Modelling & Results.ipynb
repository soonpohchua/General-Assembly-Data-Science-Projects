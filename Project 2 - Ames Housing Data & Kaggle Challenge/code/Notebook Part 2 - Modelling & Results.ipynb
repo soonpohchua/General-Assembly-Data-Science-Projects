{
 "cells": [
  {
   "cell_type": "markdown",
   "id": "39e0b27a-abc2-4f5e-ac6d-7fbffd10a3e6",
   "metadata": {},
   "source": [
    "<img src=\"http://imgur.com/1ZcRyrc.png\" style=\"float: left; margin: 20px; height: 55px\">\n",
    "\n",
    "# Project 2: Ames Housing Data & Kaggle Challenge"
   ]
  },
  {
   "cell_type": "markdown",
   "id": "bb86b808-aa4f-417b-9456-c85a5c47ef28",
   "metadata": {},
   "source": [
    "Note: This is part 2 of the code notebook covering the following:-\n",
    "1. [Library Imports & Functions Creation](#1.-Library-Imports-&-Functions-Creation)\n",
    "2. [Data Preparation for Train & Test Datasets](#2.-Data-Preparation-for-Train-&-Test-Datasets)\n",
    "3. [Base Models Training](#3.-Base-Models-Training)\n",
    "4. [Hyperparameter Tuning of Models](#4.-Hyperparameter-Tuning-of-Models)\n",
    "5. [Further Analysis on the Final Model](#5.-Further-Analysis-on-the-Final-Model)\n",
    "6. [Kaggle Submission](#6.-Kaggle-Submission)\n",
    "7. [Conclusion](#7.-Conclusion)"
   ]
  },
  {
   "cell_type": "markdown",
   "id": "c7427d75-caaa-4a40-8760-29da6c5d185a",
   "metadata": {},
   "source": [
    "## 1. Library Imports & Functions Creation"
   ]
  },
  {
   "cell_type": "code",
   "execution_count": 1,
   "id": "f4c2b6cf-595e-4479-a943-63bf7ed82da6",
   "metadata": {},
   "outputs": [],
   "source": [
    "import numpy as np\n",
    "import pandas as pd\n",
    "import warnings\n",
    "import time\n",
    "from sklearn.linear_model import LinearRegression, LassoCV, RidgeCV, ElasticNetCV, Lasso, Ridge, ElasticNet\n",
    "from sklearn.model_selection import train_test_split, cross_val_score, GridSearchCV\n",
    "from sklearn.preprocessing import MinMaxScaler\n",
    "from sklearn.metrics import mean_squared_error\n",
    "from warnings import simplefilter"
   ]
  },
  {
   "cell_type": "code",
   "execution_count": 2,
   "id": "bd6b383b-82f3-449d-8fb8-84e936ed3e47",
   "metadata": {},
   "outputs": [],
   "source": [
    "def model_scores(model, X_train, X_test, y_train, y_test):\n",
    "    print(f'Mean CV score: {round(cross_val_score(model, X_train, y_train).mean(), 3)}.')\n",
    "    print(f'Training score: {round(model.score(X_train, y_train), 3)}.')\n",
    "    print(f'Testing score: {round(model.score(X_test, y_test), 3)}.')\n",
    "    print(f'RMSE in training: {round(np.sqrt(mean_squared_error(y_train, model.predict(X_train))), 3)}.') # sqrt(msq(y_train, y_pred))\n",
    "    print(f'RMSE in testing: {round(np.sqrt(mean_squared_error(y_test, model.predict(X_test))), 3)}.') "
   ]
  },
  {
   "cell_type": "markdown",
   "id": "ecf11e23-57b7-4adc-9625-eec6fea9f6b6",
   "metadata": {},
   "source": [
    "## 2. Data Preparation for Train & Test Datasets"
   ]
  },
  {
   "cell_type": "markdown",
   "id": "f6ac2584-112d-493b-9f99-dd6c575192f9",
   "metadata": {},
   "source": [
    "### 2.1 Combining both datasets"
   ]
  },
  {
   "cell_type": "code",
   "execution_count": 3,
   "id": "85519723-9fc0-4278-8f7e-2d399a46a1ff",
   "metadata": {},
   "outputs": [],
   "source": [
    "# Importing all datasets\n",
    "# The original train dataset will be need for kaggle submission\n",
    "house_test_cleaned = pd.read_csv('./datasets/house_test_cleaned.csv')\n",
    "house_train_combined = pd.read_csv('./datasets/house_test_combined.csv')\n",
    "house_train = pd.read_csv('./datasets/train.csv')\n",
    "house_test = pd.read_csv('./datasets/test.csv')"
   ]
  },
  {
   "cell_type": "code",
   "execution_count": 4,
   "id": "2a436599-d0cf-404d-a690-601228c42959",
   "metadata": {},
   "outputs": [
    {
     "name": "stdout",
     "output_type": "stream",
     "text": [
      "Number of Combined Features for Train Dataset: 164\n"
     ]
    }
   ],
   "source": [
    "# We need to check the number of features in both datasets\n",
    "house_test_cleaned.shape\n",
    "print(f'Number of Combined Features for Train Dataset: {house_train_combined.shape[1]}')"
   ]
  },
  {
   "cell_type": "code",
   "execution_count": 5,
   "id": "5bd12083-3377-4e4e-826a-3e6a24e014e2",
   "metadata": {},
   "outputs": [
    {
     "name": "stdout",
     "output_type": "stream",
     "text": [
      "Number of Combined Features for Test Dataset: 154\n"
     ]
    }
   ],
   "source": [
    "print(f'Number of Combined Features for Test Dataset: {house_test_cleaned.shape[1]}')"
   ]
  },
  {
   "cell_type": "markdown",
   "id": "5dfce52a-f583-4e1e-ac07-2e1e1f14d831",
   "metadata": {},
   "source": [
    "### 2.2 Identify differing features of both datasets"
   ]
  },
  {
   "cell_type": "code",
   "execution_count": 6,
   "id": "c6f80d9d-c56c-465e-9177-46b136c5666c",
   "metadata": {},
   "outputs": [],
   "source": [
    "# We shall loop through each dataset to find the columns that are not the same \n",
    "test_col = []\n",
    "for col in house_test_cleaned:\n",
    "    test_col.append(col)"
   ]
  },
  {
   "cell_type": "code",
   "execution_count": 7,
   "id": "7508c870-159d-419b-ba26-d5081decb180",
   "metadata": {},
   "outputs": [
    {
     "name": "stdout",
     "output_type": "stream",
     "text": [
      "MS SubClass_SC150\n",
      "MS Zoning_C (all)\n",
      "Neighborhood_GrnHill\n",
      "Neighborhood_Landmrk\n",
      "Condition 2_Feedr\n",
      "Condition 2_PosN\n",
      "Condition 2_RRAe\n",
      "Condition 2_RRAn\n",
      "Condition 2_RRNn\n",
      "Roof Matl_Membran\n",
      "Exterior 1st_CBlock\n",
      "Exterior 1st_ImStucc\n",
      "Exterior 1st_Stone\n",
      "Exterior 2nd_Stone\n",
      "Heating_OthW\n",
      "Heating_Wall\n",
      "Misc Feature_Gar2\n",
      "Misc Feature_TenC\n"
     ]
    }
   ],
   "source": [
    "# Features missing from test dataset\n",
    "for col in house_train_combined:\n",
    "    if col not in test_col: print(col)"
   ]
  },
  {
   "cell_type": "code",
   "execution_count": 8,
   "id": "7d08a190-b973-46da-ada4-dabf77376951",
   "metadata": {},
   "outputs": [],
   "source": [
    "train_col = []\n",
    "for col in house_train_combined:\n",
    "    train_col.append(col)"
   ]
  },
  {
   "cell_type": "code",
   "execution_count": 9,
   "id": "a8b4ed59-efc3-421d-9fed-62e12c3aa18f",
   "metadata": {},
   "outputs": [
    {
     "name": "stdout",
     "output_type": "stream",
     "text": [
      "Roof Matl_Metal\n",
      "Roof Matl_Roll\n",
      "Exterior 1st_PreCast\n",
      "Exterior 2nd_Other\n",
      "Exterior 2nd_PreCast\n",
      "Mas Vnr Type_CBlock\n",
      "Heating_GasA\n",
      "Sale Type_VWD\n"
     ]
    }
   ],
   "source": [
    "# Features missing from train dataset\n",
    "for col in house_test_cleaned:\n",
    "    if col not in train_col: print(col)"
   ]
  },
  {
   "cell_type": "markdown",
   "id": "640a550d-a6cf-4a95-825c-6b89fbe114c9",
   "metadata": {},
   "source": [
    "### 2.3 Removing unique features of each dataset"
   ]
  },
  {
   "cell_type": "code",
   "execution_count": 10,
   "id": "a98fe496-a07d-4960-becd-a5c0e70e144f",
   "metadata": {},
   "outputs": [],
   "source": [
    "house_test_cleaned.drop(columns=['Roof Matl_Metal',\n",
    "                              'Roof Matl_Roll',\n",
    "                              'Exterior 1st_PreCast',\n",
    "                              'Exterior 2nd_Other',\n",
    "                              'Exterior 2nd_PreCast',\n",
    "                              'Mas Vnr Type_CBlock',\n",
    "                              'Heating_GasA',\n",
    "                              'Sale Type_VWD'],inplace=True)"
   ]
  },
  {
   "cell_type": "code",
   "execution_count": 11,
   "id": "5d21d0ed-e541-4095-966b-8ac0513bf478",
   "metadata": {},
   "outputs": [],
   "source": [
    "house_train_combined.drop(columns=['MS SubClass_SC150',\n",
    "                              'MS Zoning_C (all)',\n",
    "                              'Neighborhood_GrnHill',\n",
    "                              'Neighborhood_Landmrk',\n",
    "                              'Condition 2_Feedr',\n",
    "                              'Condition 2_RRAe',\n",
    "                              'Condition 2_RRAn',\n",
    "                              'Condition 2_RRNn',\n",
    "                              'Roof Matl_Membran',\n",
    "                              'Condition 2_PosN',\n",
    "                              'Exterior 1st_CBlock',\n",
    "                              'Exterior 1st_ImStucc',\n",
    "                              'Exterior 1st_Stone',\n",
    "                              'Exterior 2nd_Stone',\n",
    "                              'Heating_OthW',\n",
    "                              'Heating_Wall',\n",
    "                              'Misc Feature_Gar2',     \n",
    "                              'Misc Feature_TenC'],inplace=True)"
   ]
  },
  {
   "cell_type": "code",
   "execution_count": 12,
   "id": "702df1a1-f9b6-43ef-9bc8-8d2f4ae80742",
   "metadata": {},
   "outputs": [
    {
     "name": "stdout",
     "output_type": "stream",
     "text": [
      "Number of Combined Features for Train Dataset After 2.3: 146\n"
     ]
    }
   ],
   "source": [
    "print(f'Number of Combined Features for Train Dataset After 2.3: {house_train_combined.shape[1]}')"
   ]
  },
  {
   "cell_type": "code",
   "execution_count": 13,
   "id": "f58f554e-f776-4b85-8afe-13e65df8d356",
   "metadata": {},
   "outputs": [
    {
     "name": "stdout",
     "output_type": "stream",
     "text": [
      "Number of Combined Features for Test Dataset After 2.3: 146\n"
     ]
    }
   ],
   "source": [
    "print(f'Number of Combined Features for Test Dataset After 2.3: {house_test_cleaned.shape[1]}')"
   ]
  },
  {
   "cell_type": "markdown",
   "id": "51540b64-7849-4d89-975e-b69d2262da3c",
   "metadata": {},
   "source": [
    "## 3. Base Models Training"
   ]
  },
  {
   "cell_type": "markdown",
   "id": "5578b8f9-eac7-4b1a-9714-a0339d864f7f",
   "metadata": {},
   "source": [
    "We shall be covering four base models:\n",
    "1. Linear Regression\n",
    "2. Lasso Regression\n",
    "3. Ridge Regression\n",
    "4. ElasticNet Regression"
   ]
  },
  {
   "cell_type": "markdown",
   "id": "672ae725-5f4f-4d49-a57c-05a162128fef",
   "metadata": {},
   "source": [
    "### 3.1 Scaling Choice: Min Max Scaler"
   ]
  },
  {
   "cell_type": "markdown",
   "id": "9f1245d2-75d0-4689-8f7b-beba1c4c392a",
   "metadata": {},
   "source": [
    "This project will only be using the Min Max Scaler for scaling. The rationale is to keep the values of features from becoming negative. This is the [only scaler](https://scikit-learn.org/stable/auto_examples/preprocessing/plot_all_scaling.html#sphx-glr-auto-examples-preprocessing-plot-all-scaling-py) that allows us to do that. As a recap on the entire dataset, there should not be any negative values for the dataset. The issue with negative values is that the relationship between the features and the target variable will become inversed, which is not an accurate reflection of the data."
   ]
  },
  {
   "cell_type": "markdown",
   "id": "f7060f23-6b23-4188-ad79-0a717d33bdad",
   "metadata": {},
   "source": [
    "### 3.2 Base: Linear Regression"
   ]
  },
  {
   "cell_type": "code",
   "execution_count": 14,
   "id": "89870d7a-08f1-4f33-b53d-b1b6c9059c62",
   "metadata": {},
   "outputs": [],
   "source": [
    "y = house_train['SalePrice']\n",
    "X = house_train_combined"
   ]
  },
  {
   "cell_type": "code",
   "execution_count": 15,
   "id": "c1f3d3a8-2753-4bb6-a03e-2123d2ef5244",
   "metadata": {},
   "outputs": [],
   "source": [
    "# Using the random state of 42 for consistent result\n",
    "X_train, X_test, y_train, y_test = train_test_split(X, y, random_state = 42)"
   ]
  },
  {
   "cell_type": "code",
   "execution_count": 16,
   "id": "514f3d2b-9c6e-4f8e-b1a8-8c0239c9a68a",
   "metadata": {},
   "outputs": [],
   "source": [
    "X_train, X_test, y_train, y_test = train_test_split(X, y, random_state = 42)"
   ]
  },
  {
   "cell_type": "code",
   "execution_count": 17,
   "id": "8b859201-18e4-470e-9720-1416439811a3",
   "metadata": {},
   "outputs": [],
   "source": [
    "lr_model = lr.fit(X_train, y_train)"
   ]
  },
  {
   "cell_type": "code",
   "execution_count": 18,
   "id": "2e3afda8-87d2-4ee4-9f5d-6524c6e93349",
   "metadata": {},
   "outputs": [],
   "source": [
    "mm = MinMaxScaler()\n",
    "X_train = mm.fit_transform(X_train)\n",
    "X_test = mm.transform(X_test)"
   ]
  },
  {
   "cell_type": "code",
   "execution_count": 19,
   "id": "9c813312-b0dc-408f-b1a0-228d271864f7",
   "metadata": {},
   "outputs": [
    {
     "name": "stdout",
     "output_type": "stream",
     "text": [
      "Mean CV score: -2.075698653063636e+16.\n",
      "Training score: -7.095.\n",
      "Testing score: -7.385.\n",
      "RMSE in training: 226264.213.\n",
      "RMSE in testing: 226905.54.\n"
     ]
    }
   ],
   "source": [
    "# Results for base linear regression\n",
    "warnings.filterwarnings(\"ignore\")\n",
    "model_scores(lr_model, X_train, X_test, y_train, y_test)"
   ]
  },
  {
   "cell_type": "markdown",
   "id": "90b47ad4-8eb2-46d6-8d76-bf6de7fb7ab2",
   "metadata": {},
   "source": [
    "### 3.3 Base: Lasso Regression"
   ]
  },
  {
   "cell_type": "code",
   "execution_count": 20,
   "id": "f1e1f35f-2327-4376-a2f2-9682b0f26303",
   "metadata": {},
   "outputs": [],
   "source": [
    "lasso = Lasso()"
   ]
  },
  {
   "cell_type": "code",
   "execution_count": 21,
   "id": "987e0d65-564e-46a0-bce8-d68a235c6901",
   "metadata": {},
   "outputs": [],
   "source": [
    "lasso_model = lasso.fit(X_train, y_train)"
   ]
  },
  {
   "cell_type": "code",
   "execution_count": 22,
   "id": "22fce5d0-6053-442a-acfd-636ba211f62a",
   "metadata": {},
   "outputs": [
    {
     "name": "stdout",
     "output_type": "stream",
     "text": [
      "Mean CV score: 0.829.\n",
      "Training score: 0.887.\n",
      "Testing score: 0.883.\n",
      "RMSE in training: 26722.091.\n",
      "RMSE in testing: 26772.47.\n"
     ]
    }
   ],
   "source": [
    "# Results for base lasso regression\n",
    "warnings.filterwarnings(\"ignore\")\n",
    "model_scores(lasso_model, X_train, X_test, y_train, y_test)"
   ]
  },
  {
   "cell_type": "markdown",
   "id": "7548adce-de7e-492d-bcfe-0e82708d6415",
   "metadata": {},
   "source": [
    "### 3.4 Base: Ridge Regression"
   ]
  },
  {
   "cell_type": "code",
   "execution_count": 23,
   "id": "77209daa-32dc-4887-ac28-8431901fb90b",
   "metadata": {},
   "outputs": [],
   "source": [
    "ridge = Ridge()"
   ]
  },
  {
   "cell_type": "code",
   "execution_count": 24,
   "id": "8278d76a-ef36-4f9b-987c-36d06299abaf",
   "metadata": {},
   "outputs": [],
   "source": [
    "ridge_model = ridge.fit(X_train, y_train)"
   ]
  },
  {
   "cell_type": "code",
   "execution_count": 25,
   "id": "def07f99-d564-4c4b-99f1-46cdbf616d97",
   "metadata": {},
   "outputs": [
    {
     "name": "stdout",
     "output_type": "stream",
     "text": [
      "Mean CV score: 0.839.\n",
      "Training score: 0.885.\n",
      "Testing score: 0.887.\n",
      "RMSE in training: 26941.657.\n",
      "RMSE in testing: 26388.169.\n"
     ]
    }
   ],
   "source": [
    "# Results for base lasso regression\n",
    "warnings.filterwarnings(\"ignore\")\n",
    "model_scores(ridge_model, X_train, X_test, y_train, y_test)"
   ]
  },
  {
   "cell_type": "markdown",
   "id": "7ac374af-d315-44c8-9617-71dd6dd13969",
   "metadata": {},
   "source": [
    "### 3.5 Base: Elastic Net Regression"
   ]
  },
  {
   "cell_type": "code",
   "execution_count": 26,
   "id": "dd013d73-e19b-4634-94cf-943a79e0aca2",
   "metadata": {},
   "outputs": [],
   "source": [
    "elasticnet = ElasticNet()"
   ]
  },
  {
   "cell_type": "code",
   "execution_count": 27,
   "id": "0c2bb66d-db8e-4104-b64d-58a18c8bfedf",
   "metadata": {},
   "outputs": [],
   "source": [
    "elasticnet_model = elasticnet.fit(X_train, y_train)"
   ]
  },
  {
   "cell_type": "code",
   "execution_count": 28,
   "id": "7226216a-c34b-45ff-94c1-2d4c1e045896",
   "metadata": {},
   "outputs": [
    {
     "name": "stdout",
     "output_type": "stream",
     "text": [
      "Mean CV score: 0.566.\n",
      "Training score: 0.571.\n",
      "Testing score: 0.6.\n",
      "RMSE in training: 52060.967.\n",
      "RMSE in testing: 49555.979.\n"
     ]
    }
   ],
   "source": [
    "# Results for base lasso regression\n",
    "warnings.filterwarnings(\"ignore\")\n",
    "model_scores(elasticnet_model, X_train, X_test, y_train, y_test)"
   ]
  },
  {
   "cell_type": "markdown",
   "id": "514d02fe-8d8c-4c57-a650-ce3e2e7cd33e",
   "metadata": {},
   "source": [
    "### 3.6 Evaluation of Base Model Training"
   ]
  },
  {
   "cell_type": "markdown",
   "id": "ddc210df-e76f-41b6-991c-808ca001c387",
   "metadata": {},
   "source": [
    "| Index | Model Name | Alpha Value | L1 Ratio Value | Mean CV R<sup>2</sup> Score | R<sup>2</sup> Train Score | R<sup>2</sup> Test Score| RMSE Train Score| RMSE Test Score\n",
    "|:---:|:---:|:---:|:---:|:---:|:---:|:---:|:---:|:---:|\n",
    "| 1 | Base: Linear Regression | - |  -  | -2.076e+16 | -7.095 | -7.385 | 226264.213 | 226905.54 | \n",
    "| 2 | Base: Lasso Regression | 1 | -  | 0.829 | 0.887 | 0.883 | 26722.091 | 26772.47 |\n",
    "| 3 | Base: Ridge Regression | 1 | - | 0.839 | 0.885 | 0.887 | 26941.657 | 26388.169 |\n",
    "| 4 | Base: Elastic Net Regression | 1 | 0.5 | 0.566 | 0.571 | 0.600 | 52060.967 | 49555.979 |"
   ]
  },
  {
   "cell_type": "markdown",
   "id": "690b3bbe-7275-4f4f-ac9e-800db77f5410",
   "metadata": {},
   "source": [
    "1. The base models of the Lasso and Ridge regressions clearly outperform the base models of Linear and Elastic Net regressions. \n",
    "2. The result of base Linear regression shows that the model is probably too simplistic with major underfitting.\n",
    "3. The result of base Elastic Net is not ideal as well with a similar issue of underfitting to a lesser extent as compare to base Linear regression.\n",
    "4. Base Lasso and Ridge regressions show comparable results with Ridge regression performing slightly better on RMSE Testing Score.\n",
    "5. Nevertheless, both base Lasso and Ridge regressions also share similar issues with underfitting, which is more apparent when using the mean CV R<sup>2</sup>."
   ]
  },
  {
   "cell_type": "markdown",
   "id": "a11062af-67c5-4392-bf02-acf57f4eb5f6",
   "metadata": {},
   "source": [
    "## 4. Hyperparameter Tuning of Models"
   ]
  },
  {
   "cell_type": "markdown",
   "id": "4fcc8be8-3131-460f-bc14-a1ac8288bb77",
   "metadata": {},
   "source": [
    "We shall be tuning the following models:\n",
    "\n",
    "1. Lasso Regression\n",
    "2. Ridge Regression\n",
    "3. ElasticNet Regression"
   ]
  },
  {
   "cell_type": "markdown",
   "id": "9ab8b9b2-2776-4463-b3bf-f2b08a1858cd",
   "metadata": {},
   "source": [
    "### 4.1 HyperPara: Lasso Regression"
   ]
  },
  {
   "cell_type": "code",
   "execution_count": 29,
   "id": "524e57f0-b49d-42cf-8a69-e40aeaa57804",
   "metadata": {},
   "outputs": [],
   "source": [
    "# I will just focus on tuning the alpha values as the other parameters are tested with no effect\n",
    "# I encounter issues with the usage of GridGV for lasso to run the below function\n",
    "# This code might take awhile to run\n",
    "l_alphas = np.logspace(0, 50, 500)\n",
    "lasso_cv = LassoCV(alphas=l_alphas).fit(X_train, y_train)"
   ]
  },
  {
   "cell_type": "code",
   "execution_count": 30,
   "id": "d7211662-995a-4927-aad9-8a6c5e2b3d6f",
   "metadata": {},
   "outputs": [
    {
     "name": "stdout",
     "output_type": "stream",
     "text": [
      "Mean CV score: 0.841.\n",
      "Training score: 0.874.\n",
      "Testing score: 0.896.\n",
      "RMSE in training: 28194.816.\n",
      "RMSE in testing: 25241.134.\n"
     ]
    }
   ],
   "source": [
    "# This code might take awhile to run\n",
    "model_scores(lasso_cv, X_train, X_test, y_train, y_test)"
   ]
  },
  {
   "cell_type": "code",
   "execution_count": 31,
   "id": "616d59a9-3e8a-4756-9095-b97d94497e62",
   "metadata": {},
   "outputs": [
    {
     "name": "stdout",
     "output_type": "stream",
     "text": [
      "Alpha value: 100.927\n"
     ]
    }
   ],
   "source": [
    "print(f'Alpha value: {lasso_cv.alpha_:.3f}')"
   ]
  },
  {
   "cell_type": "markdown",
   "id": "43820531-9318-4e1d-abe2-45bb2e3001c2",
   "metadata": {},
   "source": [
    "### 4.2 HyperPara: Ridge Regression"
   ]
  },
  {
   "cell_type": "code",
   "execution_count": 32,
   "id": "ae830d31-ab14-4dd5-926b-7e38bc7cc983",
   "metadata": {},
   "outputs": [],
   "source": [
    "# I will take out unimportant parameters in the interest of coding running time\n",
    "ridge_para = {\n",
    "    \"alphas\": np.logspace(0, 50, 500)}"
   ]
  },
  {
   "cell_type": "code",
   "execution_count": 33,
   "id": "f455942b-1d78-4444-9f82-97ab9eaa4133",
   "metadata": {},
   "outputs": [],
   "source": [
    "ridge_grid = GridSearchCV(RidgeCV(),\n",
    "                          ridge_para,\n",
    "                          n_jobs=-1,\n",
    "                          cv=5,\n",
    "                          verbose = 1\n",
    "                         )"
   ]
  },
  {
   "cell_type": "code",
   "execution_count": 34,
   "id": "19129a09-62a4-4ed5-816f-e5b94af5ace1",
   "metadata": {},
   "outputs": [
    {
     "name": "stdout",
     "output_type": "stream",
     "text": [
      "Fitting 5 folds for each of 500 candidates, totalling 2500 fits\n"
     ]
    },
    {
     "data": {
      "text/html": [
       "<style>#sk-container-id-1 {color: black;background-color: white;}#sk-container-id-1 pre{padding: 0;}#sk-container-id-1 div.sk-toggleable {background-color: white;}#sk-container-id-1 label.sk-toggleable__label {cursor: pointer;display: block;width: 100%;margin-bottom: 0;padding: 0.3em;box-sizing: border-box;text-align: center;}#sk-container-id-1 label.sk-toggleable__label-arrow:before {content: \"▸\";float: left;margin-right: 0.25em;color: #696969;}#sk-container-id-1 label.sk-toggleable__label-arrow:hover:before {color: black;}#sk-container-id-1 div.sk-estimator:hover label.sk-toggleable__label-arrow:before {color: black;}#sk-container-id-1 div.sk-toggleable__content {max-height: 0;max-width: 0;overflow: hidden;text-align: left;background-color: #f0f8ff;}#sk-container-id-1 div.sk-toggleable__content pre {margin: 0.2em;color: black;border-radius: 0.25em;background-color: #f0f8ff;}#sk-container-id-1 input.sk-toggleable__control:checked~div.sk-toggleable__content {max-height: 200px;max-width: 100%;overflow: auto;}#sk-container-id-1 input.sk-toggleable__control:checked~label.sk-toggleable__label-arrow:before {content: \"▾\";}#sk-container-id-1 div.sk-estimator input.sk-toggleable__control:checked~label.sk-toggleable__label {background-color: #d4ebff;}#sk-container-id-1 div.sk-label input.sk-toggleable__control:checked~label.sk-toggleable__label {background-color: #d4ebff;}#sk-container-id-1 input.sk-hidden--visually {border: 0;clip: rect(1px 1px 1px 1px);clip: rect(1px, 1px, 1px, 1px);height: 1px;margin: -1px;overflow: hidden;padding: 0;position: absolute;width: 1px;}#sk-container-id-1 div.sk-estimator {font-family: monospace;background-color: #f0f8ff;border: 1px dotted black;border-radius: 0.25em;box-sizing: border-box;margin-bottom: 0.5em;}#sk-container-id-1 div.sk-estimator:hover {background-color: #d4ebff;}#sk-container-id-1 div.sk-parallel-item::after {content: \"\";width: 100%;border-bottom: 1px solid gray;flex-grow: 1;}#sk-container-id-1 div.sk-label:hover label.sk-toggleable__label {background-color: #d4ebff;}#sk-container-id-1 div.sk-serial::before {content: \"\";position: absolute;border-left: 1px solid gray;box-sizing: border-box;top: 0;bottom: 0;left: 50%;z-index: 0;}#sk-container-id-1 div.sk-serial {display: flex;flex-direction: column;align-items: center;background-color: white;padding-right: 0.2em;padding-left: 0.2em;position: relative;}#sk-container-id-1 div.sk-item {position: relative;z-index: 1;}#sk-container-id-1 div.sk-parallel {display: flex;align-items: stretch;justify-content: center;background-color: white;position: relative;}#sk-container-id-1 div.sk-item::before, #sk-container-id-1 div.sk-parallel-item::before {content: \"\";position: absolute;border-left: 1px solid gray;box-sizing: border-box;top: 0;bottom: 0;left: 50%;z-index: -1;}#sk-container-id-1 div.sk-parallel-item {display: flex;flex-direction: column;z-index: 1;position: relative;background-color: white;}#sk-container-id-1 div.sk-parallel-item:first-child::after {align-self: flex-end;width: 50%;}#sk-container-id-1 div.sk-parallel-item:last-child::after {align-self: flex-start;width: 50%;}#sk-container-id-1 div.sk-parallel-item:only-child::after {width: 0;}#sk-container-id-1 div.sk-dashed-wrapped {border: 1px dashed gray;margin: 0 0.4em 0.5em 0.4em;box-sizing: border-box;padding-bottom: 0.4em;background-color: white;}#sk-container-id-1 div.sk-label label {font-family: monospace;font-weight: bold;display: inline-block;line-height: 1.2em;}#sk-container-id-1 div.sk-label-container {text-align: center;}#sk-container-id-1 div.sk-container {/* jupyter's `normalize.less` sets `[hidden] { display: none; }` but bootstrap.min.css set `[hidden] { display: none !important; }` so we also need the `!important` here to be able to override the default hidden behavior on the sphinx rendered scikit-learn.org. See: https://github.com/scikit-learn/scikit-learn/issues/21755 */display: inline-block !important;position: relative;}#sk-container-id-1 div.sk-text-repr-fallback {display: none;}</style><div id=\"sk-container-id-1\" class=\"sk-top-container\"><div class=\"sk-text-repr-fallback\"><pre>GridSearchCV(cv=5, estimator=RidgeCV(), n_jobs=-1,\n",
       "             param_grid={&#x27;alphas&#x27;: array([1.00000000e+00, 1.25950646e+00, 1.58635653e+00, 1.99802631e+00,\n",
       "       2.51652705e+00, 3.16958209e+00, 3.99210913e+00, 5.02808725e+00,\n",
       "       6.33290840e+00, 7.97633907e+00, 1.00462506e+01, 1.26533176e+01,\n",
       "       1.59369353e+01, 2.00726730e+01, 2.52816614e+01, 3.18424160e+01,\n",
       "       4.01057288e+01, 5.05134247e+01, 6.36...\n",
       "       4.95896201e+47, 6.24584471e+47, 7.86668179e+47, 9.90813657e+47,\n",
       "       1.24793621e+48, 1.57178372e+48, 1.97967175e+48, 2.49340937e+48,\n",
       "       3.14046522e+48, 3.95543624e+48, 4.98189752e+48, 6.27473213e+48,\n",
       "       7.90306568e+48, 9.95396231e+48, 1.25370799e+49, 1.57905331e+49,\n",
       "       1.98882786e+49, 2.50494154e+49, 3.15499006e+49, 3.97373038e+49,\n",
       "       5.00493910e+49, 6.30375315e+49, 7.93961785e+49, 1.00000000e+50])},\n",
       "             verbose=1)</pre><b>In a Jupyter environment, please rerun this cell to show the HTML representation or trust the notebook. <br />On GitHub, the HTML representation is unable to render, please try loading this page with nbviewer.org.</b></div><div class=\"sk-container\" hidden><div class=\"sk-item sk-dashed-wrapped\"><div class=\"sk-label-container\"><div class=\"sk-label sk-toggleable\"><input class=\"sk-toggleable__control sk-hidden--visually\" id=\"sk-estimator-id-1\" type=\"checkbox\" ><label for=\"sk-estimator-id-1\" class=\"sk-toggleable__label sk-toggleable__label-arrow\">GridSearchCV</label><div class=\"sk-toggleable__content\"><pre>GridSearchCV(cv=5, estimator=RidgeCV(), n_jobs=-1,\n",
       "             param_grid={&#x27;alphas&#x27;: array([1.00000000e+00, 1.25950646e+00, 1.58635653e+00, 1.99802631e+00,\n",
       "       2.51652705e+00, 3.16958209e+00, 3.99210913e+00, 5.02808725e+00,\n",
       "       6.33290840e+00, 7.97633907e+00, 1.00462506e+01, 1.26533176e+01,\n",
       "       1.59369353e+01, 2.00726730e+01, 2.52816614e+01, 3.18424160e+01,\n",
       "       4.01057288e+01, 5.05134247e+01, 6.36...\n",
       "       4.95896201e+47, 6.24584471e+47, 7.86668179e+47, 9.90813657e+47,\n",
       "       1.24793621e+48, 1.57178372e+48, 1.97967175e+48, 2.49340937e+48,\n",
       "       3.14046522e+48, 3.95543624e+48, 4.98189752e+48, 6.27473213e+48,\n",
       "       7.90306568e+48, 9.95396231e+48, 1.25370799e+49, 1.57905331e+49,\n",
       "       1.98882786e+49, 2.50494154e+49, 3.15499006e+49, 3.97373038e+49,\n",
       "       5.00493910e+49, 6.30375315e+49, 7.93961785e+49, 1.00000000e+50])},\n",
       "             verbose=1)</pre></div></div></div><div class=\"sk-parallel\"><div class=\"sk-parallel-item\"><div class=\"sk-item\"><div class=\"sk-label-container\"><div class=\"sk-label sk-toggleable\"><input class=\"sk-toggleable__control sk-hidden--visually\" id=\"sk-estimator-id-2\" type=\"checkbox\" ><label for=\"sk-estimator-id-2\" class=\"sk-toggleable__label sk-toggleable__label-arrow\">estimator: RidgeCV</label><div class=\"sk-toggleable__content\"><pre>RidgeCV()</pre></div></div></div><div class=\"sk-serial\"><div class=\"sk-item\"><div class=\"sk-estimator sk-toggleable\"><input class=\"sk-toggleable__control sk-hidden--visually\" id=\"sk-estimator-id-3\" type=\"checkbox\" ><label for=\"sk-estimator-id-3\" class=\"sk-toggleable__label sk-toggleable__label-arrow\">RidgeCV</label><div class=\"sk-toggleable__content\"><pre>RidgeCV()</pre></div></div></div></div></div></div></div></div></div></div>"
      ],
      "text/plain": [
       "GridSearchCV(cv=5, estimator=RidgeCV(), n_jobs=-1,\n",
       "             param_grid={'alphas': array([1.00000000e+00, 1.25950646e+00, 1.58635653e+00, 1.99802631e+00,\n",
       "       2.51652705e+00, 3.16958209e+00, 3.99210913e+00, 5.02808725e+00,\n",
       "       6.33290840e+00, 7.97633907e+00, 1.00462506e+01, 1.26533176e+01,\n",
       "       1.59369353e+01, 2.00726730e+01, 2.52816614e+01, 3.18424160e+01,\n",
       "       4.01057288e+01, 5.05134247e+01, 6.36...\n",
       "       4.95896201e+47, 6.24584471e+47, 7.86668179e+47, 9.90813657e+47,\n",
       "       1.24793621e+48, 1.57178372e+48, 1.97967175e+48, 2.49340937e+48,\n",
       "       3.14046522e+48, 3.95543624e+48, 4.98189752e+48, 6.27473213e+48,\n",
       "       7.90306568e+48, 9.95396231e+48, 1.25370799e+49, 1.57905331e+49,\n",
       "       1.98882786e+49, 2.50494154e+49, 3.15499006e+49, 3.97373038e+49,\n",
       "       5.00493910e+49, 6.30375315e+49, 7.93961785e+49, 1.00000000e+50])},\n",
       "             verbose=1)"
      ]
     },
     "execution_count": 34,
     "metadata": {},
     "output_type": "execute_result"
    }
   ],
   "source": [
    "ridge_grid.fit(X_train, y_train)"
   ]
  },
  {
   "cell_type": "code",
   "execution_count": 35,
   "id": "7f43304c-285a-468e-9756-274b1ccac348",
   "metadata": {},
   "outputs": [
    {
     "name": "stdout",
     "output_type": "stream",
     "text": [
      "Fitting 5 folds for each of 500 candidates, totalling 2500 fits\n",
      "Fitting 5 folds for each of 500 candidates, totalling 2500 fits\n",
      "Fitting 5 folds for each of 500 candidates, totalling 2500 fits\n",
      "Fitting 5 folds for each of 500 candidates, totalling 2500 fits\n",
      "Fitting 5 folds for each of 500 candidates, totalling 2500 fits\n",
      "Mean CV score: 0.84.\n",
      "Training score: 0.88.\n",
      "Testing score: 0.887.\n",
      "RMSE in training: 27491.844.\n",
      "RMSE in testing: 26350.511.\n",
      "Runtime of the code is 38.54296398162842\n"
     ]
    }
   ],
   "source": [
    "# This code might take awhile to run\n",
    "start = time.time()\n",
    "model_scores(ridge_grid, X_train, X_test, y_train, y_test)\n",
    "end = time.time()\n",
    "print(f\"Runtime of the code is {end - start}\")"
   ]
  },
  {
   "cell_type": "code",
   "execution_count": 36,
   "id": "ad823382-90d2-4267-b1cd-46d17a88fc74",
   "metadata": {},
   "outputs": [
    {
     "data": {
      "text/plain": [
       "{'alphas': 3.169582088726117}"
      ]
     },
     "execution_count": 36,
     "metadata": {},
     "output_type": "execute_result"
    }
   ],
   "source": [
    "ridge_grid.best_params_"
   ]
  },
  {
   "cell_type": "markdown",
   "id": "30221f52-ba0f-4528-862f-aff8e64fc755",
   "metadata": {},
   "source": [
    "### 4.3 HyperPara: ElasticNet Regression"
   ]
  },
  {
   "cell_type": "code",
   "execution_count": 37,
   "id": "3791a359-f29b-4adf-b797-a6a2317c571b",
   "metadata": {},
   "outputs": [],
   "source": [
    "# I will just focus on tuning the alpha values as the other parameters are tested with no effect\n",
    "# I encounter issues with the usage of GridGV for elasticnet to run the below function\n",
    "# This code might take awhile to run\n",
    "enet_alphas = np.logspace(0, 50, 500)\n",
    "enet_ratio = np.linspace(0,1,5)\n",
    "enet_model = ElasticNetCV(alphas=enet_alphas, l1_ratio=enet_ratio, cv=5).fit(X_train, y_train)"
   ]
  },
  {
   "cell_type": "code",
   "execution_count": 38,
   "id": "43a08323-efc9-4306-beed-ade34c207a06",
   "metadata": {},
   "outputs": [
    {
     "name": "stdout",
     "output_type": "stream",
     "text": [
      "Mean CV score: 0.841.\n",
      "Training score: 0.874.\n",
      "Testing score: 0.896.\n",
      "RMSE in training: 28194.816.\n",
      "RMSE in testing: 25241.134.\n",
      "Runtime of the code is 175.4595410823822\n"
     ]
    }
   ],
   "source": [
    "start = time.time()\n",
    "model_scores(enet_model, X_train, X_test, y_train, y_test)\n",
    "end = time.time()\n",
    "print(f\"Runtime of the code is {end - start}\")"
   ]
  },
  {
   "cell_type": "code",
   "execution_count": 39,
   "id": "348e61ee-7981-4e85-b3c6-8b8105445c5d",
   "metadata": {},
   "outputs": [
    {
     "name": "stdout",
     "output_type": "stream",
     "text": [
      "Alpha value: 100.927\n"
     ]
    }
   ],
   "source": [
    "print(f'Alpha value: {enet_model.alpha_:.3f}')"
   ]
  },
  {
   "cell_type": "code",
   "execution_count": 40,
   "id": "8a5fdb7c-c871-482e-989b-60522688108b",
   "metadata": {},
   "outputs": [
    {
     "name": "stdout",
     "output_type": "stream",
     "text": [
      "L1 Ratio value: 1.000\n"
     ]
    }
   ],
   "source": [
    "print(f'L1 Ratio value: {enet_model.l1_ratio_:.3f}')"
   ]
  },
  {
   "cell_type": "markdown",
   "id": "0f1227d6-d718-4894-ad75-f3a2ccac5729",
   "metadata": {},
   "source": [
    "### 4.4 Evaluation & Selection of Best Model"
   ]
  },
  {
   "cell_type": "markdown",
   "id": "e632750a-c484-4b2c-b8ee-43f5e5bd7c66",
   "metadata": {},
   "source": [
    " | Index | Model Name | Alpha Value | L1 Ratio Value | Mean CV R<sup>2</sup> Score | R<sup>2</sup> Train Score | R<sup>2</sup> Test Score| RMSE Train Score| RMSE Test Score\n",
    "|:---:|:---:|:---:|:---:|:---:|:---:|:---:|:---:|:---:|\n",
    "| 1 | HyperPara: Lasso Regression | 100.927 |  -  | 0.841 | 0.874 | 0.896 | 28194.816 | 25241.134 | \n",
    "| 2 | HyperPara: Ridge Regression | 3.169 | -  | 0.840 | 0.880 | 0.887 | 27491.844 | 26350.511 |\n",
    "| 3 | HyperPara: ElasticNet Regression | 101.552 | 1 | 0.841 | 0.874 | 0.896 | 28194.816 | 25241.134 |"
   ]
  },
  {
   "cell_type": "markdown",
   "id": "4d024716-475e-4e27-b4c1-f571ca54af99",
   "metadata": {},
   "source": [
    "1. Based on RMSE test score, the Lasso regression clearly outperforms the Ridge regression.\n",
    "2. Interestingly, the ElasticNet regression shares the same scores as Lasso regression. With a L1 Ratio Value of 1, it reinforces the performance of the Lasso regression as the best.\n",
    "3. While Ridge regression does poorer for the test scores, it does better in both R<sup>2</sup> train score and RMSE train score. As compared to the Lasso regression, it does seem that the Ridge regression has less issue with underfitting despite having a lower R<sup>2</sup> test score and RMSE test score.\n",
    "4. As with the base models, underfitting is still an issue for all models when examining the respective mean CV R<sup>2</sup> score."
   ]
  },
  {
   "cell_type": "markdown",
   "id": "41c951df-3aed-48be-a8c8-879b8a42ceb2",
   "metadata": {},
   "source": [
    "## 5. Further Analysis on the Best Model"
   ]
  },
  {
   "cell_type": "markdown",
   "id": "0a18e7d5-863f-46a5-b840-384924dc3804",
   "metadata": {},
   "source": [
    "With the best RMSE test score, I am inclined to choose the 'HyperPara: Lasso Regression' as the best model. As the focus of the project is to identify the best predictors, I shall focus on the features which perform the best for the final model."
   ]
  },
  {
   "cell_type": "markdown",
   "id": "994cadd1-99f5-474e-b7e3-ccfcf3f296ac",
   "metadata": {},
   "source": [
    "| Model Name | Alpha Value | L1 Ratio Value | Mean CV R<sup>2</sup> Score | R<sup>2</sup> Train Score | R<sup>2</sup> Test Score| RMSE Train Score| RMSE Test Score\n",
    "|:---:|:---:|:---:|:---:|:---:|:---:|:---:|:---:|\n",
    "| HyperPara: Lasso Regression | 100.927 |  -  | 0.841 | 0.874 | 0.896 | 28194.816 | 25241.134 |"
   ]
  },
  {
   "cell_type": "code",
   "execution_count": 41,
   "id": "543d9cb8-d2f8-42fb-a1ac-2713195f1055",
   "metadata": {},
   "outputs": [
    {
     "data": {
      "text/html": [
       "<div>\n",
       "<style scoped>\n",
       "    .dataframe tbody tr th:only-of-type {\n",
       "        vertical-align: middle;\n",
       "    }\n",
       "\n",
       "    .dataframe tbody tr th {\n",
       "        vertical-align: top;\n",
       "    }\n",
       "\n",
       "    .dataframe thead th {\n",
       "        text-align: right;\n",
       "    }\n",
       "</style>\n",
       "<table border=\"1\" class=\"dataframe\">\n",
       "  <thead>\n",
       "    <tr style=\"text-align: right;\">\n",
       "      <th></th>\n",
       "      <th>Features</th>\n",
       "      <th>Lasso Coef</th>\n",
       "    </tr>\n",
       "  </thead>\n",
       "  <tbody>\n",
       "    <tr>\n",
       "      <th>30</th>\n",
       "      <td>Floors SF</td>\n",
       "      <td>214278.396516</td>\n",
       "    </tr>\n",
       "    <tr>\n",
       "      <th>6</th>\n",
       "      <td>Overall Qual</td>\n",
       "      <td>99627.248859</td>\n",
       "    </tr>\n",
       "    <tr>\n",
       "      <th>70</th>\n",
       "      <td>Neighborhood_StoneBr</td>\n",
       "      <td>60852.470284</td>\n",
       "    </tr>\n",
       "    <tr>\n",
       "      <th>64</th>\n",
       "      <td>Neighborhood_NridgHt</td>\n",
       "      <td>48505.584697</td>\n",
       "    </tr>\n",
       "    <tr>\n",
       "      <th>100</th>\n",
       "      <td>Roof Matl_WdShngl</td>\n",
       "      <td>45415.065374</td>\n",
       "    </tr>\n",
       "    <tr>\n",
       "      <th>63</th>\n",
       "      <td>Neighborhood_NoRidge</td>\n",
       "      <td>37640.051737</td>\n",
       "    </tr>\n",
       "    <tr>\n",
       "      <th>19</th>\n",
       "      <td>Kitchen Qual</td>\n",
       "      <td>35438.139276</td>\n",
       "    </tr>\n",
       "    <tr>\n",
       "      <th>23</th>\n",
       "      <td>Garage Area</td>\n",
       "      <td>33124.045604</td>\n",
       "    </tr>\n",
       "    <tr>\n",
       "      <th>8</th>\n",
       "      <td>Mas Vnr Area</td>\n",
       "      <td>32951.074973</td>\n",
       "    </tr>\n",
       "    <tr>\n",
       "      <th>31</th>\n",
       "      <td>Size of Porch</td>\n",
       "      <td>26732.879657</td>\n",
       "    </tr>\n",
       "  </tbody>\n",
       "</table>\n",
       "</div>"
      ],
      "text/plain": [
       "                 Features     Lasso Coef\n",
       "30              Floors SF  214278.396516\n",
       "6            Overall Qual   99627.248859\n",
       "70   Neighborhood_StoneBr   60852.470284\n",
       "64   Neighborhood_NridgHt   48505.584697\n",
       "100     Roof Matl_WdShngl   45415.065374\n",
       "63   Neighborhood_NoRidge   37640.051737\n",
       "19           Kitchen Qual   35438.139276\n",
       "23            Garage Area   33124.045604\n",
       "8            Mas Vnr Area   32951.074973\n",
       "31          Size of Porch   26732.879657"
      ]
     },
     "execution_count": 41,
     "metadata": {},
     "output_type": "execute_result"
    }
   ],
   "source": [
    "# Top 10 strongest positively correlated features\n",
    "out_arr = pd.Series(lasso_cv.coef_, index = house_train_combined.columns).to_frame()\n",
    "out_arr.reset_index(inplace=True)\n",
    "out_arr = out_arr.rename(columns={'index': 'Features', 0: 'Lasso Coef'})\n",
    "out_arr.sort_values(by='Lasso Coef', ascending= False).head(10)"
   ]
  },
  {
   "cell_type": "code",
   "execution_count": 42,
   "id": "7e06d461-a547-47d3-b904-ce79bae0856f",
   "metadata": {},
   "outputs": [
    {
     "data": {
      "text/html": [
       "<div>\n",
       "<style scoped>\n",
       "    .dataframe tbody tr th:only-of-type {\n",
       "        vertical-align: middle;\n",
       "    }\n",
       "\n",
       "    .dataframe tbody tr th {\n",
       "        vertical-align: top;\n",
       "    }\n",
       "\n",
       "    .dataframe thead th {\n",
       "        text-align: right;\n",
       "    }\n",
       "</style>\n",
       "<table border=\"1\" class=\"dataframe\">\n",
       "  <thead>\n",
       "    <tr style=\"text-align: right;\">\n",
       "      <th></th>\n",
       "      <th>Features</th>\n",
       "      <th>Lasso Coef</th>\n",
       "    </tr>\n",
       "  </thead>\n",
       "  <tbody>\n",
       "    <tr>\n",
       "      <th>104</th>\n",
       "      <td>Exterior 1st_Stucco</td>\n",
       "      <td>-10257.562759</td>\n",
       "    </tr>\n",
       "    <tr>\n",
       "      <th>55</th>\n",
       "      <td>Neighborhood_Edwards</td>\n",
       "      <td>-15069.074549</td>\n",
       "    </tr>\n",
       "    <tr>\n",
       "      <th>85</th>\n",
       "      <td>Bldg Type_Twnhs</td>\n",
       "      <td>-23173.668683</td>\n",
       "    </tr>\n",
       "    <tr>\n",
       "      <th>28</th>\n",
       "      <td>Age</td>\n",
       "      <td>-24250.593483</td>\n",
       "    </tr>\n",
       "    <tr>\n",
       "      <th>86</th>\n",
       "      <td>Bldg Type_TwnhsE</td>\n",
       "      <td>-26292.253098</td>\n",
       "    </tr>\n",
       "  </tbody>\n",
       "</table>\n",
       "</div>"
      ],
      "text/plain": [
       "                 Features    Lasso Coef\n",
       "104   Exterior 1st_Stucco -10257.562759\n",
       "55   Neighborhood_Edwards -15069.074549\n",
       "85        Bldg Type_Twnhs -23173.668683\n",
       "28                    Age -24250.593483\n",
       "86       Bldg Type_TwnhsE -26292.253098"
      ]
     },
     "execution_count": 42,
     "metadata": {},
     "output_type": "execute_result"
    }
   ],
   "source": [
    "# Bot 5 strongest negatively correlated features\n",
    "out_arr.sort_values(by='Lasso Coef', ascending= False).tail()"
   ]
  },
  {
   "cell_type": "code",
   "execution_count": 50,
   "id": "298a1f5f-d74e-4ef2-887b-b4406013dd3b",
   "metadata": {},
   "outputs": [
    {
     "name": "stdout",
     "output_type": "stream",
     "text": [
      "Number of Features: 146\n"
     ]
    }
   ],
   "source": [
    "print(f'Number of Features: {lasso_cv.n_features_in_}')"
   ]
  },
  {
   "cell_type": "code",
   "execution_count": 43,
   "id": "e4239ac6-d816-47d8-9208-7aa4ca1a6cf5",
   "metadata": {},
   "outputs": [
    {
     "name": "stdout",
     "output_type": "stream",
     "text": [
      "Total Features Used: 70\n"
     ]
    }
   ],
   "source": [
    "print(f'Total Features Used: {lasso_cv.n_features_in_ - len(out_arr[out_arr[\"Lasso Coef\"] != 0])}')"
   ]
  },
  {
   "cell_type": "markdown",
   "id": "156ca75a-43fc-4010-9ffe-7284f0d731f7",
   "metadata": {},
   "source": [
    "### Evaluation\n",
    "\n",
    "1. A total of 70 features are being used by the best model. 76 features have been removed.\n",
    "2. The above are the top 10 and bottom 5 features with the strongest positive and negative Lasso coefficients with the target variable. Based on the result, there are more features with strong Lasso coefficients.\n",
    "3. Floor Square Feet is the feature with the strongest coefficient, followed by Overall Quality. Other features related to size and quality are kitchen quality, garage area, masonry veneer area and porch size. \n",
    "4. Apart from size and quality, location also matters. There are also very strong features concerning the neighbourhood that the houses are in, namely Stone Brook, Northridge Heights and Northridge. Interestingly, Edwards is a place with negative correlation with sale price. Further research might be useful to find out about these places.\n",
    "5. As expected, age of the house has an inverse relationship with sale price of houses.\n",
    "6. Apart from age of house and the Edwards neighbour, other strong negative predictors of sale price are exterior made of Stucco and building types such as townhouse end unit and townhouse inside unit."
   ]
  },
  {
   "cell_type": "markdown",
   "id": "84306dbf-5a67-43a0-8207-27a112390c93",
   "metadata": {},
   "source": [
    "## 6. Kaggle Submission"
   ]
  },
  {
   "cell_type": "code",
   "execution_count": 44,
   "id": "bb10307f-f939-47ed-905a-355f33a7f9dd",
   "metadata": {},
   "outputs": [],
   "source": [
    "# Preparing data for Kaggle Submission\n",
    "kaggle_data = house_test_cleaned\n",
    "kaggle_data = mm.fit_transform(kaggle_data)"
   ]
  },
  {
   "cell_type": "code",
   "execution_count": 45,
   "id": "755c19e9-20b3-405b-9f60-173b506bc701",
   "metadata": {},
   "outputs": [],
   "source": [
    "kaggle_pred = lasso_cv.predict(kaggle_data)"
   ]
  },
  {
   "cell_type": "code",
   "execution_count": 46,
   "id": "6adb39f5-c8cd-4169-9643-c871bcd07395",
   "metadata": {},
   "outputs": [],
   "source": [
    "kaggle_pred  = pd.Series(kaggle_pred, name=\"SalePrice\")"
   ]
  },
  {
   "cell_type": "code",
   "execution_count": 47,
   "id": "5fee91be-d3e6-499e-a2c8-09162a2e1f80",
   "metadata": {},
   "outputs": [],
   "source": [
    "id_col = house_test['Id']\n",
    "kaggle = pd.concat([id_col, kaggle_pred], axis=1)\n",
    "kaggle = pd.DataFrame(kaggle)"
   ]
  },
  {
   "cell_type": "code",
   "execution_count": 48,
   "id": "f37ffdbf-091a-4a8e-b6fa-1fe06f36262b",
   "metadata": {},
   "outputs": [],
   "source": [
    "# Exporting the data for kaggle submission\n",
    "kaggle.to_csv(\"datasets/kaggle_lasso.csv\", index = False)"
   ]
  },
  {
   "cell_type": "markdown",
   "id": "3c246afa-39b8-4a80-8daf-1918411daf38",
   "metadata": {},
   "source": [
    "##### Final Kaggle Private RMSE Score: 25190\n",
    "##### Final Kaggle Public RMSE Score: 31440"
   ]
  },
  {
   "cell_type": "markdown",
   "id": "53c576b6-41aa-41e5-ac11-2c21e0a02859",
   "metadata": {},
   "source": [
    "### Evaluation of Kaggle Score\n",
    "1. The private score is ranked 49th in the scoring chart.\n",
    "2. The public score is ranked 53rd in the scoring chart.\n",
    "3. The result leaves room for improvement. I will consider some ways to further improve the score under conclusion."
   ]
  },
  {
   "cell_type": "markdown",
   "id": "24add7aa-c528-4ea0-8f4b-304ba90825aa",
   "metadata": {},
   "source": [
    "## 7. Conclusion"
   ]
  },
  {
   "cell_type": "markdown",
   "id": "7f196790-607b-4624-a251-fa4638b58c45",
   "metadata": {},
   "source": [
    "### 7.1 Possible Areas for Improvement\n",
    "\n",
    "Broadly speaking, regression analysis can always be improved by using more data. However, given the context of our best regression model, there is underfitting. Hence, to improve the results, there is room for the regression increase in complexity. This can be achieved by using a more complex regression model or simply creating more complex features. One possibility is to use the polynomial feature engineering to create more sophisticated features for regression analysis. Another possiblity is also to harness the power of lasso and ridge regression more. A personal learning point in the course of the analysis is that methods of dropping features, such as statistical significant of features with targeted variable and multi-colinearity between features, might not always improve the result of regression. "
   ]
  },
  {
   "cell_type": "markdown",
   "id": "c39d5b81-bd0f-4e41-b7cb-ed929162a753",
   "metadata": {},
   "source": [
    "### 7.2 Limitation\n",
    "\n",
    "The analysis has the following limitations: \n",
    "1. Outdated dataset from 2006-2010.\n",
    "2. Data limited to the City of Ames, Iowa. Hence, data cannot be generalised.\n",
    "3. Data limited to micro factors. Other macro factors such as bank interest rate, demographics of population, population growth, Gross Domestic Product (GDP) of nation/ state, crime rate, government policy etc. should be taken into consideration to make the analysis more robust and holistic.\n",
    "\n",
    "Nevertheless, as indicated under the problem statement and background, the project aims to analysis the best predictors for Ames during the period of The Great Recession. With a looming recession in view, this project hopes that the findings would be especially useful for prediction during the period even though this will require further research on the extent of its relevance."
   ]
  },
  {
   "cell_type": "markdown",
   "id": "0c00d4d5-619d-41e0-9139-d6a65737ce17",
   "metadata": {},
   "source": [
    "### 7.3 Summary\n",
    "\n",
    "In summary, this project wants to identify the best predictors of house prices through extensive linear regression modeling. This first requires the project to first produce a helpful regression model. The project settles on a best model using the lasso regression. The following are the features that are considered the best predictors of house prices: -\n",
    "\n",
    "1. Size (Floor*, Garage*, Masonry Veneer*, Porch*)\n",
    "2. Quality (Overall*, Kitchen*)\n",
    "3. Age of House^\n",
    "4. Neighbourhood (Stone Brook*, Northridge Heights*, Northridge*, Edwards^)\n",
    "5. Building Type (Townhouse End Unit^, Townhouse Inside Unit^)\n",
    "6. Roof Material (Wood Shingles*)\n",
    "7. Exterior of House (Stucco^)\n",
    "\n",
    "Note: Strong positive relationship predictors*, Strong negative relationship predictors^"
   ]
  }
 ],
 "metadata": {
  "kernelspec": {
   "display_name": "Python 3 (ipykernel)",
   "language": "python",
   "name": "python3"
  },
  "language_info": {
   "codemirror_mode": {
    "name": "ipython",
    "version": 3
   },
   "file_extension": ".py",
   "mimetype": "text/x-python",
   "name": "python",
   "nbconvert_exporter": "python",
   "pygments_lexer": "ipython3",
   "version": "3.8.13"
  }
 },
 "nbformat": 4,
 "nbformat_minor": 5
}
