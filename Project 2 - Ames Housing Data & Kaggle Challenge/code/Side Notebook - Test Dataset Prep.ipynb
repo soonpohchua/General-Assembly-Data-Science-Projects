{
 "cells": [
  {
   "cell_type": "markdown",
   "id": "39e0b27a-abc2-4f5e-ac6d-7fbffd10a3e6",
   "metadata": {},
   "source": [
    "<img src=\"http://imgur.com/1ZcRyrc.png\" style=\"float: left; margin: 20px; height: 55px\">\n",
    "\n",
    "# Project 2: Ames Housing Data & Kaggle Challenge"
   ]
  },
  {
   "cell_type": "markdown",
   "id": "8894674a-82e9-4efe-952c-e685b167e4aa",
   "metadata": {},
   "source": [
    "Note: This is a side notebook of the main notebooks covering the following for test dataset:-\n",
    "1. [Importing Data](#1.-Importing-Data)\n",
    "2. [Checking for Duplicated Rows](#2.-Checking-for-Duplicated-Rows)\n",
    "3. [Checking for Null Values](#3.-Checking-for-Null-Values)\n",
    "4. [Examining & Streamlining of Variables](#4.-Examining-&-Streamlining-of-Variables)\n",
    "5. [Treatment of Variables](#5.-Treatment-of-Variables)\n",
    "6. [Feature Engineering](#6.-Feature-Engineering)"
   ]
  },
  {
   "cell_type": "markdown",
   "id": "30e82627-3f14-4ce0-9893-922ab68cd9bf",
   "metadata": {},
   "source": [
    "## Side Notebook: Preparation of Test Dataset"
   ]
  },
  {
   "cell_type": "markdown",
   "id": "e3fd7183-786e-40bc-889c-ebcac34baeec",
   "metadata": {},
   "source": [
    "For the purpose of Kaggle prediction and fairness, the test dataset will not be analysed in details. \n",
    "\n",
    "Any changes made will mirror the main notebook under the sections (found in Part I): -\n",
    "\n",
    "1. Data Cleaning & Exploratory Data Analysis\n",
    "2. Feature Engineering\n",
    "\n",
    "Additional and deletion of columns applied for the train dataset shall be applied in the test dataset."
   ]
  },
  {
   "cell_type": "markdown",
   "id": "26fb77d7-9dd9-4c6d-9b91-d7452995783b",
   "metadata": {},
   "source": [
    "An overview of the dataset is provided in the table below :-"
   ]
  },
  {
   "cell_type": "markdown",
   "id": "c2e5a00d-95c3-4d6e-8eaa-eb6b28a03529",
   "metadata": {},
   "source": [
    "| Index | Continuous | Discrete | Ordinal | Nominal\n",
    "|:---:|:---:|:---:|:---:|:---:|\n",
    "| 1 | Lot Frontage | *Age |  Street  | MS SubClass |\n",
    "| 2 | Lot Area | *Bsmt Bath | Alley  | MS Zoning |\n",
    "| 3 | Mas Vnr Area | *Bath | Lot Shape | Land Contour |\n",
    "| 4 | Total Bsmt SF | Bedroom AbvGr | Utilities | Lot Config |\n",
    "| 5 | Bsmt Unf SF | Kitchen AbvGr | Land Slope | Neighborhood |\n",
    "| 6 | *BsmtFin Area | TotRms AbvGrd | Overall Qual | Condition 1 |\n",
    "| 7 | *Floors SF | Fireplaces | Overall Cond | Condition 2 |\n",
    "| 8 | Low Qual Fin SF | Garage Yr Blt | Exter Qual | Bldg Type |\n",
    "| 9 | Gr Liv Area | Garage Cars | Exter Cond | House Style |\n",
    "| 10 | Garage Area | Mo Sold | Bsmt Qual | Roof Style |\n",
    "| 11 | Wood Deck SF | --- | Bsmt Cond | Roof Matl |\n",
    "| 12 | *Size of Porch | --- | Bsmt Exposure | Exterior 1st |\n",
    "| 13 | Pool Area | --- | BsmtFin Type 1 | Exterior 2nd |\n",
    "| 14 | Misc Val | --- | BsmtFin Type 2 | Mas Vnr Type |\n",
    "| 15 | --- | --- | Electrical | Foundation |\n",
    "| 16 | --- | --- | Heating QC | Heating |\n",
    "| 17 | --- | --- | Kitchen Qual | Central Air |\n",
    "| 18 | --- | --- | Functional | Garage Type |\n",
    "| 19 | --- | --- | Fireplace Qu | Misc Feature |\n",
    "| 20 | --- | --- | Garage Finish | Sale Type |\n",
    "| 21 | --- | --- | Garage Qual | Yr Sold  |\n",
    "| 22 | --- | --- | Garage Cond | --- |\n",
    "| 23 | --- | --- | Paved Drive | --- |\n",
    "| 24 | --- | --- | Pool QC | --- |\n",
    "| 25 | --- | --- | Fence | --- |"
   ]
  },
  {
   "cell_type": "markdown",
   "id": "41456c76-7592-4ac8-a1d1-3314f2db4aef",
   "metadata": {},
   "source": [
    "Note: *Created variables"
   ]
  },
  {
   "cell_type": "markdown",
   "id": "2004f56b-7262-4abe-aa81-83a1ca1576f4",
   "metadata": {},
   "source": [
    "### 1. Importing Data"
   ]
  },
  {
   "cell_type": "code",
   "execution_count": 1,
   "id": "ca2044cc-7180-4dab-9499-dd879aed7c07",
   "metadata": {},
   "outputs": [],
   "source": [
    "import numpy as np\n",
    "import pandas as pd"
   ]
  },
  {
   "cell_type": "code",
   "execution_count": 2,
   "id": "e41b1e50-c064-4a63-b118-3810d8308e5f",
   "metadata": {},
   "outputs": [],
   "source": [
    "house_test = pd.read_csv('./datasets/test.csv')"
   ]
  },
  {
   "cell_type": "code",
   "execution_count": 3,
   "id": "bc4374af-9e8a-4bc0-ba0e-ffacceb3ff61",
   "metadata": {},
   "outputs": [
    {
     "name": "stdout",
     "output_type": "stream",
     "text": [
      "<class 'pandas.core.frame.DataFrame'>\n",
      "RangeIndex: 878 entries, 0 to 877\n",
      "Data columns (total 80 columns):\n",
      " #   Column           Non-Null Count  Dtype  \n",
      "---  ------           --------------  -----  \n",
      " 0   Id               878 non-null    int64  \n",
      " 1   PID              878 non-null    int64  \n",
      " 2   MS SubClass      878 non-null    int64  \n",
      " 3   MS Zoning        878 non-null    object \n",
      " 4   Lot Frontage     718 non-null    float64\n",
      " 5   Lot Area         878 non-null    int64  \n",
      " 6   Street           878 non-null    object \n",
      " 7   Alley            58 non-null     object \n",
      " 8   Lot Shape        878 non-null    object \n",
      " 9   Land Contour     878 non-null    object \n",
      " 10  Utilities        878 non-null    object \n",
      " 11  Lot Config       878 non-null    object \n",
      " 12  Land Slope       878 non-null    object \n",
      " 13  Neighborhood     878 non-null    object \n",
      " 14  Condition 1      878 non-null    object \n",
      " 15  Condition 2      878 non-null    object \n",
      " 16  Bldg Type        878 non-null    object \n",
      " 17  House Style      878 non-null    object \n",
      " 18  Overall Qual     878 non-null    int64  \n",
      " 19  Overall Cond     878 non-null    int64  \n",
      " 20  Year Built       878 non-null    int64  \n",
      " 21  Year Remod/Add   878 non-null    int64  \n",
      " 22  Roof Style       878 non-null    object \n",
      " 23  Roof Matl        878 non-null    object \n",
      " 24  Exterior 1st     878 non-null    object \n",
      " 25  Exterior 2nd     878 non-null    object \n",
      " 26  Mas Vnr Type     877 non-null    object \n",
      " 27  Mas Vnr Area     877 non-null    float64\n",
      " 28  Exter Qual       878 non-null    object \n",
      " 29  Exter Cond       878 non-null    object \n",
      " 30  Foundation       878 non-null    object \n",
      " 31  Bsmt Qual        853 non-null    object \n",
      " 32  Bsmt Cond        853 non-null    object \n",
      " 33  Bsmt Exposure    853 non-null    object \n",
      " 34  BsmtFin Type 1   853 non-null    object \n",
      " 35  BsmtFin SF 1     878 non-null    int64  \n",
      " 36  BsmtFin Type 2   853 non-null    object \n",
      " 37  BsmtFin SF 2     878 non-null    int64  \n",
      " 38  Bsmt Unf SF      878 non-null    int64  \n",
      " 39  Total Bsmt SF    878 non-null    int64  \n",
      " 40  Heating          878 non-null    object \n",
      " 41  Heating QC       878 non-null    object \n",
      " 42  Central Air      878 non-null    object \n",
      " 43  Electrical       877 non-null    object \n",
      " 44  1st Flr SF       878 non-null    int64  \n",
      " 45  2nd Flr SF       878 non-null    int64  \n",
      " 46  Low Qual Fin SF  878 non-null    int64  \n",
      " 47  Gr Liv Area      878 non-null    int64  \n",
      " 48  Bsmt Full Bath   878 non-null    int64  \n",
      " 49  Bsmt Half Bath   878 non-null    int64  \n",
      " 50  Full Bath        878 non-null    int64  \n",
      " 51  Half Bath        878 non-null    int64  \n",
      " 52  Bedroom AbvGr    878 non-null    int64  \n",
      " 53  Kitchen AbvGr    878 non-null    int64  \n",
      " 54  Kitchen Qual     878 non-null    object \n",
      " 55  TotRms AbvGrd    878 non-null    int64  \n",
      " 56  Functional       878 non-null    object \n",
      " 57  Fireplaces       878 non-null    int64  \n",
      " 58  Fireplace Qu     456 non-null    object \n",
      " 59  Garage Type      834 non-null    object \n",
      " 60  Garage Yr Blt    833 non-null    float64\n",
      " 61  Garage Finish    833 non-null    object \n",
      " 62  Garage Cars      878 non-null    int64  \n",
      " 63  Garage Area      878 non-null    int64  \n",
      " 64  Garage Qual      833 non-null    object \n",
      " 65  Garage Cond      833 non-null    object \n",
      " 66  Paved Drive      878 non-null    object \n",
      " 67  Wood Deck SF     878 non-null    int64  \n",
      " 68  Open Porch SF    878 non-null    int64  \n",
      " 69  Enclosed Porch   878 non-null    int64  \n",
      " 70  3Ssn Porch       878 non-null    int64  \n",
      " 71  Screen Porch     878 non-null    int64  \n",
      " 72  Pool Area        878 non-null    int64  \n",
      " 73  Pool QC          4 non-null      object \n",
      " 74  Fence            172 non-null    object \n",
      " 75  Misc Feature     41 non-null     object \n",
      " 76  Misc Val         878 non-null    int64  \n",
      " 77  Mo Sold          878 non-null    int64  \n",
      " 78  Yr Sold          878 non-null    int64  \n",
      " 79  Sale Type        878 non-null    object \n",
      "dtypes: float64(3), int64(35), object(42)\n",
      "memory usage: 548.9+ KB\n"
     ]
    }
   ],
   "source": [
    "# There are 81 columns and 878 rows\n",
    "# There are missing data like the training dataset\n",
    "house_test.info()"
   ]
  },
  {
   "cell_type": "markdown",
   "id": "94b9ae40-dd17-45d7-808e-0f9cd64b5574",
   "metadata": {},
   "source": [
    "### 2. Checking for Duplicated Rows"
   ]
  },
  {
   "cell_type": "code",
   "execution_count": 4,
   "id": "37f0423e-f52c-4ad7-aca1-b38bf5ac122b",
   "metadata": {},
   "outputs": [
    {
     "data": {
      "text/plain": [
       "False    878\n",
       "dtype: int64"
      ]
     },
     "execution_count": 4,
     "metadata": {},
     "output_type": "execute_result"
    }
   ],
   "source": [
    "# No duplicates like the training dataset\n",
    "house_test.duplicated().value_counts()"
   ]
  },
  {
   "cell_type": "markdown",
   "id": "224543d8-2cd0-460e-9684-041c7c2d1c53",
   "metadata": {},
   "source": [
    "### 3. Checking for Null Values"
   ]
  },
  {
   "cell_type": "code",
   "execution_count": 5,
   "id": "7bee7d63-586b-47d7-afcf-90c45d22e486",
   "metadata": {},
   "outputs": [
    {
     "name": "stdout",
     "output_type": "stream",
     "text": [
      "There are 19 columns with missing values.\n",
      "\n"
     ]
    },
    {
     "data": {
      "text/html": [
       "<div>\n",
       "<style scoped>\n",
       "    .dataframe tbody tr th:only-of-type {\n",
       "        vertical-align: middle;\n",
       "    }\n",
       "\n",
       "    .dataframe tbody tr th {\n",
       "        vertical-align: top;\n",
       "    }\n",
       "\n",
       "    .dataframe thead th {\n",
       "        text-align: right;\n",
       "    }\n",
       "</style>\n",
       "<table border=\"1\" class=\"dataframe\">\n",
       "  <thead>\n",
       "    <tr style=\"text-align: right;\">\n",
       "      <th></th>\n",
       "      <th>col</th>\n",
       "      <th>num_nulls</th>\n",
       "      <th>%nulls</th>\n",
       "    </tr>\n",
       "  </thead>\n",
       "  <tbody>\n",
       "    <tr>\n",
       "      <th>73</th>\n",
       "      <td>Pool QC</td>\n",
       "      <td>874</td>\n",
       "      <td>99.544419</td>\n",
       "    </tr>\n",
       "    <tr>\n",
       "      <th>75</th>\n",
       "      <td>Misc Feature</td>\n",
       "      <td>837</td>\n",
       "      <td>95.330296</td>\n",
       "    </tr>\n",
       "    <tr>\n",
       "      <th>7</th>\n",
       "      <td>Alley</td>\n",
       "      <td>820</td>\n",
       "      <td>93.394077</td>\n",
       "    </tr>\n",
       "    <tr>\n",
       "      <th>74</th>\n",
       "      <td>Fence</td>\n",
       "      <td>706</td>\n",
       "      <td>80.410023</td>\n",
       "    </tr>\n",
       "    <tr>\n",
       "      <th>58</th>\n",
       "      <td>Fireplace Qu</td>\n",
       "      <td>422</td>\n",
       "      <td>48.063781</td>\n",
       "    </tr>\n",
       "    <tr>\n",
       "      <th>4</th>\n",
       "      <td>Lot Frontage</td>\n",
       "      <td>160</td>\n",
       "      <td>18.223235</td>\n",
       "    </tr>\n",
       "    <tr>\n",
       "      <th>60</th>\n",
       "      <td>Garage Yr Blt</td>\n",
       "      <td>45</td>\n",
       "      <td>5.125285</td>\n",
       "    </tr>\n",
       "    <tr>\n",
       "      <th>61</th>\n",
       "      <td>Garage Finish</td>\n",
       "      <td>45</td>\n",
       "      <td>5.125285</td>\n",
       "    </tr>\n",
       "    <tr>\n",
       "      <th>64</th>\n",
       "      <td>Garage Qual</td>\n",
       "      <td>45</td>\n",
       "      <td>5.125285</td>\n",
       "    </tr>\n",
       "    <tr>\n",
       "      <th>65</th>\n",
       "      <td>Garage Cond</td>\n",
       "      <td>45</td>\n",
       "      <td>5.125285</td>\n",
       "    </tr>\n",
       "    <tr>\n",
       "      <th>59</th>\n",
       "      <td>Garage Type</td>\n",
       "      <td>44</td>\n",
       "      <td>5.011390</td>\n",
       "    </tr>\n",
       "    <tr>\n",
       "      <th>33</th>\n",
       "      <td>Bsmt Exposure</td>\n",
       "      <td>25</td>\n",
       "      <td>2.847380</td>\n",
       "    </tr>\n",
       "    <tr>\n",
       "      <th>34</th>\n",
       "      <td>BsmtFin Type 1</td>\n",
       "      <td>25</td>\n",
       "      <td>2.847380</td>\n",
       "    </tr>\n",
       "    <tr>\n",
       "      <th>36</th>\n",
       "      <td>BsmtFin Type 2</td>\n",
       "      <td>25</td>\n",
       "      <td>2.847380</td>\n",
       "    </tr>\n",
       "    <tr>\n",
       "      <th>32</th>\n",
       "      <td>Bsmt Cond</td>\n",
       "      <td>25</td>\n",
       "      <td>2.847380</td>\n",
       "    </tr>\n",
       "    <tr>\n",
       "      <th>31</th>\n",
       "      <td>Bsmt Qual</td>\n",
       "      <td>25</td>\n",
       "      <td>2.847380</td>\n",
       "    </tr>\n",
       "    <tr>\n",
       "      <th>27</th>\n",
       "      <td>Mas Vnr Area</td>\n",
       "      <td>1</td>\n",
       "      <td>0.113895</td>\n",
       "    </tr>\n",
       "    <tr>\n",
       "      <th>26</th>\n",
       "      <td>Mas Vnr Type</td>\n",
       "      <td>1</td>\n",
       "      <td>0.113895</td>\n",
       "    </tr>\n",
       "    <tr>\n",
       "      <th>43</th>\n",
       "      <td>Electrical</td>\n",
       "      <td>1</td>\n",
       "      <td>0.113895</td>\n",
       "    </tr>\n",
       "  </tbody>\n",
       "</table>\n",
       "</div>"
      ],
      "text/plain": [
       "               col  num_nulls     %nulls\n",
       "73         Pool QC        874  99.544419\n",
       "75    Misc Feature        837  95.330296\n",
       "7            Alley        820  93.394077\n",
       "74           Fence        706  80.410023\n",
       "58    Fireplace Qu        422  48.063781\n",
       "4     Lot Frontage        160  18.223235\n",
       "60   Garage Yr Blt         45   5.125285\n",
       "61   Garage Finish         45   5.125285\n",
       "64     Garage Qual         45   5.125285\n",
       "65     Garage Cond         45   5.125285\n",
       "59     Garage Type         44   5.011390\n",
       "33   Bsmt Exposure         25   2.847380\n",
       "34  BsmtFin Type 1         25   2.847380\n",
       "36  BsmtFin Type 2         25   2.847380\n",
       "32       Bsmt Cond         25   2.847380\n",
       "31       Bsmt Qual         25   2.847380\n",
       "27    Mas Vnr Area          1   0.113895\n",
       "26    Mas Vnr Type          1   0.113895\n",
       "43      Electrical          1   0.113895"
      ]
     },
     "execution_count": 5,
     "metadata": {},
     "output_type": "execute_result"
    }
   ],
   "source": [
    "# Showing all the columns with null values\n",
    "pd.DataFrame(house_test.isna().sum())\n",
    "pd.DataFrame(house_test.isna().sum()).reset_index()\n",
    "missing_df = pd.DataFrame(house_test.isna().sum()).reset_index()\n",
    "missing_df.columns = ['col', 'num_nulls'] \n",
    "missing_df['%nulls'] = missing_df['num_nulls']*100/len(house_test)\n",
    "missing_df = missing_df[missing_df['num_nulls']>0].sort_values(by=[\"%nulls\"], ascending=False)\n",
    "print(f'There are {len(missing_df)} columns with missing values.')\n",
    "print('')\n",
    "missing_df"
   ]
  },
  {
   "cell_type": "code",
   "execution_count": 6,
   "id": "ba0fa7c3-47a5-41bf-a745-abdd7193d48c",
   "metadata": {},
   "outputs": [],
   "source": [
    "# Imputing value 0 to all missing values as per training dataset\n",
    "house_test.loc[:, \"Pool QC\"] = house_test.loc[:, \"Pool QC\"].fillna(0)\n",
    "house_test.loc[:, \"Misc Feature\"] = house_test.loc[:, \"Misc Feature\"].fillna(0)\n",
    "house_test.loc[:, \"Alley\"] = house_test.loc[:, \"Alley\"].fillna(0)\n",
    "house_test.loc[:, \"Fence\"] = house_test.loc[:, \"Fence\"].fillna(0)\n",
    "house_test.loc[:, \"Fireplace Qu\"] = house_test.loc[:, \"Fireplace Qu\"].fillna(0)\n",
    "house_test.loc[:, \"Lot Frontage\"] = house_test.loc[:, \"Lot Frontage\"].fillna(0)\n",
    "house_test.loc[:, \"Garage Yr Blt\"] = house_test.loc[:, \"Garage Yr Blt\"].fillna(0)\n",
    "house_test.loc[:, \"Garage Cond\"] = house_test.loc[:, \"Garage Cond\"].fillna(0)\n",
    "house_test.loc[:, \"Garage Qual\"] = house_test.loc[:, \"Garage Qual\"].fillna(0)\n",
    "house_test.loc[:, \"Garage Finish\"] = house_test.loc[:, \"Garage Finish\"].fillna(0)\n",
    "house_test.loc[:, \"Garage Type\"] = house_test.loc[:, \"Garage Type\"].fillna(0)\n",
    "house_test.loc[:, \"Bsmt Exposure\"] = house_test.loc[:, \"Bsmt Exposure\"].fillna(0)\n",
    "house_test.loc[:, \"BsmtFin Type 1\"] = house_test.loc[:, \"BsmtFin Type 1\"].fillna(0)\n",
    "house_test.loc[:, \"BsmtFin Type 2\"] = house_test.loc[:, \"BsmtFin Type 2\"].fillna(0)\n",
    "house_test.loc[:, \"Bsmt Qual\"] = house_test.loc[:, \"Bsmt Qual\"].fillna(0)\n",
    "house_test.loc[:, \"Bsmt Cond\"] = house_test.loc[:, \"Bsmt Cond\"].fillna(0)\n",
    "house_test.loc[:, \"Mas Vnr Type\"] = house_test.loc[:, \"Mas Vnr Type\"].fillna(0)\n",
    "house_test.loc[:, \"Mas Vnr Area\"] = house_test.loc[:, \"Mas Vnr Area\"].fillna(0)\n",
    "house_test.loc[:, \"Bsmt Half Bath\"] = house_test.loc[:, \"Bsmt Half Bath\"].fillna(0)\n",
    "house_test.loc[:, \"Bsmt Full Bath\"] = house_test.loc[:, \"Bsmt Full Bath\"].fillna(0)\n",
    "house_test.loc[:, \"Total Bsmt SF\"] = house_test.loc[:, \"Total Bsmt SF\"].fillna(0)\n",
    "house_test.loc[:, \"Bsmt Unf SF\"] = house_test.loc[:, \"Bsmt Unf SF\"].fillna(0)\n",
    "house_test.loc[:, \"BsmtFin SF 1\"] = house_test.loc[:, \"BsmtFin SF 1\"].fillna(0)\n",
    "house_test.loc[:, \"BsmtFin SF 2\"] = house_test.loc[:, \"BsmtFin SF 2\"].fillna(0)\n",
    "house_test.loc[:, \"Garage Cars\"] = house_test.loc[:, \"Garage Cars\"].fillna(0)\n",
    "house_test.loc[:, \"Garage Area\"] = house_test.loc[:, \"Garage Area\"].fillna(0)\n",
    "house_test.loc[:, \"Electrical\"] = house_test.loc[:, \"Electrical\"].fillna(0)"
   ]
  },
  {
   "cell_type": "markdown",
   "id": "5d1da3e1-4472-4ea8-989d-a3cda90d308b",
   "metadata": {},
   "source": [
    "### 4. Examining & Streamlining of Variables"
   ]
  },
  {
   "cell_type": "code",
   "execution_count": 7,
   "id": "45ac50b9-195c-4c45-9e05-0aba8a48eb58",
   "metadata": {},
   "outputs": [
    {
     "name": "stdout",
     "output_type": "stream",
     "text": [
      "Number of Columns Before: 80\n"
     ]
    }
   ],
   "source": [
    "# Following the flow of the training dataset\n",
    "print(f'Number of Columns Before: {house_test.shape[1]}')"
   ]
  },
  {
   "cell_type": "markdown",
   "id": "60b6b44e-3117-40e2-9368-550d4273a372",
   "metadata": {},
   "source": [
    "#### Drop: Observation Number & Parcel Identification Number"
   ]
  },
  {
   "cell_type": "code",
   "execution_count": 8,
   "id": "e8f954f0-252f-4020-96ef-44c1c4d42d48",
   "metadata": {},
   "outputs": [
    {
     "name": "stdout",
     "output_type": "stream",
     "text": [
      "Number of Unique Values from \"ID\" column: 878\n"
     ]
    }
   ],
   "source": [
    "print(f'Number of Unique Values from \"ID\" column: {house_test[\"Id\"].nunique()}')"
   ]
  },
  {
   "cell_type": "code",
   "execution_count": 9,
   "id": "4f5739c0-7050-48cb-8c61-d16af19cc239",
   "metadata": {},
   "outputs": [
    {
     "name": "stdout",
     "output_type": "stream",
     "text": [
      "Number of Unique Values from \"PID\" column: 878\n"
     ]
    }
   ],
   "source": [
    "print(f'Number of Unique Values from \"PID\" column: {house_test[\"PID\"].nunique()}')"
   ]
  },
  {
   "cell_type": "code",
   "execution_count": 10,
   "id": "51700598-648e-4fd6-a9a8-f1b5e446edf7",
   "metadata": {},
   "outputs": [],
   "source": [
    "# As the no. of unique values is the same as the no. of rows in the dataset, the values from both columns are not helpful predictors\n",
    "# Hence, we shall drop them\n",
    "house_test.drop(columns=['Id', 'PID'], inplace=True)"
   ]
  },
  {
   "cell_type": "markdown",
   "id": "eaa82537-b74e-48e8-8de2-66685017fa33",
   "metadata": {},
   "source": [
    "#### Create: Age of House at the Point of Sales"
   ]
  },
  {
   "cell_type": "code",
   "execution_count": 11,
   "id": "42661cad-db45-48af-88d6-2f742ef03f31",
   "metadata": {},
   "outputs": [],
   "source": [
    "# We shall create the age of the house at the point of sales\n",
    "# If the year of remodelling is more recent, we will calculate the age of house from that year instead\n",
    "house_test['Age'] = house_test.apply(lambda x: x['Yr Sold']-x['Year Built'] if (x['Year Built']<x['Year Remod/Add']) \n",
    "                                                           else (x['Yr Sold']-x['Year Remod/Add']), axis=1)"
   ]
  },
  {
   "cell_type": "code",
   "execution_count": 12,
   "id": "3c2e1211-3402-4d35-9e64-c3b811a7c544",
   "metadata": {},
   "outputs": [],
   "source": [
    "# Dropping 'Year Built' and 'Year Remod/Add' columns\n",
    "house_test.drop(columns=['Year Built', 'Year Remod/Add'], inplace=True)"
   ]
  },
  {
   "cell_type": "markdown",
   "id": "38ad1a98-439c-4765-8da6-d9a75f59ca1f",
   "metadata": {},
   "source": [
    "#### Create: Area of Basement"
   ]
  },
  {
   "cell_type": "code",
   "execution_count": 13,
   "id": "457745d5-6884-41fb-b86b-ced2dfe7db1b",
   "metadata": {},
   "outputs": [],
   "source": [
    "# We shall create the total finished Bsmt area of the house\n",
    "house_test['BsmtFin Area'] = house_test['BsmtFin SF 1'] + house_test['BsmtFin SF 2']"
   ]
  },
  {
   "cell_type": "code",
   "execution_count": 14,
   "id": "03f8497c-1005-4c53-a9f3-d6c9e087319c",
   "metadata": {},
   "outputs": [],
   "source": [
    "# Dropping those columns we used for the above calculation\n",
    "house_test.drop(columns=['BsmtFin SF 1', 'BsmtFin SF 2'], inplace=True)"
   ]
  },
  {
   "cell_type": "markdown",
   "id": "16eec162-0721-4181-8b47-1cc8780d18e1",
   "metadata": {},
   "source": [
    "#### Create: Square Feet of Floors"
   ]
  },
  {
   "cell_type": "code",
   "execution_count": 15,
   "id": "dd22a3f8-c342-4745-ae2d-6a8ec230a6e7",
   "metadata": {},
   "outputs": [],
   "source": [
    "# We shall create the total square of all floors \n",
    "# Based on the 'Bldg Type' column, there are only houses with 2 floors at most\n",
    "house_test['Floors SF'] = house_test['1st Flr SF'] + house_test['2nd Flr SF']"
   ]
  },
  {
   "cell_type": "code",
   "execution_count": 16,
   "id": "3a4f0d67-f5d3-4cc1-bef1-b81efca4acc1",
   "metadata": {},
   "outputs": [],
   "source": [
    "# Dropping those columns we used for the above calculation\n",
    "house_test.drop(columns=['1st Flr SF', '2nd Flr SF'], inplace=True)"
   ]
  },
  {
   "cell_type": "markdown",
   "id": "31e81d2c-7b4c-4101-b31f-5fcc83764f9e",
   "metadata": {},
   "source": [
    "#### Create: Size of Porch"
   ]
  },
  {
   "cell_type": "code",
   "execution_count": 17,
   "id": "8d4535ee-a143-4c3d-9edb-ba913fbbf0a8",
   "metadata": {},
   "outputs": [],
   "source": [
    "# We shall create the total size of porch from alll kinds of porches\n",
    "house_test['Size of Porch'] = house_test['Open Porch SF'] + house_test['Enclosed Porch'] + house_test['3Ssn Porch'] + house_test['Screen Porch']"
   ]
  },
  {
   "cell_type": "code",
   "execution_count": 18,
   "id": "1afe5c4d-29ad-4ee5-b877-88edd7f36ee6",
   "metadata": {},
   "outputs": [],
   "source": [
    "# Dropping those columns we used for the above calculation\n",
    "house_test.drop(columns=['Open Porch SF', 'Enclosed Porch', 'Screen Porch', '3Ssn Porch'], inplace=True)"
   ]
  },
  {
   "cell_type": "markdown",
   "id": "047dde12-0070-48db-b5ee-d1d1166c9e7d",
   "metadata": {},
   "source": [
    "#### Create: Number of Bathroom in Bsmt"
   ]
  },
  {
   "cell_type": "code",
   "execution_count": 19,
   "id": "ed6c318a-9c5a-49dc-8d66-a6d7ef3b310e",
   "metadata": {},
   "outputs": [],
   "source": [
    "# We shall create the total number of bathrooms in basement regardless of full bath or half bath\n",
    "house_test['Bsmt Bath'] = house_test['Bsmt Full Bath'] + house_test['Bsmt Half Bath']"
   ]
  },
  {
   "cell_type": "code",
   "execution_count": 20,
   "id": "264985b9-2613-4f17-9b61-952e4362019d",
   "metadata": {},
   "outputs": [],
   "source": [
    "# Dropping those columns we used for the above calculation\n",
    "house_test.drop(columns=['Bsmt Full Bath', 'Bsmt Half Bath'], inplace=True)"
   ]
  },
  {
   "cell_type": "markdown",
   "id": "de60738d-218e-40f3-bd19-daaab5183728",
   "metadata": {},
   "source": [
    "#### Create: Number of Bathroom"
   ]
  },
  {
   "cell_type": "code",
   "execution_count": 21,
   "id": "f512605d-2f8a-4b58-a5e4-e5b8a218d612",
   "metadata": {},
   "outputs": [],
   "source": [
    "# We shall create the total number of bathrooms regardless of full bath or half bath\n",
    "house_test['Bath'] = house_test['Full Bath'] + house_test['Half Bath']"
   ]
  },
  {
   "cell_type": "code",
   "execution_count": 22,
   "id": "14a8e4ec-f7be-442c-a269-fcd7e2e33d81",
   "metadata": {},
   "outputs": [],
   "source": [
    "# Dropping those columns we used for the above calculation\n",
    "house_test.drop(columns=['Full Bath', 'Half Bath'], inplace=True)"
   ]
  },
  {
   "cell_type": "code",
   "execution_count": 23,
   "id": "a274007f-7caf-4a41-99d5-5c9098fd85bf",
   "metadata": {},
   "outputs": [
    {
     "name": "stdout",
     "output_type": "stream",
     "text": [
      "Number of Columns After: 70\n"
     ]
    }
   ],
   "source": [
    "print(f'Number of Columns After: {house_test.shape[1]}')"
   ]
  },
  {
   "cell_type": "markdown",
   "id": "bf14a2be-537c-4fc6-9cf7-02c98354589e",
   "metadata": {},
   "source": [
    "### 5. Treatment of Variables"
   ]
  },
  {
   "cell_type": "markdown",
   "id": "8a171b79-531a-46af-9cc7-64df7ec142a4",
   "metadata": {},
   "source": [
    "#### Continuous & Discrete Variables"
   ]
  },
  {
   "cell_type": "markdown",
   "id": "d5243e36-d0ab-4b66-aea0-7d5bbf95a4b1",
   "metadata": {},
   "source": [
    "Changes are not required for these variables."
   ]
  },
  {
   "cell_type": "markdown",
   "id": "8e9ba906-a206-4840-8019-ece74645f8ec",
   "metadata": {},
   "source": [
    "#### Ordinal Variables"
   ]
  },
  {
   "cell_type": "markdown",
   "id": "68a138c6-c991-4df0-ae54-ecc1d1ff82ae",
   "metadata": {},
   "source": [
    "There are several ordinal variable with similar scaling. For instance, \"Po, Fa, TA, Gd, Ex\". In those instances, I will keep the scaling consistent across such variables."
   ]
  },
  {
   "cell_type": "code",
   "execution_count": 24,
   "id": "672f4f9a-494b-40cc-b960-a13f0bc665c0",
   "metadata": {},
   "outputs": [],
   "source": [
    "# Changing the values for ordinal variables\n",
    "house_test = house_test.replace({\"Street\" : {\"Grvl\" : 1, \"Pave\" : 2},\n",
    "                                   \"Alley\" : {\"Grvl\" : 1, \"Pave\" : 2},\n",
    "                                   \"Lot Shape\" : {\"IR3\" : 1, \"IR2\" : 2, \"IR1\" : 3, \"Reg\" : 4},\n",
    "                                   \"Utilities\" : {\"ELO\" : 1, \"NoSeWa\" : 2, \"NoSewr\" : 3, \"AllPub\" : 4},\n",
    "                                   \"Land Slope\" : {\"Sev\" : 1, \"Mod\" : 2, \"Gtl\" : 3},\n",
    "                                   \"Exter Qual\" : {\"Po\" : 1, \"Fa\" : 2, \"TA\": 3, \"Gd\": 4, \"Ex\" : 5},\n",
    "                                   \"Exter Cond\" : {\"Po\" : 1, \"Fa\" : 2, \"TA\": 3, \"Gd\": 4, \"Ex\" : 5},\n",
    "                                   \"Bsmt Qual\" : {\"Po\" : 1, \"Fa\" : 2, \"TA\": 3, \"Gd\" : 4, \"Ex\" : 5},\n",
    "                                   \"Bsmt Cond\" : {\"Po\" : 1, \"Fa\" : 2, \"TA\" : 3, \"Gd\" : 4, \"Ex\" : 5},\n",
    "                                   \"Bsmt Exposure\" : {\"No\" : 0, \"Mn\" : 1, \"Av\": 2, \"Gd\" : 3},\n",
    "                                   \"BsmtFin Type 1\" : {\"Unf\" : 1, \"LwQ\": 2, \"Rec\" : 3, \"BLQ\" : 4, \"ALQ\" : 5, \"GLQ\" : 6},\n",
    "                                   \"BsmtFin Type 2\" : {\"Unf\" : 1, \"LwQ\": 2, \"Rec\" : 3, \"BLQ\" : 4, \"ALQ\" : 5, \"GLQ\" : 6},\n",
    "                                   \"Electrical\" : {\"Mix\" : 1, \"FuseP\" : 2, \"FuseF\" : 3, \"FuseA\" : 4, \"SBrkr\" : 5},\n",
    "                                   \"Heating QC\" : {\"Po\" : 1, \"Fa\" : 2, \"TA\" : 3, \"Gd\" : 4, \"Ex\" : 5},\n",
    "                                   \"Kitchen Qual\" : {\"Po\" : 1, \"Fa\" : 2, \"TA\" : 3, \"Gd\" : 4, \"Ex\" : 5},\n",
    "                                   \"Fireplace Qu\" : {\"Po\" : 1, \"Fa\" : 2, \"TA\" : 3, \"Gd\" : 4, \"Ex\" : 5},\n",
    "                                   \"Functional\" : {\"Sal\" : 1, \"Sev\" : 2, \"Maj2\" : 3, \"Maj1\" : 4, \"Mod\": 5, \n",
    "                                       \"Min2\" : 6, \"Min1\" : 7, \"Typ\" : 8},\n",
    "                                   \"Garage Finish\" : {\"Unf\" : 1, \"RFn\": 2, \"Fin\" : 3},\n",
    "                                   \"Garage Qual\" : {\"Po\" : 1, \"Fa\" : 2, \"TA\" : 3, \"Gd\" : 4, \"Ex\" : 5},\n",
    "                                   \"Garage Cond\" : {\"Po\" : 1, \"Fa\" : 2, \"TA\" : 3, \"Gd\" : 4, \"Ex\" : 5},\n",
    "                                   \"Paved Drive\" : {\"N\" : 0, \"P\" : 1, \"Y\" : 2},\n",
    "                                   \"Pool QC\" : {\"Fa\" : 2, \"TA\" : 3, \"Gd\" : 4, \"Ex\" : 5},\n",
    "                                   \"Fence\" : {\"MnWw\" : 1, \"GdWo\" : 2, \"MnPrv\" : 3, \"GdPrv\" : 4}}\n",
    "                                 )"
   ]
  },
  {
   "cell_type": "markdown",
   "id": "d4b93bab-4c6c-4feb-a313-de0f201211ad",
   "metadata": {},
   "source": [
    "#### Nominal Variables"
   ]
  },
  {
   "cell_type": "markdown",
   "id": "fa7c606f-117d-4169-a0e7-7718b35a9a29",
   "metadata": {},
   "source": [
    "The key is to ensure that there is no numeric values in these variables in order to do one hot encoding later in the analysis. "
   ]
  },
  {
   "cell_type": "code",
   "execution_count": 25,
   "id": "c8ab183e-e9fa-4dd6-b35b-da10fcb9ab87",
   "metadata": {},
   "outputs": [],
   "source": [
    "house_test = house_test.replace({\"MS SubClass\" : {20 : \"SC20\", 30 : \"SC30\", 40 : \"SC40\", 45 : \"SC45\", \n",
    "                                       50 : \"SC50\", 60 : \"SC60\", 70 : \"SC70\", 75 : \"SC75\", \n",
    "                                       80 : \"SC80\", 85 : \"SC85\", 90 : \"SC90\", 120 : \"SC120\", \n",
    "                                       150 : \"SC150\", 160 : \"SC160\", 180 : \"SC180\", 190 : \"SC190\"},\n",
    "                                   \"Mas Vnr Type\" : {0 : \"None\"}, \n",
    "                                   \"Garage Type\" : {0 : \"None\"}, \n",
    "                                   \"Misc Feature\" : {0 : \"None\"},\n",
    "                                   \"Yr Sold\": {2006: \"2006\", 2007: \"2007\", 2008: \"2008\",\n",
    "                                               2009: \"2009\", 2010: \"2010\"}})"
   ]
  },
  {
   "cell_type": "code",
   "execution_count": 26,
   "id": "921d4a01-f5d2-4934-af95-ec8723cd015d",
   "metadata": {},
   "outputs": [
    {
     "name": "stdout",
     "output_type": "stream",
     "text": [
      "Total number of numeric variables: 49\n",
      "Total number of nominal variables: 21\n"
     ]
    }
   ],
   "source": [
    "# Providing a summary\n",
    "print(f'Total number of numeric variables: {house_test.dtypes.value_counts()[0] + house_test.dtypes.value_counts()[2]}')\n",
    "print(f'Total number of nominal variables: {house_test.dtypes.value_counts()[1]}')"
   ]
  },
  {
   "cell_type": "markdown",
   "id": "6d1ce23c-98f1-4973-9e77-750c57fdc1c8",
   "metadata": {},
   "source": [
    "### 6. Feature Engineering"
   ]
  },
  {
   "cell_type": "markdown",
   "id": "8fbe389e-bde8-4133-aac4-d3631ef05b5f",
   "metadata": {},
   "source": [
    "#### 6.1 Numeric Features"
   ]
  },
  {
   "cell_type": "code",
   "execution_count": 27,
   "id": "507f5bce-6fdf-4dc0-adbb-4ffa1c0b082e",
   "metadata": {},
   "outputs": [],
   "source": [
    "num_house_test = house_test.select_dtypes(include=['int64','float64'])"
   ]
  },
  {
   "cell_type": "code",
   "execution_count": 28,
   "id": "068119aa-ddf3-4971-a2d8-eaddde16da28",
   "metadata": {},
   "outputs": [
    {
     "data": {
      "text/plain": [
       "(878, 49)"
      ]
     },
     "execution_count": 28,
     "metadata": {},
     "output_type": "execute_result"
    }
   ],
   "source": [
    "num_house_test.shape"
   ]
  },
  {
   "cell_type": "code",
   "execution_count": 29,
   "id": "c52d15e9-a65c-4486-8abe-e6158abe28e0",
   "metadata": {},
   "outputs": [],
   "source": [
    "# Dropping the same columns that are not stats sign from pearson correlation test\n",
    "num_house_test.drop(columns=['Utilities', \n",
    "                             'Exter Cond',\n",
    "                             'BsmtFin Type 2',\n",
    "                             'Low Qual Fin SF',\n",
    "                             'Pool Area',\n",
    "                             'Pool QC',\n",
    "                             'Misc Val',\n",
    "                             'Mo Sold'],inplace=True)"
   ]
  },
  {
   "cell_type": "code",
   "execution_count": 30,
   "id": "6be3e51c-a077-4acc-bcdc-ddd5a8b4cff6",
   "metadata": {},
   "outputs": [],
   "source": [
    "# Removing those features that failed the multi-colinearity check for num variables in training dataset\n",
    "num_house_test.drop(columns=['Exter Qual',\n",
    "                         'Gr Liv Area',\n",
    "                         'TotRms AbvGrd',\n",
    "                         'Fireplaces',\n",
    "                         'Garage Yr Blt',\n",
    "                         'Garage Cond',\n",
    "                         'Bath',\n",
    "                         'Garage Cars'],inplace=True)"
   ]
  },
  {
   "cell_type": "code",
   "execution_count": 31,
   "id": "3ea8ce76-1419-4618-b9d3-0616a66d4d63",
   "metadata": {},
   "outputs": [
    {
     "data": {
      "text/plain": [
       "(878, 33)"
      ]
     },
     "execution_count": 31,
     "metadata": {},
     "output_type": "execute_result"
    }
   ],
   "source": [
    "num_house_test.shape"
   ]
  },
  {
   "cell_type": "markdown",
   "id": "6702b04a-ccd5-4984-ab63-f28e25c5194c",
   "metadata": {},
   "source": [
    "#### 6.2 Nominal Features"
   ]
  },
  {
   "cell_type": "code",
   "execution_count": 32,
   "id": "debfd9e9-957d-47c7-894a-baf948d05096",
   "metadata": {},
   "outputs": [],
   "source": [
    "cat_house_test = house_test.select_dtypes(include=['object'])"
   ]
  },
  {
   "cell_type": "code",
   "execution_count": 33,
   "id": "61d2ac1c-ed5d-44ac-8d9f-12e2b56d2ef2",
   "metadata": {},
   "outputs": [],
   "source": [
    "cat_house_test = pd.get_dummies(cat_house_test, drop_first=True)"
   ]
  },
  {
   "cell_type": "code",
   "execution_count": 34,
   "id": "b0afd626-8801-431f-9b7d-a945dde2ecba",
   "metadata": {},
   "outputs": [
    {
     "data": {
      "text/plain": [
       "(878, 144)"
      ]
     },
     "execution_count": 34,
     "metadata": {},
     "output_type": "execute_result"
    }
   ],
   "source": [
    "cat_house_test.shape"
   ]
  },
  {
   "cell_type": "code",
   "execution_count": 35,
   "id": "0bbec153-4030-4cd1-960e-bce3af5b4c26",
   "metadata": {},
   "outputs": [],
   "source": [
    "# Dropping the features with strong +ve correlation\n",
    "cat_house_test.drop(columns=['MS SubClass_SC190',\n",
    "                              'MS SubClass_SC20',\n",
    "                              'MS SubClass_SC45',\n",
    "                              'MS SubClass_SC60',\n",
    "                              'MS SubClass_SC75',\n",
    "                              'MS SubClass_SC80',\n",
    "                              'MS SubClass_SC85',\n",
    "                              'MS SubClass_SC90',\n",
    "                              'MS Zoning_FV',\n",
    "                              'Neighborhood_NPkVill',\n",
    "                              'Exterior 1st_CemntBd',\n",
    "                              'Exterior 1st_HdBoard',\n",
    "                              'Exterior 1st_MetalSd',\n",
    "                              'Exterior 1st_Plywood',\n",
    "                              'Exterior 1st_VinylSd',\n",
    "                              'Exterior 1st_Wd Sdng'],inplace=True)"
   ]
  },
  {
   "cell_type": "code",
   "execution_count": 36,
   "id": "37034d39-0dd8-4122-a6b1-dd93205776eb",
   "metadata": {},
   "outputs": [],
   "source": [
    "# Dropping the features with strong -ve correlation\n",
    "cat_house_test.drop(columns=['MS Zoning_RL',\n",
    "                              'Roof Style_Gable',\n",
    "                              'Mas Vnr Type_BrkFace',\n",
    "                              'Foundation_CBlock',\n",
    "                              'Garage Type_Attchd',\n",
    "                              'Misc Feature_None',\n",
    "                              'Sale Type_New'],inplace=True)"
   ]
  },
  {
   "cell_type": "code",
   "execution_count": 37,
   "id": "e4f7f26c-8624-4bab-92c0-e5d284234b6c",
   "metadata": {},
   "outputs": [
    {
     "data": {
      "text/plain": [
       "(878, 121)"
      ]
     },
     "execution_count": 37,
     "metadata": {},
     "output_type": "execute_result"
    }
   ],
   "source": [
    "cat_house_test.shape"
   ]
  },
  {
   "cell_type": "markdown",
   "id": "bb7b18ea-1697-4978-8997-f03571d17088",
   "metadata": {},
   "source": [
    "#### 6.3 Combining Numeric and Nominal Features"
   ]
  },
  {
   "cell_type": "code",
   "execution_count": 39,
   "id": "54a4c10d-91e5-4d39-a16a-44e30f6dcfc2",
   "metadata": {},
   "outputs": [],
   "source": [
    "# Combing the numeric and nominal features\n",
    "house_test_combined = pd.concat([num_house_test, cat_house_test], axis=1)"
   ]
  },
  {
   "cell_type": "code",
   "execution_count": 40,
   "id": "06730939-8452-4af8-af93-bc36f23de94b",
   "metadata": {},
   "outputs": [
    {
     "data": {
      "text/plain": [
       "(878, 154)"
      ]
     },
     "execution_count": 40,
     "metadata": {},
     "output_type": "execute_result"
    }
   ],
   "source": [
    "# Checking for the number\n",
    "house_test_combined.shape"
   ]
  },
  {
   "cell_type": "code",
   "execution_count": 41,
   "id": "23de2b04-81ab-4064-b8d4-b9955440d95e",
   "metadata": {},
   "outputs": [],
   "source": [
    "# Export dataset out for further analysis \n",
    "house_test_combined.to_csv(\"datasets/house_test_cleaned.csv\", index = False)"
   ]
  }
 ],
 "metadata": {
  "kernelspec": {
   "display_name": "Python 3 (ipykernel)",
   "language": "python",
   "name": "python3"
  },
  "language_info": {
   "codemirror_mode": {
    "name": "ipython",
    "version": 3
   },
   "file_extension": ".py",
   "mimetype": "text/x-python",
   "name": "python",
   "nbconvert_exporter": "python",
   "pygments_lexer": "ipython3",
   "version": "3.8.13"
  }
 },
 "nbformat": 4,
 "nbformat_minor": 5
}
